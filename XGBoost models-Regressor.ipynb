{
 "cells": [
  {
   "cell_type": "markdown",
   "metadata": {},
   "source": [
    "# XGBoost Article\n",
    "\n",
    "The functions are based on the XGBoost Classification article from https://www.analyticsvidhya.com/blog/2016/03/complete-guide-parameter-tuning-xgboost-with-codes-python/"
   ]
  },
  {
   "cell_type": "markdown",
   "metadata": {},
   "source": [
    "## Import Libraries:"
   ]
  },
  {
   "cell_type": "code",
   "execution_count": 13,
   "metadata": {
    "collapsed": true
   },
   "outputs": [],
   "source": [
    "import pandas as pd\n",
    "import numpy as np\n",
    "import xgboost as xgb\n",
    "from xgboost.sklearn import XGBRegressor\n",
    "\n",
    "import sklearn\n",
    "from sklearn import model_selection\n",
    "from sklearn.linear_model import LinearRegression\n",
    "from sklearn.metrics import r2_score\n",
    "from sklearn.metrics import mean_squared_error\n",
    "from sklearn.metrics import explained_variance_score\n",
    "from sklearn.model_selection import GridSearchCV\n",
    "\n",
    "import matplotlib.pylab as plt\n",
    "%matplotlib inline\n",
    "from matplotlib.pylab import rcParams\n",
    "rcParams['figure.figsize'] = 12, 4"
   ]
  },
  {
   "cell_type": "markdown",
   "metadata": {},
   "source": [
    "## Load Data:\n",
    "\n",
    "\n"
   ]
  },
  {
   "cell_type": "code",
   "execution_count": 2,
   "metadata": {
    "collapsed": true
   },
   "outputs": [],
   "source": [
    "# Let's setup our fuel consumption data from 2010 to july 2017\n",
    "fuel = pd.read_csv('Fuel Efficiciency/Fuel_FO_2010-17_lr.csv', sep = ';',index_col=None,encoding='latin-1')"
   ]
  },
  {
   "cell_type": "code",
   "execution_count": null,
   "metadata": {
    "collapsed": true
   },
   "outputs": [],
   "source": []
  },
  {
   "cell_type": "code",
   "execution_count": 3,
   "metadata": {
    "collapsed": true
   },
   "outputs": [],
   "source": [
    "# Let's use all the data again\n",
    "f= fuel\n",
    "f['Lts_x_GTK'] = ((f['Liters'] * 1000)/ (f['Gross_Ton_km'] / 1000000)).astype(float)\n",
    "f['GTK_9'] = ((f['Gross_Ton_km'] / 1000000000)).astype(float)\n",
    "# create six dummy variables for track_id using get_dummies, then exclude the first dummy column\n",
    "area_dummies = pd.get_dummies(f.Track_id, prefix='SD').iloc[:, 1:]\n",
    "\n",
    "# concatenate the dummy variable columns onto the original DataFrame (axis=0 means rows, axis=1 means columns)\n",
    "f = pd.concat([f, area_dummies], axis=1)\n",
    "\n",
    "# create six dummy variables for Locomotive Type using get_dummies, then exclude the first dummy column\n",
    "area_dummies = pd.get_dummies(f.Id_Model_Loc, prefix='MOD').iloc[:, 1:]\n",
    "\n",
    "# concatenate the dummy variable columns onto the original DataFrame (axis=0 means rows, axis=1 means columns)\n",
    "f = pd.concat([f, area_dummies], axis=1)\n",
    "\n",
    "\n",
    "# create six dummy variables for Train Type using get_dummies, then exclude the first dummy column\n",
    "area_dummies = pd.get_dummies(f.Id_Sub_Type, prefix='TRN').iloc[:, 1:]\n",
    "\n",
    "# concatenate the dummy variable columns onto the original DataFrame (axis=0 means rows, axis=1 means columns)\n",
    "f = pd.concat([f, area_dummies], axis=1)\n",
    "\n",
    "# create a new Series called Tract - Number of Locomotives\n",
    "f['Tract'] = f.Traccion.map({'S':1,'M':0})\n",
    "\n",
    "# create a new Series called IsUnit\n",
    "f['IsUnit'] = f.UTC.map({'UTR':1,'NUT':0,'PAS':-1})\n"
   ]
  },
  {
   "cell_type": "code",
   "execution_count": 4,
   "metadata": {
    "collapsed": true
   },
   "outputs": [],
   "source": [
    "#choose the predictor columns (X) with all the predictors and the dependent variable (y) Liters\n",
    "feature_cols = ['GTK_9', 'Hours', 'Kilometers', 'IsUnit', 'Tract','SD_2', 'SD_3', 'SD_4', 'SD_5', 'SD_6', \n",
    "                'MOD_10', 'MOD_28', 'MOD_38', 'MOD_40', 'MOD_42', 'MOD_43', \n",
    "                'TRN_2', 'TRN_3', 'TRN_4', 'TRN_5', 'TRN_6', 'TRN_8', 'TRN_9', 'TRN_10', 'TRN_11']\n",
    "X = f[feature_cols]\n",
    "y = f.Liters"
   ]
  },
  {
   "cell_type": "code",
   "execution_count": 5,
   "metadata": {
    "collapsed": true
   },
   "outputs": [],
   "source": [
    "# Separate train and test set\n",
    "X_train, X_test, Y_train, Y_test = sklearn.model_selection.train_test_split(\n",
    "    X, y, test_size=0.33, random_state = 5)"
   ]
  },
  {
   "cell_type": "code",
   "execution_count": 6,
   "metadata": {
    "collapsed": true
   },
   "outputs": [],
   "source": [
    "#train = pd.read_csv('train_modified.csv')\n",
    "#test = pd.read_csv('test_modified.csv')"
   ]
  },
  {
   "cell_type": "code",
   "execution_count": 7,
   "metadata": {},
   "outputs": [
    {
     "data": {
      "text/plain": [
       "((60285, 25), (29694, 25))"
      ]
     },
     "execution_count": 7,
     "metadata": {},
     "output_type": "execute_result"
    }
   ],
   "source": [
    "X_train.shape, X_test.shape"
   ]
  },
  {
   "cell_type": "code",
   "execution_count": 8,
   "metadata": {
    "collapsed": true
   },
   "outputs": [],
   "source": [
    "target= Y_train\n"
   ]
  },
  {
   "cell_type": "code",
   "execution_count": 9,
   "metadata": {},
   "outputs": [
    {
     "data": {
      "text/plain": [
       "array([900, 110, 190, ..., 450,  20, 510], dtype=int64)"
      ]
     },
     "execution_count": 9,
     "metadata": {},
     "output_type": "execute_result"
    }
   ],
   "source": [
    "Y_train.values"
   ]
  },
  {
   "cell_type": "code",
   "execution_count": 10,
   "metadata": {
    "scrolled": false
   },
   "outputs": [],
   "source": [
    "#Y_train.value_counts()"
   ]
  },
  {
   "cell_type": "markdown",
   "metadata": {},
   "source": [
    "## Define a function for modeling and cross-validation\n",
    "\n",
    "This function will do the following:\n",
    "1. fit the model\n",
    "2. determine the explained variance\n",
    "3. determine training MSE\n",
    "4. determine testing MSE\n",
    "5. update n_estimators with cv function of xgboost package\n",
    "6. plot Feature Importance "
   ]
  },
  {
   "cell_type": "code",
   "execution_count": 15,
   "metadata": {
    "collapsed": true
   },
   "outputs": [],
   "source": [
    "test_results = pd.read_csv('test_results.csv')\n",
    "def modelfit(alg, dtrain, dtest, predictors,useTrainCV=True, cv_folds=5, early_stopping_rounds=50):\n",
    "    \n",
    "    if useTrainCV:\n",
    "        xgb_param = alg.get_xgb_params()\n",
    "        xgtrain = xgb.DMatrix(dtrain[predictors].values, label=Y_train.values)\n",
    "        xgtest = xgb.DMatrix(dtest[predictors].values)\n",
    "        cvresult = xgb.cv(xgb_param, xgtrain, num_boost_round=alg.get_params()['n_estimators'], nfold=cv_folds,\n",
    "            metrics='rmse', early_stopping_rounds=early_stopping_rounds)\n",
    "        alg.set_params(n_estimators=cvresult.shape[0])\n",
    "    \n",
    "    #Fit the algorithm on the data\n",
    "    alg.fit(dtrain[predictors], Y_train, eval_metric='rmse')\n",
    "        \n",
    "    #Predict training set:\n",
    "    dtrain_predictions = alg.predict(dtrain[predictors])\n",
    "\n",
    "        \n",
    "    #Print model report:\n",
    "    print (\"\\nModel Report\")\n",
    "    print (\"Explained Variance : %.4g\" % explained_variance_score(Y_train.values, dtrain_predictions))\n",
    "    print (\"RMSE Score (Train): %f\" % mean_squared_error(Y_train, dtrain_predictions))\n",
    "    \n",
    "#     Predict on testing data:\n",
    "    dtest_predictions = alg.predict(dtest[predictors])\n",
    "\n",
    "    print (\"Explained Variance : %.4g\" % explained_variance_score(Y_test.values, dtest_predictions))\n",
    "    print ('RMSE Score (Test): %f' % mean_squared_error(Y_test, dtest_predictions))\n",
    "\n",
    "    \n",
    "\n",
    " \n",
    "    feature_importance = alg.feature_importances_*100    \n",
    "    feat_imp = pd.Series(feature_importance, index=dtrain.columns).sort_values(ascending=False)\n",
    "    feat_imp.plot(kind='bar', title='Feature Importances')\n",
    "    plt.ylabel('Feature Importance Score')"
   ]
  },
  {
   "cell_type": "markdown",
   "metadata": {},
   "source": [
    "## Step 1- Find the number of estimators for a high learning rate"
   ]
  },
  {
   "cell_type": "code",
   "execution_count": 16,
   "metadata": {},
   "outputs": [
    {
     "name": "stdout",
     "output_type": "stream",
     "text": [
      "\n",
      "Model Report\n",
      "Explained Variance : 0.7853\n",
      "RMSE Score (Train): 46908.841691\n",
      "Explained Variance : 0.7674\n",
      "RMSE Score (Test): 51383.671093\n"
     ]
    },
    {
     "data": {
      "image/png": "[encoded data removed]",
      "text/plain": [
       "<matplotlib.figure.Figure at 0xa1df341f60>"
      ]
     },
     "metadata": {},
     "output_type": "display_data"
    }
   ],
   "source": [
    "predictors = [x for x in X_train.columns]\n",
    "xgb1 = XGBRegressor(\n",
    "        learning_rate =0.1,\n",
    "        n_estimators=1000,\n",
    "        max_depth=5,\n",
    "        min_child_weight=1,\n",
    "        gamma=0,\n",
    "        subsample=0.8,\n",
    "        colsample_bytree=0.8,\n",
    "        objective= 'reg:linear',\n",
    "        nthread=4,\n",
    "        scale_pos_weight=1,\n",
    "        seed=27)\n",
    "modelfit(xgb1, X_train, X_test, predictors)"
   ]
  },
  {
   "cell_type": "code",
   "execution_count": 58,
   "metadata": {},
   "outputs": [
    {
     "data": {
      "text/plain": [
       "GridSearchCV(cv=5, error_score='raise',\n",
       "       estimator=XGBRegressor(base_score=0.5, booster='gbtree', colsample_bylevel=1,\n",
       "       colsample_bytree=0.8, gamma=0, learning_rate=0.1, max_delta_step=0,\n",
       "       max_depth=5, min_child_weight=1, missing=None, n_estimators=140,\n",
       "       n_jobs=1, nthread=4, objective='reg:linear', random_state=0,\n",
       "       reg_alpha=0, reg_lambda=1, scale_pos_weight=1, seed=27, silent=True,\n",
       "       subsample=0.8),\n",
       "       fit_params={}, iid=False, n_jobs=4,\n",
       "       param_grid={'max_depth': range(3, 10, 2), 'min_child_weight': range(1, 6, 2)},\n",
       "       pre_dispatch='2*n_jobs', refit=True, return_train_score=True,\n",
       "       scoring='neg_mean_squared_error', verbose=0)"
      ]
     },
     "execution_count": 58,
     "metadata": {},
     "output_type": "execute_result"
    }
   ],
   "source": [
    "#Grid seach on subsample and max_features\n",
    "#Choose all predictors except target & IDcols\n",
    "param_test1 = {\n",
    "    'max_depth':range(3,10,2),\n",
    "    'min_child_weight':range(1,6,2)\n",
    "}\n",
    "gsearch1 = GridSearchCV(estimator = XGBRegressor( learning_rate =0.1, n_estimators=140, max_depth=5,\n",
    "                                        min_child_weight=1, gamma=0, subsample=0.8, colsample_bytree=0.8,\n",
    "                                        objective= 'reg:linear', nthread=4, scale_pos_weight=1, seed=27), \n",
    "                       param_grid = param_test1, scoring='neg_mean_squared_error',n_jobs=4,iid=False, cv=5)\n",
    "gsearch1.fit(X_train[predictors],Y_train)"
   ]
  },
  {
   "cell_type": "code",
   "execution_count": 63,
   "metadata": {},
   "outputs": [
    {
     "name": "stderr",
     "output_type": "stream",
     "text": [
      "C:\\Users\\225648\\AppData\\Local\\Continuum\\Anaconda3\\lib\\site-packages\\sklearn\\model_selection\\_search.py:667: DeprecationWarning: The grid_scores_ attribute was deprecated in version 0.18 in favor of the more elaborate cv_results_ attribute. The grid_scores_ attribute will not be available from 0.20\n",
      "  DeprecationWarning)\n"
     ]
    },
    {
     "data": {
      "text/plain": [
       "([mean: -51820.84255, std: 1639.98224, params: {'max_depth': 3, 'min_child_weight': 1},\n",
       "  mean: -51875.88937, std: 1666.38522, params: {'max_depth': 3, 'min_child_weight': 3},\n",
       "  mean: -51802.70554, std: 1629.39908, params: {'max_depth': 3, 'min_child_weight': 5},\n",
       "  mean: -50306.33310, std: 1701.37428, params: {'max_depth': 5, 'min_child_weight': 1},\n",
       "  mean: -50272.43160, std: 1716.03803, params: {'max_depth': 5, 'min_child_weight': 3},\n",
       "  mean: -50274.15413, std: 1664.65985, params: {'max_depth': 5, 'min_child_weight': 5},\n",
       "  mean: -50150.66807, std: 1686.76863, params: {'max_depth': 7, 'min_child_weight': 1},\n",
       "  mean: -50154.48483, std: 1552.02871, params: {'max_depth': 7, 'min_child_weight': 3},\n",
       "  mean: -49971.68100, std: 1555.12632, params: {'max_depth': 7, 'min_child_weight': 5},\n",
       "  mean: -50720.98256, std: 1566.63778, params: {'max_depth': 9, 'min_child_weight': 1},\n",
       "  mean: -50560.50747, std: 1610.71523, params: {'max_depth': 9, 'min_child_weight': 3},\n",
       "  mean: -50316.41319, std: 1559.47817, params: {'max_depth': 9, 'min_child_weight': 5}],\n",
       " {'max_depth': 7, 'min_child_weight': 5},\n",
       " -49971.681000893514)"
      ]
     },
     "execution_count": 63,
     "metadata": {},
     "output_type": "execute_result"
    }
   ],
   "source": [
    "gsearch1.grid_scores_, gsearch1.best_params_, gsearch1.best_score_"
   ]
  },
  {
   "cell_type": "code",
   "execution_count": 83,
   "metadata": {},
   "outputs": [
    {
     "data": {
      "text/plain": [
       "GridSearchCV(cv=5, error_score='raise',\n",
       "       estimator=XGBRegressor(base_score=0.5, booster='gbtree', colsample_bylevel=1,\n",
       "       colsample_bytree=0.8, gamma=0, learning_rate=0.1, max_delta_step=0,\n",
       "       max_depth=5, min_child_weight=2, missing=None, n_estimators=140,\n",
       "       n_jobs=1, nthread=4, objective='reg:linear', random_state=0,\n",
       "       reg_alpha=0, reg_lambda=1, scale_pos_weight=1, seed=27, silent=True,\n",
       "       subsample=0.8),\n",
       "       fit_params={}, iid=False, n_jobs=4,\n",
       "       param_grid={'max_depth': [6, 7, 8], 'min_child_weight': [4, 5, 6]},\n",
       "       pre_dispatch='2*n_jobs', refit=True, return_train_score=True,\n",
       "       scoring='neg_mean_squared_error', verbose=0)"
      ]
     },
     "execution_count": 83,
     "metadata": {},
     "output_type": "execute_result"
    }
   ],
   "source": [
    "#Grid seach on subsample and max_features\n",
    "#Choose all predictors except target & IDcols\n",
    "param_test2 = {\n",
    "    'max_depth':[6,7,8],\n",
    "    'min_child_weight':[4,5,6]\n",
    "}\n",
    "gsearch2 = GridSearchCV(estimator = XGBRegressor( learning_rate=0.1, n_estimators=140, max_depth=5,\n",
    "                                        min_child_weight=2, gamma=0, subsample=0.8, colsample_bytree=0.8,\n",
    "                                        objective= 'reg:linear', nthread=4, scale_pos_weight=1,seed=27), \n",
    "                       param_grid = param_test2, scoring='neg_mean_squared_error',n_jobs=4,iid=False, cv=5)\n",
    "gsearch2.fit(X_train[predictors],Y_train)"
   ]
  },
  {
   "cell_type": "code",
   "execution_count": 84,
   "metadata": {},
   "outputs": [
    {
     "name": "stderr",
     "output_type": "stream",
     "text": [
      "C:\\Users\\225648\\AppData\\Local\\Continuum\\Anaconda3\\lib\\site-packages\\sklearn\\model_selection\\_search.py:667: DeprecationWarning: The grid_scores_ attribute was deprecated in version 0.18 in favor of the more elaborate cv_results_ attribute. The grid_scores_ attribute will not be available from 0.20\n",
      "  DeprecationWarning)\n"
     ]
    },
    {
     "data": {
      "text/plain": [
       "([mean: -50040.68431, std: 1626.66738, params: {'max_depth': 6, 'min_child_weight': 4},\n",
       "  mean: -50029.88361, std: 1640.18738, params: {'max_depth': 6, 'min_child_weight': 5},\n",
       "  mean: -50013.28541, std: 1554.32058, params: {'max_depth': 6, 'min_child_weight': 6},\n",
       "  mean: -49985.08844, std: 1616.78979, params: {'max_depth': 7, 'min_child_weight': 4},\n",
       "  mean: -49971.68100, std: 1555.12632, params: {'max_depth': 7, 'min_child_weight': 5},\n",
       "  mean: -50075.26631, std: 1607.16072, params: {'max_depth': 7, 'min_child_weight': 6},\n",
       "  mean: -50109.42627, std: 1546.50557, params: {'max_depth': 8, 'min_child_weight': 4},\n",
       "  mean: -50080.15296, std: 1583.94166, params: {'max_depth': 8, 'min_child_weight': 5},\n",
       "  mean: -50103.21164, std: 1451.51202, params: {'max_depth': 8, 'min_child_weight': 6}],\n",
       " {'max_depth': 7, 'min_child_weight': 5},\n",
       " -49971.681000893514)"
      ]
     },
     "execution_count": 84,
     "metadata": {},
     "output_type": "execute_result"
    }
   ],
   "source": [
    "gsearch2.grid_scores_, gsearch2.best_params_, gsearch2.best_score_"
   ]
  },
  {
   "cell_type": "code",
   "execution_count": 87,
   "metadata": {},
   "outputs": [
    {
     "data": {
      "text/plain": [
       "GridSearchCV(cv=5, error_score='raise',\n",
       "       estimator=XGBRegressor(base_score=0.5, booster='gbtree', colsample_bylevel=1,\n",
       "       colsample_bytree=0.8, gamma=0, learning_rate=0.1, max_delta_step=0,\n",
       "       max_depth=7, min_child_weight=5, missing=None, n_estimators=140,\n",
       "       n_jobs=1, nthread=4, objective='reg:linear', random_state=0,\n",
       "       reg_alpha=0, reg_lambda=1, scale_pos_weight=1, seed=27, silent=True,\n",
       "       subsample=0.8),\n",
       "       fit_params={}, iid=False, n_jobs=4,\n",
       "       param_grid={'min_child_weight': [9, 10, 11]},\n",
       "       pre_dispatch='2*n_jobs', refit=True, return_train_score=True,\n",
       "       scoring='neg_mean_squared_error', verbose=0)"
      ]
     },
     "execution_count": 87,
     "metadata": {},
     "output_type": "execute_result"
    }
   ],
   "source": [
    "#Grid seach on subsample and max_features\n",
    "#Choose all predictors except target & IDcols\n",
    "param_test2b = {\n",
    "    'min_child_weight':[9,10,11]\n",
    "}\n",
    "gsearch2b = GridSearchCV(estimator = XGBRegressor( learning_rate=0.1, n_estimators=140, max_depth=7,\n",
    "                                        min_child_weight=10, gamma=0, subsample=0.8, colsample_bytree=0.8,\n",
    "                                        objective= 'reg:linear', nthread=4, scale_pos_weight=1,seed=27), \n",
    "                       param_grid = param_test2b, scoring='neg_mean_squared_error',n_jobs=4,iid=False, cv=5)\n",
    "gsearch2b.fit(X_train[predictors],Y_train)"
   ]
  },
  {
   "cell_type": "code",
   "execution_count": 88,
   "metadata": {},
   "outputs": [
    {
     "name": "stderr",
     "output_type": "stream",
     "text": [
      "C:\\Users\\225648\\AppData\\Local\\Continuum\\Anaconda3\\lib\\site-packages\\sklearn\\model_selection\\_search.py:667: DeprecationWarning: The grid_scores_ attribute was deprecated in version 0.18 in favor of the more elaborate cv_results_ attribute. The grid_scores_ attribute will not be available from 0.20\n",
      "  DeprecationWarning)\n"
     ]
    },
    {
     "data": {
      "text/plain": [
       "([mean: -50020.40546, std: 1563.99608, params: {'min_child_weight': 9},\n",
       "  mean: -49933.72703, std: 1572.90598, params: {'min_child_weight': 10},\n",
       "  mean: -49946.21282, std: 1630.02844, params: {'min_child_weight': 11}],\n",
       " {'min_child_weight': 10},\n",
       " -49933.727029039386)"
      ]
     },
     "execution_count": 88,
     "metadata": {},
     "output_type": "execute_result"
    }
   ],
   "source": [
    "gsearch2b.grid_scores_, gsearch2b.best_params_, gsearch2b.best_score_"
   ]
  },
  {
   "cell_type": "code",
   "execution_count": 89,
   "metadata": {},
   "outputs": [
    {
     "data": {
      "text/plain": [
       "GridSearchCV(cv=5, error_score='raise',\n",
       "       estimator=XGBRegressor(base_score=0.5, booster='gbtree', colsample_bylevel=1,\n",
       "       colsample_bytree=0.8, gamma=0, learning_rate=0.1, max_delta_step=0,\n",
       "       max_depth=7, min_child_weight=10, missing=None, n_estimators=140,\n",
       "       n_jobs=1, nthread=4, objective='reg:linear', random_state=0,\n",
       "       reg_alpha=0, reg_lambda=1, scale_pos_weight=1, seed=27, silent=True,\n",
       "       subsample=0.8),\n",
       "       fit_params={}, iid=False, n_jobs=4,\n",
       "       param_grid={'gamma': [0.0, 0.1, 0.2, 0.3, 0.4]},\n",
       "       pre_dispatch='2*n_jobs', refit=True, return_train_score=True,\n",
       "       scoring='neg_mean_squared_error', verbose=0)"
      ]
     },
     "execution_count": 89,
     "metadata": {},
     "output_type": "execute_result"
    }
   ],
   "source": [
    "#Grid seach on subsample and max_features\n",
    "#Choose all predictors except target & IDcols\n",
    "param_test3 = {\n",
    "    'gamma':[i/10.0 for i in range(0,5)]\n",
    "}\n",
    "gsearch3 = GridSearchCV(estimator = XGBRegressor( learning_rate =0.1, n_estimators=140, max_depth=7,\n",
    "                                        min_child_weight=10, gamma=0, subsample=0.8, colsample_bytree=0.8,\n",
    "                                        objective= 'reg:linear', nthread=4, scale_pos_weight=1,seed=27), \n",
    "                       param_grid = param_test3, scoring='neg_mean_squared_error',n_jobs=4,iid=False, cv=5)\n",
    "gsearch3.fit(X_train[predictors],Y_train)"
   ]
  },
  {
   "cell_type": "code",
   "execution_count": 90,
   "metadata": {},
   "outputs": [
    {
     "name": "stderr",
     "output_type": "stream",
     "text": [
      "C:\\Users\\225648\\AppData\\Local\\Continuum\\Anaconda3\\lib\\site-packages\\sklearn\\model_selection\\_search.py:667: DeprecationWarning: The grid_scores_ attribute was deprecated in version 0.18 in favor of the more elaborate cv_results_ attribute. The grid_scores_ attribute will not be available from 0.20\n",
      "  DeprecationWarning)\n"
     ]
    },
    {
     "data": {
      "text/plain": [
       "([mean: -49933.72703, std: 1572.90598, params: {'gamma': 0.0},\n",
       "  mean: -49933.72703, std: 1572.90598, params: {'gamma': 0.1},\n",
       "  mean: -49933.72703, std: 1572.90598, params: {'gamma': 0.2},\n",
       "  mean: -49933.72703, std: 1572.90598, params: {'gamma': 0.3},\n",
       "  mean: -49933.72703, std: 1572.90598, params: {'gamma': 0.4}],\n",
       " {'gamma': 0.0},\n",
       " -49933.727029039386)"
      ]
     },
     "execution_count": 90,
     "metadata": {},
     "output_type": "execute_result"
    }
   ],
   "source": [
    "gsearch3.grid_scores_, gsearch3.best_params_, gsearch3.best_score_"
   ]
  },
  {
   "cell_type": "markdown",
   "metadata": {},
   "source": [
    "# XGBoosting\n",
    "\n",
    "Recalibrate with the calculated parameters:"
   ]
  },
  {
   "cell_type": "code",
   "execution_count": 91,
   "metadata": {},
   "outputs": [
    {
     "name": "stdout",
     "output_type": "stream",
     "text": [
      "\n",
      "Model Report\n",
      "Explained Variance : 0.7867\n",
      "RMSE Score (Train): 46591.485265\n",
      "Explained Variance : 0.7691\n",
      "RMSE Score (Test): 51017.378981\n"
     ]
    },
    {
     "data": {
      "image/png": "[encoded data removed]",
      "text/plain": [
       "<matplotlib.figure.Figure at 0x3d802b46a0>"
      ]
     },
     "metadata": {},
     "output_type": "display_data"
    }
   ],
   "source": [
    "predictors = [x for x in X_train.columns]\n",
    "xgb2 = XGBRegressor(\n",
    "        learning_rate =0.1,\n",
    "        n_estimators=1000,\n",
    "        max_depth=7,\n",
    "        min_child_weight=10,\n",
    "        gamma=0,\n",
    "        subsample=0.8,\n",
    "        colsample_bytree=0.8,\n",
    "        objective= 'reg:linear',\n",
    "        nthread=4,\n",
    "        scale_pos_weight=1,\n",
    "        seed=27)\n",
    "modelfit(xgb2, X_train, X_test, predictors)\n"
   ]
  },
  {
   "cell_type": "markdown",
   "metadata": {},
   "source": [
    "Tune subsample and colsample_bytree"
   ]
  },
  {
   "cell_type": "code",
   "execution_count": 92,
   "metadata": {},
   "outputs": [
    {
     "data": {
      "text/plain": [
       "GridSearchCV(cv=5, error_score='raise',\n",
       "       estimator=XGBRegressor(base_score=0.5, booster='gbtree', colsample_bylevel=1,\n",
       "       colsample_bytree=0.8, gamma=0, learning_rate=0.1, max_delta_step=0,\n",
       "       max_depth=7, min_child_weight=10, missing=None, n_estimators=177,\n",
       "       n_jobs=1, nthread=4, objective='reg:linear', random_state=0,\n",
       "       reg_alpha=0, reg_lambda=1, scale_pos_weight=1, seed=27, silent=True,\n",
       "       subsample=0.8),\n",
       "       fit_params={}, iid=False, n_jobs=4,\n",
       "       param_grid={'subsample': [0.6, 0.7, 0.8, 0.9], 'colsample_bytree': [0.6, 0.7, 0.8, 0.9]},\n",
       "       pre_dispatch='2*n_jobs', refit=True, return_train_score=True,\n",
       "       scoring='neg_mean_squared_error', verbose=0)"
      ]
     },
     "execution_count": 92,
     "metadata": {},
     "output_type": "execute_result"
    }
   ],
   "source": [
    "#Grid seach on subsample and max_features\n",
    "#Choose all predictors except target & IDcols\n",
    "param_test4 = {\n",
    "    'subsample':[i/10.0 for i in range(6,10)],\n",
    "    'colsample_bytree':[i/10.0 for i in range(6,10)]\n",
    "}\n",
    "gsearch4 = GridSearchCV(estimator = XGBRegressor( learning_rate =0.1, n_estimators=177, max_depth=7,\n",
    "                                        min_child_weight=10, gamma=0, subsample=0.8, colsample_bytree=0.8,\n",
    "                                        objective= 'reg:linear', nthread=4, scale_pos_weight=1,seed=27), \n",
    "                       param_grid = param_test4, scoring='neg_mean_squared_error',n_jobs=4,iid=False, cv=5)\n",
    "gsearch4.fit(X_train[predictors],Y_train)"
   ]
  },
  {
   "cell_type": "code",
   "execution_count": 93,
   "metadata": {},
   "outputs": [
    {
     "name": "stderr",
     "output_type": "stream",
     "text": [
      "C:\\Users\\225648\\AppData\\Local\\Continuum\\Anaconda3\\lib\\site-packages\\sklearn\\model_selection\\_search.py:667: DeprecationWarning: The grid_scores_ attribute was deprecated in version 0.18 in favor of the more elaborate cv_results_ attribute. The grid_scores_ attribute will not be available from 0.20\n",
      "  DeprecationWarning)\n"
     ]
    },
    {
     "data": {
      "text/plain": [
       "([mean: -50259.36286, std: 1573.91308, params: {'colsample_bytree': 0.6, 'subsample': 0.6},\n",
       "  mean: -50127.10904, std: 1597.72760, params: {'colsample_bytree': 0.6, 'subsample': 0.7},\n",
       "  mean: -50048.21353, std: 1579.79989, params: {'colsample_bytree': 0.6, 'subsample': 0.8},\n",
       "  mean: -50047.95016, std: 1463.41267, params: {'colsample_bytree': 0.6, 'subsample': 0.9},\n",
       "  mean: -50280.64497, std: 1614.89160, params: {'colsample_bytree': 0.7, 'subsample': 0.6},\n",
       "  mean: -50113.42291, std: 1547.81614, params: {'colsample_bytree': 0.7, 'subsample': 0.7},\n",
       "  mean: -50103.49579, std: 1537.54513, params: {'colsample_bytree': 0.7, 'subsample': 0.8},\n",
       "  mean: -50024.50712, std: 1474.02732, params: {'colsample_bytree': 0.7, 'subsample': 0.9},\n",
       "  mean: -50386.29142, std: 1636.11599, params: {'colsample_bytree': 0.8, 'subsample': 0.6},\n",
       "  mean: -50151.70306, std: 1600.83043, params: {'colsample_bytree': 0.8, 'subsample': 0.7},\n",
       "  mean: -50050.89869, std: 1552.28817, params: {'colsample_bytree': 0.8, 'subsample': 0.8},\n",
       "  mean: -49952.15923, std: 1614.90343, params: {'colsample_bytree': 0.8, 'subsample': 0.9},\n",
       "  mean: -50202.37693, std: 1723.08485, params: {'colsample_bytree': 0.9, 'subsample': 0.6},\n",
       "  mean: -50150.57866, std: 1634.95517, params: {'colsample_bytree': 0.9, 'subsample': 0.7},\n",
       "  mean: -50010.04417, std: 1572.12077, params: {'colsample_bytree': 0.9, 'subsample': 0.8},\n",
       "  mean: -49853.55186, std: 1601.39424, params: {'colsample_bytree': 0.9, 'subsample': 0.9}],\n",
       " {'colsample_bytree': 0.9, 'subsample': 0.9},\n",
       " -49853.551864749708)"
      ]
     },
     "execution_count": 93,
     "metadata": {},
     "output_type": "execute_result"
    }
   ],
   "source": [
    "gsearch4.grid_scores_, gsearch4.best_params_, gsearch4.best_score_"
   ]
  },
  {
   "cell_type": "markdown",
   "metadata": {},
   "source": [
    "tune subsample:"
   ]
  },
  {
   "cell_type": "code",
   "execution_count": 75,
   "metadata": {},
   "outputs": [
    {
     "data": {
      "text/plain": [
       "GridSearchCV(cv=5, error_score='raise',\n",
       "       estimator=XGBRegressor(base_score=0.5, booster='gbtree', colsample_bylevel=1,\n",
       "       colsample_bytree=0.8, gamma=0, learning_rate=0.1, max_delta_step=0,\n",
       "       max_depth=4, min_child_weight=6, missing=None, n_estimators=177,\n",
       "       n_jobs=1, nthread=4, objective='reg:linear', random_state=0,\n",
       "       reg_alpha=0, reg_lambda=1, scale_pos_weight=1, seed=27, silent=True,\n",
       "       subsample=0.8),\n",
       "       fit_params={}, iid=False, n_jobs=4,\n",
       "       param_grid={'subsample': [0.75, 0.8, 0.85], 'colsample_bytree': [0.75, 0.8, 0.85]},\n",
       "       pre_dispatch='2*n_jobs', refit=True, return_train_score=True,\n",
       "       scoring='neg_mean_squared_error', verbose=0)"
      ]
     },
     "execution_count": 75,
     "metadata": {},
     "output_type": "execute_result"
    }
   ],
   "source": [
    "#Grid seach on subsample and max_features\n",
    "#Choose all predictors except target & IDcols\n",
    "param_test5 = {\n",
    "    'subsample':[i/100.0 for i in range(75,90,5)],\n",
    "    'colsample_bytree':[i/100.0 for i in range(75,90,5)]\n",
    "}\n",
    "gsearch5 = GridSearchCV(estimator = XGBRegressor( learning_rate =0.1, n_estimators=177, max_depth=4,\n",
    "                                        min_child_weight=6, gamma=0, subsample=0.8, colsample_bytree=0.8,\n",
    "                                        objective= 'reg:linear', nthread=4, scale_pos_weight=1,seed=27), \n",
    "                       param_grid = param_test5, scoring='neg_mean_squared_error',n_jobs=4,iid=False, cv=5)\n",
    "gsearch5.fit(X_train[predictors],Y_train)"
   ]
  },
  {
   "cell_type": "code",
   "execution_count": 76,
   "metadata": {},
   "outputs": [
    {
     "name": "stderr",
     "output_type": "stream",
     "text": [
      "C:\\Users\\225648\\AppData\\Local\\Continuum\\Anaconda3\\lib\\site-packages\\sklearn\\model_selection\\_search.py:667: DeprecationWarning: The grid_scores_ attribute was deprecated in version 0.18 in favor of the more elaborate cv_results_ attribute. The grid_scores_ attribute will not be available from 0.20\n",
      "  DeprecationWarning)\n"
     ]
    },
    {
     "data": {
      "text/plain": [
       "([mean: -50624.47033, std: 1653.66459, params: {'colsample_bytree': 0.75, 'subsample': 0.75},\n",
       "  mean: -50610.69630, std: 1655.49922, params: {'colsample_bytree': 0.75, 'subsample': 0.8},\n",
       "  mean: -50626.48758, std: 1642.19318, params: {'colsample_bytree': 0.75, 'subsample': 0.85},\n",
       "  mean: -50674.33621, std: 1675.24980, params: {'colsample_bytree': 0.8, 'subsample': 0.75},\n",
       "  mean: -50585.79212, std: 1646.65365, params: {'colsample_bytree': 0.8, 'subsample': 0.8},\n",
       "  mean: -50630.18534, std: 1618.46820, params: {'colsample_bytree': 0.8, 'subsample': 0.85},\n",
       "  mean: -50644.32655, std: 1672.18358, params: {'colsample_bytree': 0.85, 'subsample': 0.75},\n",
       "  mean: -50632.91731, std: 1659.48978, params: {'colsample_bytree': 0.85, 'subsample': 0.8},\n",
       "  mean: -50582.06944, std: 1647.43990, params: {'colsample_bytree': 0.85, 'subsample': 0.85}],\n",
       " {'colsample_bytree': 0.85, 'subsample': 0.85},\n",
       " -50582.069441612504)"
      ]
     },
     "execution_count": 76,
     "metadata": {},
     "output_type": "execute_result"
    }
   ],
   "source": [
    "gsearch5.grid_scores_, gsearch5.best_params_, gsearch5.best_score_"
   ]
  },
  {
   "cell_type": "markdown",
   "metadata": {},
   "source": [
    "change required"
   ]
  },
  {
   "cell_type": "markdown",
   "metadata": {},
   "source": [
    "Try regularization:"
   ]
  },
  {
   "cell_type": "code",
   "execution_count": 94,
   "metadata": {},
   "outputs": [
    {
     "data": {
      "text/plain": [
       "GridSearchCV(cv=5, error_score='raise',\n",
       "       estimator=XGBRegressor(base_score=0.5, booster='gbtree', colsample_bylevel=1,\n",
       "       colsample_bytree=0.85, gamma=0, learning_rate=0.1, max_delta_step=0,\n",
       "       max_depth=7, min_child_weight=10, missing=None, n_estimators=177,\n",
       "       n_jobs=1, nthread=4, objective='reg:linear', random_state=0,\n",
       "       reg_alpha=0, reg_lambda=1, scale_pos_weight=1, seed=27, silent=True,\n",
       "       subsample=0.85),\n",
       "       fit_params={}, iid=False, n_jobs=4,\n",
       "       param_grid={'reg_alpha': [1e-05, 0.01, 0.1, 1, 100]},\n",
       "       pre_dispatch='2*n_jobs', refit=True, return_train_score=True,\n",
       "       scoring='neg_mean_squared_error', verbose=0)"
      ]
     },
     "execution_count": 94,
     "metadata": {},
     "output_type": "execute_result"
    }
   ],
   "source": [
    "#Grid seach on subsample and max_features\n",
    "#Choose all predictors except target & IDcols\n",
    "param_test6 = {\n",
    "    'reg_alpha':[1e-5, 1e-2, 0.1, 1, 100]\n",
    "}\n",
    "gsearch6 = GridSearchCV(estimator = XGBRegressor( learning_rate =0.1, n_estimators=177, max_depth=7,\n",
    "                                        min_child_weight=10, gamma=0, subsample=0.85, colsample_bytree=0.85,\n",
    "                                        objective= 'reg:linear', nthread=4, scale_pos_weight=1,seed=27), \n",
    "                       param_grid = param_test6, scoring='neg_mean_squared_error',n_jobs=4,iid=False, cv=5)\n",
    "gsearch6.fit(X_train[predictors],Y_train)"
   ]
  },
  {
   "cell_type": "code",
   "execution_count": 95,
   "metadata": {},
   "outputs": [
    {
     "name": "stderr",
     "output_type": "stream",
     "text": [
      "C:\\Users\\225648\\AppData\\Local\\Continuum\\Anaconda3\\lib\\site-packages\\sklearn\\model_selection\\_search.py:667: DeprecationWarning: The grid_scores_ attribute was deprecated in version 0.18 in favor of the more elaborate cv_results_ attribute. The grid_scores_ attribute will not be available from 0.20\n",
      "  DeprecationWarning)\n"
     ]
    },
    {
     "data": {
      "text/plain": [
       "([mean: -50002.22009, std: 1553.51619, params: {'reg_alpha': 1e-05},\n",
       "  mean: -50015.72432, std: 1553.51802, params: {'reg_alpha': 0.01},\n",
       "  mean: -49994.18616, std: 1544.44498, params: {'reg_alpha': 0.1},\n",
       "  mean: -49976.99569, std: 1554.37875, params: {'reg_alpha': 1},\n",
       "  mean: -50010.47752, std: 1523.01184, params: {'reg_alpha': 100}],\n",
       " {'reg_alpha': 1},\n",
       " -49976.995689680531)"
      ]
     },
     "execution_count": 95,
     "metadata": {},
     "output_type": "execute_result"
    }
   ],
   "source": [
    "gsearch6.grid_scores_, gsearch6.best_params_, gsearch6.best_score_"
   ]
  },
  {
   "cell_type": "code",
   "execution_count": 98,
   "metadata": {},
   "outputs": [
    {
     "data": {
      "text/plain": [
       "GridSearchCV(cv=5, error_score='raise',\n",
       "       estimator=XGBRegressor(base_score=0.5, booster='gbtree', colsample_bylevel=1,\n",
       "       colsample_bytree=0.8, gamma=0.1, learning_rate=0.1,\n",
       "       max_delta_step=0, max_depth=4, min_child_weight=6, missing=None,\n",
       "       n_estimators=177, n_jobs=1, nthread=4, objective='reg:linear',\n",
       "       random_state=0, reg_alpha=0, reg_lambda=1, scale_pos_weight=1,\n",
       "       seed=27, silent=True, subsample=0.8),\n",
       "       fit_params={}, iid=False, n_jobs=4,\n",
       "       param_grid={'reg_alpha': [1, 5, 10, 15, 20, 30]},\n",
       "       pre_dispatch='2*n_jobs', refit=True, return_train_score=True,\n",
       "       scoring='neg_mean_squared_error', verbose=0)"
      ]
     },
     "execution_count": 98,
     "metadata": {},
     "output_type": "execute_result"
    }
   ],
   "source": [
    "#Grid seach on subsample and max_features\n",
    "#Choose all predictors except target & IDcols\n",
    "param_test7 = {\n",
    "    'reg_alpha':[1, 5, 10, 15, 20, 30]\n",
    "}\n",
    "gsearch7 = GridSearchCV(estimator = XGBRegressor( learning_rate =0.1, n_estimators=177, max_depth=4,\n",
    "                                        min_child_weight=6, gamma=0.1, subsample=0.8, colsample_bytree=0.8,\n",
    "                                        objective= 'reg:linear', nthread=4, scale_pos_weight=1,seed=27), \n",
    "                       param_grid = param_test7, scoring='neg_mean_squared_error',n_jobs=4,iid=False, cv=5)\n",
    "gsearch7.fit(X_train[predictors],Y_train)"
   ]
  },
  {
   "cell_type": "code",
   "execution_count": 99,
   "metadata": {},
   "outputs": [
    {
     "name": "stderr",
     "output_type": "stream",
     "text": [
      "C:\\Users\\225648\\AppData\\Local\\Continuum\\Anaconda3\\lib\\site-packages\\sklearn\\model_selection\\_search.py:667: DeprecationWarning: The grid_scores_ attribute was deprecated in version 0.18 in favor of the more elaborate cv_results_ attribute. The grid_scores_ attribute will not be available from 0.20\n",
      "  DeprecationWarning)\n"
     ]
    },
    {
     "data": {
      "text/plain": [
       "([mean: -50585.81566, std: 1646.64200, params: {'reg_alpha': 1},\n",
       "  mean: -50585.76683, std: 1656.60011, params: {'reg_alpha': 5},\n",
       "  mean: -50578.32527, std: 1661.73391, params: {'reg_alpha': 10},\n",
       "  mean: -50599.77302, std: 1682.07428, params: {'reg_alpha': 15},\n",
       "  mean: -50616.67397, std: 1662.01821, params: {'reg_alpha': 20},\n",
       "  mean: -50611.10902, std: 1639.46260, params: {'reg_alpha': 30}],\n",
       " {'reg_alpha': 10},\n",
       " -50578.325265803112)"
      ]
     },
     "execution_count": 99,
     "metadata": {},
     "output_type": "execute_result"
    }
   ],
   "source": [
    "gsearch7.grid_scores_, gsearch7.best_params_, gsearch7.best_score_"
   ]
  },
  {
   "cell_type": "code",
   "execution_count": 100,
   "metadata": {},
   "outputs": [
    {
     "name": "stdout",
     "output_type": "stream",
     "text": [
      "\n",
      "Model Report\n",
      "Explained Variance : 0.786\n",
      "RMSE Score (Train): 46739.437583\n",
      "Explained Variance : 0.7685\n",
      "RMSE Score (Test): 51159.614331\n"
     ]
    },
    {
     "data": {
      "image/png": "[encoded data removed]",
      "text/plain": [
       "<matplotlib.figure.Figure at 0x3dda358e10>"
      ]
     },
     "metadata": {},
     "output_type": "display_data"
    }
   ],
   "source": [
    "xgb3 = XGBRegressor(\n",
    "        learning_rate =0.1,\n",
    "        n_estimators=1000,\n",
    "        max_depth=7,\n",
    "        min_child_weight=10,\n",
    "        gamma=0,\n",
    "        subsample=0.85,\n",
    "        colsample_bytree=0.85,\n",
    "        reg_alpha=10,\n",
    "        objective= 'reg:linear',\n",
    "        nthread=4,\n",
    "        scale_pos_weight=1,\n",
    "        seed=27)\n",
    "modelfit(xgb3, X_train, X_test, predictors)"
   ]
  },
  {
   "cell_type": "code",
   "execution_count": 101,
   "metadata": {},
   "outputs": [
    {
     "name": "stdout",
     "output_type": "stream",
     "text": [
      "\n",
      "Model Report\n",
      "Explained Variance : 0.7881\n",
      "RMSE Score (Train): 46290.979267\n",
      "Explained Variance : 0.7698\n",
      "RMSE Score (Test): 50863.885712\n"
     ]
    },
    {
     "data": {
      "image/png": "[encoded data removed]",
      "text/plain": [
       "<matplotlib.figure.Figure at 0x3d801c1978>"
      ]
     },
     "metadata": {},
     "output_type": "display_data"
    }
   ],
   "source": [
    "xgb4 = XGBRegressor(\n",
    "        learning_rate =0.01,\n",
    "        n_estimators=5000,\n",
    "        max_depth=7,\n",
    "        min_child_weight=10,\n",
    "        gamma=0,\n",
    "        subsample=0.85,\n",
    "        colsample_bytree=0.85,\n",
    "        reg_alpha=10,\n",
    "        objective= 'reg:linear',\n",
    "        nthread=4,\n",
    "        scale_pos_weight=1,\n",
    "        seed=27)\n",
    "modelfit(xgb4, X_train, X_test, predictors)"
   ]
  },
  {
   "cell_type": "code",
   "execution_count": 30,
   "metadata": {},
   "outputs": [
    {
     "data": {
      "text/plain": [
       "GridSearchCV(cv=5, error_score='raise',\n",
       "       estimator=XGBRegressor(base_score=0.5, booster='gbtree', colsample_bylevel=1,\n",
       "       colsample_bytree=0.8, gamma=0.1, learning_rate=0.1,\n",
       "       max_delta_step=0, max_depth=4, min_child_weight=6, missing=None,\n",
       "       n_estimators=177, n_jobs=1, nthread=4, objective='reg:linear',\n",
       "       random_state=0, reg_alpha=0, reg_lambda=1, scale_pos_weight=1,\n",
       "       seed=27, silent=True, subsample=0.8),\n",
       "       fit_params={}, iid=False, n_jobs=4,\n",
       "       param_grid={'learning_rate': [0.001, 0.05, 0.075, 0.1], 'n_estimators': [475, 500, 525]},\n",
       "       pre_dispatch='2*n_jobs', refit=True, return_train_score=True,\n",
       "       scoring='neg_mean_squared_error', verbose=0)"
      ]
     },
     "execution_count": 30,
     "metadata": {},
     "output_type": "execute_result"
    }
   ],
   "source": [
    "#Grid seach on subsample and max_features\n",
    "#Choose all predictors except target & IDcols\n",
    "param_test8 = {\n",
    "#    'learning_rate':[0.0001, 0.001, 0.01, 0.1, 0.2, 0.30],\n",
    "#    'n_estimators' = [100, 200, 300, 400, 500, 1000, 5000]\n",
    "    'learning_rate':[0.001, 0.05, 0.075, 0.1],\n",
    "    'n_estimators':[475, 500, 525]\n",
    "}\n",
    "gsearch8 = GridSearchCV(estimator = XGBRegressor( learning_rate =0.1, n_estimators=177, max_depth=4,\n",
    "                                        min_child_weight=6, gamma=0.1, subsample=0.8, colsample_bytree=0.8,\n",
    "                                        objective= 'reg:linear', nthread=4, scale_pos_weight=1,seed=27), \n",
    "                       param_grid = param_test8, scoring='neg_mean_squared_error',n_jobs=4,iid=False, cv=5)\n",
    "gsearch8.fit(X_train[predictors],Y_train)"
   ]
  },
  {
   "cell_type": "code",
   "execution_count": 31,
   "metadata": {},
   "outputs": [
    {
     "name": "stderr",
     "output_type": "stream",
     "text": [
      "C:\\Users\\225648\\AppData\\Local\\Continuum\\Anaconda3\\lib\\site-packages\\sklearn\\model_selection\\_search.py:667: DeprecationWarning: The grid_scores_ attribute was deprecated in version 0.18 in favor of the more elaborate cv_results_ attribute. The grid_scores_ attribute will not be available from 0.20\n",
      "  DeprecationWarning)\n"
     ]
    },
    {
     "data": {
      "text/plain": [
       "([mean: -269497.90229, std: 2307.33659, params: {'learning_rate': 0.001, 'n_estimators': 475},\n",
       "  mean: -259474.67548, std: 2267.73932, params: {'learning_rate': 0.001, 'n_estimators': 500},\n",
       "  mean: -249753.65935, std: 2223.87292, params: {'learning_rate': 0.001, 'n_estimators': 525},\n",
       "  mean: -50478.44973, std: 1632.19110, params: {'learning_rate': 0.05, 'n_estimators': 475},\n",
       "  mean: -50464.53662, std: 1627.51350, params: {'learning_rate': 0.05, 'n_estimators': 500},\n",
       "  mean: -50441.70267, std: 1622.93660, params: {'learning_rate': 0.05, 'n_estimators': 525},\n",
       "  mean: -50425.10885, std: 1622.05713, params: {'learning_rate': 0.075, 'n_estimators': 475},\n",
       "  mean: -50408.79238, std: 1609.71142, params: {'learning_rate': 0.075, 'n_estimators': 500},\n",
       "  mean: -50416.39872, std: 1617.18053, params: {'learning_rate': 0.075, 'n_estimators': 525},\n",
       "  mean: -50511.78956, std: 1588.01930, params: {'learning_rate': 0.1, 'n_estimators': 475},\n",
       "  mean: -50510.95198, std: 1586.02914, params: {'learning_rate': 0.1, 'n_estimators': 500},\n",
       "  mean: -50515.36094, std: 1586.04924, params: {'learning_rate': 0.1, 'n_estimators': 525}],\n",
       " {'learning_rate': 0.075, 'n_estimators': 500},\n",
       " -50408.792382591164)"
      ]
     },
     "execution_count": 31,
     "metadata": {},
     "output_type": "execute_result"
    }
   ],
   "source": [
    "gsearch8.grid_scores_, gsearch8.best_params_, gsearch8.best_score_"
   ]
  },
  {
   "cell_type": "code",
   "execution_count": null,
   "metadata": {
    "collapsed": true
   },
   "outputs": [],
   "source": []
  }
 ],
 "metadata": {
  "kernelspec": {
   "display_name": "Python 3",
   "language": "python",
   "name": "python3"
  },
  "language_info": {
   "codemirror_mode": {
    "name": "ipython",
    "version": 3
   },
   "file_extension": ".py",
   "mimetype": "text/x-python",
   "name": "python",
   "nbconvert_exporter": "python",
   "pygments_lexer": "ipython3",
   "version": "3.6.1"
  }
 },
 "nbformat": 4,
 "nbformat_minor": 1
}
