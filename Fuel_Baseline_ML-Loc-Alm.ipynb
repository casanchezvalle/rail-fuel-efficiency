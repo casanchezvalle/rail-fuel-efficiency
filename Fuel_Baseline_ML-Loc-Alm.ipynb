{
 "cells": [
  {
   "cell_type": "code",
   "execution_count": 10,
   "metadata": {
    "collapsed": true
   },
   "outputs": [],
   "source": [
    "# Importing the libraries we're going to need\n",
    "import pandas as pd\n",
    "import matplotlib.pyplot as plt\n",
    "import seaborn as sns\n",
    "sns.set(color_codes=True)\n",
    "\n",
    "# this allows plots to appear directly in the notebook\n",
    "%matplotlib inline"
   ]
  },
  {
   "cell_type": "code",
   "execution_count": 11,
   "metadata": {},
   "outputs": [
    {
     "data": {
      "text/html": [
       "<div>\n",
       "<style>\n",
       "    .dataframe thead tr:only-child th {\n",
       "        text-align: right;\n",
       "    }\n",
       "\n",
       "    .dataframe thead th {\n",
       "        text-align: left;\n",
       "    }\n",
       "\n",
       "    .dataframe tbody tr th {\n",
       "        vertical-align: top;\n",
       "    }\n",
       "</style>\n",
       "<table border=\"1\" class=\"dataframe\">\n",
       "  <thead>\n",
       "    <tr style=\"text-align: right;\">\n",
       "      <th></th>\n",
       "      <th>IN</th>\n",
       "      <th>Train_Bulletin</th>\n",
       "      <th>Sector</th>\n",
       "      <th>DateTime1</th>\n",
       "      <th>Id_Loc</th>\n",
       "      <th>Track_id</th>\n",
       "      <th>Id_Engineer</th>\n",
       "      <th>Id_fireman</th>\n",
       "      <th>Hours</th>\n",
       "      <th>Kilometers</th>\n",
       "      <th>...</th>\n",
       "      <th>Id_Sub_Type</th>\n",
       "      <th>Sub_Type</th>\n",
       "      <th>id_Type</th>\n",
       "      <th>Type</th>\n",
       "      <th>Traccion</th>\n",
       "      <th>Direction</th>\n",
       "      <th>Id_Model_Loc</th>\n",
       "      <th>Model_Loc</th>\n",
       "      <th>UTC</th>\n",
       "      <th>GTK</th>\n",
       "    </tr>\n",
       "    <tr>\n",
       "      <th>Ind</th>\n",
       "      <th></th>\n",
       "      <th></th>\n",
       "      <th></th>\n",
       "      <th></th>\n",
       "      <th></th>\n",
       "      <th></th>\n",
       "      <th></th>\n",
       "      <th></th>\n",
       "      <th></th>\n",
       "      <th></th>\n",
       "      <th></th>\n",
       "      <th></th>\n",
       "      <th></th>\n",
       "      <th></th>\n",
       "      <th></th>\n",
       "      <th></th>\n",
       "      <th></th>\n",
       "      <th></th>\n",
       "      <th></th>\n",
       "      <th></th>\n",
       "      <th></th>\n",
       "    </tr>\n",
       "  </thead>\n",
       "  <tbody>\n",
       "    <tr>\n",
       "      <th>0</th>\n",
       "      <td>TREN</td>\n",
       "      <td>32175</td>\n",
       "      <td>N</td>\n",
       "      <td>26/04/2017</td>\n",
       "      <td>5409</td>\n",
       "      <td>1</td>\n",
       "      <td>67.0</td>\n",
       "      <td>252.0</td>\n",
       "      <td>0</td>\n",
       "      <td>56</td>\n",
       "      <td>...</td>\n",
       "      <td>2</td>\n",
       "      <td>CARGA GENERAL</td>\n",
       "      <td>1</td>\n",
       "      <td>CARGA</td>\n",
       "      <td>S</td>\n",
       "      <td>0</td>\n",
       "      <td>38</td>\n",
       "      <td>GE U20C</td>\n",
       "      <td>UTR</td>\n",
       "      <td>36</td>\n",
       "    </tr>\n",
       "    <tr>\n",
       "      <th>1</th>\n",
       "      <td>TREN</td>\n",
       "      <td>32177</td>\n",
       "      <td>N</td>\n",
       "      <td>26/04/2017</td>\n",
       "      <td>11</td>\n",
       "      <td>1</td>\n",
       "      <td>104.0</td>\n",
       "      <td>285.0</td>\n",
       "      <td>0</td>\n",
       "      <td>35</td>\n",
       "      <td>...</td>\n",
       "      <td>2</td>\n",
       "      <td>CARGA GENERAL</td>\n",
       "      <td>1</td>\n",
       "      <td>CARGA</td>\n",
       "      <td>S</td>\n",
       "      <td>1</td>\n",
       "      <td>9</td>\n",
       "      <td>GE U10B</td>\n",
       "      <td>UTR</td>\n",
       "      <td>21</td>\n",
       "    </tr>\n",
       "    <tr>\n",
       "      <th>2</th>\n",
       "      <td>TREN</td>\n",
       "      <td>32178</td>\n",
       "      <td>N</td>\n",
       "      <td>26/04/2017</td>\n",
       "      <td>5409</td>\n",
       "      <td>1</td>\n",
       "      <td>67.0</td>\n",
       "      <td>252.0</td>\n",
       "      <td>0</td>\n",
       "      <td>56</td>\n",
       "      <td>...</td>\n",
       "      <td>2</td>\n",
       "      <td>CARGA GENERAL</td>\n",
       "      <td>1</td>\n",
       "      <td>CARGA</td>\n",
       "      <td>S</td>\n",
       "      <td>1</td>\n",
       "      <td>38</td>\n",
       "      <td>GE U20C</td>\n",
       "      <td>UTR</td>\n",
       "      <td>84</td>\n",
       "    </tr>\n",
       "    <tr>\n",
       "      <th>3</th>\n",
       "      <td>TREN</td>\n",
       "      <td>32187</td>\n",
       "      <td>N</td>\n",
       "      <td>27/04/2017</td>\n",
       "      <td>6931</td>\n",
       "      <td>1</td>\n",
       "      <td>18.0</td>\n",
       "      <td>286.0</td>\n",
       "      <td>0</td>\n",
       "      <td>35</td>\n",
       "      <td>...</td>\n",
       "      <td>2</td>\n",
       "      <td>CARGA GENERAL</td>\n",
       "      <td>1</td>\n",
       "      <td>CARGA</td>\n",
       "      <td>S</td>\n",
       "      <td>1</td>\n",
       "      <td>43</td>\n",
       "      <td>HM</td>\n",
       "      <td>UTR</td>\n",
       "      <td>21</td>\n",
       "    </tr>\n",
       "    <tr>\n",
       "      <th>4</th>\n",
       "      <td>TREN</td>\n",
       "      <td>32188</td>\n",
       "      <td>N</td>\n",
       "      <td>27/04/2017</td>\n",
       "      <td>21</td>\n",
       "      <td>1</td>\n",
       "      <td>72.0</td>\n",
       "      <td>91.0</td>\n",
       "      <td>0</td>\n",
       "      <td>56</td>\n",
       "      <td>...</td>\n",
       "      <td>2</td>\n",
       "      <td>CARGA GENERAL</td>\n",
       "      <td>1</td>\n",
       "      <td>CARGA</td>\n",
       "      <td>S</td>\n",
       "      <td>0</td>\n",
       "      <td>28</td>\n",
       "      <td>GM</td>\n",
       "      <td>UTR</td>\n",
       "      <td>27</td>\n",
       "    </tr>\n",
       "  </tbody>\n",
       "</table>\n",
       "<p>5 rows × 31 columns</p>\n",
       "</div>"
      ],
      "text/plain": [
       "       IN  Train_Bulletin Sector   DateTime1  Id_Loc  Track_id  Id_Engineer  \\\n",
       "Ind                                                                           \n",
       "0    TREN           32175      N  26/04/2017    5409         1         67.0   \n",
       "1    TREN           32177      N  26/04/2017      11         1        104.0   \n",
       "2    TREN           32178      N  26/04/2017    5409         1         67.0   \n",
       "3    TREN           32187      N  27/04/2017    6931         1         18.0   \n",
       "4    TREN           32188      N  27/04/2017      21         1         72.0   \n",
       "\n",
       "     Id_fireman  Hours  Kilometers ...  Id_Sub_Type       Sub_Type  id_Type  \\\n",
       "Ind                                ...                                        \n",
       "0         252.0      0          56 ...            2  CARGA GENERAL        1   \n",
       "1         285.0      0          35 ...            2  CARGA GENERAL        1   \n",
       "2         252.0      0          56 ...            2  CARGA GENERAL        1   \n",
       "3         286.0      0          35 ...            2  CARGA GENERAL        1   \n",
       "4          91.0      0          56 ...            2  CARGA GENERAL        1   \n",
       "\n",
       "      Type  Traccion Direction  Id_Model_Loc Model_Loc  UTC GTK  \n",
       "Ind                                                              \n",
       "0    CARGA         S         0            38   GE U20C  UTR  36  \n",
       "1    CARGA         S         1             9   GE U10B  UTR  21  \n",
       "2    CARGA         S         1            38   GE U20C  UTR  84  \n",
       "3    CARGA         S         1            43        HM  UTR  21  \n",
       "4    CARGA         S         0            28        GM  UTR  27  \n",
       "\n",
       "[5 rows x 31 columns]"
      ]
     },
     "execution_count": 11,
     "metadata": {},
     "output_type": "execute_result"
    }
   ],
   "source": [
    "# Let's setup our fuel consumption data from 2010 to july 2017\n",
    "fuel = pd.read_csv('Fuel Efficiciency/Fuel_FO_2010-17_loc_ml.csv', sep = ';',index_col='Ind',encoding='latin-1', low_memory=False)\n",
    "fuel.head(5)"
   ]
  },
  {
   "cell_type": "code",
   "execution_count": 12,
   "metadata": {},
   "outputs": [
    {
     "data": {
      "text/plain": [
       "IN                 object\n",
       "Train_Bulletin      int64\n",
       "Sector             object\n",
       "DateTime1          object\n",
       "Id_Loc              int64\n",
       "Track_id            int64\n",
       "Id_Engineer       float64\n",
       "Id_fireman        float64\n",
       "Hours               int64\n",
       "Kilometers          int64\n",
       "Liters              int64\n",
       "Net_Ton_Km_r        int64\n",
       "Gross_Ton_km        int64\n",
       "Net_Tons            int64\n",
       "Gross_Tons          int64\n",
       "Date               object\n",
       "Locomotive          int64\n",
       "Track              object\n",
       "Maquinista         object\n",
       "Auxiliar           object\n",
       "Train_nbr          object\n",
       "Id_Sub_Type         int64\n",
       "Sub_Type           object\n",
       "id_Type             int64\n",
       "Type               object\n",
       "Traccion           object\n",
       "Direction           int64\n",
       "Id_Model_Loc        int64\n",
       "Model_Loc          object\n",
       "UTC                object\n",
       "GTK                 int64\n",
       "dtype: object"
      ]
     },
     "execution_count": 12,
     "metadata": {},
     "output_type": "execute_result"
    }
   ],
   "source": [
    "fuel.dtypes"
   ]
  },
  {
   "cell_type": "code",
   "execution_count": 13,
   "metadata": {},
   "outputs": [],
   "source": [
    "# We're adding a Lts per GTK and since GTK is a very large number we make a second column of GTK in billions\n",
    "f = fuel\n",
    "f['Lts_x_GTK'] = ((f['Liters'] * 1000)/ (f['Gross_Ton_km'] / 1000000)).astype(float)\n",
    "f['GTK_9'] = ((f['Gross_Ton_km'] / 1000000000)).astype(float)\n",
    "len_loc = len(f)\n",
    "# We want to show the distribution of the unit trains in the East with simple traction\n",
    "#f = f[(f.Sector == 'E') & (f.Liters >40) & (f.UTC == 'UTR') & (f.IN == 'TREN') & (f.Gross_Ton_km >0) & (f.Traccion == 'S') & (f.Track_id <=6) & (f.Hours < 48) & (f.Lts_x_GTK < 13000)]\n",
    "\n",
    "#f.groupby(['UTC','Sub_Type','Model_Loc','Track_id']).size()"
   ]
  },
  {
   "cell_type": "code",
   "execution_count": 14,
   "metadata": {},
   "outputs": [
    {
     "name": "stdout",
     "output_type": "stream",
     "text": [
      "89979\n"
     ]
    }
   ],
   "source": [
    "print(len_loc)"
   ]
  },
  {
   "cell_type": "code",
   "execution_count": 15,
   "metadata": {},
   "outputs": [
    {
     "data": {
      "text/plain": [
       "1.0"
      ]
     },
     "execution_count": 15,
     "metadata": {},
     "output_type": "execute_result"
    }
   ],
   "source": [
    "# We are showing more than 100% of the local data\n",
    "len(f)/ len_loc"
   ]
  },
  {
   "cell_type": "code",
   "execution_count": 16,
   "metadata": {},
   "outputs": [
    {
     "data": {
      "text/plain": [
       "<matplotlib.axes._subplots.AxesSubplot at 0x26c25f74128>"
      ]
     },
     "execution_count": 16,
     "metadata": {},
     "output_type": "execute_result"
    },
    {
     "data": {
      "image/png": "[encoded data removed]",
      "text/plain": [
       "<matplotlib.figure.Figure at 0x26c25f5d9b0>"
      ]
     },
     "metadata": {},
     "output_type": "display_data"
    }
   ],
   "source": [
    "# Is there a direct linear relationship between GTK and Liters in these trains\n",
    "sns.regplot(y=\"Liters\", x=\"GTK_9\", data=f, fit_reg = True)"
   ]
  },
  {
   "cell_type": "markdown",
   "metadata": {},
   "source": [
    "There is no direct linear relationship, but there seems to be linear patterns within the relationship"
   ]
  },
  {
   "cell_type": "code",
   "execution_count": 17,
   "metadata": {},
   "outputs": [
    {
     "data": {
      "text/html": [
       "<div>\n",
       "<style>\n",
       "    .dataframe thead tr:only-child th {\n",
       "        text-align: right;\n",
       "    }\n",
       "\n",
       "    .dataframe thead th {\n",
       "        text-align: left;\n",
       "    }\n",
       "\n",
       "    .dataframe tbody tr th {\n",
       "        vertical-align: top;\n",
       "    }\n",
       "</style>\n",
       "<table border=\"1\" class=\"dataframe\">\n",
       "  <thead>\n",
       "    <tr style=\"text-align: right;\">\n",
       "      <th></th>\n",
       "      <th>IN</th>\n",
       "      <th>Train_Bulletin</th>\n",
       "      <th>Sector</th>\n",
       "      <th>DateTime1</th>\n",
       "      <th>Id_Loc</th>\n",
       "      <th>Track_id</th>\n",
       "      <th>Id_Engineer</th>\n",
       "      <th>Id_fireman</th>\n",
       "      <th>Hours</th>\n",
       "      <th>Kilometers</th>\n",
       "      <th>...</th>\n",
       "      <th>TRN_3</th>\n",
       "      <th>TRN_4</th>\n",
       "      <th>TRN_5</th>\n",
       "      <th>TRN_6</th>\n",
       "      <th>TRN_8</th>\n",
       "      <th>TRN_9</th>\n",
       "      <th>TRN_10</th>\n",
       "      <th>TRN_11</th>\n",
       "      <th>Tract</th>\n",
       "      <th>IsUnit</th>\n",
       "    </tr>\n",
       "    <tr>\n",
       "      <th>Ind</th>\n",
       "      <th></th>\n",
       "      <th></th>\n",
       "      <th></th>\n",
       "      <th></th>\n",
       "      <th></th>\n",
       "      <th></th>\n",
       "      <th></th>\n",
       "      <th></th>\n",
       "      <th></th>\n",
       "      <th></th>\n",
       "      <th></th>\n",
       "      <th></th>\n",
       "      <th></th>\n",
       "      <th></th>\n",
       "      <th></th>\n",
       "      <th></th>\n",
       "      <th></th>\n",
       "      <th></th>\n",
       "      <th></th>\n",
       "      <th></th>\n",
       "      <th></th>\n",
       "    </tr>\n",
       "  </thead>\n",
       "  <tbody>\n",
       "    <tr>\n",
       "      <th>0</th>\n",
       "      <td>TREN</td>\n",
       "      <td>32175</td>\n",
       "      <td>N</td>\n",
       "      <td>26/04/2017</td>\n",
       "      <td>5409</td>\n",
       "      <td>1</td>\n",
       "      <td>67.0</td>\n",
       "      <td>252.0</td>\n",
       "      <td>0</td>\n",
       "      <td>56</td>\n",
       "      <td>...</td>\n",
       "      <td>0</td>\n",
       "      <td>0</td>\n",
       "      <td>0</td>\n",
       "      <td>0</td>\n",
       "      <td>0</td>\n",
       "      <td>0</td>\n",
       "      <td>0</td>\n",
       "      <td>0</td>\n",
       "      <td>1</td>\n",
       "      <td>1</td>\n",
       "    </tr>\n",
       "    <tr>\n",
       "      <th>1</th>\n",
       "      <td>TREN</td>\n",
       "      <td>32177</td>\n",
       "      <td>N</td>\n",
       "      <td>26/04/2017</td>\n",
       "      <td>11</td>\n",
       "      <td>1</td>\n",
       "      <td>104.0</td>\n",
       "      <td>285.0</td>\n",
       "      <td>0</td>\n",
       "      <td>35</td>\n",
       "      <td>...</td>\n",
       "      <td>0</td>\n",
       "      <td>0</td>\n",
       "      <td>0</td>\n",
       "      <td>0</td>\n",
       "      <td>0</td>\n",
       "      <td>0</td>\n",
       "      <td>0</td>\n",
       "      <td>0</td>\n",
       "      <td>1</td>\n",
       "      <td>1</td>\n",
       "    </tr>\n",
       "    <tr>\n",
       "      <th>2</th>\n",
       "      <td>TREN</td>\n",
       "      <td>32178</td>\n",
       "      <td>N</td>\n",
       "      <td>26/04/2017</td>\n",
       "      <td>5409</td>\n",
       "      <td>1</td>\n",
       "      <td>67.0</td>\n",
       "      <td>252.0</td>\n",
       "      <td>0</td>\n",
       "      <td>56</td>\n",
       "      <td>...</td>\n",
       "      <td>0</td>\n",
       "      <td>0</td>\n",
       "      <td>0</td>\n",
       "      <td>0</td>\n",
       "      <td>0</td>\n",
       "      <td>0</td>\n",
       "      <td>0</td>\n",
       "      <td>0</td>\n",
       "      <td>1</td>\n",
       "      <td>1</td>\n",
       "    </tr>\n",
       "    <tr>\n",
       "      <th>3</th>\n",
       "      <td>TREN</td>\n",
       "      <td>32187</td>\n",
       "      <td>N</td>\n",
       "      <td>27/04/2017</td>\n",
       "      <td>6931</td>\n",
       "      <td>1</td>\n",
       "      <td>18.0</td>\n",
       "      <td>286.0</td>\n",
       "      <td>0</td>\n",
       "      <td>35</td>\n",
       "      <td>...</td>\n",
       "      <td>0</td>\n",
       "      <td>0</td>\n",
       "      <td>0</td>\n",
       "      <td>0</td>\n",
       "      <td>0</td>\n",
       "      <td>0</td>\n",
       "      <td>0</td>\n",
       "      <td>0</td>\n",
       "      <td>1</td>\n",
       "      <td>1</td>\n",
       "    </tr>\n",
       "    <tr>\n",
       "      <th>4</th>\n",
       "      <td>TREN</td>\n",
       "      <td>32188</td>\n",
       "      <td>N</td>\n",
       "      <td>27/04/2017</td>\n",
       "      <td>21</td>\n",
       "      <td>1</td>\n",
       "      <td>72.0</td>\n",
       "      <td>91.0</td>\n",
       "      <td>0</td>\n",
       "      <td>56</td>\n",
       "      <td>...</td>\n",
       "      <td>0</td>\n",
       "      <td>0</td>\n",
       "      <td>0</td>\n",
       "      <td>0</td>\n",
       "      <td>0</td>\n",
       "      <td>0</td>\n",
       "      <td>0</td>\n",
       "      <td>0</td>\n",
       "      <td>1</td>\n",
       "      <td>1</td>\n",
       "    </tr>\n",
       "  </tbody>\n",
       "</table>\n",
       "<p>5 rows × 93 columns</p>\n",
       "</div>"
      ],
      "text/plain": [
       "       IN  Train_Bulletin Sector   DateTime1  Id_Loc  Track_id  Id_Engineer  \\\n",
       "Ind                                                                           \n",
       "0    TREN           32175      N  26/04/2017    5409         1         67.0   \n",
       "1    TREN           32177      N  26/04/2017      11         1        104.0   \n",
       "2    TREN           32178      N  26/04/2017    5409         1         67.0   \n",
       "3    TREN           32187      N  27/04/2017    6931         1         18.0   \n",
       "4    TREN           32188      N  27/04/2017      21         1         72.0   \n",
       "\n",
       "     Id_fireman  Hours  Kilometers  ...    TRN_3  TRN_4  TRN_5  TRN_6  TRN_8  \\\n",
       "Ind                                 ...                                        \n",
       "0         252.0      0          56  ...        0      0      0      0      0   \n",
       "1         285.0      0          35  ...        0      0      0      0      0   \n",
       "2         252.0      0          56  ...        0      0      0      0      0   \n",
       "3         286.0      0          35  ...        0      0      0      0      0   \n",
       "4          91.0      0          56  ...        0      0      0      0      0   \n",
       "\n",
       "    TRN_9  TRN_10 TRN_11 Tract IsUnit  \n",
       "Ind                                    \n",
       "0       0       0      0     1      1  \n",
       "1       0       0      0     1      1  \n",
       "2       0       0      0     1      1  \n",
       "3       0       0      0     1      1  \n",
       "4       0       0      0     1      1  \n",
       "\n",
       "[5 rows x 93 columns]"
      ]
     },
     "execution_count": 17,
     "metadata": {},
     "output_type": "execute_result"
    }
   ],
   "source": [
    "# Let's use all the data again\n",
    "f= fuel\n",
    "f['Lts_x_GTK'] = ((f['Liters'] * 1000)/ (f['Gross_Ton_km'] / 1000000)).astype(float)\n",
    "f['GTK_9'] = ((f['Gross_Ton_km'] / 1000000000)).astype(float)\n",
    "# create six dummy variables for track_id using get_dummies, then exclude the first dummy column\n",
    "area_dummies = pd.get_dummies(f.Track_id, prefix='SD').iloc[:, 1:]\n",
    "\n",
    "# concatenate the dummy variable columns onto the original DataFrame (axis=0 means rows, axis=1 means columns)\n",
    "f = pd.concat([f, area_dummies], axis=1)\n",
    "\n",
    "# create six dummy variables for Locomotive Type using get_dummies, then exclude the first dummy column\n",
    "area_dummies = pd.get_dummies(f.Locomotive, prefix='LOC').iloc[:, 1:]\n",
    "\n",
    "# concatenate the dummy variable columns onto the original DataFrame (axis=0 means rows, axis=1 means columns)\n",
    "f = pd.concat([f, area_dummies], axis=1)\n",
    "\n",
    "\n",
    "# create six dummy variables for Train Type using get_dummies, then exclude the first dummy column\n",
    "area_dummies = pd.get_dummies(f.Id_Sub_Type, prefix='TRN').iloc[:, 1:]\n",
    "\n",
    "# concatenate the dummy variable columns onto the original DataFrame (axis=0 means rows, axis=1 means columns)\n",
    "f = pd.concat([f, area_dummies], axis=1)\n",
    "\n",
    "# create a new Series called Tract - Number of Locomotives\n",
    "f['Tract'] = f.Traccion.map({'S':1,'M':0})\n",
    "\n",
    "# create a new Series called IsUnit\n",
    "f['IsUnit'] = f.UTC.map({'UTR':1,'NUT':0,'PAS':-1})\n",
    "\n",
    "f.head()"
   ]
  },
  {
   "cell_type": "code",
   "execution_count": 18,
   "metadata": {
    "collapsed": true
   },
   "outputs": [],
   "source": [
    "# Export the results\n",
    "f.to_csv('Fuel Efficiciency/Fuel_FO_2010-17_loc_ml_raw.csv', sep = ';',encoding='latin-1')"
   ]
  },
  {
   "cell_type": "code",
   "execution_count": 19,
   "metadata": {},
   "outputs": [
    {
     "name": "stderr",
     "output_type": "stream",
     "text": [
      "C:\\Users\\225648\\AppData\\Local\\Continuum\\Anaconda3\\lib\\site-packages\\statsmodels\\compat\\pandas.py:56: FutureWarning: The pandas.core.datetools module is deprecated and will be removed in a future version. Please use the pandas.tseries module instead.\n",
      "  from pandas.core import datetools\n"
     ]
    }
   ],
   "source": [
    "# import other necessary libraries\n",
    "%matplotlib inline\n",
    "import pandas as pd\n",
    "import numpy as np\n",
    "import itertools\n",
    "import time\n",
    "import statsmodels.api as sm\n",
    "import matplotlib.pyplot as plt\n",
    "import sklearn\n",
    "from sklearn import model_selection\n",
    "from sklearn.linear_model import LinearRegression\n",
    "from sklearn.metrics import r2_score\n",
    "from sklearn.metrics import mean_squared_error"
   ]
  },
  {
   "cell_type": "code",
   "execution_count": 20,
   "metadata": {
    "collapsed": true
   },
   "outputs": [],
   "source": [
    "#choose the predictor columns (X) with all the predictors and the dependent variable (y) Liters\n",
    "feature_cols = ['GTK_9', 'Hours', 'Kilometers', 'IsUnit', 'Tract','SD_2', 'SD_3', 'SD_4', 'SD_5', 'SD_6', \n",
    "#                'MOD_10','MOD_28','MOD_38','MOD_40','MOD_42','MOD_43',\n",
    "                'TRN_2', 'TRN_3', 'TRN_4', 'TRN_5', 'TRN_6', 'TRN_8', 'TRN_9', 'TRN_10', 'TRN_11',\n",
    "                'LOC_345', 'LOC_347', 'LOC_851', 'LOC_966', 'LOC_971', 'LOC_972', 'LOC_973', 'LOC_974', 'LOC_975', \n",
    "                'LOC_976', 'LOC_977', 'LOC_978', 'LOC_979', 'LOC_1014', 'LOC_1201', 'LOC_1202', 'LOC_1203', 'LOC_1601', \n",
    "                'LOC_1602', 'LOC_2000', 'LOC_2001', 'LOC_2002', 'LOC_2003', 'LOC_2004', 'LOC_2005', 'LOC_2006', 'LOC_2007', \n",
    "                'LOC_2008', 'LOC_2009', 'LOC_2010', 'LOC_2011', 'LOC_2012', 'LOC_2201', 'LOC_2301', 'LOC_2302', 'LOC_2303', \n",
    "                'LOC_2304', 'LOC_2305', 'LOC_2306', 'LOC_2307', 'LOC_8689']\n",
    "#                'T_10', 'T_101', 'T_101A', 'T_101E', 'T_101ME', 'T_102', 'T_102A', 'T_102E', 'T_103', 'T_103A', 'T_103E', \n",
    "#                'T_104', 'T_104E', 'T_105', 'T_106E', 'T_10E', 'T_13', 'T_13E', 'T_14', 'T_14E', 'T_151', 'T_151A', 'T_151E', \n",
    "#                'T_152', 'T_152E', 'T_153', 'T_153E', 'T_154', 'T_154E', 'T_155', 'T_156', 'T_157', 'T_157A', 'T_157E', \n",
    "#                'T_157M', 'T_157ME', 'T_158', 'T_158A', 'T_158E', 'T_158M', 'T_158ME', 'T_158e', 'T_159', 'T_159A', 'T_159E', \n",
    "#                'T_159M', 'T_159ME', 'T_160', 'T_160A', 'T_160E', 'T_160M', 'T_160ME', 'T_161', 'T_161A', 'T_161E', 'T_161M', \n",
    "#                'T_161ME', 'T_162', 'T_162A', 'T_162E', 'T_162M', 'T_162ME', 'T_162m', 'T_163', 'T_164', 'T_164E', 'T_171', \n",
    "#                'T_171E', 'T_172', 'T_172E', 'T_173', 'T_173E', 'T_174', 'T_174E', 'T_175', 'T_175E', 'T_176', 'T_176E', \n",
    "#                'T_180', 'T_181', 'T_182', 'T_183', 'T_1E', 'T_1M', 'T_2', 'T_200', 'T_201', 'T_202', 'T_203', 'T_204', \n",
    "#                'T_205', 'T_230', 'T_231', 'T_240', 'T_241', 'T_242', 'T_243', 'T_244', 'T_245', 'T_2E', 'T_2M', 'T_3', \n",
    "#                'T_301', 'T_4', 'T_4E', 'T_7', 'T_700', 'T_701', 'T_702', 'T_703', 'T_704', 'T_705', 'T_740', 'T_741', \n",
    "#                'T_742', 'T_743', 'T_7E', 'T_8', 'T_8E', 'T_9', 'T_900', 'T_901', 'T_902', 'T_903', 'T_905', 'T_940', \n",
    "#                'T_941', 'T_944', 'T_9E', 'T_GU-PZ', 'T_Int-O', 'T_Intern', 'T_PL-GU', 'T_S-INT', 'T_T-Esp', 'T_T-Esp1']\n",
    "\n",
    "X = f[feature_cols]\n",
    "y = f.Liters\n"
   ]
  },
  {
   "cell_type": "code",
   "execution_count": 21,
   "metadata": {
    "collapsed": true
   },
   "outputs": [],
   "source": [
    "# Separate train and test set\n",
    "X_train, X_test, Y_train, Y_test = sklearn.model_selection.train_test_split(\n",
    "    X, y, test_size=0.33, random_state = 5)\n"
   ]
  },
  {
   "cell_type": "code",
   "execution_count": 22,
   "metadata": {
    "collapsed": true
   },
   "outputs": [],
   "source": [
    "# This creates a LinearRegression object with all the variables\n",
    "lm = LinearRegression()\n",
    "regr = lm.fit(X_train, Y_train)\n",
    "\n",
    "# print coefficients\n",
    "#list(zip(feature_cols, lm.coef_))"
   ]
  },
  {
   "cell_type": "code",
   "execution_count": 23,
   "metadata": {
    "collapsed": true
   },
   "outputs": [],
   "source": [
    "# Import regression modules\n",
    "# ols - stands for Ordinary least squares\n",
    "#import statsmodels.api as sm\n",
    "#from statsmodels.formula.api import ols\n",
    "\n",
    "# The thing inside the \"quotes\" is called a formula\n",
    "#m = ols('Y_test ~ GTK_9 + Hours + Kilometers + IsUnit + Tract + SD_2 + SD_3 + SD_4 + SD_5 + SD_6 + MOD_10 + MOD_28 + MOD_38 + MOD_40 + MOD_42 + MOD_43 + TRN_2 + TRN_3 + TRN_4 + TRN_5 + TRN_6 + TRN_8 + TRN_9 + TRN_10 + TRN_11 ',X_test).fit()\n",
    "#print (m.summary())"
   ]
  },
  {
   "cell_type": "code",
   "execution_count": 24,
   "metadata": {},
   "outputs": [
    {
     "name": "stdout",
     "output_type": "stream",
     "text": [
      "OLS loc Training RSS: 1479288140.81 Test RSS: 697314504.85\n",
      "OLS loc Training TSS: 9746640737.01 Test TSS: 4766021354.31\n",
      "OLS loc Training R2:   84.8% Test R2:   85.4%\n",
      "OLS loc Training MSE: 24538.25 Test MSE: 23483.35\n",
      "OLS loc Training RSE: 156.65 Test RSE: 153.25\n",
      "OLS Coeffients:     60 Train Q:  60285 Test Q:  29694 local Q:  89979\n"
     ]
    }
   ],
   "source": [
    "D_T = len(feature_cols)  \n",
    "Y_pred_train = regr.predict(X_train[list(feature_cols)]) \n",
    "# We calculate the RSS with respect to the training data\n",
    "RSS_TRAIN_T = ((Y_pred_train - Y_train) ** 2).sum()\n",
    "TSS_TRAIN_T = ((Y_train - Y_train.mean()) ** 2).sum()    \n",
    "N_TRAIN_T = len(X_train)   \n",
    "RSE_TRAIN_T = ((RSS_TRAIN_T/(N_TRAIN_T-2)) ** 0.5)\n",
    "# We calculate the RSS with respect to the test data\n",
    "Y_pred_test = regr.predict(X_test[list(feature_cols)]) \n",
    "RSS_TEST_T = ((Y_pred_test - Y_test) ** 2).sum()\n",
    "TSS_TEST_T = ((Y_test - Y_test.mean()) ** 2).sum()    \n",
    "N_TEST_T = len(X_test)  \n",
    "RSE_TEST_T = ((RSS_TEST_T/(N_TEST_T-2)) ** 0.5)\n",
    "   \n",
    "MSE_TRAIN_T = mean_squared_error(Y_train, (Y_pred_train))    \n",
    "MSE_TEST_T = mean_squared_error(Y_test, (Y_pred_test))\n",
    "\n",
    "R2s_TRAIN_T = r2_score(Y_train, (Y_pred_train))\n",
    "R2s_TEST_T = r2_score(Y_test, (Y_pred_test))    \n",
    "\n",
    "#R2_TRAIN_F = regr.rsquared\n",
    "#MSEr_TRAIN_F = regr.mse_resid\n",
    "#R2_TEST_F = r2_score(Y_test, Y_pred_test) \n",
    "\n",
    "#print(\"OLS Fwd Training R2: {0:6.1f}% \".format ((R2_TRAIN_F*100)))  \n",
    "#print(\"OLS Fwd Training MSE_resid: {0:6.2f} \".format ((MSEr_TRAIN_F)))      \n",
    "print(\"OLS loc Training RSS: {0:6.2f} Test RSS: {1:6.2f}\".format (RSS_TRAIN_T, RSS_TEST_T))\n",
    "print(\"OLS loc Training TSS: {0:6.2f} Test TSS: {1:6.2f}\".format (TSS_TRAIN_T, TSS_TEST_T))\n",
    "print(\"OLS loc Training R2: {0:6.1f}% Test R2: {1:6.1f}%\".format ((R2s_TRAIN_T*100), (R2s_TEST_T*100)))   \n",
    "print(\"OLS loc Training MSE: {0:6.2f} Test MSE: {1:6.2f}\".format (MSE_TRAIN_T, MSE_TEST_T))    \n",
    "print(\"OLS loc Training RSE: {0:6.2f} Test RSE: {1:6.2f}\".format (RSE_TRAIN_T, RSE_TEST_T))    \n",
    "print(\"OLS Coeffients: {0:6d} Train Q: {1:6d} Test Q: {2:6d} local Q: {3:6d}\".format (D_T,N_TRAIN_T,N_TEST_T,N_TRAIN_T+N_TEST_T))\n",
    "\n",
    "Y_pred_loc_regr = regr.predict(X[feature_cols])\n"
   ]
  },
  {
   "cell_type": "code",
   "execution_count": 25,
   "metadata": {},
   "outputs": [
    {
     "data": {
      "text/plain": [
       "<matplotlib.text.Text at 0x26c267d7080>"
      ]
     },
     "execution_count": 25,
     "metadata": {},
     "output_type": "execute_result"
    },
    {
     "data": {
      "image/png": "[encoded data removed]",
      "text/plain": [
       "<matplotlib.figure.Figure at 0x26c2edb4e80>"
      ]
     },
     "metadata": {},
     "output_type": "display_data"
    }
   ],
   "source": [
    "# Is the relationship linear\n",
    "plt.scatter(Y_pred_test, Y_test)\n",
    "plt.xlim( 0, 3000 ) \n",
    "plt.ylim( 0, 3000 ) \n",
    "plt.xlabel(\"Predicted LRT Liters (LR)\")\n",
    "plt.ylabel(\"Actual\")\n",
    "plt.title(\"Relationship between LRT and Liters\")"
   ]
  },
  {
   "cell_type": "markdown",
   "metadata": {},
   "source": [
    "We can perform best subset selection by identifying the best model that contains a given number of predictors, where **best** is quantified using RSS. We'll define a helper function to outputs the best set of variables for\n",
    "each model size:"
   ]
  },
  {
   "cell_type": "code",
   "execution_count": 26,
   "metadata": {
    "collapsed": true
   },
   "outputs": [],
   "source": [
    "# The following four functions are a python adaptation of ISL p. 248-251 by R. Jordan Crouser at Smith College found in:\n",
    "#http://www.science.smith.edu/~jcrouser/SDS293/labs/lab9/Lab%209%20-%20Subset%20Selection%20in%20Python.pdf\n",
    "def processSubset(feature_set, X_train, y_train, X_test, y_test):\n",
    "    \n",
    "# Fit model on feature_set and calculate RSS\n",
    "    model = sm.OLS(y_train,X_train[list(feature_set)])\n",
    "    regr = model.fit()\n",
    "# We calculate the RSS with respect to the test data\n",
    "    RSS = ((regr.predict(X_test[list(feature_set)]) - y_test) ** 2).sum()\n",
    "    \n",
    "    return {\"model\":regr, \"RSS\":RSS}\n",
    "\n"
   ]
  },
  {
   "cell_type": "markdown",
   "metadata": {},
   "source": [
    "# Forward Stepwise Selection\n",
    "We can also use a similar approach to perform forward stepwise\n",
    "or backward stepwise selection, using a slight modification of the functions we defined above:"
   ]
  },
  {
   "cell_type": "code",
   "execution_count": 27,
   "metadata": {
    "collapsed": true
   },
   "outputs": [],
   "source": [
    "def forward(predictors, X_train, y_train, X_test, y_test):\n",
    "    # Pull out predictors we still need to process\n",
    "    remaining_predictors = [p for p in X_train.columns if p not in predictors]\n",
    "    tic = time.time()\n",
    "    results = []\n",
    "    for p in remaining_predictors:\n",
    "        results.append(processSubset(predictors+[p], X_train, y_train, X_test, y_test))\n",
    "    # Wrap everything up in a nice dataframe\n",
    "    models = pd.DataFrame(results)\n",
    "    # Choose the model with the lowest RSS\n",
    "    best_model = models.loc[models['RSS'].argmin()]\n",
    "    toc = time.time()\n",
    "    print(\"Processed \", models.shape[0], \"models on\", len(predictors)+1, \"predictors in\", (toc-tic), \"seconds.\")\n",
    "          # Return the best model, along with some other useful information about the model\n",
    "    return best_model\n"
   ]
  },
  {
   "cell_type": "code",
   "execution_count": 28,
   "metadata": {},
   "outputs": [
    {
     "name": "stdout",
     "output_type": "stream",
     "text": [
      "Processed  60 models on 1 predictors in 0.5135388374328613 seconds.\n",
      "Processed  59 models on 2 predictors in 0.8127472400665283 seconds.\n",
      "Processed  58 models on 3 predictors in 0.9568865299224854 seconds.\n",
      "Processed  57 models on 4 predictors in 1.2536170482635498 seconds.\n",
      "Processed  56 models on 5 predictors in 1.5646893978118896 seconds.\n",
      "Processed  55 models on 6 predictors in 1.7871181964874268 seconds.\n",
      "Processed  54 models on 7 predictors in 2.0085208415985107 seconds.\n",
      "Processed  53 models on 8 predictors in 2.287155866622925 seconds.\n",
      "Processed  52 models on 9 predictors in 2.679083824157715 seconds.\n",
      "Processed  51 models on 10 predictors in 2.4256558418273926 seconds.\n",
      "Processed  50 models on 11 predictors in 2.5418124198913574 seconds.\n",
      "Processed  49 models on 12 predictors in 3.183525323867798 seconds.\n",
      "Processed  48 models on 13 predictors in 3.3909788131713867 seconds.\n",
      "Processed  47 models on 14 predictors in 3.609492540359497 seconds.\n",
      "Processed  46 models on 15 predictors in 3.911986827850342 seconds.\n",
      "Processed  45 models on 16 predictors in 3.948869228363037 seconds.\n",
      "Processed  44 models on 17 predictors in 4.256614923477173 seconds.\n",
      "Processed  43 models on 18 predictors in 3.906228542327881 seconds.\n",
      "Processed  42 models on 19 predictors in 4.180573225021362 seconds.\n",
      "Processed  41 models on 20 predictors in 4.3257975578308105 seconds.\n",
      "Processed  40 models on 21 predictors in 4.430818557739258 seconds.\n",
      "Processed  39 models on 22 predictors in 6.018309116363525 seconds.\n",
      "Processed  38 models on 23 predictors in 4.993969202041626 seconds.\n",
      "Processed  37 models on 24 predictors in 4.396787881851196 seconds.\n",
      "Processed  36 models on 25 predictors in 4.587413549423218 seconds.\n",
      "Processed  35 models on 26 predictors in 4.643918037414551 seconds.\n",
      "Processed  34 models on 27 predictors in 4.963207960128784 seconds.\n",
      "Processed  33 models on 28 predictors in 6.458759069442749 seconds.\n",
      "Processed  32 models on 29 predictors in 8.234106302261353 seconds.\n",
      "Processed  31 models on 30 predictors in 5.486943244934082 seconds.\n",
      "Processed  30 models on 31 predictors in 5.261938810348511 seconds.\n",
      "Processed  29 models on 32 predictors in 5.588045358657837 seconds.\n",
      "Processed  28 models on 33 predictors in 4.58537220954895 seconds.\n",
      "Processed  27 models on 34 predictors in 4.54792332649231 seconds.\n",
      "Processed  26 models on 35 predictors in 4.532470703125 seconds.\n",
      "Processed  25 models on 36 predictors in 4.345426082611084 seconds.\n",
      "Processed  24 models on 37 predictors in 5.169528961181641 seconds.\n",
      "Processed  23 models on 38 predictors in 5.279136419296265 seconds.\n",
      "Processed  22 models on 39 predictors in 5.9321630001068115 seconds.\n",
      "Processed  21 models on 40 predictors in 6.472354173660278 seconds.\n",
      "Processed  20 models on 41 predictors in 6.05407977104187 seconds.\n",
      "Processed  19 models on 42 predictors in 5.51403021812439 seconds.\n",
      "Processed  18 models on 43 predictors in 5.456071853637695 seconds.\n",
      "Processed  17 models on 44 predictors in 5.272708177566528 seconds.\n",
      "Processed  16 models on 45 predictors in 5.227405309677124 seconds.\n",
      "Processed  15 models on 46 predictors in 5.033372163772583 seconds.\n",
      "Processed  14 models on 47 predictors in 3.8282785415649414 seconds.\n",
      "Processed  13 models on 48 predictors in 3.647260904312134 seconds.\n",
      "Processed  12 models on 49 predictors in 3.289804220199585 seconds.\n",
      "Processed  11 models on 50 predictors in 3.0599517822265625 seconds.\n",
      "Processed  10 models on 51 predictors in 3.005253314971924 seconds.\n",
      "Processed  9 models on 52 predictors in 2.725722551345825 seconds.\n",
      "Processed  8 models on 53 predictors in 2.4433183670043945 seconds.\n",
      "Processed  7 models on 54 predictors in 2.193014621734619 seconds.\n",
      "Processed  6 models on 55 predictors in 1.981750726699829 seconds.\n",
      "Processed  5 models on 56 predictors in 1.7052080631256104 seconds.\n",
      "Processed  4 models on 57 predictors in 1.3896484375 seconds.\n",
      "Processed  3 models on 58 predictors in 1.0353283882141113 seconds.\n",
      "Processed  2 models on 59 predictors in 0.7606635093688965 seconds.\n",
      "Processed  1 models on 60 predictors in 0.3591947555541992 seconds.\n",
      "local elapsed time: 224.55069160461426 seconds.\n"
     ]
    }
   ],
   "source": [
    "modelf_train = pd.DataFrame(columns=[\"RSS\", \"model\"])\n",
    "tic = time.time()\n",
    "predictors = []\n",
    "for i in range(1,len(X_train.columns)+1):\n",
    "#    modelf_train.loc[i] = forward(predictors, X[train], y[train][\"Liters\"], X[test], y[test][\"Liters\"])\n",
    "    modelf_train.loc[i] = forward(predictors, X_train, Y_train, X_test, Y_test)\n",
    "    predictors = modelf_train.loc[i][\"model\"].model.exog_names\n",
    "toc = time.time()\n",
    "print(\"local elapsed time:\", (toc-tic), \"seconds.\")"
   ]
  },
  {
   "cell_type": "code",
   "execution_count": 29,
   "metadata": {},
   "outputs": [
    {
     "data": {
      "text/plain": [
       "[<matplotlib.lines.Line2D at 0x26c26826c88>]"
      ]
     },
     "execution_count": 29,
     "metadata": {},
     "output_type": "execute_result"
    },
    {
     "data": {
      "image/png": "[encoded data removed]",
      "text/plain": [
       "<matplotlib.figure.Figure at 0x26c2684ffd0>"
      ]
     },
     "metadata": {},
     "output_type": "display_data"
    }
   ],
   "source": [
    "plt.plot(modelf_train[\"RSS\"], \"or\")\n",
    "plt.xlabel('# Predictors')\n",
    "plt.ylabel('RSS')\n",
    "plt.plot(modelf_train[\"RSS\"].argmin(), modelf_train[\"RSS\"].min(), \"g^\")"
   ]
  },
  {
   "cell_type": "code",
   "execution_count": 30,
   "metadata": {},
   "outputs": [
    {
     "data": {
      "text/plain": [
       "<matplotlib.text.Text at 0x26c00371748>"
      ]
     },
     "execution_count": 30,
     "metadata": {},
     "output_type": "execute_result"
    },
    {
     "data": {
      "image/png": "[encoded data removed]",
      "text/plain": [
       "<matplotlib.figure.Figure at 0x26c0020d438>"
      ]
     },
     "metadata": {},
     "output_type": "display_data"
    }
   ],
   "source": [
    "plt.figure(figsize=(20,10))\n",
    "plt.rcParams.update({'font.size': 18, 'lines.markersize': 10})\n",
    "\n",
    "# Set up a 2x2 grid so we can look at 4 plots at once\n",
    "plt.subplot(2, 2, 1)\n",
    "\n",
    "# We will now plot the line of RSS which monotonically decreases as Predictors Increase\n",
    "\n",
    "plt.plot(modelf_train[\"RSS\"])\n",
    "plt.xlabel('# Predictors')\n",
    "plt.ylabel('RSS')\n",
    "\n",
    "# We will now plot a red dot to indicate the model with the largest adjusted R^2 statistic.\n",
    "# The argmax() function can be used to identify the location of the maximum point of a vector\n",
    "rsquared = modelf_train.apply(lambda row: row[1].rsquared, axis=1)\n",
    "plt.subplot(2, 2, 2)\n",
    "plt.plot(rsquared, \"or\")\n",
    "plt.plot(rsquared.argmax(), rsquared.max(), \"g^\")\n",
    "plt.xlabel('# Predictors')\n",
    "plt.ylabel('adjusted rsquared')\n",
    "\n",
    "# We'll do the same for AIC and BIC, this time looking for the models with the SMALLEST statistic\n",
    "\n",
    "aic = modelf_train.apply(lambda row: row[1].aic, axis=1)\n",
    "\n",
    "plt.subplot(2, 2, 3)\n",
    "plt.plot(aic, \"or\")\n",
    "plt.plot(aic.argmin(), aic.min(), \"g^\")\n",
    "plt.xlabel('# Predictors')\n",
    "plt.ylabel('AIC')\n",
    "bic = modelf_train.apply(lambda row: row[1].bic, axis=1)\n",
    "plt.subplot(2, 2, 4)\n",
    "plt.plot(bic, \"or\")\n",
    "plt.plot(bic.argmin(), bic.min(), \"g^\")\n",
    "plt.xlabel('# Predictors')\n",
    "plt.ylabel('BIC')"
   ]
  },
  {
   "cell_type": "code",
   "execution_count": 31,
   "metadata": {},
   "outputs": [
    {
     "name": "stdout",
     "output_type": "stream",
     "text": [
      "OLS Fwd Training R2:   95.2% \n",
      "OLS Fwd Training MSE_resid: 24566.39 \n",
      "OLS Fwd Training RSS: 1479535109.54 Test RSS: 697407194.15\n",
      "OLS Fwd Training TSS: 9746640737.01 Test TSS: 4766021354.31\n",
      "OLS Fwd Training R2s:   84.8% Test R2s:   85.4%\n",
      "OLS Fwd Training MSE: 24542.34 Test MSE: 23486.47\n",
      "OLS Fwd Training RSE: 156.66 Test RSE: 153.26\n",
      "OLS Coeffients:     59 Train Q:  60285 Test Q:  29694 local Q:  89979\n"
     ]
    }
   ],
   "source": [
    "D_T_F = min([rsquared.argmax(), aic.argmin(), bic.argmin()])\n",
    "feature_cols_F = list(modelf_train.loc[D_T_F, \"model\"].model.exog_names)\n",
    "\n",
    "# We calculate the RSS with respect to the training data\n",
    "Y_pred_train = modelf_train.loc[D_T_F, \"model\"].predict(X_train[feature_cols_F])\n",
    "RSS_TRAIN_F = ((Y_pred_train - Y_train) ** 2).sum()\n",
    "TSS_TRAIN_F = ((Y_train - Y_train.mean()) ** 2).sum()    \n",
    "N_TRAIN_F = len(X_train)   \n",
    "RSE_TRAIN_F = ((RSS_TRAIN_F/(N_TRAIN_F-2)) ** 0.5)\n",
    "# We calculate the RSS with respect to the test data\n",
    "Y_pred_test = modelf_train.loc[D_T_F, \"model\"].predict(X_test[feature_cols_F])\n",
    "RSS_TEST_F = ((Y_pred_test - Y_test) ** 2).sum()\n",
    "TSS_TEST_F = ((Y_test - Y_test.mean()) ** 2).sum()  \n",
    "N_TEST_F = len(X_test)  \n",
    "RSE_TEST_F = ((RSS_TEST_F/(N_TEST_F-2)) ** 0.5)\n",
    "   \n",
    "MSE_TRAIN_F = mean_squared_error(Y_train, Y_pred_train)    \n",
    "MSE_TEST_F = mean_squared_error(Y_test, Y_pred_test)\n",
    "\n",
    "\n",
    "R2s_TRAIN_F = r2_score(Y_train, Y_pred_train) \n",
    "R2s_TEST_F = r2_score(Y_test, Y_pred_test) \n",
    "\n",
    "R2_TRAIN_F = modelf_train.loc[D_T_F, \"model\"].rsquared\n",
    "MSEr_TRAIN_F = modelf_train.loc[D_T_F, \"model\"].mse_resid\n",
    "#R2_TEST_F = r2_score(Y_test, Y_pred_test) \n",
    "\n",
    "print(\"OLS Fwd Training R2: {0:6.1f}% \".format ((R2_TRAIN_F*100)))  \n",
    "print(\"OLS Fwd Training MSE_resid: {0:6.2f} \".format ((MSEr_TRAIN_F)))  \n",
    "print(\"OLS Fwd Training RSS: {0:6.2f} Test RSS: {1:6.2f}\".format (RSS_TRAIN_F, RSS_TEST_F))\n",
    "print(\"OLS Fwd Training TSS: {0:6.2f} Test TSS: {1:6.2f}\".format (TSS_TRAIN_F, TSS_TEST_F))\n",
    "print(\"OLS Fwd Training R2s: {0:6.1f}% Test R2s: {1:6.1f}%\".format ((R2s_TRAIN_F*100), (R2s_TEST_F*100)))   \n",
    "\n",
    "#print(\"OLS Fwd Training R2: {0:6.1f}% Test R2: {1:6.1f}%\".format (((1-(RSS_TRAIN_F/TSS_TRAIN_F))*100), ((1-(RSS_TEST_F/TSS_TEST_F))*100)))   \n",
    "print(\"OLS Fwd Training MSE: {0:6.2f} Test MSE: {1:6.2f}\".format (MSE_TRAIN_F, MSE_TEST_F))    \n",
    "print(\"OLS Fwd Training RSE: {0:6.2f} Test RSE: {1:6.2f}\".format (RSE_TRAIN_F, RSE_TEST_F))    \n",
    "print(\"OLS Coeffients: {0:6d} Train Q: {1:6d} Test Q: {2:6d} local Q: {3:6d}\".format (D_T_F,N_TRAIN_F,N_TEST_F,N_TRAIN_F+N_TEST_F))\n",
    "\n",
    "Y_pred_loc_f = modelf_train.loc[D_T_F, \"model\"].predict(X[feature_cols_F])\n"
   ]
  },
  {
   "cell_type": "code",
   "execution_count": 32,
   "metadata": {},
   "outputs": [
    {
     "data": {
      "text/plain": [
       "<matplotlib.text.Text at 0x26c010ee2e8>"
      ]
     },
     "execution_count": 32,
     "metadata": {},
     "output_type": "execute_result"
    },
    {
     "data": {
      "image/png": "[encoded data removed]",
      "text/plain": [
       "<matplotlib.figure.Figure at 0x26c2680d4e0>"
      ]
     },
     "metadata": {},
     "output_type": "display_data"
    }
   ],
   "source": [
    "# Is the relationship linear\n",
    "plt.scatter(Y_pred_test, Y_test)\n",
    "plt.xlim( 0, 3000 ) \n",
    "plt.ylim( 0, 3000 ) \n",
    "plt.xlabel(\"Predicted FWD Liters (LR)\")\n",
    "plt.ylabel(\"Actual\")\n",
    "plt.title(\"Relationship between FWD and Liters\")"
   ]
  },
  {
   "cell_type": "code",
   "execution_count": 33,
   "metadata": {},
   "outputs": [
    {
     "name": "stdout",
     "output_type": "stream",
     "text": [
      "24726.4867549\n",
      "511715.660065\n",
      "                            OLS Regression Results                            \n",
      "==============================================================================\n",
      "Dep. Variable:                 Liters   R-squared:                       0.952\n",
      "Model:                            OLS   Adj. R-squared:                  0.952\n",
      "Method:                 Least Squares   F-statistic:                 2.047e+04\n",
      "Date:                Fri, 15 Sep 2017   Prob (F-statistic):               0.00\n",
      "Time:                        11:40:52   Log-Likelihood:            -3.9042e+05\n",
      "No. Observations:               60285   AIC:                         7.810e+05\n",
      "Df Residuals:                   60227   BIC:                         7.815e+05\n",
      "Df Model:                          58                                         \n",
      "Covariance Type:            nonrobust                                         \n",
      "==============================================================================\n",
      "                 coef    std err          t      P>|t|      [0.025      0.975]\n",
      "------------------------------------------------------------------------------\n",
      "Kilometers     0.5013      0.011     43.734      0.000       0.479       0.524\n",
      "GTK_9        285.6162      3.496     81.705      0.000     278.765     292.468\n",
      "IsUnit       291.5338      5.178     56.300      0.000     281.384     301.683\n",
      "SD_3         383.6477      3.412    112.426      0.000     376.959     390.336\n",
      "Hours        -31.0376      0.202   -154.002      0.000     -31.433     -30.643\n",
      "SD_4         380.0323      3.772    100.747      0.000     372.639     387.426\n",
      "SD_2         307.1606      3.879     79.187      0.000     299.558     314.763\n",
      "LOC_347      -20.7709      4.881     -4.256      0.000     -30.337     -11.205\n",
      "SD_6         319.3449      5.785     55.204      0.000     308.007     330.683\n",
      "LOC_851      157.6525      8.329     18.927      0.000     141.327     173.978\n",
      "LOC_2012     723.1100      7.033    102.812      0.000     709.325     736.895\n",
      "LOC_345      -19.9170      9.918     -2.008      0.045     -39.356      -0.478\n",
      "LOC_2302     770.4467      8.683     88.730      0.000     753.428     787.466\n",
      "LOC_2011     678.9421      6.863     98.932      0.000     665.491     692.393\n",
      "LOC_2201     775.2039      8.415     92.120      0.000     758.710     791.698\n",
      "LOC_2303     781.6094      8.938     87.450      0.000     764.091     799.128\n",
      "LOC_2305     768.9807      9.285     82.819      0.000     750.782     787.179\n",
      "LOC_2301     743.4038      8.609     86.353      0.000     726.530     760.277\n",
      "SD_5         179.3646      5.982     29.983      0.000     167.639     191.090\n",
      "Tract        -66.8062      2.065    -32.352      0.000     -70.854     -62.759\n",
      "LOC_2307     778.3588     10.286     75.673      0.000     758.199     798.519\n",
      "TRN_4         53.0090      4.956     10.696      0.000      43.295      62.723\n",
      "TRN_11        46.1490      5.127      9.002      0.000      36.101      56.197\n",
      "LOC_2304     744.6690      9.956     74.798      0.000     725.156     764.182\n",
      "LOC_2306     790.7538     10.328     76.564      0.000     770.511     810.997\n",
      "TRN_10       -24.6270      6.561     -3.754      0.000     -37.486     -11.768\n",
      "TRN_8       -202.4734      7.384    -27.420      0.000    -216.946    -188.000\n",
      "LOC_2006     561.8868      6.444     87.194      0.000     549.256     574.517\n",
      "LOC_2004     557.5132      6.471     86.159      0.000     544.831     570.196\n",
      "LOC_2003     551.5678      6.484     85.066      0.000     538.859     564.277\n",
      "LOC_2001     550.9556      6.541     84.228      0.000     538.135     563.777\n",
      "LOC_2002     564.9429      6.514     86.721      0.000     552.175     577.711\n",
      "LOC_2009     542.1211      6.572     82.484      0.000     529.239     555.003\n",
      "LOC_2005     540.2407      6.391     84.534      0.000     527.715     552.767\n",
      "LOC_2000     532.3277      6.490     82.025      0.000     519.608     545.048\n",
      "LOC_2010     533.2680      6.528     81.685      0.000     520.472     546.064\n",
      "LOC_2007     526.3811      6.478     81.252      0.000     513.683     539.079\n",
      "LOC_2008     463.8809      6.398     72.506      0.000     451.341     476.421\n",
      "LOC_1201     422.2789      6.411     65.864      0.000     409.713     434.845\n",
      "LOC_1203     404.7557      6.579     61.521      0.000     391.861     417.651\n",
      "LOC_1601     388.1699      6.500     59.719      0.000     375.430     400.910\n",
      "LOC_1202     379.1779      6.487     58.453      0.000     366.463     391.892\n",
      "LOC_1602     356.3592      6.482     54.976      0.000     343.654     369.064\n",
      "TRN_6       -364.3813      8.953    -40.701      0.000    -381.929    -346.834\n",
      "LOC_966      481.5180     17.000     28.325      0.000     448.198     514.838\n",
      "LOC_973      321.2304      6.480     49.571      0.000     308.529     333.932\n",
      "LOC_977      305.3202      6.420     47.556      0.000     292.736     317.904\n",
      "LOC_974      300.0434      6.578     45.612      0.000     287.150     312.937\n",
      "LOC_979      295.1426      6.618     44.595      0.000     282.171     308.114\n",
      "LOC_975      293.2156      6.438     45.541      0.000     280.596     305.835\n",
      "LOC_971      293.3584      6.509     45.070      0.000     280.601     306.116\n",
      "LOC_972      282.8893      6.557     43.146      0.000     270.038     295.740\n",
      "LOC_978      280.4713      6.647     42.195      0.000     267.443     293.499\n",
      "LOC_976      269.9275      6.424     42.018      0.000     257.336     282.519\n",
      "LOC_8689     453.9326    111.326      4.077      0.000     235.733     672.132\n",
      "LOC_1014     318.9537     33.321      9.572      0.000     253.644     384.264\n",
      "TRN_2       -420.8585     10.472    -40.190      0.000    -441.383    -400.334\n",
      "TRN_3       -435.7648     11.013    -39.568      0.000    -457.351    -414.179\n",
      "==============================================================================\n",
      "Omnibus:                    29490.612   Durbin-Watson:                   2.004\n",
      "Prob(Omnibus):                  0.000   Jarque-Bera (JB):          2936055.133\n",
      "Skew:                           1.422   Prob(JB):                         0.00\n",
      "Kurtosis:                      37.070   Cond. No.                     3.59e+04\n",
      "==============================================================================\n",
      "\n",
      "Warnings:\n",
      "[1] Standard Errors assume that the covariance matrix of the errors is correctly specified.\n",
      "[2] The condition number is large, 3.59e+04. This might indicate that there are\n",
      "strong multicollinearity or other numerical problems.\n"
     ]
    }
   ],
   "source": [
    "print(modelf_train.loc[58, \"model\"].mse_resid)\n",
    "print(modelf_train.loc[58, \"model\"].mse_total)\n",
    "print(modelf_train.loc[58, \"model\"].summary())"
   ]
  },
  {
   "cell_type": "markdown",
   "metadata": {},
   "source": [
    "# Backward Stepwise Selection\n",
    "We can also use a similar approach to perform backward stepwise selection:"
   ]
  },
  {
   "cell_type": "code",
   "execution_count": 34,
   "metadata": {
    "collapsed": true
   },
   "outputs": [],
   "source": [
    "def backward(predictors, X_train, y_train, X_test, y_test):\n",
    "    tic = time.time()\n",
    "    results = []\n",
    "    for combo in itertools.combinations(predictors, len(predictors)-1):\n",
    "        #results.append(processSubset(predictors+[p], X_train, y_train, X_test, y_test))\n",
    "        results.append(processSubset (combo, X_train, y_train, X_test, y_test))\n",
    "    # Wrap everything up in a nice dataframe\n",
    "    models = pd.DataFrame(results)\n",
    "    # Choose the model with the highest RSS\n",
    "    best_model = models.loc[models['RSS'].argmin()]\n",
    "    toc = time.time()\n",
    "    print(\"Processed \", models.shape[0], \"models on\", len(predictors)-1, \"predictors in\", (toc-tic), \"seconds.\") \n",
    "    # Return the best model, along with some other useful information about the model\n",
    "    return best_model\n",
    "\n",
    "\n"
   ]
  },
  {
   "cell_type": "code",
   "execution_count": 35,
   "metadata": {},
   "outputs": [
    {
     "data": {
      "text/plain": [
       "'\\nmodelb_train = pd.DataFrame(columns=[\"RSS\", \"model\"], index = range(1,len(X_train.columns)))\\ntic = time.time()\\npredictors = X_train.columns\\nwhile(len(predictors) > 1):\\n    modelb_train.loc[len(predictors)-1] = backward(predictors, X_train, Y_train, X_test, Y_test)\\n    predictors = modelb_train.loc[len(predictors)-1][\"model\"].model.exog_names\\ntoc = time.time()\\nprint(\"local elapsed time:\", (toc-tic), \"seconds.\")\\n'"
      ]
     },
     "execution_count": 35,
     "metadata": {},
     "output_type": "execute_result"
    }
   ],
   "source": [
    "'''\n",
    "modelb_train = pd.DataFrame(columns=[\"RSS\", \"model\"], index = range(1,len(X_train.columns)))\n",
    "tic = time.time()\n",
    "predictors = X_train.columns\n",
    "while(len(predictors) > 1):\n",
    "    modelb_train.loc[len(predictors)-1] = backward(predictors, X_train, Y_train, X_test, Y_test)\n",
    "    predictors = modelb_train.loc[len(predictors)-1][\"model\"].model.exog_names\n",
    "toc = time.time()\n",
    "print(\"local elapsed time:\", (toc-tic), \"seconds.\")\n",
    "'''"
   ]
  },
  {
   "cell_type": "code",
   "execution_count": 36,
   "metadata": {},
   "outputs": [
    {
     "data": {
      "text/plain": [
       "'\\nplt.figure(figsize=(20,10))\\nplt.rcParams.update({\\'font.size\\': 18, \\'lines.markersize\\': 10})\\n\\n# Set up a 2x2 grid so we can look at 4 plots at once\\nplt.subplot(2, 2, 1)\\n\\n# We will now plot the line of RSS which monotonically decreases as Predictors Increase\\n\\nplt.plot(modelb_train[\"RSS\"])\\nplt.xlabel(\\'# Predictors\\')\\nplt.ylabel(\\'RSS\\')\\n\\n# We will now plot a red dot to indicate the model with the largest adjusted R^2 statistic.\\n# The argmax() function can be used to identify the location of the maximum point of a vector\\nrsquared = modelb_train.apply(lambda row: row[1].rsquared, axis=1)\\nplt.subplot(2, 2, 2)\\nplt.plot(rsquared, \"or\")\\nplt.plot(rsquared.argmax(), rsquared.max(), \"g^\")\\nplt.xlabel(\\'# Predictors\\')\\nplt.ylabel(\\'adjusted rsquared\\')\\n\\n# We\\'ll do the same for AIC and BIC, this time looking for the models with the SMALLEST statistic\\n\\naic = modelb_train.apply(lambda row: row[1].aic, axis=1)\\n\\nplt.subplot(2, 2, 3)\\nplt.plot(aic, \"or\")\\nplt.plot(aic.argmin(), aic.min(), \"g^\")\\nplt.xlabel(\\'# Predictors\\')\\nplt.ylabel(\\'AIC\\')\\nbic = modelf_train.apply(lambda row: row[1].bic, axis=1)\\nplt.subplot(2, 2, 4)\\nplt.plot(bic, \"or\")\\nplt.plot(bic.argmin(), bic.min(), \"g^\")\\nplt.xlabel(\\'# Predictors\\')\\nplt.ylabel(\\'BIC\\')\\n'"
      ]
     },
     "execution_count": 36,
     "metadata": {},
     "output_type": "execute_result"
    }
   ],
   "source": [
    "'''\n",
    "plt.figure(figsize=(20,10))\n",
    "plt.rcParams.update({'font.size': 18, 'lines.markersize': 10})\n",
    "\n",
    "# Set up a 2x2 grid so we can look at 4 plots at once\n",
    "plt.subplot(2, 2, 1)\n",
    "\n",
    "# We will now plot the line of RSS which monotonically decreases as Predictors Increase\n",
    "\n",
    "plt.plot(modelb_train[\"RSS\"])\n",
    "plt.xlabel('# Predictors')\n",
    "plt.ylabel('RSS')\n",
    "\n",
    "# We will now plot a red dot to indicate the model with the largest adjusted R^2 statistic.\n",
    "# The argmax() function can be used to identify the location of the maximum point of a vector\n",
    "rsquared = modelb_train.apply(lambda row: row[1].rsquared, axis=1)\n",
    "plt.subplot(2, 2, 2)\n",
    "plt.plot(rsquared, \"or\")\n",
    "plt.plot(rsquared.argmax(), rsquared.max(), \"g^\")\n",
    "plt.xlabel('# Predictors')\n",
    "plt.ylabel('adjusted rsquared')\n",
    "\n",
    "# We'll do the same for AIC and BIC, this time looking for the models with the SMALLEST statistic\n",
    "\n",
    "aic = modelb_train.apply(lambda row: row[1].aic, axis=1)\n",
    "\n",
    "plt.subplot(2, 2, 3)\n",
    "plt.plot(aic, \"or\")\n",
    "plt.plot(aic.argmin(), aic.min(), \"g^\")\n",
    "plt.xlabel('# Predictors')\n",
    "plt.ylabel('AIC')\n",
    "bic = modelf_train.apply(lambda row: row[1].bic, axis=1)\n",
    "plt.subplot(2, 2, 4)\n",
    "plt.plot(bic, \"or\")\n",
    "plt.plot(bic.argmin(), bic.min(), \"g^\")\n",
    "plt.xlabel('# Predictors')\n",
    "plt.ylabel('BIC')\n",
    "'''"
   ]
  },
  {
   "cell_type": "code",
   "execution_count": 37,
   "metadata": {},
   "outputs": [
    {
     "data": {
      "text/plain": [
       "'\\nD_T_B = min([rsquared.argmax(), aic.argmin(), bic.argmin()])\\nfeature_cols_B = list(modelb_train.loc[D_T_B, \"model\"].model.exog_names)\\n\\n# We calculate the RSS with respect to the training data\\nY_pred_train = modelb_train.loc[D_T_B, \"model\"].predict(X_train[feature_cols_B])\\nRSS_TRAIN_B = ((Y_pred_train - Y_train) ** 2).sum()\\nTSS_TRAIN_B = ((Y_train - Y_train.mean()) ** 2).sum()    \\nN_TRAIN_B = len(X_train)   \\nRSE_TRAIN_B = ((RSS_TRAIN_B/(N_TRAIN_B-2)) ** 0.5)\\n# We calculate the RSS with respect to the test data\\nY_pred_test = modelb_train.loc[D_T_B, \"model\"].predict(X_test[feature_cols_B])\\nRSS_TEST_B = ((Y_pred_test - Y_test) ** 2).sum()\\nTSS_TEST_B = ((Y_test - Y_test.mean()) ** 2).sum()  \\nN_TEST_B = len(X_test)  \\nRSE_TEST_B = ((RSS_TEST_B/(N_TEST_B-2)) ** 0.5)\\n   \\nMSE_TRAIN_B = mean_squared_error(Y_train, Y_pred_train)    \\nMSE_TEST_B = mean_squared_error(Y_test, Y_pred_test)\\n\\n\\nR2s_TRAIN_B = r2_score(Y_train, Y_pred_train) \\nR2s_TEST_B = r2_score(Y_test, Y_pred_test) \\n\\nR2_TRAIN_B = modelb_train.loc[D_T_B, \"model\"].rsquared\\nMSEr_TRAIN_B = modelb_train.loc[D_T_B, \"model\"].mse_resid\\n#R2_TEST_B = r2_score(Y_test, Y_pred_test) \\n\\nprint(\"OLS Bwd Training R2: {0:6.1f}% \".format ((R2_TRAIN_B*100)))  \\nprint(\"OLS Bwd Training MSE_resid: {0:6.2f} \".format ((MSEr_TRAIN_B)))  \\nprint(\"OLS Bwd Training RSS: {0:6.2f} Test RSS: {1:6.2f}\".format (RSS_TRAIN_B, RSS_TEST_B))\\nprint(\"OLS Bwd Training TSS: {0:6.2f} Test TSS: {1:6.2f}\".format (TSS_TRAIN_B, TSS_TEST_B))\\nprint(\"OLS Bwd Training R2s: {0:6.1f}% Test R2s: {1:6.1f}%\".format ((R2s_TRAIN_B*100), (R2s_TEST_B*100)))   \\n\\n#print(\"OLS Bwd Training R2: {0:6.1f}% Test R2: {1:6.1f}%\".format (((1-(RSS_TRAIN_B/TSS_TRAIN_B))*100), ((1-(RSS_TEST_B/TSS_TEST_B))*100)))   \\nprint(\"OLS Bwd Training MSE: {0:6.2f} Test MSE: {1:6.2f}\".format (MSE_TRAIN_B, MSE_TEST_B))    \\nprint(\"OLS Bwd Training RSE: {0:6.2f} Test RSE: {1:6.2f}\".format (RSE_TRAIN_B, RSE_TEST_B))    \\nprint(\"OLS Coeffients: {0:6d} Train Q: {1:6d} Test Q: {2:6d} local Q: {3:6d}\".format (D_T_B,N_TRAIN_B,N_TEST_B,N_TRAIN_B+N_TEST_B))\\n\\nY_pred_loc_b = modelb_train.loc[D_T_B, \"model\"].predict(X[feature_cols_B])\\n'"
      ]
     },
     "execution_count": 37,
     "metadata": {},
     "output_type": "execute_result"
    }
   ],
   "source": [
    "'''\n",
    "D_T_B = min([rsquared.argmax(), aic.argmin(), bic.argmin()])\n",
    "feature_cols_B = list(modelb_train.loc[D_T_B, \"model\"].model.exog_names)\n",
    "\n",
    "# We calculate the RSS with respect to the training data\n",
    "Y_pred_train = modelb_train.loc[D_T_B, \"model\"].predict(X_train[feature_cols_B])\n",
    "RSS_TRAIN_B = ((Y_pred_train - Y_train) ** 2).sum()\n",
    "TSS_TRAIN_B = ((Y_train - Y_train.mean()) ** 2).sum()    \n",
    "N_TRAIN_B = len(X_train)   \n",
    "RSE_TRAIN_B = ((RSS_TRAIN_B/(N_TRAIN_B-2)) ** 0.5)\n",
    "# We calculate the RSS with respect to the test data\n",
    "Y_pred_test = modelb_train.loc[D_T_B, \"model\"].predict(X_test[feature_cols_B])\n",
    "RSS_TEST_B = ((Y_pred_test - Y_test) ** 2).sum()\n",
    "TSS_TEST_B = ((Y_test - Y_test.mean()) ** 2).sum()  \n",
    "N_TEST_B = len(X_test)  \n",
    "RSE_TEST_B = ((RSS_TEST_B/(N_TEST_B-2)) ** 0.5)\n",
    "   \n",
    "MSE_TRAIN_B = mean_squared_error(Y_train, Y_pred_train)    \n",
    "MSE_TEST_B = mean_squared_error(Y_test, Y_pred_test)\n",
    "\n",
    "\n",
    "R2s_TRAIN_B = r2_score(Y_train, Y_pred_train) \n",
    "R2s_TEST_B = r2_score(Y_test, Y_pred_test) \n",
    "\n",
    "R2_TRAIN_B = modelb_train.loc[D_T_B, \"model\"].rsquared\n",
    "MSEr_TRAIN_B = modelb_train.loc[D_T_B, \"model\"].mse_resid\n",
    "#R2_TEST_B = r2_score(Y_test, Y_pred_test) \n",
    "\n",
    "print(\"OLS Bwd Training R2: {0:6.1f}% \".format ((R2_TRAIN_B*100)))  \n",
    "print(\"OLS Bwd Training MSE_resid: {0:6.2f} \".format ((MSEr_TRAIN_B)))  \n",
    "print(\"OLS Bwd Training RSS: {0:6.2f} Test RSS: {1:6.2f}\".format (RSS_TRAIN_B, RSS_TEST_B))\n",
    "print(\"OLS Bwd Training TSS: {0:6.2f} Test TSS: {1:6.2f}\".format (TSS_TRAIN_B, TSS_TEST_B))\n",
    "print(\"OLS Bwd Training R2s: {0:6.1f}% Test R2s: {1:6.1f}%\".format ((R2s_TRAIN_B*100), (R2s_TEST_B*100)))   \n",
    "\n",
    "#print(\"OLS Bwd Training R2: {0:6.1f}% Test R2: {1:6.1f}%\".format (((1-(RSS_TRAIN_B/TSS_TRAIN_B))*100), ((1-(RSS_TEST_B/TSS_TEST_B))*100)))   \n",
    "print(\"OLS Bwd Training MSE: {0:6.2f} Test MSE: {1:6.2f}\".format (MSE_TRAIN_B, MSE_TEST_B))    \n",
    "print(\"OLS Bwd Training RSE: {0:6.2f} Test RSE: {1:6.2f}\".format (RSE_TRAIN_B, RSE_TEST_B))    \n",
    "print(\"OLS Coeffients: {0:6d} Train Q: {1:6d} Test Q: {2:6d} local Q: {3:6d}\".format (D_T_B,N_TRAIN_B,N_TEST_B,N_TRAIN_B+N_TEST_B))\n",
    "\n",
    "Y_pred_loc_b = modelb_train.loc[D_T_B, \"model\"].predict(X[feature_cols_B])\n",
    "'''"
   ]
  },
  {
   "cell_type": "code",
   "execution_count": 38,
   "metadata": {},
   "outputs": [
    {
     "data": {
      "text/plain": [
       "'\\n# Is the relationship linear\\nplt.scatter(Y_pred_test, Y_test)\\nplt.xlim( 0, 3000 ) \\nplt.ylim( 0, 3000 ) \\nplt.xlabel(\"Predicted BW Liters (LR)\")\\nplt.ylabel(\"Actual\")\\nplt.title(\"Relationship between BW and Liters\")\\n'"
      ]
     },
     "execution_count": 38,
     "metadata": {},
     "output_type": "execute_result"
    }
   ],
   "source": [
    "'''\n",
    "# Is the relationship linear\n",
    "plt.scatter(Y_pred_test, Y_test)\n",
    "plt.xlim( 0, 3000 ) \n",
    "plt.ylim( 0, 3000 ) \n",
    "plt.xlabel(\"Predicted BW Liters (LR)\")\n",
    "plt.ylabel(\"Actual\")\n",
    "plt.title(\"Relationship between BW and Liters\")\n",
    "'''"
   ]
  },
  {
   "cell_type": "code",
   "execution_count": 39,
   "metadata": {
    "collapsed": true
   },
   "outputs": [],
   "source": [
    "#print(models2.loc[19, \"model\"].summary())\n",
    "#print(modelf_train.loc[19, \"model\"].summary())"
   ]
  },
  {
   "cell_type": "code",
   "execution_count": 40,
   "metadata": {
    "collapsed": true
   },
   "outputs": [],
   "source": [
    "#feature_y_cols = ['Liters', 'GTK_9', 'Hours', 'Kilometers', 'IsUnit', 'Tract','SD_2', 'SD_3', 'SD_4', 'SD_5', 'SD_6', \n",
    "#                'MOD_10', 'MOD_28', 'MOD_38', 'MOD_40', 'MOD_42', 'MOD_43', \n",
    "#                'TRN_2', 'TRN_3', 'TRN_4', 'TRN_5', 'TRN_6', 'TRN_8', 'TRN_9', 'TRN_10', 'TRN_11']\n",
    "#coef= f[feature_y_cols]"
   ]
  },
  {
   "cell_type": "code",
   "execution_count": 42,
   "metadata": {},
   "outputs": [],
   "source": [
    "# Compute the correlation matrix\n",
    "#corr = coef.corr()\n",
    "\n",
    "# Generate a mask for the upper triangle\n",
    "#mask = np.zeros_like(corr, dtype=np.bool)\n",
    "#mask[np.triu_indices_from(mask)] = True\n",
    "\n",
    "# Set up the matplotlib figure\n",
    "#f_, ax = plt.subplots(figsize=(11, 9))\n",
    "\n",
    "# Generate a custom diverging colormap\n",
    "#cmap = sns.diverging_palette(220, 10, as_cmap=True)\n",
    "\n",
    "# Draw the heatmap with the mask and correct aspect ratio\n",
    "#sns.heatmap(corr, mask=mask, cmap=cmap, vmax=.3, center=0,\n",
    "#            square=True, linewidths=.5, cbar_kws={\"shrink\": .5})"
   ]
  },
  {
   "cell_type": "markdown",
   "metadata": {
    "collapsed": true
   },
   "source": [
    "# Model selection using Cross-Validation\n",
    "\n",
    "Now let's try to choose among the models of different sizes using cross-validation.\n",
    "This approach is somewhat involved, as we must perform forward selection within each of the $k$ training sets. Despite this, we see that\n",
    "with its clever subsetting syntax, ${\\tt python}$ makes this job quite easy. First, we\n",
    "create a vector that assigns each observation to one of $k = 10$ folds, and\n",
    "we create a DataFrame in which we will store the results:"
   ]
  },
  {
   "cell_type": "markdown",
   "metadata": {},
   "source": [
    "In order for the validation set approach to yield accurate estimates of the test\n",
    "error, we must use *only the training observations* to perform all aspects of\n",
    "model-fitting — including variable selection. Therefore, the determination of\n",
    "which model of a given size is best must be made using *only the training\n",
    "observations*. This point is subtle but important. If the full data set is used\n",
    "to perform the best subset selection step, the validation set errors and\n",
    "cross-validation errors that we obtain will not be accurate estimates of the\n",
    "test error."
   ]
  },
  {
   "cell_type": "code",
   "execution_count": 43,
   "metadata": {
    "collapsed": true
   },
   "outputs": [],
   "source": [
    "k=10        # number of folds\n",
    "np.random.seed(seed=1)\n",
    "folds = np.random.choice(k, size = len(Y_train), replace = True)\n",
    "\n",
    "# Create a DataFrame to store the results of our upcoming calculations\n",
    "cv_errors = pd.DataFrame(columns=range(1,k+1), index=range(1,26))\n",
    "cv_errors = cv_errors.fillna(0)\n",
    "#cv_errors"
   ]
  },
  {
   "cell_type": "code",
   "execution_count": 44,
   "metadata": {},
   "outputs": [
    {
     "name": "stdout",
     "output_type": "stream",
     "text": [
      "Processed  60 models on 1 predictors in 0.3979678153991699 seconds.\n",
      "Processed  59 models on 2 predictors in 0.664160966873169 seconds.\n",
      "Processed  58 models on 3 predictors in 0.8559055328369141 seconds.\n",
      "Processed  57 models on 4 predictors in 1.3634822368621826 seconds.\n",
      "Processed  56 models on 5 predictors in 1.4160895347595215 seconds.\n",
      "Processed  55 models on 6 predictors in 2.0316519737243652 seconds.\n",
      "Processed  54 models on 7 predictors in 1.763664722442627 seconds.\n",
      "Processed  53 models on 8 predictors in 2.067371129989624 seconds.\n",
      "Processed  52 models on 9 predictors in 2.6710526943206787 seconds.\n",
      "Processed  51 models on 10 predictors in 2.5249292850494385 seconds.\n",
      "Processed  50 models on 11 predictors in 2.776890277862549 seconds.\n",
      "Processed  49 models on 12 predictors in 3.0755105018615723 seconds.\n",
      "Processed  48 models on 13 predictors in 3.107877492904663 seconds.\n",
      "Processed  47 models on 14 predictors in 2.9371068477630615 seconds.\n",
      "Processed  46 models on 15 predictors in 3.879615306854248 seconds.\n",
      "Processed  45 models on 16 predictors in 3.344301462173462 seconds.\n",
      "Processed  44 models on 17 predictors in 3.5731570720672607 seconds.\n",
      "Processed  43 models on 18 predictors in 4.1015260219573975 seconds.\n",
      "Processed  42 models on 19 predictors in 4.242059230804443 seconds.\n",
      "Processed  41 models on 20 predictors in 5.6913206577301025 seconds.\n",
      "Processed  40 models on 21 predictors in 5.190802335739136 seconds.\n",
      "Processed  39 models on 22 predictors in 5.043628454208374 seconds.\n",
      "Processed  38 models on 23 predictors in 4.581188440322876 seconds.\n",
      "Processed  37 models on 24 predictors in 5.208006143569946 seconds.\n",
      "Processed  36 models on 25 predictors in 4.791721820831299 seconds.\n",
      "Processed  35 models on 26 predictors in 4.610828399658203 seconds.\n",
      "Processed  34 models on 27 predictors in 4.412392616271973 seconds.\n",
      "Processed  33 models on 28 predictors in 5.008681297302246 seconds.\n",
      "Processed  32 models on 29 predictors in 5.050286293029785 seconds.\n",
      "Processed  31 models on 30 predictors in 5.048977851867676 seconds.\n",
      "Processed  30 models on 31 predictors in 5.22857666015625 seconds.\n",
      "Processed  29 models on 32 predictors in 6.131369590759277 seconds.\n",
      "Processed  28 models on 33 predictors in 4.3454060554504395 seconds.\n",
      "Processed  27 models on 34 predictors in 4.27449369430542 seconds.\n",
      "Processed  26 models on 35 predictors in 4.239342212677002 seconds.\n",
      "Processed  25 models on 36 predictors in 5.266896963119507 seconds.\n",
      "Processed  24 models on 37 predictors in 5.188432931900024 seconds.\n",
      "Processed  23 models on 38 predictors in 5.309872627258301 seconds.\n",
      "Processed  22 models on 39 predictors in 5.546003103256226 seconds.\n",
      "Processed  21 models on 40 predictors in 5.39623761177063 seconds.\n",
      "Processed  20 models on 41 predictors in 5.310293674468994 seconds.\n",
      "Processed  19 models on 42 predictors in 5.411367177963257 seconds.\n",
      "Processed  18 models on 43 predictors in 5.617592096328735 seconds.\n",
      "Processed  17 models on 44 predictors in 5.1048665046691895 seconds.\n",
      "Processed  16 models on 45 predictors in 4.868387937545776 seconds.\n",
      "Processed  15 models on 46 predictors in 4.831597328186035 seconds.\n",
      "Processed  14 models on 47 predictors in 4.625279426574707 seconds.\n",
      "Processed  13 models on 48 predictors in 4.516472578048706 seconds.\n",
      "Processed  12 models on 49 predictors in 4.081573009490967 seconds.\n",
      "Processed  11 models on 50 predictors in 3.627638578414917 seconds.\n",
      "Processed  10 models on 51 predictors in 2.935852527618408 seconds.\n",
      "Processed  9 models on 52 predictors in 2.521862745285034 seconds.\n",
      "Processed  8 models on 53 predictors in 2.373678684234619 seconds.\n",
      "Processed  7 models on 54 predictors in 2.9554128646850586 seconds.\n",
      "Processed  6 models on 55 predictors in 2.351912260055542 seconds.\n",
      "Processed  5 models on 56 predictors in 1.843360185623169 seconds.\n",
      "Processed  4 models on 57 predictors in 1.3076050281524658 seconds.\n",
      "Processed  3 models on 58 predictors in 1.3027126789093018 seconds.\n",
      "Processed  2 models on 59 predictors in 0.916651725769043 seconds.\n",
      "Processed  1 models on 60 predictors in 0.44068241119384766 seconds.\n",
      "Processed  60 models on 1 predictors in 0.5786283016204834 seconds.\n",
      "Processed  59 models on 2 predictors in 0.6779515743255615 seconds.\n",
      "Processed  58 models on 3 predictors in 0.8077876567840576 seconds.\n",
      "Processed  57 models on 4 predictors in 1.0192830562591553 seconds.\n",
      "Processed  56 models on 5 predictors in 1.0855815410614014 seconds.\n",
      "Processed  55 models on 6 predictors in 1.3168573379516602 seconds.\n",
      "Processed  54 models on 7 predictors in 1.5120954513549805 seconds.\n",
      "Processed  53 models on 8 predictors in 1.7026524543762207 seconds.\n",
      "Processed  52 models on 9 predictors in 1.7881135940551758 seconds.\n",
      "Processed  51 models on 10 predictors in 1.976491928100586 seconds.\n",
      "Processed  50 models on 11 predictors in 2.2587814331054688 seconds.\n",
      "Processed  49 models on 12 predictors in 2.3325350284576416 seconds.\n",
      "Processed  48 models on 13 predictors in 2.372148036956787 seconds.\n",
      "Processed  47 models on 14 predictors in 2.593520402908325 seconds.\n",
      "Processed  46 models on 15 predictors in 2.7516326904296875 seconds.\n",
      "Processed  45 models on 16 predictors in 2.9572134017944336 seconds.\n",
      "Processed  44 models on 17 predictors in 3.9638614654541016 seconds.\n",
      "Processed  43 models on 18 predictors in 3.5650529861450195 seconds.\n",
      "Processed  42 models on 19 predictors in 4.234987258911133 seconds.\n",
      "Processed  41 models on 20 predictors in 5.083492994308472 seconds.\n",
      "Processed  40 models on 21 predictors in 7.685772657394409 seconds.\n",
      "Processed  39 models on 22 predictors in 5.437030792236328 seconds.\n",
      "Processed  38 models on 23 predictors in 6.3959479331970215 seconds.\n",
      "Processed  37 models on 24 predictors in 5.718599081039429 seconds.\n",
      "Processed  36 models on 25 predictors in 5.999258995056152 seconds.\n",
      "Processed  35 models on 26 predictors in 5.752896547317505 seconds.\n",
      "Processed  34 models on 27 predictors in 5.792585372924805 seconds.\n",
      "Processed  33 models on 28 predictors in 5.898606777191162 seconds.\n",
      "Processed  32 models on 29 predictors in 5.4512858390808105 seconds.\n",
      "Processed  31 models on 30 predictors in 4.823529481887817 seconds.\n",
      "Processed  30 models on 31 predictors in 4.568890333175659 seconds.\n",
      "Processed  29 models on 32 predictors in 4.858222246170044 seconds.\n",
      "Processed  28 models on 33 predictors in 4.508627891540527 seconds.\n",
      "Processed  27 models on 34 predictors in 4.736636161804199 seconds.\n",
      "Processed  26 models on 35 predictors in 5.263067722320557 seconds.\n",
      "Processed  25 models on 36 predictors in 5.3614115715026855 seconds.\n",
      "Processed  24 models on 37 predictors in 5.561192035675049 seconds.\n",
      "Processed  23 models on 38 predictors in 5.281587600708008 seconds.\n",
      "Processed  22 models on 39 predictors in 5.690920114517212 seconds.\n",
      "Processed  21 models on 40 predictors in 6.1889543533325195 seconds.\n",
      "Processed  20 models on 41 predictors in 7.336854696273804 seconds.\n",
      "Processed  19 models on 42 predictors in 6.781198978424072 seconds.\n",
      "Processed  18 models on 43 predictors in 6.498772859573364 seconds.\n",
      "Processed  17 models on 44 predictors in 6.163850784301758 seconds.\n",
      "Processed  16 models on 45 predictors in 5.748099088668823 seconds.\n",
      "Processed  15 models on 46 predictors in 4.78450345993042 seconds.\n",
      "Processed  14 models on 47 predictors in 4.569585561752319 seconds.\n",
      "Processed  13 models on 48 predictors in 4.78875732421875 seconds.\n",
      "Processed  12 models on 49 predictors in 4.159074306488037 seconds.\n",
      "Processed  11 models on 50 predictors in 3.772453784942627 seconds.\n",
      "Processed  10 models on 51 predictors in 3.7664895057678223 seconds.\n",
      "Processed  9 models on 52 predictors in 3.367748737335205 seconds.\n",
      "Processed  8 models on 53 predictors in 3.1303160190582275 seconds.\n",
      "Processed  7 models on 54 predictors in 2.779689073562622 seconds.\n",
      "Processed  6 models on 55 predictors in 2.8258626461029053 seconds.\n",
      "Processed  5 models on 56 predictors in 1.913923740386963 seconds.\n",
      "Processed  4 models on 57 predictors in 1.3571546077728271 seconds.\n",
      "Processed  3 models on 58 predictors in 1.179086685180664 seconds.\n",
      "Processed  2 models on 59 predictors in 0.8575963973999023 seconds.\n",
      "Processed  1 models on 60 predictors in 0.4121561050415039 seconds.\n",
      "Processed  60 models on 1 predictors in 0.5895230770111084 seconds.\n"
     ]
    },
    {
     "name": "stdout",
     "output_type": "stream",
     "text": [
      "Processed  59 models on 2 predictors in 0.7786846160888672 seconds.\n",
      "Processed  58 models on 3 predictors in 0.9559035301208496 seconds.\n",
      "Processed  57 models on 4 predictors in 1.1439731121063232 seconds.\n",
      "Processed  56 models on 5 predictors in 1.2455532550811768 seconds.\n",
      "Processed  55 models on 6 predictors in 1.5127511024475098 seconds.\n",
      "Processed  54 models on 7 predictors in 1.7497014999389648 seconds.\n",
      "Processed  53 models on 8 predictors in 1.723783016204834 seconds.\n",
      "Processed  52 models on 9 predictors in 2.019183874130249 seconds.\n",
      "Processed  51 models on 10 predictors in 2.4566617012023926 seconds.\n",
      "Processed  50 models on 11 predictors in 2.515331983566284 seconds.\n",
      "Processed  49 models on 12 predictors in 2.569577217102051 seconds.\n",
      "Processed  48 models on 13 predictors in 2.7865371704101562 seconds.\n",
      "Processed  47 models on 14 predictors in 2.931195020675659 seconds.\n",
      "Processed  46 models on 15 predictors in 3.1896111965179443 seconds.\n",
      "Processed  45 models on 16 predictors in 3.276893377304077 seconds.\n",
      "Processed  44 models on 17 predictors in 3.6466734409332275 seconds.\n",
      "Processed  43 models on 18 predictors in 3.4577953815460205 seconds.\n",
      "Processed  42 models on 19 predictors in 4.097846269607544 seconds.\n",
      "Processed  41 models on 20 predictors in 4.889734268188477 seconds.\n",
      "Processed  40 models on 21 predictors in 4.899972200393677 seconds.\n",
      "Processed  39 models on 22 predictors in 5.17551326751709 seconds.\n",
      "Processed  38 models on 23 predictors in 5.665989398956299 seconds.\n",
      "Processed  37 models on 24 predictors in 5.503870964050293 seconds.\n",
      "Processed  36 models on 25 predictors in 5.997848272323608 seconds.\n",
      "Processed  35 models on 26 predictors in 5.964284420013428 seconds.\n",
      "Processed  34 models on 27 predictors in 6.033853769302368 seconds.\n",
      "Processed  33 models on 28 predictors in 6.13041615486145 seconds.\n",
      "Processed  32 models on 29 predictors in 5.997446060180664 seconds.\n",
      "Processed  31 models on 30 predictors in 6.3762969970703125 seconds.\n",
      "Processed  30 models on 31 predictors in 5.450968265533447 seconds.\n",
      "Processed  29 models on 32 predictors in 5.670438766479492 seconds.\n",
      "Processed  28 models on 33 predictors in 4.739623785018921 seconds.\n",
      "Processed  27 models on 34 predictors in 5.0272088050842285 seconds.\n",
      "Processed  26 models on 35 predictors in 5.082685470581055 seconds.\n",
      "Processed  25 models on 36 predictors in 4.533837795257568 seconds.\n",
      "Processed  24 models on 37 predictors in 4.768253326416016 seconds.\n",
      "Processed  23 models on 38 predictors in 5.165185213088989 seconds.\n",
      "Processed  22 models on 39 predictors in 4.509371519088745 seconds.\n",
      "Processed  21 models on 40 predictors in 4.2202231884002686 seconds.\n",
      "Processed  20 models on 41 predictors in 4.186057806015015 seconds.\n",
      "Processed  19 models on 42 predictors in 4.329838752746582 seconds.\n",
      "Processed  18 models on 43 predictors in 5.070228099822998 seconds.\n",
      "Processed  17 models on 44 predictors in 4.891901254653931 seconds.\n",
      "Processed  16 models on 45 predictors in 4.758539915084839 seconds.\n",
      "Processed  15 models on 46 predictors in 4.6526899337768555 seconds.\n",
      "Processed  14 models on 47 predictors in 4.683855295181274 seconds.\n",
      "Processed  13 models on 48 predictors in 4.747865676879883 seconds.\n",
      "Processed  12 models on 49 predictors in 3.8256354331970215 seconds.\n",
      "Processed  11 models on 50 predictors in 3.709451675415039 seconds.\n",
      "Processed  10 models on 51 predictors in 3.566953420639038 seconds.\n",
      "Processed  9 models on 52 predictors in 3.37728214263916 seconds.\n",
      "Processed  8 models on 53 predictors in 2.868166923522949 seconds.\n",
      "Processed  7 models on 54 predictors in 2.655217170715332 seconds.\n",
      "Processed  6 models on 55 predictors in 2.296562671661377 seconds.\n",
      "Processed  5 models on 56 predictors in 1.9899592399597168 seconds.\n",
      "Processed  4 models on 57 predictors in 1.8762938976287842 seconds.\n",
      "Processed  3 models on 58 predictors in 1.4774279594421387 seconds.\n",
      "Processed  2 models on 59 predictors in 0.9695775508880615 seconds.\n",
      "Processed  1 models on 60 predictors in 0.5223886966705322 seconds.\n",
      "Processed  60 models on 1 predictors in 0.6026177406311035 seconds.\n",
      "Processed  59 models on 2 predictors in 0.9481573104858398 seconds.\n",
      "Processed  58 models on 3 predictors in 1.134092092514038 seconds.\n",
      "Processed  57 models on 4 predictors in 1.330977201461792 seconds.\n",
      "Processed  56 models on 5 predictors in 1.5866310596466064 seconds.\n",
      "Processed  55 models on 6 predictors in 1.7130775451660156 seconds.\n",
      "Processed  54 models on 7 predictors in 1.5115630626678467 seconds.\n",
      "Processed  53 models on 8 predictors in 1.636861801147461 seconds.\n",
      "Processed  52 models on 9 predictors in 1.8907582759857178 seconds.\n",
      "Processed  51 models on 10 predictors in 2.204131603240967 seconds.\n",
      "Processed  50 models on 11 predictors in 2.788645029067993 seconds.\n",
      "Processed  49 models on 12 predictors in 4.953462600708008 seconds.\n",
      "Processed  48 models on 13 predictors in 3.7557387351989746 seconds.\n",
      "Processed  47 models on 14 predictors in 3.593567371368408 seconds.\n",
      "Processed  46 models on 15 predictors in 3.682307720184326 seconds.\n",
      "Processed  45 models on 16 predictors in 4.44476318359375 seconds.\n",
      "Processed  44 models on 17 predictors in 4.5844573974609375 seconds.\n",
      "Processed  43 models on 18 predictors in 5.896954536437988 seconds.\n",
      "Processed  42 models on 19 predictors in 5.24230432510376 seconds.\n",
      "Processed  41 models on 20 predictors in 4.500995397567749 seconds.\n",
      "Processed  40 models on 21 predictors in 4.99654221534729 seconds.\n",
      "Processed  39 models on 22 predictors in 5.10257625579834 seconds.\n",
      "Processed  38 models on 23 predictors in 4.911139011383057 seconds.\n",
      "Processed  37 models on 24 predictors in 4.793436050415039 seconds.\n",
      "Processed  36 models on 25 predictors in 5.148771047592163 seconds.\n",
      "Processed  35 models on 26 predictors in 5.385790824890137 seconds.\n",
      "Processed  34 models on 27 predictors in 5.61628532409668 seconds.\n",
      "Processed  33 models on 28 predictors in 8.139141321182251 seconds.\n",
      "Processed  32 models on 29 predictors in 6.371227502822876 seconds.\n",
      "Processed  31 models on 30 predictors in 6.502703905105591 seconds.\n",
      "Processed  30 models on 31 predictors in 6.125056743621826 seconds.\n",
      "Processed  29 models on 32 predictors in 6.583136796951294 seconds.\n",
      "Processed  28 models on 33 predictors in 5.847256183624268 seconds.\n",
      "Processed  27 models on 34 predictors in 5.76714825630188 seconds.\n",
      "Processed  26 models on 35 predictors in 4.714725732803345 seconds.\n",
      "Processed  25 models on 36 predictors in 5.013188123703003 seconds.\n",
      "Processed  24 models on 37 predictors in 4.637413024902344 seconds.\n",
      "Processed  23 models on 38 predictors in 4.668137073516846 seconds.\n",
      "Processed  22 models on 39 predictors in 4.594671010971069 seconds.\n",
      "Processed  21 models on 40 predictors in 4.493895053863525 seconds.\n",
      "Processed  20 models on 41 predictors in 4.776872873306274 seconds.\n",
      "Processed  19 models on 42 predictors in 4.8488335609436035 seconds.\n",
      "Processed  18 models on 43 predictors in 4.7554028034210205 seconds.\n",
      "Processed  17 models on 44 predictors in 5.167403221130371 seconds.\n",
      "Processed  16 models on 45 predictors in 5.272268056869507 seconds.\n",
      "Processed  15 models on 46 predictors in 4.9345808029174805 seconds.\n",
      "Processed  14 models on 47 predictors in 5.112496852874756 seconds.\n",
      "Processed  13 models on 48 predictors in 5.70540976524353 seconds.\n",
      "Processed  12 models on 49 predictors in 4.349066257476807 seconds.\n",
      "Processed  11 models on 50 predictors in 3.945812940597534 seconds.\n",
      "Processed  10 models on 51 predictors in 3.6683692932128906 seconds.\n",
      "Processed  9 models on 52 predictors in 3.5606846809387207 seconds.\n",
      "Processed  8 models on 53 predictors in 2.9986937046051025 seconds.\n",
      "Processed  7 models on 54 predictors in 2.845972776412964 seconds.\n",
      "Processed  6 models on 55 predictors in 2.5298912525177 seconds.\n",
      "Processed  5 models on 56 predictors in 2.1267104148864746 seconds.\n",
      "Processed  4 models on 57 predictors in 1.6904487609863281 seconds.\n",
      "Processed  3 models on 58 predictors in 1.4116570949554443 seconds.\n",
      "Processed  2 models on 59 predictors in 0.875251054763794 seconds.\n",
      "Processed  1 models on 60 predictors in 0.47853541374206543 seconds.\n",
      "Processed  60 models on 1 predictors in 0.6971535682678223 seconds.\n",
      "Processed  59 models on 2 predictors in 0.9537651538848877 seconds.\n"
     ]
    },
    {
     "name": "stdout",
     "output_type": "stream",
     "text": [
      "Processed  58 models on 3 predictors in 1.0156943798065186 seconds.\n",
      "Processed  57 models on 4 predictors in 1.244898796081543 seconds.\n",
      "Processed  56 models on 5 predictors in 1.4663236141204834 seconds.\n",
      "Processed  55 models on 6 predictors in 1.6556439399719238 seconds.\n",
      "Processed  54 models on 7 predictors in 1.6128466129302979 seconds.\n",
      "Processed  53 models on 8 predictors in 1.7836337089538574 seconds.\n",
      "Processed  52 models on 9 predictors in 2.0068585872650146 seconds.\n",
      "Processed  51 models on 10 predictors in 2.6706879138946533 seconds.\n",
      "Processed  50 models on 11 predictors in 2.2596921920776367 seconds.\n",
      "Processed  49 models on 12 predictors in 2.3574066162109375 seconds.\n",
      "Processed  48 models on 13 predictors in 2.5741806030273438 seconds.\n",
      "Processed  47 models on 14 predictors in 3.228140354156494 seconds.\n",
      "Processed  46 models on 15 predictors in 3.695812940597534 seconds.\n",
      "Processed  45 models on 16 predictors in 3.298570156097412 seconds.\n",
      "Processed  44 models on 17 predictors in 3.7111597061157227 seconds.\n",
      "Processed  43 models on 18 predictors in 5.183204650878906 seconds.\n",
      "Processed  42 models on 19 predictors in 4.75827693939209 seconds.\n",
      "Processed  41 models on 20 predictors in 4.7629499435424805 seconds.\n",
      "Processed  40 models on 21 predictors in 5.120860576629639 seconds.\n",
      "Processed  39 models on 22 predictors in 5.50761342048645 seconds.\n",
      "Processed  38 models on 23 predictors in 5.944264888763428 seconds.\n",
      "Processed  37 models on 24 predictors in 7.283358812332153 seconds.\n",
      "Processed  36 models on 25 predictors in 7.755906820297241 seconds.\n",
      "Processed  35 models on 26 predictors in 8.267680168151855 seconds.\n",
      "Processed  34 models on 27 predictors in 7.556494951248169 seconds.\n",
      "Processed  33 models on 28 predictors in 5.710592746734619 seconds.\n",
      "Processed  32 models on 29 predictors in 5.892933368682861 seconds.\n",
      "Processed  31 models on 30 predictors in 5.8272786140441895 seconds.\n",
      "Processed  30 models on 31 predictors in 5.958598613739014 seconds.\n",
      "Processed  29 models on 32 predictors in 6.39178991317749 seconds.\n",
      "Processed  28 models on 33 predictors in 5.015610456466675 seconds.\n",
      "Processed  27 models on 34 predictors in 4.7177228927612305 seconds.\n",
      "Processed  26 models on 35 predictors in 4.874027729034424 seconds.\n",
      "Processed  25 models on 36 predictors in 4.7151780128479 seconds.\n",
      "Processed  24 models on 37 predictors in 5.083272457122803 seconds.\n",
      "Processed  23 models on 38 predictors in 4.978501558303833 seconds.\n",
      "Processed  22 models on 39 predictors in 4.934134006500244 seconds.\n",
      "Processed  21 models on 40 predictors in 4.709254026412964 seconds.\n",
      "Processed  20 models on 41 predictors in 4.535304546356201 seconds.\n",
      "Processed  19 models on 42 predictors in 4.556732892990112 seconds.\n",
      "Processed  18 models on 43 predictors in 4.751471757888794 seconds.\n",
      "Processed  17 models on 44 predictors in 4.824621915817261 seconds.\n",
      "Processed  16 models on 45 predictors in 5.498684883117676 seconds.\n",
      "Processed  15 models on 46 predictors in 5.035308837890625 seconds.\n",
      "Processed  14 models on 47 predictors in 5.092902183532715 seconds.\n",
      "Processed  13 models on 48 predictors in 4.458238363265991 seconds.\n",
      "Processed  12 models on 49 predictors in 4.096096754074097 seconds.\n",
      "Processed  11 models on 50 predictors in 3.8971407413482666 seconds.\n",
      "Processed  10 models on 51 predictors in 3.7358851432800293 seconds.\n",
      "Processed  9 models on 52 predictors in 3.607581615447998 seconds.\n",
      "Processed  8 models on 53 predictors in 3.014862537384033 seconds.\n",
      "Processed  7 models on 54 predictors in 2.8238213062286377 seconds.\n",
      "Processed  6 models on 55 predictors in 2.417534112930298 seconds.\n",
      "Processed  5 models on 56 predictors in 2.031419515609741 seconds.\n",
      "Processed  4 models on 57 predictors in 1.6989188194274902 seconds.\n",
      "Processed  3 models on 58 predictors in 1.4357414245605469 seconds.\n",
      "Processed  2 models on 59 predictors in 0.9152994155883789 seconds.\n",
      "Processed  1 models on 60 predictors in 0.5093181133270264 seconds.\n",
      "Processed  60 models on 1 predictors in 0.5751965045928955 seconds.\n",
      "Processed  59 models on 2 predictors in 0.8884050846099854 seconds.\n",
      "Processed  58 models on 3 predictors in 0.9739117622375488 seconds.\n",
      "Processed  57 models on 4 predictors in 1.1558778285980225 seconds.\n",
      "Processed  56 models on 5 predictors in 1.5387747287750244 seconds.\n",
      "Processed  55 models on 6 predictors in 1.6311488151550293 seconds.\n",
      "Processed  54 models on 7 predictors in 1.8657441139221191 seconds.\n",
      "Processed  53 models on 8 predictors in 1.9867682456970215 seconds.\n",
      "Processed  52 models on 9 predictors in 2.068000078201294 seconds.\n",
      "Processed  51 models on 10 predictors in 2.71157169342041 seconds.\n",
      "Processed  50 models on 11 predictors in 2.6030001640319824 seconds.\n",
      "Processed  49 models on 12 predictors in 2.698362112045288 seconds.\n",
      "Processed  48 models on 13 predictors in 2.6939992904663086 seconds.\n",
      "Processed  47 models on 14 predictors in 2.8304636478424072 seconds.\n",
      "Processed  46 models on 15 predictors in 3.078308582305908 seconds.\n",
      "Processed  45 models on 16 predictors in 3.2203667163848877 seconds.\n",
      "Processed  44 models on 17 predictors in 3.5850989818573 seconds.\n",
      "Processed  43 models on 18 predictors in 3.8272647857666016 seconds.\n",
      "Processed  42 models on 19 predictors in 4.105138778686523 seconds.\n",
      "Processed  41 models on 20 predictors in 4.551986217498779 seconds.\n",
      "Processed  40 models on 21 predictors in 4.018267393112183 seconds.\n",
      "Processed  39 models on 22 predictors in 4.38252067565918 seconds.\n",
      "Processed  38 models on 23 predictors in 4.5174336433410645 seconds.\n",
      "Processed  37 models on 24 predictors in 5.52406907081604 seconds.\n",
      "Processed  36 models on 25 predictors in 5.750355243682861 seconds.\n",
      "Processed  35 models on 26 predictors in 5.933127403259277 seconds.\n",
      "Processed  34 models on 27 predictors in 5.534396171569824 seconds.\n",
      "Processed  33 models on 28 predictors in 6.170404672622681 seconds.\n",
      "Processed  32 models on 29 predictors in 7.41382908821106 seconds.\n",
      "Processed  31 models on 30 predictors in 6.0303380489349365 seconds.\n",
      "Processed  30 models on 31 predictors in 5.8963751792907715 seconds.\n",
      "Processed  29 models on 32 predictors in 6.0729475021362305 seconds.\n",
      "Processed  28 models on 33 predictors in 7.618946552276611 seconds.\n",
      "Processed  27 models on 34 predictors in 7.571444272994995 seconds.\n",
      "Processed  26 models on 35 predictors in 5.563311576843262 seconds.\n",
      "Processed  25 models on 36 predictors in 5.392090559005737 seconds.\n",
      "Processed  24 models on 37 predictors in 5.439825773239136 seconds.\n",
      "Processed  23 models on 38 predictors in 5.674187421798706 seconds.\n",
      "Processed  22 models on 39 predictors in 6.537538051605225 seconds.\n",
      "Processed  21 models on 40 predictors in 5.255906343460083 seconds.\n",
      "Processed  20 models on 41 predictors in 5.656405210494995 seconds.\n",
      "Processed  19 models on 42 predictors in 5.580760717391968 seconds.\n",
      "Processed  18 models on 43 predictors in 5.715031862258911 seconds.\n",
      "Processed  17 models on 44 predictors in 5.032946348190308 seconds.\n",
      "Processed  16 models on 45 predictors in 4.538421154022217 seconds.\n",
      "Processed  15 models on 46 predictors in 4.701868772506714 seconds.\n",
      "Processed  14 models on 47 predictors in 4.608452320098877 seconds.\n",
      "Processed  13 models on 48 predictors in 4.50660514831543 seconds.\n",
      "Processed  12 models on 49 predictors in 5.112253904342651 seconds.\n",
      "Processed  11 models on 50 predictors in 3.7939865589141846 seconds.\n",
      "Processed  10 models on 51 predictors in 3.4325153827667236 seconds.\n",
      "Processed  9 models on 52 predictors in 3.34161114692688 seconds.\n",
      "Processed  8 models on 53 predictors in 2.8670992851257324 seconds.\n",
      "Processed  7 models on 54 predictors in 2.7118427753448486 seconds.\n",
      "Processed  6 models on 55 predictors in 2.3094236850738525 seconds.\n",
      "Processed  5 models on 56 predictors in 2.2024142742156982 seconds.\n",
      "Processed  4 models on 57 predictors in 1.8606445789337158 seconds.\n",
      "Processed  3 models on 58 predictors in 1.3936357498168945 seconds.\n",
      "Processed  2 models on 59 predictors in 0.8625843524932861 seconds.\n",
      "Processed  1 models on 60 predictors in 0.41753482818603516 seconds.\n",
      "Processed  60 models on 1 predictors in 0.6463372707366943 seconds.\n",
      "Processed  59 models on 2 predictors in 1.0658831596374512 seconds.\n",
      "Processed  58 models on 3 predictors in 1.4318552017211914 seconds.\n"
     ]
    },
    {
     "name": "stdout",
     "output_type": "stream",
     "text": [
      "Processed  57 models on 4 predictors in 1.2652778625488281 seconds.\n",
      "Processed  56 models on 5 predictors in 1.3561115264892578 seconds.\n",
      "Processed  55 models on 6 predictors in 1.576155185699463 seconds.\n",
      "Processed  54 models on 7 predictors in 2.137068271636963 seconds.\n",
      "Processed  53 models on 8 predictors in 2.592365026473999 seconds.\n",
      "Processed  52 models on 9 predictors in 2.2237956523895264 seconds.\n",
      "Processed  51 models on 10 predictors in 1.9947450160980225 seconds.\n",
      "Processed  50 models on 11 predictors in 2.2263195514678955 seconds.\n",
      "Processed  49 models on 12 predictors in 2.5758535861968994 seconds.\n",
      "Processed  48 models on 13 predictors in 3.047663688659668 seconds.\n",
      "Processed  47 models on 14 predictors in 2.722827911376953 seconds.\n",
      "Processed  46 models on 15 predictors in 3.0363309383392334 seconds.\n",
      "Processed  45 models on 16 predictors in 3.070237159729004 seconds.\n",
      "Processed  44 models on 17 predictors in 3.3885085582733154 seconds.\n",
      "Processed  43 models on 18 predictors in 3.5888335704803467 seconds.\n",
      "Processed  42 models on 19 predictors in 3.5879924297332764 seconds.\n",
      "Processed  41 models on 20 predictors in 3.572584867477417 seconds.\n",
      "Processed  40 models on 21 predictors in 3.7051193714141846 seconds.\n",
      "Processed  39 models on 22 predictors in 3.894758701324463 seconds.\n",
      "Processed  38 models on 23 predictors in 3.9251205921173096 seconds.\n",
      "Processed  37 models on 24 predictors in 4.020359754562378 seconds.\n",
      "Processed  36 models on 25 predictors in 4.7147216796875 seconds.\n",
      "Processed  35 models on 26 predictors in 5.269477128982544 seconds.\n",
      "Processed  34 models on 27 predictors in 5.388530969619751 seconds.\n",
      "Processed  33 models on 28 predictors in 5.513519525527954 seconds.\n",
      "Processed  32 models on 29 predictors in 5.64053750038147 seconds.\n",
      "Processed  31 models on 30 predictors in 6.244739294052124 seconds.\n",
      "Processed  30 models on 31 predictors in 5.858052968978882 seconds.\n",
      "Processed  29 models on 32 predictors in 6.4518702030181885 seconds.\n",
      "Processed  28 models on 33 predictors in 5.825060129165649 seconds.\n",
      "Processed  27 models on 34 predictors in 6.994957685470581 seconds.\n",
      "Processed  26 models on 35 predictors in 6.667087554931641 seconds.\n",
      "Processed  25 models on 36 predictors in 5.28866720199585 seconds.\n",
      "Processed  24 models on 37 predictors in 5.81875467300415 seconds.\n",
      "Processed  23 models on 38 predictors in 4.58574914932251 seconds.\n",
      "Processed  22 models on 39 predictors in 4.427069664001465 seconds.\n",
      "Processed  21 models on 40 predictors in 4.662480592727661 seconds.\n",
      "Processed  20 models on 41 predictors in 5.144500732421875 seconds.\n",
      "Processed  19 models on 42 predictors in 4.775733947753906 seconds.\n",
      "Processed  18 models on 43 predictors in 4.299290895462036 seconds.\n",
      "Processed  17 models on 44 predictors in 4.517540454864502 seconds.\n",
      "Processed  16 models on 45 predictors in 4.254925012588501 seconds.\n",
      "Processed  15 models on 46 predictors in 4.226466178894043 seconds.\n",
      "Processed  14 models on 47 predictors in 4.272535085678101 seconds.\n",
      "Processed  13 models on 48 predictors in 4.555533170700073 seconds.\n",
      "Processed  12 models on 49 predictors in 3.8971619606018066 seconds.\n",
      "Processed  11 models on 50 predictors in 3.90701961517334 seconds.\n",
      "Processed  10 models on 51 predictors in 3.8944833278656006 seconds.\n",
      "Processed  9 models on 52 predictors in 3.3153254985809326 seconds.\n",
      "Processed  8 models on 53 predictors in 3.1659162044525146 seconds.\n",
      "Processed  7 models on 54 predictors in 3.7603249549865723 seconds.\n",
      "Processed  6 models on 55 predictors in 2.6056201457977295 seconds.\n",
      "Processed  5 models on 56 predictors in 2.3095130920410156 seconds.\n",
      "Processed  4 models on 57 predictors in 1.7683892250061035 seconds.\n",
      "Processed  3 models on 58 predictors in 2.0962367057800293 seconds.\n",
      "Processed  2 models on 59 predictors in 1.4768946170806885 seconds.\n",
      "Processed  1 models on 60 predictors in 0.5883450508117676 seconds.\n",
      "Processed  60 models on 1 predictors in 0.9303369522094727 seconds.\n",
      "Processed  59 models on 2 predictors in 1.0407912731170654 seconds.\n",
      "Processed  58 models on 3 predictors in 1.158503770828247 seconds.\n",
      "Processed  57 models on 4 predictors in 1.3216190338134766 seconds.\n",
      "Processed  56 models on 5 predictors in 1.5345425605773926 seconds.\n",
      "Processed  55 models on 6 predictors in 1.9010908603668213 seconds.\n",
      "Processed  54 models on 7 predictors in 3.437145471572876 seconds.\n",
      "Processed  53 models on 8 predictors in 2.723982095718384 seconds.\n",
      "Processed  52 models on 9 predictors in 2.48296856880188 seconds.\n",
      "Processed  51 models on 10 predictors in 2.626563310623169 seconds.\n",
      "Processed  50 models on 11 predictors in 3.058387041091919 seconds.\n",
      "Processed  49 models on 12 predictors in 3.373309373855591 seconds.\n",
      "Processed  48 models on 13 predictors in 3.3412599563598633 seconds.\n",
      "Processed  47 models on 14 predictors in 3.187520742416382 seconds.\n",
      "Processed  46 models on 15 predictors in 3.252385377883911 seconds.\n",
      "Processed  45 models on 16 predictors in 3.1776232719421387 seconds.\n",
      "Processed  44 models on 17 predictors in 3.791233777999878 seconds.\n",
      "Processed  43 models on 18 predictors in 3.761439085006714 seconds.\n",
      "Processed  42 models on 19 predictors in 4.321445465087891 seconds.\n",
      "Processed  41 models on 20 predictors in 3.712015390396118 seconds.\n",
      "Processed  40 models on 21 predictors in 3.927887201309204 seconds.\n",
      "Processed  39 models on 22 predictors in 4.119073152542114 seconds.\n",
      "Processed  38 models on 23 predictors in 4.587301015853882 seconds.\n",
      "Processed  37 models on 24 predictors in 4.295001268386841 seconds.\n",
      "Processed  36 models on 25 predictors in 4.946252346038818 seconds.\n",
      "Processed  35 models on 26 predictors in 5.130577087402344 seconds.\n",
      "Processed  34 models on 27 predictors in 6.024755954742432 seconds.\n",
      "Processed  33 models on 28 predictors in 6.115268230438232 seconds.\n",
      "Processed  32 models on 29 predictors in 6.082973480224609 seconds.\n",
      "Processed  31 models on 30 predictors in 6.098463296890259 seconds.\n",
      "Processed  30 models on 31 predictors in 6.227802038192749 seconds.\n",
      "Processed  29 models on 32 predictors in 6.732573747634888 seconds.\n",
      "Processed  28 models on 33 predictors in 6.295026540756226 seconds.\n",
      "Processed  27 models on 34 predictors in 6.6192662715911865 seconds.\n",
      "Processed  26 models on 35 predictors in 6.55979323387146 seconds.\n",
      "Processed  25 models on 36 predictors in 7.829134702682495 seconds.\n",
      "Processed  24 models on 37 predictors in 6.176828861236572 seconds.\n",
      "Processed  23 models on 38 predictors in 4.955731391906738 seconds.\n",
      "Processed  22 models on 39 predictors in 5.472959280014038 seconds.\n",
      "Processed  21 models on 40 predictors in 5.128014326095581 seconds.\n",
      "Processed  20 models on 41 predictors in 5.557514905929565 seconds.\n",
      "Processed  19 models on 42 predictors in 5.004542350769043 seconds.\n",
      "Processed  18 models on 43 predictors in 4.398081541061401 seconds.\n",
      "Processed  17 models on 44 predictors in 4.494542598724365 seconds.\n",
      "Processed  16 models on 45 predictors in 4.381100416183472 seconds.\n",
      "Processed  15 models on 46 predictors in 3.9437754154205322 seconds.\n",
      "Processed  14 models on 47 predictors in 4.1088244915008545 seconds.\n",
      "Processed  13 models on 48 predictors in 5.0464184284210205 seconds.\n",
      "Processed  12 models on 49 predictors in 4.207789897918701 seconds.\n",
      "Processed  11 models on 50 predictors in 4.58904504776001 seconds.\n",
      "Processed  10 models on 51 predictors in 3.8120853900909424 seconds.\n",
      "Processed  9 models on 52 predictors in 3.290083646774292 seconds.\n",
      "Processed  8 models on 53 predictors in 3.1590352058410645 seconds.\n",
      "Processed  7 models on 54 predictors in 2.9716033935546875 seconds.\n",
      "Processed  6 models on 55 predictors in 2.7688591480255127 seconds.\n",
      "Processed  5 models on 56 predictors in 3.67439866065979 seconds.\n",
      "Processed  4 models on 57 predictors in 2.249406576156616 seconds.\n",
      "Processed  3 models on 58 predictors in 1.70949125289917 seconds.\n",
      "Processed  2 models on 59 predictors in 1.6299870014190674 seconds.\n",
      "Processed  1 models on 60 predictors in 1.1721203327178955 seconds.\n",
      "Processed  60 models on 1 predictors in 1.1529886722564697 seconds.\n",
      "Processed  59 models on 2 predictors in 1.0398175716400146 seconds.\n",
      "Processed  58 models on 3 predictors in 1.1599633693695068 seconds.\n",
      "Processed  57 models on 4 predictors in 1.4624929428100586 seconds.\n"
     ]
    },
    {
     "name": "stdout",
     "output_type": "stream",
     "text": [
      "Processed  56 models on 5 predictors in 1.9765644073486328 seconds.\n",
      "Processed  55 models on 6 predictors in 2.1053409576416016 seconds.\n",
      "Processed  54 models on 7 predictors in 2.406362533569336 seconds.\n",
      "Processed  53 models on 8 predictors in 2.700140953063965 seconds.\n",
      "Processed  52 models on 9 predictors in 2.999581813812256 seconds.\n",
      "Processed  51 models on 10 predictors in 3.0393660068511963 seconds.\n",
      "Processed  50 models on 11 predictors in 3.3852641582489014 seconds.\n",
      "Processed  49 models on 12 predictors in 3.0179665088653564 seconds.\n",
      "Processed  48 models on 13 predictors in 3.270566701889038 seconds.\n",
      "Processed  47 models on 14 predictors in 3.4228672981262207 seconds.\n",
      "Processed  46 models on 15 predictors in 3.186520576477051 seconds.\n",
      "Processed  45 models on 16 predictors in 3.036195755004883 seconds.\n",
      "Processed  44 models on 17 predictors in 3.2390341758728027 seconds.\n",
      "Processed  43 models on 18 predictors in 3.680508852005005 seconds.\n",
      "Processed  42 models on 19 predictors in 3.58910870552063 seconds.\n",
      "Processed  41 models on 20 predictors in 3.654759168624878 seconds.\n",
      "Processed  40 models on 21 predictors in 4.103622198104858 seconds.\n",
      "Processed  39 models on 22 predictors in 3.807997941970825 seconds.\n",
      "Processed  38 models on 23 predictors in 3.975003719329834 seconds.\n",
      "Processed  37 models on 24 predictors in 4.091909885406494 seconds.\n",
      "Processed  36 models on 25 predictors in 4.249709367752075 seconds.\n",
      "Processed  35 models on 26 predictors in 4.229107618331909 seconds.\n",
      "Processed  34 models on 27 predictors in 4.702866077423096 seconds.\n",
      "Processed  33 models on 28 predictors in 5.520158290863037 seconds.\n",
      "Processed  32 models on 29 predictors in 5.529637336730957 seconds.\n",
      "Processed  31 models on 30 predictors in 5.633270502090454 seconds.\n",
      "Processed  30 models on 31 predictors in 5.900589227676392 seconds.\n",
      "Processed  29 models on 32 predictors in 5.948086500167847 seconds.\n",
      "Processed  28 models on 33 predictors in 5.697779178619385 seconds.\n",
      "Processed  27 models on 34 predictors in 5.563950538635254 seconds.\n",
      "Processed  26 models on 35 predictors in 5.5085837841033936 seconds.\n",
      "Processed  25 models on 36 predictors in 5.324509382247925 seconds.\n",
      "Processed  24 models on 37 predictors in 4.388024568557739 seconds.\n",
      "Processed  23 models on 38 predictors in 4.232980966567993 seconds.\n",
      "Processed  22 models on 39 predictors in 4.221486568450928 seconds.\n",
      "Processed  21 models on 40 predictors in 4.087492227554321 seconds.\n",
      "Processed  20 models on 41 predictors in 4.325395822525024 seconds.\n",
      "Processed  19 models on 42 predictors in 4.216975450515747 seconds.\n",
      "Processed  18 models on 43 predictors in 4.107356309890747 seconds.\n",
      "Processed  17 models on 44 predictors in 3.9305074214935303 seconds.\n",
      "Processed  16 models on 45 predictors in 3.8133227825164795 seconds.\n",
      "Processed  15 models on 46 predictors in 3.730726718902588 seconds.\n",
      "Processed  14 models on 47 predictors in 3.7567899227142334 seconds.\n",
      "Processed  13 models on 48 predictors in 3.468240976333618 seconds.\n",
      "Processed  12 models on 49 predictors in 3.102418899536133 seconds.\n",
      "Processed  11 models on 50 predictors in 2.9396166801452637 seconds.\n",
      "Processed  10 models on 51 predictors in 2.7331154346466064 seconds.\n",
      "Processed  9 models on 52 predictors in 2.697643280029297 seconds.\n",
      "Processed  8 models on 53 predictors in 2.2885262966156006 seconds.\n",
      "Processed  7 models on 54 predictors in 2.1441750526428223 seconds.\n",
      "Processed  6 models on 55 predictors in 1.83347749710083 seconds.\n",
      "Processed  5 models on 56 predictors in 1.750561237335205 seconds.\n",
      "Processed  4 models on 57 predictors in 1.299201250076294 seconds.\n",
      "Processed  3 models on 58 predictors in 1.0810930728912354 seconds.\n",
      "Processed  2 models on 59 predictors in 0.6945221424102783 seconds.\n",
      "Processed  1 models on 60 predictors in 0.3740394115447998 seconds.\n",
      "Processed  60 models on 1 predictors in 0.8853881359100342 seconds.\n",
      "Processed  59 models on 2 predictors in 0.8139588832855225 seconds.\n",
      "Processed  58 models on 3 predictors in 1.0007314682006836 seconds.\n",
      "Processed  57 models on 4 predictors in 1.497751235961914 seconds.\n",
      "Processed  56 models on 5 predictors in 1.8474035263061523 seconds.\n",
      "Processed  55 models on 6 predictors in 1.7230908870697021 seconds.\n",
      "Processed  54 models on 7 predictors in 2.4083991050720215 seconds.\n",
      "Processed  53 models on 8 predictors in 3.222356081008911 seconds.\n",
      "Processed  52 models on 9 predictors in 4.199328660964966 seconds.\n",
      "Processed  51 models on 10 predictors in 5.639002323150635 seconds.\n",
      "Processed  50 models on 11 predictors in 3.730433702468872 seconds.\n",
      "Processed  49 models on 12 predictors in 3.4945735931396484 seconds.\n",
      "Processed  48 models on 13 predictors in 3.4359025955200195 seconds.\n",
      "Processed  47 models on 14 predictors in 3.6178224086761475 seconds.\n",
      "Processed  46 models on 15 predictors in 4.2483296394348145 seconds.\n",
      "Processed  45 models on 16 predictors in 6.546346664428711 seconds.\n",
      "Processed  44 models on 17 predictors in 5.258768081665039 seconds.\n",
      "Processed  43 models on 18 predictors in 4.598889350891113 seconds.\n",
      "Processed  42 models on 19 predictors in 4.687157392501831 seconds.\n",
      "Processed  41 models on 20 predictors in 4.6743323802948 seconds.\n",
      "Processed  40 models on 21 predictors in 4.574737548828125 seconds.\n",
      "Processed  39 models on 22 predictors in 4.534060001373291 seconds.\n",
      "Processed  38 models on 23 predictors in 4.211833715438843 seconds.\n",
      "Processed  37 models on 24 predictors in 4.259918928146362 seconds.\n",
      "Processed  36 models on 25 predictors in 4.309783220291138 seconds.\n",
      "Processed  35 models on 26 predictors in 4.65641188621521 seconds.\n",
      "Processed  34 models on 27 predictors in 4.742593288421631 seconds.\n",
      "Processed  33 models on 28 predictors in 4.908462762832642 seconds.\n",
      "Processed  32 models on 29 predictors in 5.118842124938965 seconds.\n",
      "Processed  31 models on 30 predictors in 5.362747430801392 seconds.\n",
      "Processed  30 models on 31 predictors in 6.465969800949097 seconds.\n",
      "Processed  29 models on 32 predictors in 6.173309564590454 seconds.\n",
      "Processed  28 models on 33 predictors in 6.259156227111816 seconds.\n",
      "Processed  27 models on 34 predictors in 6.734429836273193 seconds.\n",
      "Processed  26 models on 35 predictors in 5.972616672515869 seconds.\n",
      "Processed  25 models on 36 predictors in 6.729156494140625 seconds.\n",
      "Processed  24 models on 37 predictors in 6.021453142166138 seconds.\n",
      "Processed  23 models on 38 predictors in 5.7824766635894775 seconds.\n",
      "Processed  22 models on 39 predictors in 5.737991094589233 seconds.\n",
      "Processed  21 models on 40 predictors in 5.513552188873291 seconds.\n",
      "Processed  20 models on 41 predictors in 5.5799055099487305 seconds.\n",
      "Processed  19 models on 42 predictors in 5.597514390945435 seconds.\n",
      "Processed  18 models on 43 predictors in 5.575159072875977 seconds.\n",
      "Processed  17 models on 44 predictors in 5.065752983093262 seconds.\n",
      "Processed  16 models on 45 predictors in 5.2126946449279785 seconds.\n",
      "Processed  15 models on 46 predictors in 4.790856599807739 seconds.\n",
      "Processed  14 models on 47 predictors in 4.834654092788696 seconds.\n",
      "Processed  13 models on 48 predictors in 4.4970152378082275 seconds.\n",
      "Processed  12 models on 49 predictors in 3.9778897762298584 seconds.\n",
      "Processed  11 models on 50 predictors in 3.721632719039917 seconds.\n",
      "Processed  10 models on 51 predictors in 3.4771502017974854 seconds.\n",
      "Processed  9 models on 52 predictors in 3.3134682178497314 seconds.\n",
      "Processed  8 models on 53 predictors in 3.1133077144622803 seconds.\n",
      "Processed  7 models on 54 predictors in 2.9190731048583984 seconds.\n",
      "Processed  6 models on 55 predictors in 2.4049370288848877 seconds.\n",
      "Processed  5 models on 56 predictors in 2.1823153495788574 seconds.\n",
      "Processed  4 models on 57 predictors in 1.6214985847473145 seconds.\n",
      "Processed  3 models on 58 predictors in 1.1604177951812744 seconds.\n",
      "Processed  2 models on 59 predictors in 0.8378329277038574 seconds.\n",
      "Processed  1 models on 60 predictors in 0.3511168956756592 seconds.\n"
     ]
    }
   ],
   "source": [
    "models_cv = pd.DataFrame(columns=[\"RSS\", \"model\"])\n",
    "\n",
    "\n",
    "# Outer loop iterates over all folds\n",
    "for j in range(1,k+1):\n",
    "\n",
    "    # Reset predictors\n",
    "    predictors = []\n",
    "    \n",
    "    # Inner loop iterates over each size i\n",
    "    for i in range(1,len(X.columns)+1):    \n",
    "    \n",
    "        # The perform forward selection on the full dataset minus the jth fold, test on jth fold\n",
    "\n",
    "#        models_cv.loc[i] = forward(predictors, X_train[folds != (j-1)], Y_train[folds != (j-1)], X_train[folds == (j-1)], Y_train[folds == (j-1)])\n",
    "\n",
    "\n",
    "        models_cv.loc[i] = forward(predictors, X_train[folds != (j-1)], Y_train[folds != (j-1)], X_test, Y_test)\n",
    "\n",
    "        # Save the cross-validated error for this fold\n",
    "        cv_errors[j][i] = models_cv.loc[i][\"RSS\"]\n",
    "\n",
    "        # Extract the predictors\n",
    "        predictors = models_cv.loc[i][\"model\"].model.exog_names\n",
    "        #predictors = models_cv.loc[i][\"model\"].model.exog_names        "
   ]
  },
  {
   "cell_type": "code",
   "execution_count": 45,
   "metadata": {
    "collapsed": true
   },
   "outputs": [],
   "source": [
    "#cv_errors"
   ]
  },
  {
   "cell_type": "code",
   "execution_count": 46,
   "metadata": {},
   "outputs": [
    {
     "data": {
      "text/plain": [
       "[<matplotlib.lines.Line2D at 0x26c01fd79b0>]"
      ]
     },
     "execution_count": 46,
     "metadata": {},
     "output_type": "execute_result"
    },
    {
     "data": {
      "image/png": "[encoded data removed]",
      "text/plain": [
       "<matplotlib.figure.Figure at 0x26c01fd7320>"
      ]
     },
     "metadata": {},
     "output_type": "display_data"
    }
   ],
   "source": [
    "cv_mean = cv_errors.apply(np.mean, axis=1)\n",
    "\n",
    "plt.plot(cv_mean)\n",
    "plt.xlabel('# Predictors')\n",
    "plt.ylabel('CV Error')\n",
    "plt.plot(cv_mean.argmin(), cv_mean.min(), \"or\")"
   ]
  },
  {
   "cell_type": "code",
   "execution_count": 47,
   "metadata": {},
   "outputs": [
    {
     "data": {
      "text/plain": [
       "[<matplotlib.lines.Line2D at 0x26c01f92c18>]"
      ]
     },
     "execution_count": 47,
     "metadata": {},
     "output_type": "execute_result"
    },
    {
     "data": {
      "image/png": "[encoded data removed]",
      "text/plain": [
       "<matplotlib.figure.Figure at 0x26c02033978>"
      ]
     },
     "metadata": {},
     "output_type": "display_data"
    }
   ],
   "source": [
    "cv_mean = cv_errors.apply(np.mean, axis=1)\n",
    "\n",
    "#plt.plot(cv_mean)\n",
    "plt.xlabel('# Predictors')\n",
    "plt.ylabel('CV Error')\n",
    "plt.plot(cv_mean, \"or\")\n",
    "plt.plot(cv_mean.argmin(), cv_mean.min(),  \"g^\")\n"
   ]
  },
  {
   "cell_type": "code",
   "execution_count": 48,
   "metadata": {},
   "outputs": [
    {
     "data": {
      "text/plain": [
       "<matplotlib.text.Text at 0x26c034d80f0>"
      ]
     },
     "execution_count": 48,
     "metadata": {},
     "output_type": "execute_result"
    },
    {
     "data": {
      "image/png": "[encoded data removed]",
      "text/plain": [
       "<matplotlib.figure.Figure at 0x26c010c1748>"
      ]
     },
     "metadata": {},
     "output_type": "display_data"
    }
   ],
   "source": [
    "plt.figure(figsize=(20,10))\n",
    "plt.rcParams.update({'font.size': 18, 'lines.markersize': 10})\n",
    "\n",
    "# Set up a 2x2 grid so we can look at 4 plots at once\n",
    "plt.subplot(2, 2, 1)\n",
    "\n",
    "# We will now plot a red dot to indicate the model with the largest adjusted R^2 statistic.\n",
    "# The argmax() function can be used to identify the location of the maximum point of a vector\n",
    "plt.plot(models_cv[\"RSS\"])\n",
    "plt.xlabel('# Predictors')\n",
    "plt.ylabel('RSS')\n",
    "\n",
    "# We will now plot a red dot to indicate the model with the largest adjusted R^2 statistic.\n",
    "# The argmax() function can be used to identify the location of the maximum point of a vector\n",
    "rsquared = models_cv.apply(lambda row: row[1].rsquared, axis=1)\n",
    "plt.subplot(2, 2, 2)\n",
    "plt.plot(rsquared)\n",
    "plt.plot(rsquared.argmax(), rsquared.max(), \"or\")\n",
    "plt.xlabel('# Predictors')\n",
    "plt.ylabel('adjusted rsquared')\n",
    "\n",
    "# We'll do the same for AIC and BIC, this time looking for the models with the SMALLEST statistic\n",
    "\n",
    "aic = models_cv.apply(lambda row: row[1].aic, axis=1)\n",
    "\n",
    "plt.subplot(2, 2, 3)\n",
    "plt.plot(aic)\n",
    "plt.plot(aic.argmin(), aic.min(), \"or\")\n",
    "plt.xlabel('# Predictors')\n",
    "plt.ylabel('AIC')\n",
    "\n",
    "bic = models_cv.apply(lambda row: row[1].bic, axis=1)\n",
    "plt.subplot(2, 2, 4)\n",
    "plt.plot(bic)\n",
    "plt.plot(bic.argmin(), bic.min(), \"or\")\n",
    "plt.xlabel('# Predictors')\n",
    "plt.ylabel('BIC')"
   ]
  },
  {
   "cell_type": "code",
   "execution_count": 49,
   "metadata": {},
   "outputs": [
    {
     "name": "stdout",
     "output_type": "stream",
     "text": [
      "                            OLS Regression Results                            \n",
      "==============================================================================\n",
      "Dep. Variable:                 Liters   R-squared:                       0.952\n",
      "Model:                            OLS   Adj. R-squared:                  0.952\n",
      "Method:                 Least Squares   F-statistic:                 2.026e+04\n",
      "Date:                Fri, 15 Sep 2017   Prob (F-statistic):               0.00\n",
      "Time:                        12:33:39   Log-Likelihood:            -3.9023e+05\n",
      "No. Observations:               60285   AIC:                         7.806e+05\n",
      "Df Residuals:                   60226   BIC:                         7.811e+05\n",
      "Df Model:                          59                                         \n",
      "Covariance Type:            nonrobust                                         \n",
      "==============================================================================\n",
      "                 coef    std err          t      P>|t|      [0.025      0.975]\n",
      "------------------------------------------------------------------------------\n",
      "Kilometers     0.4871      0.011     42.556      0.000       0.465       0.510\n",
      "GTK_9        284.0276      3.485     81.493      0.000     277.196     290.859\n",
      "IsUnit       327.3862      5.469     59.865      0.000     316.667     338.105\n",
      "SD_3         400.1259      3.501    114.278      0.000     393.263     406.989\n",
      "Hours        -31.6314      0.203   -155.740      0.000     -32.029     -31.233\n",
      "SD_4         398.2673      3.871    102.894      0.000     390.681     405.854\n",
      "SD_2         325.5029      3.975     81.879      0.000     317.711     333.295\n",
      "LOC_347       -5.9936      4.922     -1.218      0.223     -15.640       3.653\n",
      "SD_6         335.2796      5.822     57.590      0.000     323.869     346.690\n",
      "LOC_851      203.3007      8.615     23.597      0.000     186.414     220.187\n",
      "LOC_2012     765.8971      7.335    104.420      0.000     751.521     780.273\n",
      "LOC_345       -5.0297      9.914     -0.507      0.612     -24.462      14.402\n",
      "LOC_2302     812.6878      8.913     91.180      0.000     795.218     830.157\n",
      "LOC_2011     721.6811      7.172    100.628      0.000     707.624     735.738\n",
      "LOC_2201     817.3419      8.653     94.461      0.000     800.383     834.301\n",
      "LOC_2303     823.5851      9.157     89.944      0.000     805.638     841.532\n",
      "LOC_2305     811.8451      9.504     85.423      0.000     793.218     830.473\n",
      "LOC_2301     785.6388      8.841     88.861      0.000     768.310     802.968\n",
      "SD_5         195.4198      6.018     32.475      0.000     183.625     207.214\n",
      "Tract        -60.4010      2.083    -28.991      0.000     -64.485     -56.317\n",
      "LOC_2307     820.3279     10.469     78.362      0.000     799.810     840.846\n",
      "TRN_4         24.3434      5.147      4.730      0.000      14.255      34.431\n",
      "TRN_11        17.4710      5.311      3.290      0.001       7.062      27.880\n",
      "LOC_2304     786.7506     10.148     77.531      0.000     766.861     806.640\n",
      "LOC_2306     833.0307     10.513     79.240      0.000     812.426     853.636\n",
      "TRN_10       -51.5467      6.679     -7.718      0.000     -64.637     -38.457\n",
      "TRN_8       -266.3473      8.034    -33.154      0.000    -282.093    -250.601\n",
      "LOC_2006     605.4585      6.788     89.191      0.000     592.153     618.764\n",
      "LOC_2004     601.5561      6.821     88.189      0.000     588.186     614.926\n",
      "LOC_2003     594.8022      6.821     87.207      0.000     581.434     608.171\n",
      "LOC_2001     594.6833      6.883     86.404      0.000     581.193     608.173\n",
      "LOC_2002     608.5635      6.856     88.769      0.000     595.127     622.000\n",
      "LOC_2009     585.3234      6.904     84.784      0.000     571.792     598.855\n",
      "LOC_2005     584.2300      6.745     86.616      0.000     571.010     597.450\n",
      "LOC_2000     576.4749      6.841     84.269      0.000     563.067     589.883\n",
      "LOC_2010     576.7554      6.867     83.995      0.000     563.297     590.214\n",
      "LOC_2007     570.2559      6.826     83.546      0.000     556.878     583.634\n",
      "LOC_2008     507.9492      6.753     75.219      0.000     494.714     521.185\n",
      "LOC_1201     465.6822      6.755     68.941      0.000     452.443     478.922\n",
      "LOC_1203     450.2368      6.947     64.810      0.000     436.621     463.853\n",
      "LOC_1601     432.6502      6.856     63.106      0.000     419.213     446.088\n",
      "LOC_1202     424.6434      6.860     61.901      0.000     411.198     438.089\n",
      "LOC_1602     403.2127      6.879     58.613      0.000     389.729     416.696\n",
      "TRN_6       -427.1126      9.467    -45.114      0.000    -445.669    -408.556\n",
      "LOC_966      526.9668     17.099     30.819      0.000     493.453     560.481\n",
      "LOC_973      366.4941      6.850     53.500      0.000     353.067     379.921\n",
      "LOC_977      349.8572      6.782     51.587      0.000     336.565     363.150\n",
      "LOC_974      345.6335      6.948     49.746      0.000     332.016     359.251\n",
      "LOC_979      339.3625      6.963     48.736      0.000     325.714     353.010\n",
      "LOC_975      338.1387      6.805     49.687      0.000     324.800     351.477\n",
      "LOC_971      337.9504      6.866     49.219      0.000     324.492     351.408\n",
      "LOC_972      328.6502      6.931     47.421      0.000     315.066     342.234\n",
      "LOC_978      325.5668      7.005     46.479      0.000     311.838     339.296\n",
      "LOC_976      314.9983      6.794     46.361      0.000     301.681     328.315\n",
      "LOC_8689     501.2625    110.991      4.516      0.000     283.720     718.805\n",
      "LOC_1014     373.7506     33.328     11.214      0.000     308.428     439.074\n",
      "TRN_2       -517.2150     11.513    -44.926      0.000    -539.780    -494.650\n",
      "TRN_3       -534.7336     12.058    -44.347      0.000    -558.367    -511.100\n",
      "TRN_9       -311.6996     15.713    -19.837      0.000    -342.497    -280.902\n",
      "==============================================================================\n",
      "Omnibus:                    29662.469   Durbin-Watson:                   2.004\n",
      "Prob(Omnibus):                  0.000   Jarque-Bera (JB):          3015059.694\n",
      "Skew:                           1.431   Prob(JB):                         0.00\n",
      "Kurtosis:                      37.527   Cond. No.                     3.59e+04\n",
      "==============================================================================\n",
      "\n",
      "Warnings:\n",
      "[1] Standard Errors assume that the covariance matrix of the errors is correctly specified.\n",
      "[2] The condition number is large, 3.59e+04. This might indicate that there are\n",
      "strong multicollinearity or other numerical problems.\n",
      "                            OLS Regression Results                            \n",
      "==============================================================================\n",
      "Dep. Variable:                 Liters   R-squared:                       0.952\n",
      "Model:                            OLS   Adj. R-squared:                  0.952\n",
      "Method:                 Least Squares   F-statistic:                 1.833e+04\n",
      "Date:                Fri, 15 Sep 2017   Prob (F-statistic):               0.00\n",
      "Time:                        12:33:39   Log-Likelihood:            -3.5098e+05\n",
      "No. Observations:               54248   AIC:                         7.021e+05\n",
      "Df Residuals:                   54189   BIC:                         7.026e+05\n",
      "Df Model:                          59                                         \n",
      "Covariance Type:            nonrobust                                         \n",
      "==============================================================================\n",
      "                 coef    std err          t      P>|t|      [0.025      0.975]\n",
      "------------------------------------------------------------------------------\n",
      "Kilometers     0.4925      0.012     40.972      0.000       0.469       0.516\n",
      "GTK_9        284.1627      3.669     77.449      0.000     276.971     291.354\n",
      "IsUnit       328.5178      5.736     57.277      0.000     317.276     339.760\n",
      "SD_3         400.4814      3.675    108.985      0.000     393.279     407.684\n",
      "Hours        -31.5624      0.213   -147.967      0.000     -31.980     -31.144\n",
      "SD_4         397.9832      4.063     97.953      0.000     390.020     405.947\n",
      "SD_2         325.2243      4.172     77.957      0.000     317.048     333.401\n",
      "LOC_347       -5.6133      5.161     -1.088      0.277     -15.729       4.502\n",
      "SD_6         334.3901      6.120     54.640      0.000     322.395     346.385\n",
      "LOC_851      203.1685      9.085     22.364      0.000     185.362     220.974\n",
      "LOC_2012     766.5113      7.717     99.323      0.000     751.385     781.637\n",
      "LOC_345       -4.9673     10.481     -0.474      0.636     -25.510      15.575\n",
      "LOC_2302     815.9649      9.398     86.823      0.000     797.545     834.385\n",
      "LOC_2011     723.1704      7.556     95.703      0.000     708.360     737.981\n",
      "LOC_2201     816.1873      9.150     89.206      0.000     798.254     834.120\n",
      "LOC_2303     821.1960      9.620     85.362      0.000     802.340     840.052\n",
      "LOC_2305     817.9447     10.004     81.763      0.000     798.337     837.552\n",
      "LOC_2301     787.4092      9.286     84.798      0.000     769.209     805.609\n",
      "SD_5         194.9504      6.367     30.617      0.000     182.470     207.430\n",
      "Tract        -60.7041      2.187    -27.753      0.000     -64.991     -56.417\n",
      "LOC_2307     817.6353     10.943     74.720      0.000     796.188     839.083\n",
      "TRN_4         23.6213      5.438      4.344      0.000      12.963      34.279\n",
      "TRN_11        16.1981      5.606      2.889      0.004       5.209      27.187\n",
      "LOC_2304     785.1855     10.714     73.286      0.000     764.186     806.185\n",
      "LOC_2306     831.0100     11.209     74.139      0.000     809.041     852.979\n",
      "TRN_10       -51.4140      7.030     -7.314      0.000     -65.193     -37.635\n",
      "TRN_8       -270.5651      8.458    -31.988      0.000    -287.144    -253.987\n",
      "LOC_2006     605.3753      7.146     84.711      0.000     591.368     619.382\n",
      "LOC_2004     601.7055      7.192     83.665      0.000     587.609     615.802\n",
      "LOC_2003     599.3624      7.184     83.425      0.000     585.281     613.444\n",
      "LOC_2001     595.8975      7.263     82.051      0.000     581.663     610.132\n",
      "LOC_2002     608.5606      7.216     84.329      0.000     594.416     622.705\n",
      "LOC_2009     585.6305      7.273     80.525      0.000     571.376     599.885\n",
      "LOC_2005     585.4989      7.119     82.249      0.000     571.546     599.451\n",
      "LOC_2000     577.2263      7.210     80.056      0.000     563.094     591.358\n",
      "LOC_2010     577.3699      7.238     79.769      0.000     563.183     591.557\n",
      "LOC_2007     570.2817      7.194     79.269      0.000     556.181     584.383\n",
      "LOC_2008     510.0322      7.104     71.791      0.000     496.107     523.957\n",
      "LOC_1201     465.0167      7.103     65.467      0.000     451.095     478.939\n",
      "LOC_1203     447.5952      7.307     61.260      0.000     433.274     461.916\n",
      "LOC_1601     432.1651      7.218     59.870      0.000     418.017     446.313\n",
      "LOC_1202     426.4260      7.227     59.003      0.000     412.261     440.591\n",
      "LOC_1602     404.4598      7.230     55.939      0.000     390.288     418.632\n",
      "TRN_6       -428.1800      9.956    -43.006      0.000    -447.694    -408.666\n",
      "LOC_966      526.5132     18.093     29.101      0.000     491.051     561.975\n",
      "LOC_973      363.5158      7.211     50.413      0.000     349.383     377.649\n",
      "LOC_977      353.2433      7.149     49.410      0.000     339.231     367.256\n",
      "LOC_974      346.0989      7.341     47.143      0.000     331.710     360.488\n",
      "LOC_979      340.9884      7.321     46.579      0.000     326.640     355.337\n",
      "LOC_975      339.9148      7.174     47.382      0.000     325.854     353.976\n",
      "LOC_971      337.9104      7.237     46.692      0.000     323.726     352.095\n",
      "LOC_972      330.5468      7.305     45.249      0.000     316.229     344.865\n",
      "LOC_978      327.3905      7.375     44.390      0.000     312.935     341.846\n",
      "LOC_976      316.4565      7.159     44.206      0.000     302.425     330.488\n",
      "LOC_8689     502.2716    110.675      4.538      0.000     285.347     719.196\n",
      "LOC_1014     378.5342     34.018     11.127      0.000     311.858     445.210\n",
      "TRN_2       -519.7528     12.088    -42.996      0.000    -543.446    -496.059\n",
      "TRN_3       -537.2551     12.659    -42.441      0.000    -562.067    -512.444\n",
      "TRN_9       -313.9338     16.544    -18.976      0.000    -346.360    -281.508\n",
      "==============================================================================\n",
      "Omnibus:                    25640.518   Durbin-Watson:                   2.000\n",
      "Prob(Omnibus):                  0.000   Jarque-Bera (JB):          2437975.287\n",
      "Skew:                           1.351   Prob(JB):                         0.00\n",
      "Kurtosis:                      35.731   Cond. No.                     3.41e+04\n",
      "==============================================================================\n",
      "\n",
      "Warnings:\n",
      "[1] Standard Errors assume that the covariance matrix of the errors is correctly specified.\n",
      "[2] The condition number is large, 3.41e+04. This might indicate that there are\n",
      "strong multicollinearity or other numerical problems.\n"
     ]
    }
   ],
   "source": [
    "# In this case the forward or backward stepwise give the same predictors\n",
    "print(modelf_train.loc[59, \"model\"].summary())\n",
    "#print(modelb_train.loc[19, \"model\"].summary())\n"
   ]
  },
  {
   "cell_type": "code",
   "execution_count": 106,
   "metadata": {},
   "outputs": [
    {
     "name": "stdout",
     "output_type": "stream",
     "text": [
      "                            OLS Regression Results                            \n",
      "==============================================================================\n",
      "Dep. Variable:                 Liters   R-squared:                       0.952\n",
      "Model:                            OLS   Adj. R-squared:                  0.952\n",
      "Method:                 Least Squares   F-statistic:                 1.833e+04\n",
      "Date:                Fri, 15 Sep 2017   Prob (F-statistic):               0.00\n",
      "Time:                        15:42:06   Log-Likelihood:            -3.5098e+05\n",
      "No. Observations:               54248   AIC:                         7.021e+05\n",
      "Df Residuals:                   54189   BIC:                         7.026e+05\n",
      "Df Model:                          59                                         \n",
      "Covariance Type:            nonrobust                                         \n",
      "==============================================================================\n",
      "                 coef    std err          t      P>|t|      [0.025      0.975]\n",
      "------------------------------------------------------------------------------\n",
      "Kilometers     0.4925      0.012     40.972      0.000       0.469       0.516\n",
      "GTK_9        284.1627      3.669     77.449      0.000     276.971     291.354\n",
      "IsUnit       328.5178      5.736     57.277      0.000     317.276     339.760\n",
      "SD_3         400.4814      3.675    108.985      0.000     393.279     407.684\n",
      "Hours        -31.5624      0.213   -147.967      0.000     -31.980     -31.144\n",
      "SD_4         397.9832      4.063     97.953      0.000     390.020     405.947\n",
      "SD_2         325.2243      4.172     77.957      0.000     317.048     333.401\n",
      "LOC_347       -5.6133      5.161     -1.088      0.277     -15.729       4.502\n",
      "SD_6         334.3901      6.120     54.640      0.000     322.395     346.385\n",
      "LOC_851      203.1685      9.085     22.364      0.000     185.362     220.974\n",
      "LOC_2012     766.5113      7.717     99.323      0.000     751.385     781.637\n",
      "LOC_345       -4.9673     10.481     -0.474      0.636     -25.510      15.575\n",
      "LOC_2302     815.9649      9.398     86.823      0.000     797.545     834.385\n",
      "LOC_2011     723.1704      7.556     95.703      0.000     708.360     737.981\n",
      "LOC_2201     816.1873      9.150     89.206      0.000     798.254     834.120\n",
      "LOC_2303     821.1960      9.620     85.362      0.000     802.340     840.052\n",
      "LOC_2305     817.9447     10.004     81.763      0.000     798.337     837.552\n",
      "LOC_2301     787.4092      9.286     84.798      0.000     769.209     805.609\n",
      "SD_5         194.9504      6.367     30.617      0.000     182.470     207.430\n",
      "Tract        -60.7041      2.187    -27.753      0.000     -64.991     -56.417\n",
      "LOC_2307     817.6353     10.943     74.720      0.000     796.188     839.083\n",
      "TRN_4         23.6213      5.438      4.344      0.000      12.963      34.279\n",
      "TRN_11        16.1981      5.606      2.889      0.004       5.209      27.187\n",
      "LOC_2304     785.1855     10.714     73.286      0.000     764.186     806.185\n",
      "LOC_2306     831.0100     11.209     74.139      0.000     809.041     852.979\n",
      "TRN_10       -51.4140      7.030     -7.314      0.000     -65.193     -37.635\n",
      "TRN_8       -270.5651      8.458    -31.988      0.000    -287.144    -253.987\n",
      "LOC_2006     605.3753      7.146     84.711      0.000     591.368     619.382\n",
      "LOC_2004     601.7055      7.192     83.665      0.000     587.609     615.802\n",
      "LOC_2003     599.3624      7.184     83.425      0.000     585.281     613.444\n",
      "LOC_2001     595.8975      7.263     82.051      0.000     581.663     610.132\n",
      "LOC_2002     608.5606      7.216     84.329      0.000     594.416     622.705\n",
      "LOC_2009     585.6305      7.273     80.525      0.000     571.376     599.885\n",
      "LOC_2005     585.4989      7.119     82.249      0.000     571.546     599.451\n",
      "LOC_2000     577.2263      7.210     80.056      0.000     563.094     591.358\n",
      "LOC_2010     577.3699      7.238     79.769      0.000     563.183     591.557\n",
      "LOC_2007     570.2817      7.194     79.269      0.000     556.181     584.383\n",
      "LOC_2008     510.0322      7.104     71.791      0.000     496.107     523.957\n",
      "LOC_1201     465.0167      7.103     65.467      0.000     451.095     478.939\n",
      "LOC_1203     447.5952      7.307     61.260      0.000     433.274     461.916\n",
      "LOC_1601     432.1651      7.218     59.870      0.000     418.017     446.313\n",
      "LOC_1202     426.4260      7.227     59.003      0.000     412.261     440.591\n",
      "LOC_1602     404.4598      7.230     55.939      0.000     390.288     418.632\n",
      "TRN_6       -428.1800      9.956    -43.006      0.000    -447.694    -408.666\n",
      "LOC_966      526.5132     18.093     29.101      0.000     491.051     561.975\n",
      "LOC_973      363.5158      7.211     50.413      0.000     349.383     377.649\n",
      "LOC_977      353.2433      7.149     49.410      0.000     339.231     367.256\n",
      "LOC_974      346.0989      7.341     47.143      0.000     331.710     360.488\n",
      "LOC_979      340.9884      7.321     46.579      0.000     326.640     355.337\n",
      "LOC_975      339.9148      7.174     47.382      0.000     325.854     353.976\n",
      "LOC_971      337.9104      7.237     46.692      0.000     323.726     352.095\n",
      "LOC_972      330.5468      7.305     45.249      0.000     316.229     344.865\n",
      "LOC_978      327.3905      7.375     44.390      0.000     312.935     341.846\n",
      "LOC_976      316.4565      7.159     44.206      0.000     302.425     330.488\n",
      "LOC_8689     502.2716    110.675      4.538      0.000     285.347     719.196\n",
      "LOC_1014     378.5342     34.018     11.127      0.000     311.858     445.210\n",
      "TRN_2       -519.7528     12.088    -42.996      0.000    -543.446    -496.059\n",
      "TRN_3       -537.2551     12.659    -42.441      0.000    -562.067    -512.444\n",
      "TRN_9       -313.9338     16.544    -18.976      0.000    -346.360    -281.508\n",
      "==============================================================================\n",
      "Omnibus:                    25640.518   Durbin-Watson:                   2.000\n",
      "Prob(Omnibus):                  0.000   Jarque-Bera (JB):          2437975.287\n",
      "Skew:                           1.351   Prob(JB):                         0.00\n",
      "Kurtosis:                      35.731   Cond. No.                     3.41e+04\n",
      "==============================================================================\n",
      "\n",
      "Warnings:\n",
      "[1] Standard Errors assume that the covariance matrix of the errors is correctly specified.\n",
      "[2] The condition number is large, 3.41e+04. This might indicate that there are\n",
      "strong multicollinearity or other numerical problems.\n"
     ]
    }
   ],
   "source": [
    "print(models_cv.loc[59, \"model\"].summary())"
   ]
  },
  {
   "cell_type": "code",
   "execution_count": null,
   "metadata": {
    "collapsed": true
   },
   "outputs": [],
   "source": []
  },
  {
   "cell_type": "code",
   "execution_count": null,
   "metadata": {
    "collapsed": true
   },
   "outputs": [],
   "source": []
  },
  {
   "cell_type": "code",
   "execution_count": 50,
   "metadata": {},
   "outputs": [
    {
     "name": "stdout",
     "output_type": "stream",
     "text": [
      "OLS CV Training R2:   95.2% \n",
      "OLS CV Training MSE_resid: 24418.55 \n",
      "OLS CV Training RSS: 1479717778.37 Test RSS: 697162149.76\n",
      "OLS CV Training TSS: 9746640737.01 Test TSS: 4766021354.31\n",
      "OLS CV Training R2s:   84.8% Test R2s:   85.4%\n",
      "OLS CV Training MSE: 24545.37 Test MSE: 23478.22\n",
      "OLS CV Training RSE: 156.67 Test RSE: 153.23\n",
      "OLS Coeffients:     59 Train Q:  60285 Test Q:  29694 local Q:  89979\n"
     ]
    }
   ],
   "source": [
    "D_T_CV = min([rsquared.argmax(), aic.argmin(), bic.argmin()])\n",
    "feature_cols_CV = list(models_cv.loc[D_T_CV, \"model\"].model.exog_names)\n",
    "\n",
    "# We calculate the RSS with respect to the training data\n",
    "Y_pred_train = models_cv.loc[D_T_CV, \"model\"].predict(X_train[feature_cols_CV])\n",
    "RSS_TRAIN_CV = ((Y_pred_train - Y_train) ** 2).sum()\n",
    "TSS_TRAIN_CV = ((Y_train - Y_train.mean()) ** 2).sum()    \n",
    "N_TRAIN_CV = len(X_train)   \n",
    "RSE_TRAIN_CV = ((RSS_TRAIN_CV/(N_TRAIN_CV-2)) ** 0.5)\n",
    "# We calculate the RSS with respect to the test data\n",
    "Y_pred_test = models_cv.loc[D_T_CV, \"model\"].predict(X_test[feature_cols_CV])\n",
    "RSS_TEST_CV = ((Y_pred_test - Y_test) ** 2).sum()\n",
    "TSS_TEST_CV = ((Y_test - Y_test.mean()) ** 2).sum()  \n",
    "N_TEST_CV = len(X_test)  \n",
    "RSE_TEST_CV = ((RSS_TEST_CV/(N_TEST_CV-2)) ** 0.5)\n",
    "   \n",
    "MSE_TRAIN_CV = mean_squared_error(Y_train, Y_pred_train)    \n",
    "MSE_TEST_CV = mean_squared_error(Y_test, Y_pred_test)\n",
    "\n",
    "\n",
    "R2s_TRAIN_CV = r2_score(Y_train, Y_pred_train) \n",
    "R2s_TEST_CV = r2_score(Y_test, Y_pred_test) \n",
    "\n",
    "R2_TRAIN_CV = models_cv.loc[D_T_CV, \"model\"].rsquared\n",
    "MSEr_TRAIN_CV = models_cv.loc[D_T_CV, \"model\"].mse_resid\n",
    "#R2_TEST_CV = r2_score(Y_test, Y_pred_test) \n",
    "\n",
    "print(\"OLS CV Training R2: {0:6.1f}% \".format ((R2_TRAIN_CV*100)))  \n",
    "print(\"OLS CV Training MSE_resid: {0:6.2f} \".format ((MSEr_TRAIN_CV)))  \n",
    "print(\"OLS CV Training RSS: {0:6.2f} Test RSS: {1:6.2f}\".format (RSS_TRAIN_CV, RSS_TEST_CV))\n",
    "print(\"OLS CV Training TSS: {0:6.2f} Test TSS: {1:6.2f}\".format (TSS_TRAIN_CV, TSS_TEST_CV))\n",
    "print(\"OLS CV Training R2s: {0:6.1f}% Test R2s: {1:6.1f}%\".format ((R2s_TRAIN_CV*100), (R2s_TEST_CV*100)))   \n",
    "\n",
    "#print(\"OLS CV Training R2: {0:6.1f}% Test R2: {1:6.1f}%\".format (((1-(RSS_TRAIN_CV/TSS_TRAIN_CV))*100), ((1-(RSS_TEST_CV/TSS_TEST_CV))*100)))   \n",
    "print(\"OLS CV Training MSE: {0:6.2f} Test MSE: {1:6.2f}\".format (MSE_TRAIN_CV, MSE_TEST_CV))    \n",
    "print(\"OLS CV Training RSE: {0:6.2f} Test RSE: {1:6.2f}\".format (RSE_TRAIN_CV, RSE_TEST_CV))    \n",
    "print(\"OLS Coeffients: {0:6d} Train Q: {1:6d} Test Q: {2:6d} local Q: {3:6d}\".format (D_T_CV,N_TRAIN_CV,N_TEST_CV,N_TRAIN_CV+N_TEST_CV))\n",
    "\n",
    "\n",
    "Y_pred_loc_cv = models_cv.loc[D_T_CV, \"model\"].predict(X[feature_cols_CV])\n"
   ]
  },
  {
   "cell_type": "code",
   "execution_count": 51,
   "metadata": {},
   "outputs": [
    {
     "data": {
      "text/plain": [
       "<matplotlib.text.Text at 0x26c03c836a0>"
      ]
     },
     "execution_count": 51,
     "metadata": {},
     "output_type": "execute_result"
    },
    {
     "data": {
      "image/png": "[encoded data removed]",
      "text/plain": [
       "<matplotlib.figure.Figure at 0x26c03c49da0>"
      ]
     },
     "metadata": {},
     "output_type": "display_data"
    }
   ],
   "source": [
    "# Is the relationship linear\n",
    "plt.scatter(Y_pred_test, Y_test)\n",
    "plt.xlim( 0, 3000 ) \n",
    "plt.ylim( 0, 3000 ) \n",
    "plt.xlabel(\"Predicted CV Liters (LR)\")\n",
    "plt.ylabel(\"Actual\")\n",
    "plt.title(\"Relationship between CV and Liters\")"
   ]
  },
  {
   "cell_type": "code",
   "execution_count": 52,
   "metadata": {},
   "outputs": [
    {
     "data": {
      "text/plain": [
       "<matplotlib.text.Text at 0x26c01a23978>"
      ]
     },
     "execution_count": 52,
     "metadata": {},
     "output_type": "execute_result"
    },
    {
     "data": {
      "image/png": "[encoded data removed]",
      "text/plain": [
       "<matplotlib.figure.Figure at 0x26c01ff3a90>"
      ]
     },
     "metadata": {},
     "output_type": "display_data"
    }
   ],
   "source": [
    "plt.scatter(lm.predict(X_train), lm.predict(X_train) - Y_train, c='b', s=50, alpha=0.5)\n",
    "plt.scatter(lm.predict(X_test), lm.predict(X_test) - Y_test, c='g', s=50)\n",
    "plt.hlines(y = 0, xmin=0, xmax = 50)\n",
    "plt.title('Residual Plot using training (blue) and test (green) data')\n",
    "plt.ylabel('Residuals')\n",
    "plt.xlabel('Liters')"
   ]
  },
  {
   "cell_type": "markdown",
   "metadata": {
    "collapsed": true
   },
   "source": [
    "These funcitons on Ridge Regression and the Lasso is a Python adaptation of p. 251-255 of \"Introduction to Statistical Learning with Applications in R\" by Gareth James, Daniela Witten, Trevor Hastie and Robert Tibshirani. Adapted by R. Jordan Crouser at Smith College for SDS293: Machine Learning (Spring 2016).\n",
    "\n",
    "# Ridge Regression\n",
    "The ${\\tt Ridge()}$ function has an alpha argument ($\\lambda$, but with a different name!) that is used to tune the model. We'll generate an array of alpha values ranging from very big to very small, essentially\n",
    "covering the full range of scenarios from the null model containing\n",
    "only the intercept, to the least squares fit:"
   ]
  },
  {
   "cell_type": "code",
   "execution_count": 53,
   "metadata": {
    "collapsed": true
   },
   "outputs": [],
   "source": [
    "from sklearn.preprocessing import scale \n",
    "from sklearn import model_selection\n",
    "from sklearn.linear_model import Ridge, RidgeCV, Lasso, LassoCV\n",
    "from sklearn.metrics import mean_squared_error"
   ]
  },
  {
   "cell_type": "code",
   "execution_count": 54,
   "metadata": {
    "collapsed": true
   },
   "outputs": [],
   "source": [
    "alphas = 10**np.linspace(10,-2,100)*0.5\n",
    "#alphas"
   ]
  },
  {
   "cell_type": "markdown",
   "metadata": {},
   "source": [
    "Associated with each alpha value is a vector of ridge regression coefficients, which we'll\n",
    "store in a matrix ${\\tt coefs}$. In this case, it is a $25 \\times 100$\n",
    "matrix, with 25 rows (one for each predictor) and 100\n",
    "columns (one for each value of alpha). Remember that we'll want to standardize the\n",
    "variables so that they are on the same scale. To do this, we can use the\n",
    "${\\tt normalize=True}$ parameter:"
   ]
  },
  {
   "cell_type": "code",
   "execution_count": 55,
   "metadata": {},
   "outputs": [
    {
     "data": {
      "text/plain": [
       "(100, 60)"
      ]
     },
     "execution_count": 55,
     "metadata": {},
     "output_type": "execute_result"
    }
   ],
   "source": [
    "ridge = Ridge(normalize=True)\n",
    "coefs = []\n",
    "\n",
    "for a in alphas:\n",
    "    ridge.set_params(alpha=a)\n",
    "    ridge.fit(X, y)\n",
    "    coefs.append(ridge.coef_)\n",
    "    \n",
    "np.shape(coefs)"
   ]
  },
  {
   "cell_type": "code",
   "execution_count": 56,
   "metadata": {},
   "outputs": [
    {
     "data": {
      "text/plain": [
       "<matplotlib.text.Text at 0x26c03c17a58>"
      ]
     },
     "execution_count": 56,
     "metadata": {},
     "output_type": "execute_result"
    },
    {
     "data": {
      "image/png": "[encoded data removed]",
      "text/plain": [
       "<matplotlib.figure.Figure at 0x26c035b02b0>"
      ]
     },
     "metadata": {},
     "output_type": "display_data"
    }
   ],
   "source": [
    "# As the alpha grows we expect the estimates are much lower\n",
    "ax = plt.gca()\n",
    "ax.plot(alphas, coefs)\n",
    "ax.set_xscale('log')\n",
    "plt.axis('tight')\n",
    "plt.xlabel('alpha')\n",
    "plt.ylabel('weights')"
   ]
  },
  {
   "cell_type": "code",
   "execution_count": 57,
   "metadata": {},
   "outputs": [
    {
     "name": "stdout",
     "output_type": "stream",
     "text": [
      "83325.6575766\n"
     ]
    }
   ],
   "source": [
    "ridge2 = Ridge(alpha=4, normalize=True)\n",
    "ridge2.fit(X_train, Y_train)             # Fit a ridge regression on the training data\n",
    "pred2 = ridge2.predict(X_test)           # Use this model to predict the test data\n",
    "#print(pd.Series(ridge2.coef_, index=X.columns)) # Print coefficients\n",
    "print(mean_squared_error(Y_test, pred2))        # Calculate the test MSE"
   ]
  },
  {
   "cell_type": "markdown",
   "metadata": {
    "collapsed": true
   },
   "source": [
    "The test MSE when alpha = 4 is 133970. Now let's see what happens if we use a huge value of alpha, say $10^{10}$:"
   ]
  },
  {
   "cell_type": "code",
   "execution_count": 58,
   "metadata": {},
   "outputs": [
    {
     "name": "stdout",
     "output_type": "stream",
     "text": [
      "160504.945208\n"
     ]
    }
   ],
   "source": [
    "ridge3 = Ridge(alpha=10**10, normalize=True)\n",
    "ridge3.fit(X_train, Y_train)             # Fit a ridge regression on the training data\n",
    "pred3 = ridge3.predict(X_test)           # Use this model to predict the test data\n",
    "#print(pd.Series(ridge3.coef_, index=X.columns)) # Print coefficients\n",
    "print(mean_squared_error(Y_test, pred3))        # Calculate the test MSE"
   ]
  },
  {
   "cell_type": "markdown",
   "metadata": {
    "collapsed": true
   },
   "source": [
    "Instead of arbitrarily choosing alpha, it would be better to\n",
    "use cross-validation to choose the tuning parameter alpha. We can do this using\n",
    "the cross-validated ridge regression function, ${\\tt RidgeCV()}$. By default, the function\n",
    "performs generalized cross-validation (an efficient form of LOOCV), though this can be changed using the\n",
    "argument ${\\tt cv}$."
   ]
  },
  {
   "cell_type": "code",
   "execution_count": 59,
   "metadata": {},
   "outputs": [
    {
     "data": {
      "text/plain": [
       "0.0050000000000000001"
      ]
     },
     "execution_count": 59,
     "metadata": {},
     "output_type": "execute_result"
    }
   ],
   "source": [
    "ridgecv = RidgeCV(alphas=alphas, scoring='neg_mean_squared_error', normalize=True)\n",
    "ridgecv.fit(X_train, Y_train)\n",
    "ridgecv.alpha_"
   ]
  },
  {
   "cell_type": "code",
   "execution_count": 60,
   "metadata": {},
   "outputs": [
    {
     "data": {
      "text/plain": [
       "23738.843337045106"
      ]
     },
     "execution_count": 60,
     "metadata": {},
     "output_type": "execute_result"
    }
   ],
   "source": [
    "ridge_alph = Ridge(alpha=ridgecv.alpha_, normalize=True)\n",
    "ridge_alph.fit(X_train, Y_train)\n",
    "mean_squared_error(Y_test, ridge_alph.predict(X_test))"
   ]
  },
  {
   "cell_type": "markdown",
   "metadata": {},
   "source": [
    "This does not represent an improvement over the test MSE that we got using\n",
    "alpha $ = 0.005$. Finally, we refit our ridge regression model on the full data set,\n",
    "using the value of alpha chosen by cross-validation, and examine the coefficient\n",
    "estimates."
   ]
  },
  {
   "cell_type": "code",
   "execution_count": 61,
   "metadata": {},
   "outputs": [
    {
     "data": {
      "text/plain": [
       "Ridge(alpha=0.0050000000000000001, copy_X=True, fit_intercept=True,\n",
       "   max_iter=None, normalize=True, random_state=None, solver='auto',\n",
       "   tol=0.001)"
      ]
     },
     "execution_count": 61,
     "metadata": {},
     "output_type": "execute_result"
    }
   ],
   "source": [
    "# alpha 0.005\n",
    "ridge_alph.fit(X_test, Y_test)\n",
    "#pd.Series(ridge_alph.coef_, index=X_test.columns)"
   ]
  },
  {
   "cell_type": "code",
   "execution_count": 62,
   "metadata": {},
   "outputs": [
    {
     "name": "stdout",
     "output_type": "stream",
     "text": [
      "OLS ridge_alph Training RSS: 1499550691.79 Test RSS: 702515360.06\n",
      "OLS ridge_alph Training TSS: 9746640737.01 Test TSS: 4766021354.31\n",
      "OLS ridge_alph Training R2s:   84.6% Test R2s:   85.3%\n",
      "OLS ridge_alph Training MSE: 24874.36 Test MSE: 23658.50\n",
      "OLS ridge_alph Training RSE: 157.72 Test RSE: 153.82\n",
      "OLS Coeffients:     60 Train Q:  60285 Test Q:  29694 local Q:  89979\n"
     ]
    }
   ],
   "source": [
    "D_T_RDG = len(X_test.columns)\n",
    "feature_cols_RDG = list(X_test.columns)\n",
    "mean_squared_error(Y_test, ridge_alph.predict(X_test))\n",
    "# We calculate the RSS with respect to the training data\n",
    "Y_pred_train = ridge_alph.predict(X_train[feature_cols_RDG])\n",
    "RSS_TRAIN_RDG = ((Y_pred_train - Y_train) ** 2).sum()\n",
    "TSS_TRAIN_RDG = ((Y_train - Y_train.mean()) ** 2).sum()    \n",
    "N_TRAIN_RDG = len(X_train)   \n",
    "RSE_TRAIN_RDG = ((RSS_TRAIN_RDG/(N_TRAIN_RDG-2)) ** 0.5)\n",
    "# We calculate the RSS with respect to the test data\n",
    "Y_pred_test = ridge_alph.predict(X_test[feature_cols_RDG])\n",
    "RSS_TEST_RDG = ((Y_pred_test - Y_test) ** 2).sum()\n",
    "TSS_TEST_RDG = ((Y_test - Y_test.mean()) ** 2).sum()  \n",
    "N_TEST_RDG = len(X_test)  \n",
    "RSE_TEST_RDG = ((RSS_TEST_RDG/(N_TEST_RDG-2)) ** 0.5)\n",
    "   \n",
    "MSE_TRAIN_RDG = mean_squared_error(Y_train, Y_pred_train)    \n",
    "MSE_TEST_RDG = mean_squared_error(Y_test, Y_pred_test)\n",
    "\n",
    "\n",
    "R2s_TRAIN_RDG = r2_score(Y_train, Y_pred_train) \n",
    "R2s_TEST_RDG = r2_score(Y_test, Y_pred_test) \n",
    "\n",
    "#R2_TRAIN_RDG = ridge_alph.rsquared\n",
    "#MSEr_TRAIN_RDG = ridge_alph.mse_resid\n",
    "#R2_TEST_RDG = r2_score(Y_test, Y_pred_test) \n",
    "\n",
    "#print(\"OLS ridge_alph Training R2: {0:6.1f}% \".format ((R2_TRAIN_RDG*100)))  \n",
    "#print(\"OLS ridge_alph Training MSE_resid: {0:6.2f} \".format ((MSEr_TRAIN_RDG)))  \n",
    "print(\"OLS ridge_alph Training RSS: {0:6.2f} Test RSS: {1:6.2f}\".format (RSS_TRAIN_RDG, RSS_TEST_RDG))\n",
    "print(\"OLS ridge_alph Training TSS: {0:6.2f} Test TSS: {1:6.2f}\".format (TSS_TRAIN_RDG, TSS_TEST_RDG))\n",
    "print(\"OLS ridge_alph Training R2s: {0:6.1f}% Test R2s: {1:6.1f}%\".format ((R2s_TRAIN_RDG*100), (R2s_TEST_RDG*100)))   \n",
    "\n",
    "#print(\"OLS CV Training R2: {0:6.1f}% Test R2: {1:6.1f}%\".format (((1-(RSS_TRAIN_RDG/TSS_TRAIN_RDG))*100), ((1-(RSS_TEST_RDG/TSS_TEST_RDG))*100)))   \n",
    "print(\"OLS ridge_alph Training MSE: {0:6.2f} Test MSE: {1:6.2f}\".format (MSE_TRAIN_RDG, MSE_TEST_RDG))    \n",
    "print(\"OLS ridge_alph Training RSE: {0:6.2f} Test RSE: {1:6.2f}\".format (RSE_TRAIN_RDG, RSE_TEST_RDG))    \n",
    "print(\"OLS Coeffients: {0:6d} Train Q: {1:6d} Test Q: {2:6d} local Q: {3:6d}\".format (D_T_RDG,N_TRAIN_RDG,N_TEST_RDG,N_TRAIN_RDG+N_TEST_RDG))\n",
    "\n",
    "Y_pred_loc_rdg = ridge_alph.predict(X[feature_cols_RDG])\n"
   ]
  },
  {
   "cell_type": "code",
   "execution_count": 63,
   "metadata": {},
   "outputs": [
    {
     "data": {
      "text/plain": [
       "<matplotlib.text.Text at 0x26c083bd668>"
      ]
     },
     "execution_count": 63,
     "metadata": {},
     "output_type": "execute_result"
    },
    {
     "data": {
      "image/png": "[encoded data removed]",
      "text/plain": [
       "<matplotlib.figure.Figure at 0x26c083bd390>"
      ]
     },
     "metadata": {},
     "output_type": "display_data"
    }
   ],
   "source": [
    "# Is the relationship linear\n",
    "plt.scatter(Y_pred_test, Y_test)\n",
    "plt.xlim( 0, 3000 ) \n",
    "plt.ylim( 0, 3000 ) \n",
    "plt.xlabel(\"Predicted RDG Liters (LR)\")\n",
    "plt.ylabel(\"Actual\")\n",
    "plt.title(\"Relationship between RDG and Liters\")"
   ]
  },
  {
   "cell_type": "markdown",
   "metadata": {},
   "source": [
    "\n",
    "# The Lasso\n",
    "We saw that ridge regression in this case even with a wise choice of alpha cannot outperform least\n",
    "squares as well as the null model on fuel consumption data set. We now ask\n",
    "whether the lasso can yield either a more accurate or a more interpretable\n",
    "model than ridge regression. In order to fit a lasso model, we'll\n",
    "use the ${\\tt Lasso()}$ function; however, this time we'll need to include the argument ${\\tt max_iter=10000}$.\n",
    "Other than that change, we proceed just as we did in fitting a ridge model:"
   ]
  },
  {
   "cell_type": "code",
   "execution_count": 64,
   "metadata": {},
   "outputs": [
    {
     "data": {
      "text/plain": [
       "<matplotlib.text.Text at 0x26c07ec99b0>"
      ]
     },
     "execution_count": 64,
     "metadata": {},
     "output_type": "execute_result"
    },
    {
     "data": {
      "image/png": "[encoded data removed]",
      "text/plain": [
       "<matplotlib.figure.Figure at 0x26c0358cc50>"
      ]
     },
     "metadata": {},
     "output_type": "display_data"
    }
   ],
   "source": [
    "lasso = Lasso(max_iter=10000, normalize=True)\n",
    "coefs = []\n",
    "\n",
    "for a in alphas:\n",
    "    lasso.set_params(alpha=a)\n",
    "    lasso.fit(scale(X_train), Y_train)\n",
    "    coefs.append(lasso.coef_)\n",
    "    \n",
    "ax = plt.gca()\n",
    "ax.plot(alphas*2, coefs)\n",
    "ax.set_xscale('log')\n",
    "plt.axis('tight')\n",
    "plt.xlabel('alpha')\n",
    "plt.ylabel('weights')"
   ]
  },
  {
   "cell_type": "markdown",
   "metadata": {},
   "source": [
    "Notice that in the coefficient plot that depending on the choice of tuning\n",
    "parameter, some of the coefficients are exactly equal to zero. We now\n",
    "perform 10-fold cross-validation to choose the best alpha, refit the model, and compute the associated test error:"
   ]
  },
  {
   "cell_type": "code",
   "execution_count": 65,
   "metadata": {},
   "outputs": [
    {
     "data": {
      "text/plain": [
       "23648.830455128798"
      ]
     },
     "execution_count": 65,
     "metadata": {},
     "output_type": "execute_result"
    }
   ],
   "source": [
    "lassocv = LassoCV(alphas=None, cv=10, max_iter=100000, normalize=True)\n",
    "lassocv.fit(X_train, Y_train)\n",
    "\n",
    "lasso.set_params(alpha=lassocv.alpha_)\n",
    "lasso.fit(X_train, Y_train)\n",
    "mean_squared_error(Y_test, lasso.predict(X_test))"
   ]
  },
  {
   "cell_type": "code",
   "execution_count": 66,
   "metadata": {},
   "outputs": [
    {
     "data": {
      "text/plain": [
       "GTK_9         292.955889\n",
       "Hours         -30.235294\n",
       "Kilometers      0.520586\n",
       "IsUnit         92.543129\n",
       "Tract         -62.458122\n",
       "SD_2          302.062109\n",
       "SD_3          382.127773\n",
       "SD_4          375.586173\n",
       "SD_5          176.979737\n",
       "SD_6          315.105034\n",
       "TRN_2          15.314274\n",
       "TRN_3          -0.000000\n",
       "TRN_4          89.202333\n",
       "TRN_5          -3.825944\n",
       "TRN_6        -123.057818\n",
       "TRN_8          33.332712\n",
       "TRN_9          -2.221117\n",
       "TRN_10          9.957047\n",
       "TRN_11         82.608969\n",
       "LOC_345       -43.098036\n",
       "LOC_347       -46.256556\n",
       "LOC_851        85.652636\n",
       "LOC_966       406.431235\n",
       "LOC_971       227.416456\n",
       "LOC_972       217.176761\n",
       "LOC_973       254.493575\n",
       "LOC_974       235.229493\n",
       "LOC_975       227.894652\n",
       "LOC_976       205.067886\n",
       "LOC_977       239.656509\n",
       "LOC_978       215.030705\n",
       "LOC_979       229.317079\n",
       "LOC_1014      239.278317\n",
       "LOC_1201      354.634223\n",
       "LOC_1202      310.727560\n",
       "LOC_1203      337.544772\n",
       "LOC_1601      319.953033\n",
       "LOC_1602      288.615075\n",
       "LOC_2000      464.793492\n",
       "LOC_2001      483.366582\n",
       "LOC_2002      497.409187\n",
       "LOC_2003      483.862957\n",
       "LOC_2004      490.345651\n",
       "LOC_2005      472.726251\n",
       "LOC_2006      494.522185\n",
       "LOC_2007      458.321145\n",
       "LOC_2008      396.413128\n",
       "LOC_2009      474.413018\n",
       "LOC_2010      465.772372\n",
       "LOC_2011      610.928815\n",
       "LOC_2012      655.270944\n",
       "LOC_2201      706.927702\n",
       "LOC_2301      674.236198\n",
       "LOC_2302      701.446459\n",
       "LOC_2303      712.294186\n",
       "LOC_2304      674.952225\n",
       "LOC_2305      699.872701\n",
       "LOC_2306      721.067885\n",
       "LOC_2307      708.373631\n",
       "LOC_8689      340.614142\n",
       "dtype: float64"
      ]
     },
     "execution_count": 66,
     "metadata": {},
     "output_type": "execute_result"
    }
   ],
   "source": [
    "# Some of the coefficients are now reduced to exactly zero.\n",
    "pd.Series(lasso.coef_, index=X.columns)"
   ]
  },
  {
   "cell_type": "code",
   "execution_count": 67,
   "metadata": {},
   "outputs": [
    {
     "name": "stdout",
     "output_type": "stream",
     "text": [
      "OLS lasso Training RSS: 1488905572.99 Test RSS: 702228371.53\n",
      "OLS lasso Training TSS: 9746640737.01 Test TSS: 4766021354.31\n",
      "OLS lasso Training R2s:   84.7% Test R2s:   85.3%\n",
      "OLS lasso Training MSE: 24697.78 Test MSE: 23648.83\n",
      "OLS lasso Training RSE: 157.16 Test RSE: 153.79\n",
      "OLS Coeffients:     59 Train Q:  60285 Test Q:  29694 local Q:  89979\n"
     ]
    }
   ],
   "source": [
    "D_T_LSS = len(X_test.columns[lasso.coef_ != 0])\n",
    "feature_cols_LSS = list(X_test.columns)\n",
    "mean_squared_error(Y_test, lasso.predict(X_test))\n",
    "# We calculate the RSS with respect to the training data\n",
    "Y_pred_train = lasso.predict(X_train[feature_cols_LSS])\n",
    "RSS_TRAIN_LSS = ((Y_pred_train - Y_train) ** 2).sum()\n",
    "TSS_TRAIN_LSS = ((Y_train - Y_train.mean()) ** 2).sum()    \n",
    "N_TRAIN_LSS = len(X_train)   \n",
    "RSE_TRAIN_LSS = ((RSS_TRAIN_LSS/(N_TRAIN_LSS-2)) ** 0.5)\n",
    "# We calculate the RSS with respect to the test data\n",
    "Y_pred_test = lasso.predict(X_test[feature_cols_LSS])\n",
    "RSS_TEST_LSS = ((Y_pred_test - Y_test) ** 2).sum()\n",
    "TSS_TEST_LSS = ((Y_test - Y_test.mean()) ** 2).sum()  \n",
    "N_TEST_LSS = len(X_test)  \n",
    "RSE_TEST_LSS = ((RSS_TEST_LSS/(N_TEST_LSS-2)) ** 0.5)\n",
    "   \n",
    "MSE_TRAIN_LSS = mean_squared_error(Y_train, Y_pred_train)    \n",
    "MSE_TEST_LSS = mean_squared_error(Y_test, Y_pred_test)\n",
    "\n",
    "\n",
    "R2s_TRAIN_LSS = r2_score(Y_train, Y_pred_train) \n",
    "R2s_TEST_LSS = r2_score(Y_test, Y_pred_test) \n",
    "\n",
    "#R2_TRAIN_LSS = lasso.rsquared\n",
    "#MSEr_TRAIN_LSS = lasso.mse_resid\n",
    "#R2_TEST_LSS = r2_score(Y_test, Y_pred_test) \n",
    "\n",
    "#print(\"OLS lasso Training R2: {0:6.1f}% \".format ((R2_TRAIN_LSS*100)))  \n",
    "#print(\"OLS lasso Training MSE_resid: {0:6.2f} \".format ((MSEr_TRAIN_LSS)))  \n",
    "print(\"OLS lasso Training RSS: {0:6.2f} Test RSS: {1:6.2f}\".format (RSS_TRAIN_LSS, RSS_TEST_LSS))\n",
    "print(\"OLS lasso Training TSS: {0:6.2f} Test TSS: {1:6.2f}\".format (TSS_TRAIN_LSS, TSS_TEST_LSS))\n",
    "print(\"OLS lasso Training R2s: {0:6.1f}% Test R2s: {1:6.1f}%\".format ((R2s_TRAIN_LSS*100), (R2s_TEST_LSS*100)))   \n",
    "\n",
    "#print(\"OLS CV Training R2: {0:6.1f}% Test R2: {1:6.1f}%\".format (((1-(RSS_TRAIN_LSS/TSS_TRAIN_LSS))*100), ((1-(RSS_TEST_LSS/TSS_TEST_LSS))*100)))   \n",
    "print(\"OLS lasso Training MSE: {0:6.2f} Test MSE: {1:6.2f}\".format (MSE_TRAIN_LSS, MSE_TEST_LSS))    \n",
    "print(\"OLS lasso Training RSE: {0:6.2f} Test RSE: {1:6.2f}\".format (RSE_TRAIN_LSS, RSE_TEST_LSS))    \n",
    "print(\"OLS Coeffients: {0:6d} Train Q: {1:6d} Test Q: {2:6d} local Q: {3:6d}\".format (D_T_LSS,N_TRAIN_LSS,N_TEST_LSS,N_TRAIN_LSS+N_TEST_LSS))\n",
    "\n",
    "Y_pred_loc_lss = lasso.predict(X[feature_cols_LSS])\n"
   ]
  },
  {
   "cell_type": "markdown",
   "metadata": {},
   "source": [
    "This is not lower than the test set MSE of the null model and of\n",
    "least squares, and only a little worse than the test MSE of ridge regression with alpha\n",
    "chosen by cross-validation.\n",
    "\n",
    "However, the lasso could have a substantial advantage over ridge regression in\n",
    "that the resulting coefficient estimates are sparse. Here we see that 2 of\n",
    "the 25 coefficient estimates are exactly zero.  In this case it hasnt't, and neither the ridge or the lasso give us a better fit than the least squares with attribute selection:"
   ]
  },
  {
   "cell_type": "code",
   "execution_count": 68,
   "metadata": {},
   "outputs": [
    {
     "data": {
      "text/plain": [
       "<matplotlib.text.Text at 0x26c0a6c5780>"
      ]
     },
     "execution_count": 68,
     "metadata": {},
     "output_type": "execute_result"
    },
    {
     "data": {
      "image/png": "[encoded data removed]",
      "text/plain": [
       "<matplotlib.figure.Figure at 0x26c07ed7860>"
      ]
     },
     "metadata": {},
     "output_type": "display_data"
    }
   ],
   "source": [
    "# Is the relationship linear\n",
    "plt.scatter(Y_pred_test, Y_test)\n",
    "plt.xlim( 0, 3000 ) \n",
    "plt.ylim( 0, 3000 ) \n",
    "plt.xlabel(\"Predicted LSS Liters (LR)\")\n",
    "plt.ylabel(\"Actual\")\n",
    "plt.title(\"Relationship between LSS and Liters\")"
   ]
  },
  {
   "cell_type": "markdown",
   "metadata": {
    "collapsed": true
   },
   "source": [
    "# Fitting Regression Trees\n",
    "\n",
    "This exercise on Decision Trees is a Python adaptation of p. 324-331 of \"Introduction to Statistical Learning with\n",
    "Applications in R\" by Gareth James, Daniela Witten, Trevor Hastie and Robert Tibshirani. Original adaptation by J. Warmenhoven, updated by R. Jordan Crouser at Smith\n",
    "College for SDS293: Machine Learning (Spring 2016).\n",
    "\n",
    "Now let's try fitting a **regression tree** to the ${\\tt Fuel}$ data set. First, we use the\n",
    "training set, and fit the tree to the training data using ${\\tt Liters}$ (Fuel Consumption) as our response:"
   ]
  },
  {
   "cell_type": "code",
   "execution_count": 69,
   "metadata": {
    "collapsed": true
   },
   "outputs": [],
   "source": [
    "import graphviz\n",
    "from sklearn.tree import DecisionTreeRegressor, DecisionTreeClassifier, export_graphviz\n",
    "from sklearn.ensemble import RandomForestRegressor, GradientBoostingRegressor\n",
    "from sklearn.metrics import confusion_matrix, mean_squared_error"
   ]
  },
  {
   "cell_type": "code",
   "execution_count": 70,
   "metadata": {},
   "outputs": [
    {
     "data": {
      "text/plain": [
       "DecisionTreeRegressor(criterion='mse', max_depth=2, max_features=None,\n",
       "           max_leaf_nodes=None, min_impurity_split=1e-07,\n",
       "           min_samples_leaf=1, min_samples_split=2,\n",
       "           min_weight_fraction_leaf=0.0, presort=False, random_state=None,\n",
       "           splitter='best')"
      ]
     },
     "execution_count": 70,
     "metadata": {},
     "output_type": "execute_result"
    }
   ],
   "source": [
    "# Pruning not supported. Choosing max depth 2)\n",
    "dtr = DecisionTreeRegressor(max_depth=2)\n",
    "dtr.fit(X_train, Y_train)"
   ]
  },
  {
   "cell_type": "markdown",
   "metadata": {},
   "source": [
    "Let's take a look at the tree:"
   ]
  },
  {
   "cell_type": "code",
   "execution_count": 71,
   "metadata": {},
   "outputs": [
    {
     "data": {
      "image/svg+xml": [
       "<?xml version=\"1.0\" encoding=\"UTF-8\" standalone=\"no\"?>\r\n",
       "<!DOCTYPE svg PUBLIC \"-//W3C//DTD SVG 1.1//EN\"\r\n",
       " \"http://www.w3.org/Graphics/SVG/1.1/DTD/svg11.dtd\">\r\n",
       "<!-- Generated by graphviz version 2.38.0 (20140413.2041)\r\n",
       " -->\r\n",
       "<!-- Title: Tree Pages: 1 -->\r\n",
       "<svg width=\"534pt\" height=\"269pt\"\r\n",
       " viewBox=\"0.00 0.00 534.00 269.00\" xmlns=\"http://www.w3.org/2000/svg\" xmlns:xlink=\"http://www.w3.org/1999/xlink\">\r\n",
       "<g id=\"graph0\" class=\"graph\" transform=\"scale(1 1) rotate(0) translate(4 265)\">\r\n",
       "<title>Tree</title>\r\n",
       "<polygon fill=\"white\" stroke=\"none\" points=\"-4,4 -4,-265 530,-265 530,4 -4,4\"/>\r\n",
       "<!-- 0 -->\r\n",
       "<g id=\"node1\" class=\"node\"><title>0</title>\r\n",
       "<polygon fill=\"none\" stroke=\"black\" points=\"324.5,-261 202.5,-261 202.5,-193 324.5,-193 324.5,-261\"/>\r\n",
       "<text text-anchor=\"middle\" x=\"263.5\" y=\"-245.8\" font-family=\"Times New Roman,serif\" font-size=\"14.00\">GTK_9 &lt;= 0.1284</text>\r\n",
       "<text text-anchor=\"middle\" x=\"263.5\" y=\"-230.8\" font-family=\"Times New Roman,serif\" font-size=\"14.00\">mse = 161676.051</text>\r\n",
       "<text text-anchor=\"middle\" x=\"263.5\" y=\"-215.8\" font-family=\"Times New Roman,serif\" font-size=\"14.00\">samples = 60285</text>\r\n",
       "<text text-anchor=\"middle\" x=\"263.5\" y=\"-200.8\" font-family=\"Times New Roman,serif\" font-size=\"14.00\">value = 591.6415</text>\r\n",
       "</g>\r\n",
       "<!-- 1 -->\r\n",
       "<g id=\"node2\" class=\"node\"><title>1</title>\r\n",
       "<polygon fill=\"none\" stroke=\"black\" points=\"254,-157 135,-157 135,-89 254,-89 254,-157\"/>\r\n",
       "<text text-anchor=\"middle\" x=\"194.5\" y=\"-141.8\" font-family=\"Times New Roman,serif\" font-size=\"14.00\">Tract &lt;= 0.5</text>\r\n",
       "<text text-anchor=\"middle\" x=\"194.5\" y=\"-126.8\" font-family=\"Times New Roman,serif\" font-size=\"14.00\">mse = 85799.5516</text>\r\n",
       "<text text-anchor=\"middle\" x=\"194.5\" y=\"-111.8\" font-family=\"Times New Roman,serif\" font-size=\"14.00\">samples = 37845</text>\r\n",
       "<text text-anchor=\"middle\" x=\"194.5\" y=\"-96.8\" font-family=\"Times New Roman,serif\" font-size=\"14.00\">value = 354.9503</text>\r\n",
       "</g>\r\n",
       "<!-- 0&#45;&gt;1 -->\r\n",
       "<g id=\"edge1\" class=\"edge\"><title>0&#45;&gt;1</title>\r\n",
       "<path fill=\"none\" stroke=\"black\" d=\"M241.098,-192.884C235.253,-184.243 228.878,-174.819 222.772,-165.793\"/>\r\n",
       "<polygon fill=\"black\" stroke=\"black\" points=\"225.528,-163.621 217.026,-157.299 219.73,-167.543 225.528,-163.621\"/>\r\n",
       "<text text-anchor=\"middle\" x=\"212.289\" y=\"-178.146\" font-family=\"Times New Roman,serif\" font-size=\"14.00\">True</text>\r\n",
       "</g>\r\n",
       "<!-- 4 -->\r\n",
       "<g id=\"node5\" class=\"node\"><title>4</title>\r\n",
       "<polygon fill=\"none\" stroke=\"black\" points=\"394.5,-157 272.5,-157 272.5,-89 394.5,-89 394.5,-157\"/>\r\n",
       "<text text-anchor=\"middle\" x=\"333.5\" y=\"-141.8\" font-family=\"Times New Roman,serif\" font-size=\"14.00\">GTK_9 &lt;= 0.2281</text>\r\n",
       "<text text-anchor=\"middle\" x=\"333.5\" y=\"-126.8\" font-family=\"Times New Roman,serif\" font-size=\"14.00\">mse = 35815.55</text>\r\n",
       "<text text-anchor=\"middle\" x=\"333.5\" y=\"-111.8\" font-family=\"Times New Roman,serif\" font-size=\"14.00\">samples = 22440</text>\r\n",
       "<text text-anchor=\"middle\" x=\"333.5\" y=\"-96.8\" font-family=\"Times New Roman,serif\" font-size=\"14.00\">value = 990.8205</text>\r\n",
       "</g>\r\n",
       "<!-- 0&#45;&gt;4 -->\r\n",
       "<g id=\"edge4\" class=\"edge\"><title>0&#45;&gt;4</title>\r\n",
       "<path fill=\"none\" stroke=\"black\" d=\"M286.227,-192.884C292.157,-184.243 298.624,-174.819 304.819,-165.793\"/>\r\n",
       "<polygon fill=\"black\" stroke=\"black\" points=\"307.875,-167.525 310.647,-157.299 302.103,-163.564 307.875,-167.525\"/>\r\n",
       "<text text-anchor=\"middle\" x=\"315.22\" y=\"-178.178\" font-family=\"Times New Roman,serif\" font-size=\"14.00\">False</text>\r\n",
       "</g>\r\n",
       "<!-- 2 -->\r\n",
       "<g id=\"node3\" class=\"node\"><title>2</title>\r\n",
       "<polygon fill=\"none\" stroke=\"black\" points=\"119,-53 -7.10543e-015,-53 -7.10543e-015,-0 119,-0 119,-53\"/>\r\n",
       "<text text-anchor=\"middle\" x=\"59.5\" y=\"-37.8\" font-family=\"Times New Roman,serif\" font-size=\"14.00\">mse = 93777.1303</text>\r\n",
       "<text text-anchor=\"middle\" x=\"59.5\" y=\"-22.8\" font-family=\"Times New Roman,serif\" font-size=\"14.00\">samples = 4050</text>\r\n",
       "<text text-anchor=\"middle\" x=\"59.5\" y=\"-7.8\" font-family=\"Times New Roman,serif\" font-size=\"14.00\">value = 998.5153</text>\r\n",
       "</g>\r\n",
       "<!-- 1&#45;&gt;2 -->\r\n",
       "<g id=\"edge2\" class=\"edge\"><title>1&#45;&gt;2</title>\r\n",
       "<path fill=\"none\" stroke=\"black\" d=\"M147.284,-88.9485C133.431,-79.2516 118.322,-68.6752 104.604,-59.073\"/>\r\n",
       "<polygon fill=\"black\" stroke=\"black\" points=\"106.466,-56.1041 96.2667,-53.2367 102.452,-61.8387 106.466,-56.1041\"/>\r\n",
       "</g>\r\n",
       "<!-- 3 -->\r\n",
       "<g id=\"node4\" class=\"node\"><title>3</title>\r\n",
       "<polygon fill=\"none\" stroke=\"black\" points=\"256,-53 137,-53 137,-0 256,-0 256,-53\"/>\r\n",
       "<text text-anchor=\"middle\" x=\"196.5\" y=\"-37.8\" font-family=\"Times New Roman,serif\" font-size=\"14.00\">mse = 29260.3253</text>\r\n",
       "<text text-anchor=\"middle\" x=\"196.5\" y=\"-22.8\" font-family=\"Times New Roman,serif\" font-size=\"14.00\">samples = 33795</text>\r\n",
       "<text text-anchor=\"middle\" x=\"196.5\" y=\"-7.8\" font-family=\"Times New Roman,serif\" font-size=\"14.00\">value = 277.8253</text>\r\n",
       "</g>\r\n",
       "<!-- 1&#45;&gt;3 -->\r\n",
       "<g id=\"edge3\" class=\"edge\"><title>1&#45;&gt;3</title>\r\n",
       "<path fill=\"none\" stroke=\"black\" d=\"M195.2,-88.9485C195.374,-80.7153 195.561,-71.848 195.738,-63.4814\"/>\r\n",
       "<polygon fill=\"black\" stroke=\"black\" points=\"199.243,-63.3086 195.955,-53.2367 192.244,-63.1604 199.243,-63.3086\"/>\r\n",
       "</g>\r\n",
       "<!-- 5 -->\r\n",
       "<g id=\"node6\" class=\"node\"><title>5</title>\r\n",
       "<polygon fill=\"none\" stroke=\"black\" points=\"389,-53 276,-53 276,-0 389,-0 389,-53\"/>\r\n",
       "<text text-anchor=\"middle\" x=\"332.5\" y=\"-37.8\" font-family=\"Times New Roman,serif\" font-size=\"14.00\">mse = 26804.714</text>\r\n",
       "<text text-anchor=\"middle\" x=\"332.5\" y=\"-22.8\" font-family=\"Times New Roman,serif\" font-size=\"14.00\">samples = 4796</text>\r\n",
       "<text text-anchor=\"middle\" x=\"332.5\" y=\"-7.8\" font-family=\"Times New Roman,serif\" font-size=\"14.00\">value = 845.1007</text>\r\n",
       "</g>\r\n",
       "<!-- 4&#45;&gt;5 -->\r\n",
       "<g id=\"edge5\" class=\"edge\"><title>4&#45;&gt;5</title>\r\n",
       "<path fill=\"none\" stroke=\"black\" d=\"M333.15,-88.9485C333.063,-80.7153 332.969,-71.848 332.881,-63.4814\"/>\r\n",
       "<polygon fill=\"black\" stroke=\"black\" points=\"336.378,-63.1991 332.772,-53.2367 329.378,-63.2732 336.378,-63.1991\"/>\r\n",
       "</g>\r\n",
       "<!-- 6 -->\r\n",
       "<g id=\"node7\" class=\"node\"><title>6</title>\r\n",
       "<polygon fill=\"none\" stroke=\"black\" points=\"526,-53 407,-53 407,-0 526,-0 526,-53\"/>\r\n",
       "<text text-anchor=\"middle\" x=\"466.5\" y=\"-37.8\" font-family=\"Times New Roman,serif\" font-size=\"14.00\">mse = 30924.0567</text>\r\n",
       "<text text-anchor=\"middle\" x=\"466.5\" y=\"-22.8\" font-family=\"Times New Roman,serif\" font-size=\"14.00\">samples = 17644</text>\r\n",
       "<text text-anchor=\"middle\" x=\"466.5\" y=\"-7.8\" font-family=\"Times New Roman,serif\" font-size=\"14.00\">value = 1030.4301</text>\r\n",
       "</g>\r\n",
       "<!-- 4&#45;&gt;6 -->\r\n",
       "<g id=\"edge6\" class=\"edge\"><title>4&#45;&gt;6</title>\r\n",
       "<path fill=\"none\" stroke=\"black\" d=\"M380.017,-88.9485C393.664,-79.2516 408.55,-68.6752 422.064,-59.073\"/>\r\n",
       "<polygon fill=\"black\" stroke=\"black\" points=\"424.153,-61.882 430.278,-53.2367 420.099,-56.1757 424.153,-61.882\"/>\r\n",
       "</g>\r\n",
       "</g>\r\n",
       "</svg>\r\n"
      ],
      "text/plain": [
       "<graphviz.files.Source at 0x26c08ede198>"
      ]
     },
     "execution_count": 71,
     "metadata": {},
     "output_type": "execute_result"
    }
   ],
   "source": [
    "export_graphviz(dtr, out_file=\"mytree.dot\", feature_names=X_train.columns)\n",
    "with open(\"mytree.dot\") as f:\n",
    "    dot_graph = f.read()\n",
    "graphviz.Source(dot_graph)"
   ]
  },
  {
   "cell_type": "markdown",
   "metadata": {},
   "source": [
    "Now let's see how it does on the test data:"
   ]
  },
  {
   "cell_type": "code",
   "execution_count": 72,
   "metadata": {},
   "outputs": [
    {
     "data": {
      "text/plain": [
       "32345.289672205738"
      ]
     },
     "execution_count": 72,
     "metadata": {},
     "output_type": "execute_result"
    },
    {
     "data": {
      "image/png": "[encoded data removed]",
      "text/plain": [
       "<matplotlib.figure.Figure at 0x26c0a798d68>"
      ]
     },
     "metadata": {},
     "output_type": "display_data"
    }
   ],
   "source": [
    "pred = dtr.predict(X_test)\n",
    "\n",
    "plt.scatter(pred, Y_test, label='Liters')\n",
    "plt.plot([0, 1], [0, 1], '--k', transform=plt.gca().transAxes)\n",
    "plt.xlabel('pred')\n",
    "plt.ylabel('Liters DTR')\n",
    "plt.xlim( 0, 4000 ) \n",
    "plt.ylim( 0, 4000 ) \n",
    "mean_squared_error(Y_test, pred)"
   ]
  },
  {
   "cell_type": "code",
   "execution_count": 73,
   "metadata": {},
   "outputs": [
    {
     "name": "stdout",
     "output_type": "stream",
     "text": [
      "Tree dtr Training RSS: 2042829534.52 Test RSS: 960461031.53\n",
      "Tree dtr Training TSS: 9746640737.01 Test TSS: 4766021354.31\n",
      "Tree dtr Training R2s:   79.0% Test R2s:   79.8%\n",
      "Tree dtr Training MSE: 33886.20 Test MSE: 32345.29\n",
      "Tree dtr Training RSE: 184.09 Test RSE: 179.85\n",
      "Tree Coeffients:     60 Train Q:  60285 Test Q:  29694 local Q:  89979\n"
     ]
    }
   ],
   "source": [
    "D_T_dtr = len(X_test.columns)\n",
    "feature_cols_dtr = list(X_test.columns)\n",
    "mean_squared_error(Y_test, dtr.predict(X_test))\n",
    "# We calculate the RSS with respect to the training data\n",
    "Y_pred_train = dtr.predict(X_train[feature_cols_dtr])\n",
    "RSS_TRAIN_dtr = ((Y_pred_train - Y_train) ** 2).sum()\n",
    "TSS_TRAIN_dtr = ((Y_train - Y_train.mean()) ** 2).sum()    \n",
    "N_TRAIN_dtr = len(X_train)   \n",
    "RSE_TRAIN_dtr = ((RSS_TRAIN_dtr/(N_TRAIN_dtr-2)) ** 0.5)\n",
    "# We calculate the RSS with respect to the test data\n",
    "Y_pred_test = dtr.predict(X_test[feature_cols_dtr])\n",
    "RSS_TEST_dtr = ((Y_pred_test - Y_test) ** 2).sum()\n",
    "TSS_TEST_dtr = ((Y_test - Y_test.mean()) ** 2).sum()  \n",
    "N_TEST_dtr = len(X_test)  \n",
    "RSE_TEST_dtr = ((RSS_TEST_dtr/(N_TEST_dtr-2)) ** 0.5)\n",
    "   \n",
    "MSE_TRAIN_dtr = mean_squared_error(Y_train, Y_pred_train)    \n",
    "MSE_TEST_dtr = mean_squared_error(Y_test, Y_pred_test)\n",
    "\n",
    "\n",
    "R2s_TRAIN_dtr = r2_score(Y_train, Y_pred_train) \n",
    "R2s_TEST_dtr = r2_score(Y_test, Y_pred_test) \n",
    "\n",
    "\n",
    "print(\"Tree dtr Training RSS: {0:6.2f} Test RSS: {1:6.2f}\".format (RSS_TRAIN_dtr, RSS_TEST_dtr))\n",
    "print(\"Tree dtr Training TSS: {0:6.2f} Test TSS: {1:6.2f}\".format (TSS_TRAIN_dtr, TSS_TEST_dtr))\n",
    "print(\"Tree dtr Training R2s: {0:6.1f}% Test R2s: {1:6.1f}%\".format ((R2s_TRAIN_dtr*100), (R2s_TEST_dtr*100)))   \n",
    "\n",
    "  \n",
    "print(\"Tree dtr Training MSE: {0:6.2f} Test MSE: {1:6.2f}\".format (MSE_TRAIN_dtr, MSE_TEST_dtr))    \n",
    "print(\"Tree dtr Training RSE: {0:6.2f} Test RSE: {1:6.2f}\".format (RSE_TRAIN_dtr, RSE_TEST_dtr))    \n",
    "print(\"Tree Coeffients: {0:6d} Train Q: {1:6d} Test Q: {2:6d} local Q: {3:6d}\".format (D_T_dtr,N_TRAIN_dtr,N_TEST_dtr,N_TRAIN_dtr+N_TEST_dtr))\n",
    "\n",
    "\n",
    "Y_pred_loc_dtr = dtr.predict(X_test[feature_cols_dtr])\n"
   ]
  },
  {
   "cell_type": "markdown",
   "metadata": {
    "collapsed": true
   },
   "source": [
    "The test set MSE associated with the regression tree is\n",
    "74379. The square root of the MSE is therefore around 272.7, indicating\n",
    "that this model leads to test predictions that are within around 270 liters of\n",
    "the true fuel for the train.\n",
    "    \n",
    "# 8.3.3 Bagging and Random Forests\n",
    "\n",
    "Let's see if we can improve on this result using **bagging** and **random forests**. The exact results obtained in this section may\n",
    "depend on the version of ${\\tt python}$ and the version of the ${\\tt RandomForestRegressor}$ package\n",
    "installed on your computer, so don't stress out if you don't match up exactly with the book. Recall that **bagging** is simply a special case of\n",
    "a **random forest** with $m = p$. Therefore, the ${\\tt RandomForestRegressor()}$ function can\n",
    "be used to perform both random forests and bagging. Let's start with bagging:"
   ]
  },
  {
   "cell_type": "code",
   "execution_count": 74,
   "metadata": {},
   "outputs": [
    {
     "data": {
      "text/plain": [
       "RandomForestRegressor(bootstrap=True, criterion='mse', max_depth=None,\n",
       "           max_features=25, max_leaf_nodes=None, min_impurity_split=1e-07,\n",
       "           min_samples_leaf=1, min_samples_split=2,\n",
       "           min_weight_fraction_leaf=0.0, n_estimators=10, n_jobs=1,\n",
       "           oob_score=False, random_state=1, verbose=0, warm_start=False)"
      ]
     },
     "execution_count": 74,
     "metadata": {},
     "output_type": "execute_result"
    }
   ],
   "source": [
    "# Bagging: using all features\n",
    "bagging = RandomForestRegressor(max_features=25, random_state=1)\n",
    "bagging.fit(X_train, Y_train)"
   ]
  },
  {
   "cell_type": "markdown",
   "metadata": {},
   "source": [
    "The argument ${\\tt max\\_features=25}$ indicates that all 25 predictors should be considered\n",
    "for each split of the tree -- in other words, that bagging should be done. How\n",
    "well does this bagged model perform on the test set?"
   ]
  },
  {
   "cell_type": "code",
   "execution_count": 75,
   "metadata": {},
   "outputs": [
    {
     "data": {
      "text/plain": [
       "9648.5448049480601"
      ]
     },
     "execution_count": 75,
     "metadata": {},
     "output_type": "execute_result"
    },
    {
     "data": {
      "image/png": "[encoded data removed]",
      "text/plain": [
       "<matplotlib.figure.Figure at 0x26c0a787fd0>"
      ]
     },
     "metadata": {},
     "output_type": "display_data"
    }
   ],
   "source": [
    "pred = bagging.predict(X_test)\n",
    "plt.scatter(pred, Y_test, label='Liters')\n",
    "plt.plot([0, 1], [0, 1], '--k', transform=plt.gca().transAxes)\n",
    "plt.xlabel('pred')\n",
    "plt.ylabel('Liters Bagging')\n",
    "plt.xlim( 0, 4000 ) \n",
    "plt.ylim( 0, 4000 ) \n",
    "mean_squared_error(Y_test, pred)"
   ]
  },
  {
   "cell_type": "code",
   "execution_count": 76,
   "metadata": {},
   "outputs": [
    {
     "name": "stdout",
     "output_type": "stream",
     "text": [
      "Tree bagging Training RSS: 208904102.17 Test RSS: 286503889.44\n",
      "Tree bagging Training TSS: 9746640737.01 Test TSS: 4766021354.31\n",
      "Tree bagging Training R2s:   97.9% Test R2s:   94.0%\n",
      "Tree bagging Training MSE: 3465.27 Test MSE: 9648.54\n",
      "Tree bagging Training RSE:  58.87 Test RSE:  98.23\n",
      "Tree Coeffients:     60 Train Q:  60285 Test Q:  29694 local Q:  89979\n"
     ]
    }
   ],
   "source": [
    "D_T_bagging = len(X_test.columns)\n",
    "feature_cols_bagging = list(X_test.columns)\n",
    "mean_squared_error(Y_test, bagging.predict(X_test))\n",
    "# We calculate the RSS with respect to the training data\n",
    "Y_pred_train = bagging.predict(X_train[feature_cols_bagging])\n",
    "RSS_TRAIN_bagging = ((Y_pred_train - Y_train) ** 2).sum()\n",
    "TSS_TRAIN_bagging = ((Y_train - Y_train.mean()) ** 2).sum()    \n",
    "N_TRAIN_bagging = len(X_train)   \n",
    "RSE_TRAIN_bagging = ((RSS_TRAIN_bagging/(N_TRAIN_bagging-2)) ** 0.5)\n",
    "# We calculate the RSS with respect to the test data\n",
    "Y_pred_test = bagging.predict(X_test[feature_cols_bagging])\n",
    "RSS_TEST_bagging = ((Y_pred_test - Y_test) ** 2).sum()\n",
    "TSS_TEST_bagging = ((Y_test - Y_test.mean()) ** 2).sum()  \n",
    "N_TEST_bagging = len(X_test)  \n",
    "RSE_TEST_bagging = ((RSS_TEST_bagging/(N_TEST_bagging-2)) ** 0.5)\n",
    "   \n",
    "MSE_TRAIN_bagging = mean_squared_error(Y_train, Y_pred_train)    \n",
    "MSE_TEST_bagging = mean_squared_error(Y_test, Y_pred_test)\n",
    "\n",
    "\n",
    "R2s_TRAIN_bagging = r2_score(Y_train, Y_pred_train) \n",
    "R2s_TEST_bagging = r2_score(Y_test, Y_pred_test) \n",
    "\n",
    "\n",
    "print(\"Tree bagging Training RSS: {0:6.2f} Test RSS: {1:6.2f}\".format (RSS_TRAIN_bagging, RSS_TEST_bagging))\n",
    "print(\"Tree bagging Training TSS: {0:6.2f} Test TSS: {1:6.2f}\".format (TSS_TRAIN_bagging, TSS_TEST_bagging))\n",
    "print(\"Tree bagging Training R2s: {0:6.1f}% Test R2s: {1:6.1f}%\".format ((R2s_TRAIN_bagging*100), (R2s_TEST_bagging*100)))   \n",
    "\n",
    "  \n",
    "print(\"Tree bagging Training MSE: {0:6.2f} Test MSE: {1:6.2f}\".format (MSE_TRAIN_bagging, MSE_TEST_bagging))    \n",
    "print(\"Tree bagging Training RSE: {0:6.2f} Test RSE: {1:6.2f}\".format (RSE_TRAIN_bagging, RSE_TEST_bagging))    \n",
    "print(\"Tree Coeffients: {0:6d} Train Q: {1:6d} Test Q: {2:6d} local Q: {3:6d}\".format (D_T_bagging,N_TRAIN_bagging,N_TEST_bagging,N_TRAIN_bagging+N_TEST_bagging))\n",
    "\n",
    "Y_pred_loc_bgg = bagging.predict(X[feature_cols_bagging])\n",
    "\n"
   ]
  },
  {
   "cell_type": "code",
   "execution_count": 77,
   "metadata": {},
   "outputs": [
    {
     "data": {
      "image/png": "[encoded data removed]",
      "text/plain": [
       "<matplotlib.figure.Figure at 0x26c0b50d898>"
      ]
     },
     "metadata": {},
     "output_type": "display_data"
    }
   ],
   "source": [
    "feature_importance = bagging.feature_importances_*100\n",
    "rel_imp = pd.Series(feature_importance[0:15], index=X.columns[0:15]).sort_values(inplace=False)\n",
    "rel_imp.T.plot(kind='barh', color='r', )\n",
    "plt.xlabel('Variable Importance Random Forest')\n",
    "plt.gca().legend_ = None"
   ]
  },
  {
   "cell_type": "markdown",
   "metadata": {
    "collapsed": true
   },
   "source": [
    "We can grow a random forest in exactly the same way, except that\n",
    "we'll use a smaller value of the ${\\tt max\\_features}$ argument. Here we'll\n",
    "use ${\\tt max\\_features = 6}$:"
   ]
  },
  {
   "cell_type": "code",
   "execution_count": 78,
   "metadata": {},
   "outputs": [
    {
     "data": {
      "text/plain": [
       "RandomForestRegressor(bootstrap=True, criterion='mse', max_depth=None,\n",
       "           max_features=6, max_leaf_nodes=None, min_impurity_split=1e-07,\n",
       "           min_samples_leaf=1, min_samples_split=2,\n",
       "           min_weight_fraction_leaf=0.0, n_estimators=10, n_jobs=1,\n",
       "           oob_score=False, random_state=1, verbose=0, warm_start=False)"
      ]
     },
     "execution_count": 78,
     "metadata": {},
     "output_type": "execute_result"
    }
   ],
   "source": [
    "# Random forests: using 6 features\n",
    "rd_ft = RandomForestRegressor(max_features=6, random_state=1)\n",
    "rd_ft.fit(X_train, Y_train)\n"
   ]
  },
  {
   "cell_type": "code",
   "execution_count": 79,
   "metadata": {},
   "outputs": [
    {
     "data": {
      "text/plain": [
       "10431.164059852166"
      ]
     },
     "execution_count": 79,
     "metadata": {},
     "output_type": "execute_result"
    },
    {
     "data": {
      "image/png": "[encoded data removed]",
      "text/plain": [
       "<matplotlib.figure.Figure at 0x26c0b499f28>"
      ]
     },
     "metadata": {},
     "output_type": "display_data"
    }
   ],
   "source": [
    "pred = rd_ft.predict(X_test)\n",
    "plt.scatter(pred, Y_test, label='Liters')\n",
    "plt.plot([0, 1], [0, 1], '--k', transform=plt.gca().transAxes)\n",
    "plt.xlabel('pred')\n",
    "plt.ylabel('Liters Random Forest')\n",
    "plt.xlim( 0, 4000 ) \n",
    "plt.ylim( 0, 4000 ) \n",
    "mean_squared_error(Y_test, pred)"
   ]
  },
  {
   "cell_type": "code",
   "execution_count": 80,
   "metadata": {},
   "outputs": [
    {
     "name": "stdout",
     "output_type": "stream",
     "text": [
      "Tree rd_ft Training RSS: 216901422.04 Test RSS: 309742985.59\n",
      "Tree rd_ft Training TSS: 9746640737.01 Test TSS: 4766021354.31\n",
      "Tree rd_ft Training R2s:   97.8% Test R2s:   93.5%\n",
      "Tree rd_ft Training MSE: 3597.93 Test MSE: 10431.16\n",
      "Tree rd_ft Training RSE:  59.98 Test RSE: 102.14\n",
      "Tree Coeffients:     60 Train Q:  60285 Test Q:  29694 local Q:  89979\n"
     ]
    }
   ],
   "source": [
    "D_T_rd_ft = len(X_test.columns)\n",
    "feature_cols_rd_ft = list(X_test.columns)\n",
    "mean_squared_error(Y_test, rd_ft.predict(X_test))\n",
    "# We calculate the RSS with respect to the training data\n",
    "Y_pred_train = rd_ft.predict(X_train[feature_cols_rd_ft])\n",
    "RSS_TRAIN_rd_ft = ((Y_pred_train - Y_train) ** 2).sum()\n",
    "TSS_TRAIN_rd_ft = ((Y_train - Y_train.mean()) ** 2).sum()    \n",
    "N_TRAIN_rd_ft = len(X_train)   \n",
    "RSE_TRAIN_rd_ft = ((RSS_TRAIN_rd_ft/(N_TRAIN_rd_ft-2)) ** 0.5)\n",
    "# We calculate the RSS with respect to the test data\n",
    "Y_pred_test = rd_ft.predict(X_test[feature_cols_rd_ft])\n",
    "RSS_TEST_rd_ft = ((Y_pred_test - Y_test) ** 2).sum()\n",
    "TSS_TEST_rd_ft = ((Y_test - Y_test.mean()) ** 2).sum()  \n",
    "N_TEST_rd_ft = len(X_test)  \n",
    "RSE_TEST_rd_ft = ((RSS_TEST_rd_ft/(N_TEST_rd_ft-2)) ** 0.5)\n",
    "   \n",
    "MSE_TRAIN_rd_ft = mean_squared_error(Y_train, Y_pred_train)    \n",
    "MSE_TEST_rd_ft = mean_squared_error(Y_test, Y_pred_test)\n",
    "\n",
    "\n",
    "R2s_TRAIN_rd_ft = r2_score(Y_train, Y_pred_train) \n",
    "R2s_TEST_rd_ft = r2_score(Y_test, Y_pred_test) \n",
    "\n",
    "\n",
    "print(\"Tree rd_ft Training RSS: {0:6.2f} Test RSS: {1:6.2f}\".format (RSS_TRAIN_rd_ft, RSS_TEST_rd_ft))\n",
    "print(\"Tree rd_ft Training TSS: {0:6.2f} Test TSS: {1:6.2f}\".format (TSS_TRAIN_rd_ft, TSS_TEST_rd_ft))\n",
    "print(\"Tree rd_ft Training R2s: {0:6.1f}% Test R2s: {1:6.1f}%\".format ((R2s_TRAIN_rd_ft*100), (R2s_TEST_rd_ft*100)))   \n",
    "\n",
    "  \n",
    "print(\"Tree rd_ft Training MSE: {0:6.2f} Test MSE: {1:6.2f}\".format (MSE_TRAIN_rd_ft, MSE_TEST_rd_ft))    \n",
    "print(\"Tree rd_ft Training RSE: {0:6.2f} Test RSE: {1:6.2f}\".format (RSE_TRAIN_rd_ft, RSE_TEST_rd_ft))    \n",
    "print(\"Tree Coeffients: {0:6d} Train Q: {1:6d} Test Q: {2:6d} local Q: {3:6d}\".format (D_T_rd_ft,N_TRAIN_rd_ft,N_TEST_rd_ft,N_TRAIN_rd_ft+N_TEST_rd_ft))\n",
    "\n",
    "\n",
    "Y_pred_loc_rd_ft = rd_ft.predict(X[feature_cols_rd_ft])\n"
   ]
  },
  {
   "cell_type": "markdown",
   "metadata": {
    "collapsed": true
   },
   "source": [
    "The test set MSE is even lower; this indicates that random forests yielded an\n",
    "improvement over bagging in this case.\n",
    "\n",
    "Using the ${\\tt feature\\_importances\\_}$ attribute of the ${\\tt RandomForestRegressor}$, we can view the importance of each\n",
    "variable:"
   ]
  },
  {
   "cell_type": "code",
   "execution_count": 81,
   "metadata": {},
   "outputs": [
    {
     "data": {
      "image/png": "[encoded data removed]",
      "text/plain": [
       "<matplotlib.figure.Figure at 0x26c0af3c6a0>"
      ]
     },
     "metadata": {},
     "output_type": "display_data"
    }
   ],
   "source": [
    "feature_importance = rd_ft.feature_importances_*100\n",
    "rel_imp = pd.Series(feature_importance[0:15], index=X.columns[0:15]).sort_values(inplace=False)\n",
    "rel_imp.T.plot(kind='barh', color='r', )\n",
    "plt.xlabel('Variable Importance Random Forest')\n",
    "plt.gca().legend_ = None"
   ]
  },
  {
   "cell_type": "markdown",
   "metadata": {
    "collapsed": true
   },
   "source": [
    "The results indicate that across all of the trees considered in the random\n",
    "forest, the Gross Ton Kilometers (${\\tt GTK_9}$) , the locomotive type (${\\tt MOD_38}$) , and the time type (${\\tt Hours}$)\n",
    "are by far the three most important variables."
   ]
  },
  {
   "cell_type": "markdown",
   "metadata": {
    "collapsed": true
   },
   "source": [
    "# Boosting\n",
    "\n",
    "Now we'll use the ${\\tt GradientBoostingRegressor}$ package to fit **boosted\n",
    "regression trees** to the ${\\tt Fuel}$ data set. The\n",
    "argument ${\\tt n_estimators=500}$ indicates that we want 500 trees, and the option\n",
    "${\\tt interaction.depth=4}$ limits the depth of each tree:"
   ]
  },
  {
   "cell_type": "code",
   "execution_count": 82,
   "metadata": {},
   "outputs": [
    {
     "data": {
      "text/plain": [
       "GradientBoostingRegressor(alpha=0.9, criterion='friedman_mse', init=None,\n",
       "             learning_rate=0.01, loss='ls', max_depth=4, max_features=None,\n",
       "             max_leaf_nodes=None, min_impurity_split=1e-07,\n",
       "             min_samples_leaf=1, min_samples_split=2,\n",
       "             min_weight_fraction_leaf=0.0, n_estimators=500,\n",
       "             presort='auto', random_state=1, subsample=1.0, verbose=0,\n",
       "             warm_start=False)"
      ]
     },
     "execution_count": 82,
     "metadata": {},
     "output_type": "execute_result"
    }
   ],
   "source": [
    "boost = GradientBoostingRegressor(n_estimators=500, learning_rate=0.01, max_depth=4, random_state=1)\n",
    "boost.fit(X_train, Y_train)"
   ]
  },
  {
   "cell_type": "code",
   "execution_count": 83,
   "metadata": {},
   "outputs": [
    {
     "data": {
      "text/plain": [
       "11424.781255209109"
      ]
     },
     "execution_count": 83,
     "metadata": {},
     "output_type": "execute_result"
    },
    {
     "data": {
      "image/png": "[encoded data removed]",
      "text/plain": [
       "<matplotlib.figure.Figure at 0x26c0a7b35c0>"
      ]
     },
     "metadata": {},
     "output_type": "display_data"
    }
   ],
   "source": [
    "pred = boost.predict(X_test)\n",
    "plt.scatter(pred, Y_test, label='Liters')\n",
    "plt.plot([0, 1], [0, 1], '--k', transform=plt.gca().transAxes)\n",
    "plt.xlabel('pred')\n",
    "plt.ylabel('Liters Boosting')\n",
    "plt.xlim( 0, 4000 ) \n",
    "plt.ylim( 0, 4000 ) \n",
    "mean_squared_error(Y_test, pred)"
   ]
  },
  {
   "cell_type": "code",
   "execution_count": 84,
   "metadata": {},
   "outputs": [
    {
     "name": "stdout",
     "output_type": "stream",
     "text": [
      "Tree boost Training RSS: 762629837.65 Test RSS: 339247454.59\n",
      "Tree boost Training TSS: 9746640737.01 Test TSS: 4766021354.31\n",
      "Tree boost Training R2s:   92.2% Test R2s:   92.9%\n",
      "Tree boost Training MSE: 12650.41 Test MSE: 11424.78\n",
      "Tree boost Training RSE: 112.48 Test RSE: 106.89\n",
      "Tree Coeffients:     60 Train Q:  60285 Test Q:  29694 local Q:  89979\n"
     ]
    }
   ],
   "source": [
    "D_T_boost = len(X_test.columns)\n",
    "feature_cols_boost = list(X_test.columns)\n",
    "mean_squared_error(Y_test, boost.predict(X_test))\n",
    "# We calculate the RSS with respect to the training data\n",
    "Y_pred_train = boost.predict(X_train[feature_cols_boost])\n",
    "RSS_TRAIN_boost = ((Y_pred_train - Y_train) ** 2).sum()\n",
    "TSS_TRAIN_boost = ((Y_train - Y_train.mean()) ** 2).sum()    \n",
    "N_TRAIN_boost = len(X_train)   \n",
    "RSE_TRAIN_boost = ((RSS_TRAIN_boost/(N_TRAIN_boost-2)) ** 0.5)\n",
    "# We calculate the RSS with respect to the test data\n",
    "Y_pred_test = boost.predict(X_test[feature_cols_boost])\n",
    "RSS_TEST_boost = ((Y_pred_test - Y_test) ** 2).sum()\n",
    "TSS_TEST_boost = ((Y_test - Y_test.mean()) ** 2).sum()  \n",
    "N_TEST_boost = len(X_test)  \n",
    "RSE_TEST_boost = ((RSS_TEST_boost/(N_TEST_boost-2)) ** 0.5)\n",
    "   \n",
    "MSE_TRAIN_boost = mean_squared_error(Y_train, Y_pred_train)    \n",
    "MSE_TEST_boost = mean_squared_error(Y_test, Y_pred_test)\n",
    "\n",
    "\n",
    "R2s_TRAIN_boost = r2_score(Y_train, Y_pred_train) \n",
    "R2s_TEST_boost = r2_score(Y_test, Y_pred_test) \n",
    "\n",
    "\n",
    "print(\"Tree boost Training RSS: {0:6.2f} Test RSS: {1:6.2f}\".format (RSS_TRAIN_boost, RSS_TEST_boost))\n",
    "print(\"Tree boost Training TSS: {0:6.2f} Test TSS: {1:6.2f}\".format (TSS_TRAIN_boost, TSS_TEST_boost))\n",
    "print(\"Tree boost Training R2s: {0:6.1f}% Test R2s: {1:6.1f}%\".format ((R2s_TRAIN_boost*100), (R2s_TEST_boost*100)))   \n",
    "\n",
    "  \n",
    "print(\"Tree boost Training MSE: {0:6.2f} Test MSE: {1:6.2f}\".format (MSE_TRAIN_boost, MSE_TEST_boost))    \n",
    "print(\"Tree boost Training RSE: {0:6.2f} Test RSE: {1:6.2f}\".format (RSE_TRAIN_boost, RSE_TEST_boost))    \n",
    "print(\"Tree Coeffients: {0:6d} Train Q: {1:6d} Test Q: {2:6d} local Q: {3:6d}\".format (D_T_boost,N_TRAIN_boost,N_TEST_boost,N_TRAIN_boost+N_TEST_boost))\n",
    "\n",
    "\n",
    "Y_pred_loc_boost = boost.predict(X[feature_cols_boost])\n"
   ]
  },
  {
   "cell_type": "markdown",
   "metadata": {},
   "source": [
    "Let's check out the feature importances again:"
   ]
  },
  {
   "cell_type": "code",
   "execution_count": 85,
   "metadata": {},
   "outputs": [
    {
     "data": {
      "image/png": "[encoded data removed]",
      "text/plain": [
       "<matplotlib.figure.Figure at 0x26c0b5bba90>"
      ]
     },
     "metadata": {},
     "output_type": "display_data"
    }
   ],
   "source": [
    "feature_importance = boost.feature_importances_*100\n",
    "rel_imp = pd.Series(feature_importance[0:15], index=X.columns[0:15]).sort_values(inplace=False)\n",
    "rel_imp.T.plot(kind='barh', color='r', )\n",
    "plt.xlabel('Variable Importance Boosting 0.01')\n",
    "plt.gca().legend_ = None"
   ]
  },
  {
   "cell_type": "markdown",
   "metadata": {},
   "source": [
    "We see that ${\\tt GTK}$, ${\\tt Hours}$, ${\\tt Kilometers}$ are again the most important variables by far, but the track appears more important than the locomotive model. Now let's use the boosted model to predict ${\\tt Liters}$ on the test set:"
   ]
  },
  {
   "cell_type": "code",
   "execution_count": 86,
   "metadata": {},
   "outputs": [
    {
     "data": {
      "text/plain": [
       "11424.781255209109"
      ]
     },
     "execution_count": 86,
     "metadata": {},
     "output_type": "execute_result"
    }
   ],
   "source": [
    "mean_squared_error(Y_test, boost.predict(X_test))"
   ]
  },
  {
   "cell_type": "markdown",
   "metadata": {},
   "source": [
    "The test MSE obtained is similar to the test MSE for random forests\n",
    "and superior to that for bagging. If we want to, we can perform boosting\n",
    "with a different value of the shrinkage parameter $\\lambda$. Here we take $\\lambda = 0.2$:"
   ]
  },
  {
   "cell_type": "code",
   "execution_count": 87,
   "metadata": {},
   "outputs": [
    {
     "data": {
      "text/plain": [
       "8533.8618661042274"
      ]
     },
     "execution_count": 87,
     "metadata": {},
     "output_type": "execute_result"
    }
   ],
   "source": [
    "boost_s = GradientBoostingRegressor(n_estimators=500, learning_rate=0.2, max_depth=4, random_state=1)\n",
    "boost_s.fit(X_train, Y_train)\n",
    "mean_squared_error(Y_test, boost_s.predict(X_test))"
   ]
  },
  {
   "cell_type": "markdown",
   "metadata": {},
   "source": [
    "In this case, using $\\lambda = 0.2$ leads to a slightly lower test MSE than $\\lambda = 0.01$."
   ]
  },
  {
   "cell_type": "code",
   "execution_count": 88,
   "metadata": {},
   "outputs": [
    {
     "data": {
      "image/png": "[encoded data removed]",
      "text/plain": [
       "<matplotlib.figure.Figure at 0x26c0ca0c7f0>"
      ]
     },
     "metadata": {},
     "output_type": "display_data"
    }
   ],
   "source": [
    "feature_importance = boost_s.feature_importances_*100\n",
    "rel_imp = pd.Series(feature_importance[0:15], index=X.columns[0:15]).sort_values(inplace=False)\n",
    "rel_imp.T.plot(kind='barh', color='r', )\n",
    "plt.xlabel('Variable Importance Boosting 0.2')\n",
    "plt.gca().legend_ = None"
   ]
  },
  {
   "cell_type": "code",
   "execution_count": 89,
   "metadata": {},
   "outputs": [
    {
     "data": {
      "text/plain": [
       "8533.8618661042274"
      ]
     },
     "execution_count": 89,
     "metadata": {},
     "output_type": "execute_result"
    },
    {
     "data": {
      "image/png": "[encoded data removed]",
      "text/plain": [
       "<matplotlib.figure.Figure at 0x26c0ca16780>"
      ]
     },
     "metadata": {},
     "output_type": "display_data"
    }
   ],
   "source": [
    "pred = boost_s.predict(X_test)\n",
    "plt.scatter(pred, Y_test, label='Liters')\n",
    "plt.plot([0, 1], [0, 1], '--k', transform=plt.gca().transAxes)\n",
    "plt.xlabel('pred')\n",
    "plt.ylabel('Liters Boosting 0.2')\n",
    "plt.xlim( 0, 4000 ) \n",
    "plt.ylim( 0, 4000 ) \n",
    "mean_squared_error(Y_test, pred)"
   ]
  },
  {
   "cell_type": "code",
   "execution_count": 90,
   "metadata": {},
   "outputs": [
    {
     "name": "stdout",
     "output_type": "stream",
     "text": [
      "Tree boost_s Training RSS: 415208591.89 Test RSS: 253404494.25\n",
      "Tree boost_s Training TSS: 9746640737.01 Test TSS: 4766021354.31\n",
      "Tree boost_s Training R2s:   95.7% Test R2s:   94.7%\n",
      "Tree boost_s Training MSE: 6887.43 Test MSE: 8533.86\n",
      "Tree boost_s Training RSE:  82.99 Test RSE:  92.38\n",
      "Tree Coeffients:     60 Train Q:  60285 Test Q:  29694 local Q:  89979\n"
     ]
    }
   ],
   "source": [
    "D_T_boost_s = len(X_test.columns)\n",
    "feature_cols_boost_s = list(X_test.columns)\n",
    "mean_squared_error(Y_test, boost_s.predict(X_test))\n",
    "# We calculate the RSS with respect to the training data\n",
    "Y_pred_train = boost_s.predict(X_train[feature_cols_boost_s])\n",
    "RSS_TRAIN_boost_s = ((Y_pred_train - Y_train) ** 2).sum()\n",
    "TSS_TRAIN_boost_s = ((Y_train - Y_train.mean()) ** 2).sum()    \n",
    "N_TRAIN_boost_s = len(X_train)   \n",
    "RSE_TRAIN_boost_s = ((RSS_TRAIN_boost_s/(N_TRAIN_boost_s-2)) ** 0.5)\n",
    "# We calculate the RSS with respect to the test data\n",
    "Y_pred_test = boost_s.predict(X_test[feature_cols_boost_s])\n",
    "RSS_TEST_boost_s = ((Y_pred_test - Y_test) ** 2).sum()\n",
    "TSS_TEST_boost_s = ((Y_test - Y_test.mean()) ** 2).sum()  \n",
    "N_TEST_boost_s = len(X_test)  \n",
    "RSE_TEST_boost_s = ((RSS_TEST_boost_s/(N_TEST_boost_s-2)) ** 0.5)\n",
    "   \n",
    "MSE_TRAIN_boost_s = mean_squared_error(Y_train, Y_pred_train)    \n",
    "MSE_TEST_boost_s = mean_squared_error(Y_test, Y_pred_test)\n",
    "\n",
    "\n",
    "R2s_TRAIN_boost_s = r2_score(Y_train, Y_pred_train) \n",
    "R2s_TEST_boost_s = r2_score(Y_test, Y_pred_test) \n",
    "\n",
    "\n",
    "print(\"Tree boost_s Training RSS: {0:6.2f} Test RSS: {1:6.2f}\".format (RSS_TRAIN_boost_s, RSS_TEST_boost_s))\n",
    "print(\"Tree boost_s Training TSS: {0:6.2f} Test TSS: {1:6.2f}\".format (TSS_TRAIN_boost_s, TSS_TEST_boost_s))\n",
    "print(\"Tree boost_s Training R2s: {0:6.1f}% Test R2s: {1:6.1f}%\".format ((R2s_TRAIN_boost_s*100), (R2s_TEST_boost_s*100)))   \n",
    "\n",
    "  \n",
    "print(\"Tree boost_s Training MSE: {0:6.2f} Test MSE: {1:6.2f}\".format (MSE_TRAIN_boost_s, MSE_TEST_boost_s))    \n",
    "print(\"Tree boost_s Training RSE: {0:6.2f} Test RSE: {1:6.2f}\".format (RSE_TRAIN_boost_s, RSE_TEST_boost_s))    \n",
    "print(\"Tree Coeffients: {0:6d} Train Q: {1:6d} Test Q: {2:6d} local Q: {3:6d}\".format (D_T_boost_s,N_TRAIN_boost_s,N_TEST_boost_s,N_TRAIN_boost_s+N_TEST_boost_s))\n",
    "\n",
    "\n",
    "Y_pred_loc_boost_s = boost_s.predict(X[feature_cols_boost])\n"
   ]
  },
  {
   "cell_type": "markdown",
   "metadata": {
    "collapsed": true
   },
   "source": [
    "# XGBoosting\n",
    "\n",
    "Now we'll use the ${\\tt XGBRegressor}$ package to fit **Extreme boosted\n",
    "regression trees** to the ${\\tt Fuel}$ data set. The\n",
    "argument ${\\tt n_estimators=500}$ indicates that we want 500 trees, and the option\n",
    "${\\tt interaction.depth=4}$ limits the depth of each tree:"
   ]
  },
  {
   "cell_type": "code",
   "execution_count": 91,
   "metadata": {
    "collapsed": true
   },
   "outputs": [],
   "source": [
    "#import os\n",
    "\n",
    "#mingw_path = 'C:\\Program Files\\mingw-w64\\x86_64-7.1.0-posix-seh-rt_v5-rev2\\mingw64\\bin'\n",
    "\n",
    "#os.environ['PATH'] = mingw_path + ';' + os.environ['PATH']"
   ]
  },
  {
   "cell_type": "code",
   "execution_count": 92,
   "metadata": {
    "collapsed": true
   },
   "outputs": [],
   "source": [
    "import xgboost as xgb\n",
    "from xgboost import XGBRegressor\n"
   ]
  },
  {
   "cell_type": "code",
   "execution_count": 93,
   "metadata": {},
   "outputs": [
    {
     "data": {
      "text/plain": [
       "XGBRegressor(base_score=0.5, booster='gbtree', colsample_bylevel=1,\n",
       "       colsample_bytree=1, gamma=0, learning_rate=0.2, max_delta_step=0,\n",
       "       max_depth=4, min_child_weight=1, missing=None, n_estimators=500,\n",
       "       n_jobs=1, nthread=None, objective='reg:linear', random_state=1,\n",
       "       reg_alpha=0, reg_lambda=1, scale_pos_weight=1, seed=None,\n",
       "       silent=True, subsample=1)"
      ]
     },
     "execution_count": 93,
     "metadata": {},
     "output_type": "execute_result"
    }
   ],
   "source": [
    "xgboost1 = XGBRegressor(n_estimators=500, learning_rate=0.2, max_depth=4, random_state=1)\n",
    "# fit the model with training data\n",
    "xgboost1.fit(X_train, Y_train)"
   ]
  },
  {
   "cell_type": "code",
   "execution_count": 94,
   "metadata": {},
   "outputs": [
    {
     "data": {
      "text/plain": [
       "8339.4229657414726"
      ]
     },
     "execution_count": 94,
     "metadata": {},
     "output_type": "execute_result"
    },
    {
     "data": {
      "image/png": "[encoded data removed]",
      "text/plain": [
       "<matplotlib.figure.Figure at 0x26c0c930fd0>"
      ]
     },
     "metadata": {},
     "output_type": "display_data"
    }
   ],
   "source": [
    "# Make pedictions for test data\n",
    "pred = xgboost1.predict(X_test)\n",
    "\n",
    "plt.scatter(pred, Y_test, label='Liters')\n",
    "plt.plot([0, 1], [0, 1], '--k', transform=plt.gca().transAxes)\n",
    "plt.xlabel('pred')\n",
    "plt.ylabel('Liters')\n",
    "plt.xlim( 0, 4000 ) \n",
    "plt.ylim( 0, 4000 ) \n",
    "mean_squared_error(Y_test, pred)"
   ]
  },
  {
   "cell_type": "code",
   "execution_count": 95,
   "metadata": {},
   "outputs": [
    {
     "name": "stdout",
     "output_type": "stream",
     "text": [
      "Tree xgboost1 Training RSS: 433902688.00 Test RSS: 247630832.00\n",
      "Tree xgboost1 Training TSS: 9746640737.01 Test TSS: 4766021354.31\n",
      "Tree xgboost1 Training R2s:   95.5% Test R2s:   94.8%\n",
      "Tree xgboost1 Training MSE: 7197.52 Test MSE: 8339.42\n",
      "Tree xgboost1 Training RSE:  84.84 Test RSE:  91.32\n",
      "Tree Coeffients:     60 Train Q:  60285 Test Q:  29694 local Q:  89979\n"
     ]
    }
   ],
   "source": [
    "D_T_xgboost1 = len(X_test.columns)\n",
    "feature_cols_xgboost1 = list(X_test.columns)\n",
    "mean_squared_error(Y_test, xgboost1.predict(X_test))\n",
    "# We calculate the RSS with respect to the training data\n",
    "Y_pred_train = xgboost1.predict(X_train[feature_cols_xgboost1])\n",
    "RSS_TRAIN_xgboost1 = ((Y_pred_train - Y_train) ** 2).sum()\n",
    "TSS_TRAIN_xgboost1 = ((Y_train - Y_train.mean()) ** 2).sum()    \n",
    "N_TRAIN_xgboost1 = len(X_train)   \n",
    "RSE_TRAIN_xgboost1 = ((RSS_TRAIN_xgboost1/(N_TRAIN_xgboost1-2)) ** 0.5)\n",
    "# We calculate the RSS with respect to the test data\n",
    "Y_pred_test = xgboost1.predict(X_test[feature_cols_xgboost1])\n",
    "RSS_TEST_xgboost1 = ((Y_pred_test - Y_test) ** 2).sum()\n",
    "TSS_TEST_xgboost1 = ((Y_test - Y_test.mean()) ** 2).sum()  \n",
    "N_TEST_xgboost1 = len(X_test)  \n",
    "RSE_TEST_xgboost1 = ((RSS_TEST_xgboost1/(N_TEST_xgboost1-2)) ** 0.5)\n",
    "   \n",
    "MSE_TRAIN_xgboost1 = mean_squared_error(Y_train, Y_pred_train)    \n",
    "MSE_TEST_xgboost1 = mean_squared_error(Y_test, Y_pred_test)\n",
    "\n",
    "\n",
    "R2s_TRAIN_xgboost1 = r2_score(Y_train, Y_pred_train) \n",
    "R2s_TEST_xgboost1 = r2_score(Y_test, Y_pred_test) \n",
    "\n",
    "\n",
    "print(\"Tree xgboost1 Training RSS: {0:6.2f} Test RSS: {1:6.2f}\".format (RSS_TRAIN_xgboost1, RSS_TEST_xgboost1))\n",
    "print(\"Tree xgboost1 Training TSS: {0:6.2f} Test TSS: {1:6.2f}\".format (TSS_TRAIN_xgboost1, TSS_TEST_xgboost1))\n",
    "print(\"Tree xgboost1 Training R2s: {0:6.1f}% Test R2s: {1:6.1f}%\".format ((R2s_TRAIN_xgboost1*100), (R2s_TEST_xgboost1*100)))   \n",
    "\n",
    "  \n",
    "print(\"Tree xgboost1 Training MSE: {0:6.2f} Test MSE: {1:6.2f}\".format (MSE_TRAIN_xgboost1, MSE_TEST_xgboost1))    \n",
    "print(\"Tree xgboost1 Training RSE: {0:6.2f} Test RSE: {1:6.2f}\".format (RSE_TRAIN_xgboost1, RSE_TEST_xgboost1))    \n",
    "print(\"Tree Coeffients: {0:6d} Train Q: {1:6d} Test Q: {2:6d} local Q: {3:6d}\".format (D_T_xgboost1,N_TRAIN_xgboost1,N_TEST_xgboost1,N_TRAIN_xgboost1+N_TEST_xgboost1))\n",
    "\n",
    "\n",
    "Y_pred_loc_xgb = xgboost1.predict(X[feature_cols_xgboost1])\n"
   ]
  },
  {
   "cell_type": "code",
   "execution_count": 96,
   "metadata": {},
   "outputs": [
    {
     "data": {
      "image/png": "[encoded data removed]",
      "text/plain": [
       "<matplotlib.figure.Figure at 0x26c100f7048>"
      ]
     },
     "metadata": {},
     "output_type": "display_data"
    }
   ],
   "source": [
    "feature_importance = xgboost1.feature_importances_*100\n",
    "rel_imp = pd.Series(feature_importance[0:15], index=X.columns[0:15]).sort_values(inplace=False)\n",
    "rel_imp.T.plot(kind='barh', color='r', )\n",
    "plt.xlabel('Variable Importance XGBoosting')\n",
    "plt.gca().legend_ = None"
   ]
  },
  {
   "cell_type": "code",
   "execution_count": 97,
   "metadata": {},
   "outputs": [
    {
     "data": {
      "text/plain": [
       "XGBRegressor(base_score=0.5, booster='gbtree', colsample_bylevel=1,\n",
       "       colsample_bytree=0.85, gamma=0, learning_rate=0.075,\n",
       "       max_delta_step=0, max_depth=7, min_child_weight=10, missing=None,\n",
       "       n_estimators=500, n_jobs=1, nthread=4, objective='reg:linear',\n",
       "       random_state=0, reg_alpha=10, reg_lambda=1, scale_pos_weight=1,\n",
       "       seed=27, silent=True, subsample=0.85)"
      ]
     },
     "execution_count": 97,
     "metadata": {},
     "output_type": "execute_result"
    }
   ],
   "source": [
    "xgboost_s = XGBRegressor(\n",
    "        learning_rate =0.075,\n",
    "        n_estimators=500,\n",
    "        max_depth=7,\n",
    "        min_child_weight=10,\n",
    "        gamma=0,\n",
    "        subsample=0.85,\n",
    "        colsample_bytree=0.85,\n",
    "        reg_alpha=10,\n",
    "        objective= 'reg:linear',\n",
    "        nthread=4,\n",
    "        scale_pos_weight=1,\n",
    "        seed=27)\n",
    "\n",
    "# fit the model with training data\n",
    "xgboost_s.fit(X_train, Y_train)"
   ]
  },
  {
   "cell_type": "code",
   "execution_count": 98,
   "metadata": {},
   "outputs": [
    {
     "data": {
      "text/plain": [
       "7956.3138575449175"
      ]
     },
     "execution_count": 98,
     "metadata": {},
     "output_type": "execute_result"
    },
    {
     "data": {
      "image/png": "[encoded data removed]",
      "text/plain": [
       "<matplotlib.figure.Figure at 0x26c10166358>"
      ]
     },
     "metadata": {},
     "output_type": "display_data"
    }
   ],
   "source": [
    "# Make pedictions for test data\n",
    "pred = xgboost_s.predict(X_test)\n",
    "\n",
    "plt.scatter(pred, Y_test, label='Liters')\n",
    "plt.plot([0, 1], [0, 1], '--k', transform=plt.gca().transAxes)\n",
    "plt.xlabel('pred')\n",
    "plt.ylabel('Liters')\n",
    "plt.xlim( 0, 4000 ) \n",
    "plt.ylim( 0, 4000 ) \n",
    "mean_squared_error(Y_test, pred)"
   ]
  },
  {
   "cell_type": "code",
   "execution_count": 99,
   "metadata": {},
   "outputs": [
    {
     "name": "stdout",
     "output_type": "stream",
     "text": [
      "Tree xgboost_s Training RSS: 453214464.00 Test RSS: 236254784.00\n",
      "Tree xgboost_s Training TSS: 9746640737.01 Test TSS: 4766021354.31\n",
      "Tree xgboost_s Training R2s:   95.4% Test R2s:   95.0%\n",
      "Tree xgboost_s Training MSE: 7517.86 Test MSE: 7956.31\n",
      "Tree xgboost_s Training RSE:  86.71 Test RSE:  89.20\n",
      "Tree Coeffients:     60 Train Q:  60285 Test Q:  29694 local Q:  89979\n"
     ]
    }
   ],
   "source": [
    "D_T_xgboost_s = len(X_test.columns)\n",
    "feature_cols_xgboost_s = list(X_test.columns)\n",
    "mean_squared_error(Y_test, xgboost_s.predict(X_test))\n",
    "# We calculate the RSS with respect to the training data\n",
    "Y_pred_train = xgboost_s.predict(X_train[feature_cols_xgboost_s])\n",
    "RSS_TRAIN_xgboost_s = ((Y_pred_train - Y_train) ** 2).sum()\n",
    "TSS_TRAIN_xgboost_s = ((Y_train - Y_train.mean()) ** 2).sum()    \n",
    "N_TRAIN_xgboost_s = len(X_train)   \n",
    "RSE_TRAIN_xgboost_s = ((RSS_TRAIN_xgboost_s/(N_TRAIN_xgboost_s-2)) ** 0.5)\n",
    "# We calculate the RSS with respect to the test data\n",
    "Y_pred_test = xgboost_s.predict(X_test[feature_cols_xgboost_s])\n",
    "RSS_TEST_xgboost_s = ((Y_pred_test - Y_test) ** 2).sum()\n",
    "TSS_TEST_xgboost_s = ((Y_test - Y_test.mean()) ** 2).sum()  \n",
    "N_TEST_xgboost_s = len(X_test)  \n",
    "RSE_TEST_xgboost_s = ((RSS_TEST_xgboost_s/(N_TEST_xgboost_s-2)) ** 0.5)\n",
    "   \n",
    "MSE_TRAIN_xgboost_s = mean_squared_error(Y_train, Y_pred_train)    \n",
    "MSE_TEST_xgboost_s = mean_squared_error(Y_test, Y_pred_test)\n",
    "\n",
    "\n",
    "R2s_TRAIN_xgboost_s = r2_score(Y_train, Y_pred_train) \n",
    "R2s_TEST_xgboost_s = r2_score(Y_test, Y_pred_test) \n",
    "\n",
    "\n",
    "print(\"Tree xgboost_s Training RSS: {0:6.2f} Test RSS: {1:6.2f}\".format (RSS_TRAIN_xgboost_s, RSS_TEST_xgboost_s))\n",
    "print(\"Tree xgboost_s Training TSS: {0:6.2f} Test TSS: {1:6.2f}\".format (TSS_TRAIN_xgboost_s, TSS_TEST_xgboost_s))\n",
    "print(\"Tree xgboost_s Training R2s: {0:6.1f}% Test R2s: {1:6.1f}%\".format ((R2s_TRAIN_xgboost_s*100), (R2s_TEST_xgboost_s*100)))   \n",
    "\n",
    "  \n",
    "print(\"Tree xgboost_s Training MSE: {0:6.2f} Test MSE: {1:6.2f}\".format (MSE_TRAIN_xgboost_s, MSE_TEST_xgboost_s))    \n",
    "print(\"Tree xgboost_s Training RSE: {0:6.2f} Test RSE: {1:6.2f}\".format (RSE_TRAIN_xgboost_s, RSE_TEST_xgboost_s))    \n",
    "print(\"Tree Coeffients: {0:6d} Train Q: {1:6d} Test Q: {2:6d} local Q: {3:6d}\".format (D_T_xgboost_s,N_TRAIN_xgboost_s,N_TEST_xgboost_s,N_TRAIN_xgboost_s+N_TEST_xgboost_s))\n",
    "\n",
    "Y_pred_loc_xgbs = xgboost_s.predict(X[feature_cols_xgboost_s])\n"
   ]
  },
  {
   "cell_type": "code",
   "execution_count": 100,
   "metadata": {},
   "outputs": [
    {
     "data": {
      "image/png": "[encoded data removed]",
      "text/plain": [
       "<matplotlib.figure.Figure at 0x26c0d778748>"
      ]
     },
     "metadata": {},
     "output_type": "display_data"
    }
   ],
   "source": [
    "feature_importance = xgboost_s.feature_importances_*100\n",
    "rel_imp = pd.Series(feature_importance[0:15], index=X.columns[0:15]).sort_values(inplace=False)\n",
    "rel_imp.T.plot(kind='barh', color='r', )\n",
    "plt.xlabel('Variable Importance XGBoosting')\n",
    "plt.gca().legend_ = None"
   ]
  },
  {
   "cell_type": "code",
   "execution_count": 101,
   "metadata": {},
   "outputs": [
    {
     "data": {
      "text/html": [
       "<div>\n",
       "<style>\n",
       "    .dataframe thead tr:only-child th {\n",
       "        text-align: right;\n",
       "    }\n",
       "\n",
       "    .dataframe thead th {\n",
       "        text-align: left;\n",
       "    }\n",
       "\n",
       "    .dataframe tbody tr th {\n",
       "        vertical-align: top;\n",
       "    }\n",
       "</style>\n",
       "<table border=\"1\" class=\"dataframe\">\n",
       "  <thead>\n",
       "    <tr style=\"text-align: right;\">\n",
       "      <th></th>\n",
       "      <th>Model</th>\n",
       "      <th>Coef</th>\n",
       "      <th>MSE TRAIN</th>\n",
       "      <th>MSE TEST</th>\n",
       "      <th>R2s</th>\n",
       "      <th>RSE</th>\n",
       "    </tr>\n",
       "  </thead>\n",
       "  <tbody>\n",
       "    <tr>\n",
       "      <th>1</th>\n",
       "      <td>LR loc</td>\n",
       "      <td>60</td>\n",
       "      <td>24,538</td>\n",
       "      <td>23,483</td>\n",
       "      <td>85.37%</td>\n",
       "      <td>153.25</td>\n",
       "    </tr>\n",
       "    <tr>\n",
       "      <th>2</th>\n",
       "      <td>LR Fwd</td>\n",
       "      <td>59</td>\n",
       "      <td>24,542</td>\n",
       "      <td>23,486</td>\n",
       "      <td>85.37%</td>\n",
       "      <td>153.26</td>\n",
       "    </tr>\n",
       "    <tr>\n",
       "      <th>3</th>\n",
       "      <td>LR Bwd</td>\n",
       "      <td>nan</td>\n",
       "      <td>nan</td>\n",
       "      <td>nan</td>\n",
       "      <td>nan%</td>\n",
       "      <td>nan</td>\n",
       "    </tr>\n",
       "    <tr>\n",
       "      <th>4</th>\n",
       "      <td>LR CV</td>\n",
       "      <td>59</td>\n",
       "      <td>24,545</td>\n",
       "      <td>23,478</td>\n",
       "      <td>85.37%</td>\n",
       "      <td>153.23</td>\n",
       "    </tr>\n",
       "    <tr>\n",
       "      <th>5</th>\n",
       "      <td>Ridge</td>\n",
       "      <td>60</td>\n",
       "      <td>24,874</td>\n",
       "      <td>23,658</td>\n",
       "      <td>85.26%</td>\n",
       "      <td>153.82</td>\n",
       "    </tr>\n",
       "    <tr>\n",
       "      <th>6</th>\n",
       "      <td>Lasso</td>\n",
       "      <td>59</td>\n",
       "      <td>24,698</td>\n",
       "      <td>23,649</td>\n",
       "      <td>85.27%</td>\n",
       "      <td>153.79</td>\n",
       "    </tr>\n",
       "    <tr>\n",
       "      <th>7</th>\n",
       "      <td>D Tree</td>\n",
       "      <td>60</td>\n",
       "      <td>33,886</td>\n",
       "      <td>32,345</td>\n",
       "      <td>79.85%</td>\n",
       "      <td>179.85</td>\n",
       "    </tr>\n",
       "    <tr>\n",
       "      <th>8</th>\n",
       "      <td>Bagging</td>\n",
       "      <td>60</td>\n",
       "      <td>3,465</td>\n",
       "      <td>9,649</td>\n",
       "      <td>93.99%</td>\n",
       "      <td>98.23</td>\n",
       "    </tr>\n",
       "    <tr>\n",
       "      <th>9</th>\n",
       "      <td>Random Forest</td>\n",
       "      <td>60</td>\n",
       "      <td>3,598</td>\n",
       "      <td>10,431</td>\n",
       "      <td>93.50%</td>\n",
       "      <td>102.14</td>\n",
       "    </tr>\n",
       "    <tr>\n",
       "      <th>10</th>\n",
       "      <td>Boosting</td>\n",
       "      <td>60</td>\n",
       "      <td>12,650</td>\n",
       "      <td>11,425</td>\n",
       "      <td>92.88%</td>\n",
       "      <td>106.89</td>\n",
       "    </tr>\n",
       "    <tr>\n",
       "      <th>11</th>\n",
       "      <td>Boosting 0.2</td>\n",
       "      <td>60</td>\n",
       "      <td>6,887</td>\n",
       "      <td>8,534</td>\n",
       "      <td>94.68%</td>\n",
       "      <td>92.38</td>\n",
       "    </tr>\n",
       "    <tr>\n",
       "      <th>12</th>\n",
       "      <td>XGBoosting</td>\n",
       "      <td>60</td>\n",
       "      <td>7,198</td>\n",
       "      <td>8,339</td>\n",
       "      <td>94.80%</td>\n",
       "      <td>91.32</td>\n",
       "    </tr>\n",
       "    <tr>\n",
       "      <th>13</th>\n",
       "      <td>XGBoosting tp</td>\n",
       "      <td>60</td>\n",
       "      <td>7,518</td>\n",
       "      <td>7,956</td>\n",
       "      <td>95.04%</td>\n",
       "      <td>89.20</td>\n",
       "    </tr>\n",
       "  </tbody>\n",
       "</table>\n",
       "</div>"
      ],
      "text/plain": [
       "            Model Coef MSE TRAIN MSE TEST     R2s     RSE\n",
       "1          LR loc   60    24,538   23,483  85.37%  153.25\n",
       "2          LR Fwd   59    24,542   23,486  85.37%  153.26\n",
       "3          LR Bwd  nan       nan      nan    nan%     nan\n",
       "4           LR CV   59    24,545   23,478  85.37%  153.23\n",
       "5           Ridge   60    24,874   23,658  85.26%  153.82\n",
       "6           Lasso   59    24,698   23,649  85.27%  153.79\n",
       "7          D Tree   60    33,886   32,345  79.85%  179.85\n",
       "8         Bagging   60     3,465    9,649  93.99%   98.23\n",
       "9   Random Forest   60     3,598   10,431  93.50%  102.14\n",
       "10       Boosting   60    12,650   11,425  92.88%  106.89\n",
       "11   Boosting 0.2   60     6,887    8,534  94.68%   92.38\n",
       "12     XGBoosting   60     7,198    8,339  94.80%   91.32\n",
       "13  XGBoosting tp   60     7,518    7,956  95.04%   89.20"
      ]
     },
     "execution_count": 101,
     "metadata": {},
     "output_type": "execute_result"
    }
   ],
   "source": [
    "#lm_cols = [\"Model\", \"Coef\", \"MSE TRAIN\", \"MSE TEST\", \"RSS\", \"TSS\", \"R2s\", \"RSE\"]\n",
    "lm_cols = [\"Model\", \"Coef\", \"MSE TRAIN\", \"MSE TEST\", \"R2s\", \"RSE\"]\n",
    "# Create a DataFrame to store the results of our SE calculations\n",
    "ml_errors = pd.DataFrame(columns=lm_cols, index=range(1,13))\n",
    "ml_errors['Model'].astype(str)\n",
    "\n",
    "\n",
    "# LR local\n",
    "ml_errors.set_value(1, 'Model', 'LR loc')\n",
    "ml_errors.set_value(1, 'Coef', D_T)\n",
    "ml_errors.set_value(1, 'MSE TRAIN', MSE_TRAIN_T)\n",
    "ml_errors.set_value(1, 'MSE TEST', MSE_TEST_T)\n",
    "#ml_errors.set_value(1, 'RSS', RSS_TEST_T)\n",
    "#ml_errors.set_value(1, 'TSS', TSS_TEST_T)\n",
    "ml_errors.set_value(1, 'R2s', (R2s_TEST_T*100))\n",
    "ml_errors.set_value(1, 'RSE', RSE_TEST_T)\n",
    "\n",
    "# LR Forward Selection\n",
    "ml_errors.set_value(2, 'Model', 'LR Fwd')\n",
    "ml_errors.set_value(2, 'Coef', D_T_F)\n",
    "ml_errors.set_value(2, 'MSE TRAIN', MSE_TRAIN_F)\n",
    "ml_errors.set_value(2, 'MSE TEST', MSE_TEST_F)\n",
    "#ml_errors.set_value(2, 'RSS', RSS_TEST_F)\n",
    "#ml_errors.set_value(2, 'TSS', TSS_TEST_F)\n",
    "ml_errors.set_value(2, 'R2s', (R2s_TEST_F*100))\n",
    "ml_errors.set_value(2, 'RSE', RSE_TEST_F)\n",
    "\n",
    "# LR Backward Selection\n",
    "ml_errors.set_value(3, 'Model', 'LR Bwd')\n",
    "#ml_errors.set_value(3, 'Coef', D_T_B)\n",
    "#ml_errors.set_value(3, 'MSE TRAIN', MSE_TRAIN_B)\n",
    "#ml_errors.set_value(3, 'MSE TEST', MSE_TEST_B)\n",
    "#ml_errors.set_value(3, 'RSS', RSS_TEST_B)\n",
    "#ml_errors.set_value(3, 'TSS', TSS_TEST_B)\n",
    "#ml_errors.set_value(3, 'R2s', (R2s_TEST_B*100))\n",
    "#ml_errors.set_value(3, 'RSE', RSE_TEST_B)\n",
    "\n",
    "# LR Cross Validation\n",
    "ml_errors.set_value(4, 'Model', 'LR CV')\n",
    "ml_errors.set_value(4, 'Coef', D_T_CV)\n",
    "ml_errors.set_value(4, 'MSE TRAIN', MSE_TRAIN_CV)\n",
    "ml_errors.set_value(4, 'MSE TEST', MSE_TEST_CV)\n",
    "#ml_errors.set_value(4, 'RSS', RSS_TEST_CV)\n",
    "#ml_errors.set_value(4, 'TSS', TSS_TEST_CV)\n",
    "ml_errors.set_value(4, 'R2s', (R2s_TEST_CV*100))\n",
    "ml_errors.set_value(4, 'RSE', RSE_TEST_CV)\n",
    "\n",
    "# Ridge\n",
    "ml_errors.set_value(5, 'Model', 'Ridge')\n",
    "ml_errors.set_value(5, 'Coef', D_T_RDG)\n",
    "ml_errors.set_value(5, 'MSE TRAIN', MSE_TRAIN_RDG)\n",
    "ml_errors.set_value(5, 'MSE TEST', MSE_TEST_RDG)\n",
    "#ml_errors.set_value(5, 'RSS', RSS_TEST_RDG)\n",
    "#ml_errors.set_value(5, 'TSS', TSS_TEST_RDG)\n",
    "ml_errors.set_value(5, 'R2s', (R2s_TEST_RDG*100))\n",
    "ml_errors.set_value(5, 'RSE', RSE_TEST_RDG)\n",
    "\n",
    "# Lasso\n",
    "ml_errors.set_value(6, 'Model', 'Lasso')\n",
    "ml_errors.set_value(6, 'Coef', D_T_LSS)\n",
    "ml_errors.set_value(6, 'MSE TRAIN', MSE_TRAIN_LSS)\n",
    "ml_errors.set_value(6, 'MSE TEST', MSE_TEST_LSS)\n",
    "#ml_errors.set_value(6, 'RSS', RSS_TEST_LSS)\n",
    "#ml_errors.set_value(6, 'TSS', TSS_TEST_LSS)\n",
    "ml_errors.set_value(6, 'R2s', (R2s_TEST_LSS*100))\n",
    "ml_errors.set_value(6, 'RSE', RSE_TEST_LSS)\n",
    "\n",
    "# Decision Tree Regression\n",
    "ml_errors.set_value(7, 'Model', 'D Tree')\n",
    "ml_errors.set_value(7, 'Coef', D_T_dtr)\n",
    "ml_errors.set_value(7, 'MSE TRAIN', MSE_TRAIN_dtr)\n",
    "ml_errors.set_value(7, 'MSE TEST', MSE_TEST_dtr)\n",
    "#ml_errors.set_value(7, 'RSS', RSS_TEST_dtr)\n",
    "#ml_errors.set_value(7, 'TSS', TSS_TEST_dtr)\n",
    "ml_errors.set_value(7, 'R2s', (R2s_TEST_dtr*100))\n",
    "ml_errors.set_value(7, 'RSE', RSE_TEST_dtr)\n",
    "\n",
    "# Bagging\n",
    "ml_errors.set_value(8, 'Model', 'Bagging')\n",
    "ml_errors.set_value(8, 'Coef', D_T_bagging)\n",
    "ml_errors.set_value(8, 'MSE TRAIN', MSE_TRAIN_bagging)\n",
    "ml_errors.set_value(8, 'MSE TEST', MSE_TEST_bagging)\n",
    "#ml_errors.set_value(8, 'RSS', RSS_TEST_bagging)\n",
    "#ml_errors.set_value(8, 'TSS', TSS_TEST_bagging)\n",
    "ml_errors.set_value(8, 'R2s', (R2s_TEST_bagging*100))\n",
    "ml_errors.set_value(8, 'RSE', RSE_TEST_bagging)\n",
    "\n",
    "\n",
    "# Random Forest\n",
    "ml_errors.set_value(9, 'Model', 'Random Forest')\n",
    "ml_errors.set_value(9, 'Coef', D_T_rd_ft)\n",
    "ml_errors.set_value(9, 'MSE TRAIN', MSE_TRAIN_rd_ft)\n",
    "ml_errors.set_value(9, 'MSE TEST', MSE_TEST_rd_ft)\n",
    "#ml_errors.set_value(9, 'RSS', RSS_TEST_rd_ft)\n",
    "#ml_errors.set_value(9, 'TSS', TSS_TEST_rd_ft)\n",
    "ml_errors.set_value(9, 'R2s', (R2s_TEST_rd_ft*100))\n",
    "ml_errors.set_value(9, 'RSE', RSE_TEST_rd_ft)\n",
    "\n",
    "\n",
    "# Boosting\n",
    "ml_errors.set_value(10, 'Model', 'Boosting')\n",
    "ml_errors.set_value(10, 'Coef', D_T_boost)\n",
    "ml_errors.set_value(10, 'MSE TRAIN', MSE_TRAIN_boost)\n",
    "ml_errors.set_value(10, 'MSE TEST', MSE_TEST_boost)\n",
    "#ml_errors.set_value(10, 'RSS', RSS_TEST_boost)\n",
    "#ml_errors.set_value(10, 'TSS', TSS_TEST_boost)\n",
    "ml_errors.set_value(10, 'R2s', (R2s_TEST_boost*100))\n",
    "ml_errors.set_value(10, 'RSE', RSE_TEST_boost)\n",
    "\n",
    "\n",
    "# Boosting 0.2\n",
    "ml_errors.set_value(11, 'Model', 'Boosting 0.2')\n",
    "ml_errors.set_value(11, 'Coef', D_T_boost_s)\n",
    "ml_errors.set_value(11, 'MSE TRAIN', MSE_TRAIN_boost_s)\n",
    "ml_errors.set_value(11, 'MSE TEST', MSE_TEST_boost_s)\n",
    "#ml_errors.set_value(11, 'RSS', RSS_TEST_boost_s)\n",
    "#ml_errors.set_value(11, 'TSS', TSS_TEST_boost_s)\n",
    "ml_errors.set_value(11, 'R2s', (R2s_TEST_boost_s*100))\n",
    "ml_errors.set_value(11, 'RSE', RSE_TEST_boost_s)\n",
    "\n",
    "# Extreme Gradient Boosting\n",
    "ml_errors.set_value(12, 'Model', 'XGBoosting')\n",
    "ml_errors.set_value(12, 'Coef', D_T_xgboost1)\n",
    "ml_errors.set_value(12, 'MSE TRAIN', MSE_TRAIN_xgboost1)\n",
    "ml_errors.set_value(12, 'MSE TEST', MSE_TEST_xgboost1)\n",
    "#ml_errors.set_value(12, 'RSS', RSS_TEST_xgboost1)\n",
    "#ml_errors.set_value(12, 'TSS', TSS_TEST_xgboost1)\n",
    "ml_errors.set_value(12, 'R2s', (R2s_TEST_xgboost1*100))\n",
    "ml_errors.set_value(12, 'RSE', RSE_TEST_xgboost1)\n",
    "\n",
    "\n",
    "# Extreme Gradient Boosting Tuning Parameters\n",
    "ml_errors.set_value(13, 'Model', 'XGBoosting tp')\n",
    "ml_errors.set_value(13, 'Coef', D_T_xgboost_s)\n",
    "ml_errors.set_value(13, 'MSE TRAIN', MSE_TRAIN_xgboost_s)\n",
    "ml_errors.set_value(13, 'MSE TEST', MSE_TEST_xgboost_s)\n",
    "#ml_errors.set_value(13, 'RSS', RSS_TEST_xgboost_s)\n",
    "#ml_errors.set_value(13, 'TSS', TSS_TEST_xgboost_s)\n",
    "ml_errors.set_value(13, 'R2s', (R2s_TEST_xgboost_s*100))\n",
    "ml_errors.set_value(13, 'RSE', RSE_TEST_xgboost_s)\n",
    "\n",
    "\n",
    "ml_errors['Coef'] = ml_errors['Coef'].map('{:,.0f}'.format)\n",
    "ml_errors['MSE TRAIN'] = ml_errors['MSE TRAIN'].map('{:,.0f}'.format)\n",
    "ml_errors['MSE TEST'] = ml_errors['MSE TEST'].map('{:,.0f}'.format)\n",
    "#ml_errors['RSS'] = ml_errors['RSS'].map('{:,.0f}'.format)\n",
    "#ml_errors['TSS'] = ml_errors['TSS'].map('{:,.0f}'.format)\n",
    "ml_errors['R2s'] = ml_errors['R2s'].map('{:,.2f}%'.format)\n",
    "ml_errors['RSE'] = ml_errors['RSE'].map('{:,.2f}'.format)\n",
    "\n",
    "ml_errors['Coef'] = ml_errors['Coef'].fillna(0)\n",
    "ml_errors = ml_errors.fillna(0)\n",
    "ml_errors.head(13)"
   ]
  },
  {
   "cell_type": "code",
   "execution_count": 102,
   "metadata": {
    "collapsed": true
   },
   "outputs": [],
   "source": [
    "# Record the original liters to the dataframe\n",
    "X['Liters'] = y\n",
    "X['Liters_regr'] = Y_pred_loc_regr\n",
    "X['Liters_regr_f'] = Y_pred_loc_f\n",
    "#X['Liters_regr_b'] = Y_pred_loc_b\n",
    "X['Liters_regr_cv'] = Y_pred_loc_cv\n",
    "X['Liters_regr_rdg'] = Y_pred_loc_rdg\n",
    "X['Liters_regr_lss'] = Y_pred_loc_lss\n",
    "#X['Liters_dtr'] = Y_pred_loc_dtr\n",
    "X['Liters_bgg'] = Y_pred_loc_bgg\n",
    "X['Liters_rd_ft'] = Y_pred_loc_rd_ft\n",
    "X['Liters_boost'] = Y_pred_loc_boost\n",
    "X['Liters_boost_s'] = Y_pred_loc_boost_s\n",
    "X['Liters_xgb'] = Y_pred_loc_xgb\n",
    "X['Liters_xgb_s'] = Y_pred_loc_xgbs\n",
    "\n",
    "X['GTK'] = ((X['GTK_9'] * 1000000000)).astype(float)\n",
    "\n",
    "X = X.round({'Liters_regr': 0, 'Liters_regr_f': 0, 'Liters_regr_b': 0, 'Liters_regr_cv': 0, 'Liters_regr_rdg': 0, \n",
    "         'Liters_regr_lss': 0, 'Liters_bgg': 0, 'Liters_rd_ft': 0, 'Liters_boost': 0, 'Liters_boost_s': 0, \n",
    "         'Liters_xgb': 0, 'Liters_xgb_s': 0, 'Liters': 1, 'GTK_9': 8, 'GTK': 0})\n",
    "\n",
    "# Export the results\n",
    "X.to_csv('Fuel Efficiciency/Fuel_FO_2010-17_loc_lr_pred.csv', sep = ';',encoding='latin-1')"
   ]
  },
  {
   "cell_type": "code",
   "execution_count": 103,
   "metadata": {},
   "outputs": [
    {
     "data": {
      "text/html": [
       "<div>\n",
       "<style>\n",
       "    .dataframe thead tr:only-child th {\n",
       "        text-align: right;\n",
       "    }\n",
       "\n",
       "    .dataframe thead th {\n",
       "        text-align: left;\n",
       "    }\n",
       "\n",
       "    .dataframe tbody tr th {\n",
       "        vertical-align: top;\n",
       "    }\n",
       "</style>\n",
       "<table border=\"1\" class=\"dataframe\">\n",
       "  <thead>\n",
       "    <tr style=\"text-align: right;\">\n",
       "      <th></th>\n",
       "      <th>GTK_9</th>\n",
       "      <th>Hours</th>\n",
       "      <th>Kilometers</th>\n",
       "      <th>IsUnit</th>\n",
       "      <th>Tract</th>\n",
       "      <th>SD_2</th>\n",
       "      <th>SD_3</th>\n",
       "      <th>SD_4</th>\n",
       "      <th>SD_5</th>\n",
       "      <th>SD_6</th>\n",
       "      <th>...</th>\n",
       "      <th>Liters_regr_cv</th>\n",
       "      <th>Liters_regr_rdg</th>\n",
       "      <th>Liters_regr_lss</th>\n",
       "      <th>Liters_bgg</th>\n",
       "      <th>Liters_rd_ft</th>\n",
       "      <th>Liters_boost</th>\n",
       "      <th>Liters_boost_s</th>\n",
       "      <th>Liters_xgb</th>\n",
       "      <th>Liters_xgb_s</th>\n",
       "      <th>GTK</th>\n",
       "    </tr>\n",
       "    <tr>\n",
       "      <th>Ind</th>\n",
       "      <th></th>\n",
       "      <th></th>\n",
       "      <th></th>\n",
       "      <th></th>\n",
       "      <th></th>\n",
       "      <th></th>\n",
       "      <th></th>\n",
       "      <th></th>\n",
       "      <th></th>\n",
       "      <th></th>\n",
       "      <th></th>\n",
       "      <th></th>\n",
       "      <th></th>\n",
       "      <th></th>\n",
       "      <th></th>\n",
       "      <th></th>\n",
       "      <th></th>\n",
       "      <th></th>\n",
       "      <th></th>\n",
       "      <th></th>\n",
       "      <th></th>\n",
       "    </tr>\n",
       "  </thead>\n",
       "  <tbody>\n",
       "    <tr>\n",
       "      <th>0</th>\n",
       "      <td>0.035629</td>\n",
       "      <td>0</td>\n",
       "      <td>56</td>\n",
       "      <td>1</td>\n",
       "      <td>1</td>\n",
       "      <td>0</td>\n",
       "      <td>0</td>\n",
       "      <td>0</td>\n",
       "      <td>0</td>\n",
       "      <td>0</td>\n",
       "      <td>...</td>\n",
       "      <td>363.0</td>\n",
       "      <td>395.0</td>\n",
       "      <td>374.0</td>\n",
       "      <td>209.0</td>\n",
       "      <td>201.0</td>\n",
       "      <td>276.0</td>\n",
       "      <td>247.0</td>\n",
       "      <td>239.0</td>\n",
       "      <td>224.0</td>\n",
       "      <td>35628557.0</td>\n",
       "    </tr>\n",
       "    <tr>\n",
       "      <th>1</th>\n",
       "      <td>0.021195</td>\n",
       "      <td>0</td>\n",
       "      <td>35</td>\n",
       "      <td>1</td>\n",
       "      <td>1</td>\n",
       "      <td>0</td>\n",
       "      <td>0</td>\n",
       "      <td>0</td>\n",
       "      <td>0</td>\n",
       "      <td>0</td>\n",
       "      <td>...</td>\n",
       "      <td>109.0</td>\n",
       "      <td>131.0</td>\n",
       "      <td>120.0</td>\n",
       "      <td>143.0</td>\n",
       "      <td>143.0</td>\n",
       "      <td>225.0</td>\n",
       "      <td>158.0</td>\n",
       "      <td>159.0</td>\n",
       "      <td>151.0</td>\n",
       "      <td>21194784.0</td>\n",
       "    </tr>\n",
       "    <tr>\n",
       "      <th>2</th>\n",
       "      <td>0.083729</td>\n",
       "      <td>0</td>\n",
       "      <td>56</td>\n",
       "      <td>1</td>\n",
       "      <td>1</td>\n",
       "      <td>0</td>\n",
       "      <td>0</td>\n",
       "      <td>0</td>\n",
       "      <td>0</td>\n",
       "      <td>0</td>\n",
       "      <td>...</td>\n",
       "      <td>377.0</td>\n",
       "      <td>410.0</td>\n",
       "      <td>388.0</td>\n",
       "      <td>361.0</td>\n",
       "      <td>334.0</td>\n",
       "      <td>366.0</td>\n",
       "      <td>390.0</td>\n",
       "      <td>380.0</td>\n",
       "      <td>380.0</td>\n",
       "      <td>83729250.0</td>\n",
       "    </tr>\n",
       "    <tr>\n",
       "      <th>3</th>\n",
       "      <td>0.020672</td>\n",
       "      <td>0</td>\n",
       "      <td>35</td>\n",
       "      <td>1</td>\n",
       "      <td>1</td>\n",
       "      <td>0</td>\n",
       "      <td>0</td>\n",
       "      <td>0</td>\n",
       "      <td>0</td>\n",
       "      <td>0</td>\n",
       "      <td>...</td>\n",
       "      <td>150.0</td>\n",
       "      <td>226.0</td>\n",
       "      <td>132.0</td>\n",
       "      <td>121.0</td>\n",
       "      <td>121.0</td>\n",
       "      <td>225.0</td>\n",
       "      <td>132.0</td>\n",
       "      <td>133.0</td>\n",
       "      <td>129.0</td>\n",
       "      <td>20671794.0</td>\n",
       "    </tr>\n",
       "    <tr>\n",
       "      <th>4</th>\n",
       "      <td>0.026642</td>\n",
       "      <td>0</td>\n",
       "      <td>56</td>\n",
       "      <td>1</td>\n",
       "      <td>1</td>\n",
       "      <td>0</td>\n",
       "      <td>0</td>\n",
       "      <td>0</td>\n",
       "      <td>0</td>\n",
       "      <td>0</td>\n",
       "      <td>...</td>\n",
       "      <td>188.0</td>\n",
       "      <td>218.0</td>\n",
       "      <td>194.0</td>\n",
       "      <td>164.0</td>\n",
       "      <td>164.0</td>\n",
       "      <td>225.0</td>\n",
       "      <td>155.0</td>\n",
       "      <td>154.0</td>\n",
       "      <td>163.0</td>\n",
       "      <td>26641908.0</td>\n",
       "    </tr>\n",
       "  </tbody>\n",
       "</table>\n",
       "<p>5 rows × 73 columns</p>\n",
       "</div>"
      ],
      "text/plain": [
       "        GTK_9  Hours  Kilometers  IsUnit  Tract  SD_2  SD_3  SD_4  SD_5  SD_6  \\\n",
       "Ind                                                                             \n",
       "0    0.035629      0          56       1      1     0     0     0     0     0   \n",
       "1    0.021195      0          35       1      1     0     0     0     0     0   \n",
       "2    0.083729      0          56       1      1     0     0     0     0     0   \n",
       "3    0.020672      0          35       1      1     0     0     0     0     0   \n",
       "4    0.026642      0          56       1      1     0     0     0     0     0   \n",
       "\n",
       "        ...      Liters_regr_cv  Liters_regr_rdg  Liters_regr_lss  Liters_bgg  \\\n",
       "Ind     ...                                                                     \n",
       "0       ...               363.0            395.0            374.0       209.0   \n",
       "1       ...               109.0            131.0            120.0       143.0   \n",
       "2       ...               377.0            410.0            388.0       361.0   \n",
       "3       ...               150.0            226.0            132.0       121.0   \n",
       "4       ...               188.0            218.0            194.0       164.0   \n",
       "\n",
       "     Liters_rd_ft  Liters_boost  Liters_boost_s  Liters_xgb  Liters_xgb_s  \\\n",
       "Ind                                                                         \n",
       "0           201.0         276.0           247.0       239.0         224.0   \n",
       "1           143.0         225.0           158.0       159.0         151.0   \n",
       "2           334.0         366.0           390.0       380.0         380.0   \n",
       "3           121.0         225.0           132.0       133.0         129.0   \n",
       "4           164.0         225.0           155.0       154.0         163.0   \n",
       "\n",
       "            GTK  \n",
       "Ind              \n",
       "0    35628557.0  \n",
       "1    21194784.0  \n",
       "2    83729250.0  \n",
       "3    20671794.0  \n",
       "4    26641908.0  \n",
       "\n",
       "[5 rows x 73 columns]"
      ]
     },
     "execution_count": 103,
     "metadata": {},
     "output_type": "execute_result"
    }
   ],
   "source": [
    "X.head()"
   ]
  },
  {
   "cell_type": "code",
   "execution_count": 104,
   "metadata": {
    "collapsed": true
   },
   "outputs": [],
   "source": [
    "# Export the results\n",
    "ml_errors.to_csv('Fuel Efficiciency/Fuel_FO_2010-17_loc_ml_error.csv', sep = ';',encoding='latin-1')"
   ]
  },
  {
   "cell_type": "code",
   "execution_count": null,
   "metadata": {
    "collapsed": true
   },
   "outputs": [],
   "source": []
  }
 ],
 "metadata": {
  "kernelspec": {
   "display_name": "Python 3",
   "language": "python",
   "name": "python3"
  },
  "language_info": {
   "codemirror_mode": {
    "name": "ipython",
    "version": 3
   },
   "file_extension": ".py",
   "mimetype": "text/x-python",
   "name": "python",
   "nbconvert_exporter": "python",
   "pygments_lexer": "ipython3",
   "version": "3.6.1"
  }
 },
 "nbformat": 4,
 "nbformat_minor": 2
}
