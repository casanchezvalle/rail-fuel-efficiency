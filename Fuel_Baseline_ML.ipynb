{
 "cells": [
  {
   "cell_type": "code",
   "execution_count": 1,
   "metadata": {
    "collapsed": false
   },
   "outputs": [],
   "source": [
    "import pandas as pd\n",
    "import matplotlib.pyplot as plt\n",
    "import seaborn as sns\n",
    "sns.set(color_codes=True)\n",
    "\n",
    "# this allows plots to appear directly in the notebook\n",
    "%matplotlib inline"
   ]
  },
  {
   "cell_type": "code",
   "execution_count": 2,
   "metadata": {
    "collapsed": false
   },
   "outputs": [
    {
     "data": {
      "text/html": [
       "<div>\n",
       "<table border=\"1\" class=\"dataframe\">\n",
       "  <thead>\n",
       "    <tr style=\"text-align: right;\">\n",
       "      <th></th>\n",
       "      <th>IN</th>\n",
       "      <th>Train_Bulletin</th>\n",
       "      <th>Sector</th>\n",
       "      <th>DateTime1</th>\n",
       "      <th>Id_Loc</th>\n",
       "      <th>Track_id</th>\n",
       "      <th>Id_Engineer</th>\n",
       "      <th>Id_fireman</th>\n",
       "      <th>Hours</th>\n",
       "      <th>Kilometers</th>\n",
       "      <th>...</th>\n",
       "      <th>id_Type</th>\n",
       "      <th>Type</th>\n",
       "      <th>Traccion</th>\n",
       "      <th>Direction</th>\n",
       "      <th>Id_Model_Loc</th>\n",
       "      <th>Model_Loc</th>\n",
       "      <th>UTC</th>\n",
       "      <th>GTK_T</th>\n",
       "      <th>Net_Ton_Km</th>\n",
       "      <th>Liters_r</th>\n",
       "    </tr>\n",
       "  </thead>\n",
       "  <tbody>\n",
       "    <tr>\n",
       "      <th>0</th>\n",
       "      <td>TREN</td>\n",
       "      <td>32175</td>\n",
       "      <td>N</td>\n",
       "      <td>26/4/2017</td>\n",
       "      <td>5409</td>\n",
       "      <td>1</td>\n",
       "      <td>67.0</td>\n",
       "      <td>252.0</td>\n",
       "      <td>4.63</td>\n",
       "      <td>56.1</td>\n",
       "      <td>...</td>\n",
       "      <td>1</td>\n",
       "      <td>CARGA</td>\n",
       "      <td>S</td>\n",
       "      <td>0</td>\n",
       "      <td>38</td>\n",
       "      <td>GE U20C</td>\n",
       "      <td>UTR</td>\n",
       "      <td>35628557.1</td>\n",
       "      <td>56.1</td>\n",
       "      <td>100.0</td>\n",
       "    </tr>\n",
       "    <tr>\n",
       "      <th>1</th>\n",
       "      <td>TREN</td>\n",
       "      <td>32177</td>\n",
       "      <td>N</td>\n",
       "      <td>26/4/2017</td>\n",
       "      <td>11</td>\n",
       "      <td>1</td>\n",
       "      <td>104.0</td>\n",
       "      <td>285.0</td>\n",
       "      <td>2.25</td>\n",
       "      <td>35.1</td>\n",
       "      <td>...</td>\n",
       "      <td>1</td>\n",
       "      <td>CARGA</td>\n",
       "      <td>S</td>\n",
       "      <td>1</td>\n",
       "      <td>9</td>\n",
       "      <td>GE U10B</td>\n",
       "      <td>UTR</td>\n",
       "      <td>21194784.0</td>\n",
       "      <td>14995773.0</td>\n",
       "      <td>100.0</td>\n",
       "    </tr>\n",
       "    <tr>\n",
       "      <th>2</th>\n",
       "      <td>TREN</td>\n",
       "      <td>32178</td>\n",
       "      <td>N</td>\n",
       "      <td>26/4/2017</td>\n",
       "      <td>5409</td>\n",
       "      <td>1</td>\n",
       "      <td>67.0</td>\n",
       "      <td>252.0</td>\n",
       "      <td>3.08</td>\n",
       "      <td>56.1</td>\n",
       "      <td>...</td>\n",
       "      <td>1</td>\n",
       "      <td>CARGA</td>\n",
       "      <td>S</td>\n",
       "      <td>1</td>\n",
       "      <td>38</td>\n",
       "      <td>GE U20C</td>\n",
       "      <td>UTR</td>\n",
       "      <td>83729250.0</td>\n",
       "      <td>58905000.0</td>\n",
       "      <td>200.0</td>\n",
       "    </tr>\n",
       "    <tr>\n",
       "      <th>3</th>\n",
       "      <td>TREN</td>\n",
       "      <td>32187</td>\n",
       "      <td>N</td>\n",
       "      <td>27/4/2017</td>\n",
       "      <td>6931</td>\n",
       "      <td>1</td>\n",
       "      <td>18.0</td>\n",
       "      <td>286.0</td>\n",
       "      <td>1.75</td>\n",
       "      <td>35.1</td>\n",
       "      <td>...</td>\n",
       "      <td>1</td>\n",
       "      <td>CARGA</td>\n",
       "      <td>S</td>\n",
       "      <td>1</td>\n",
       "      <td>43</td>\n",
       "      <td>HM</td>\n",
       "      <td>UTR</td>\n",
       "      <td>20671794.0</td>\n",
       "      <td>14546844.0</td>\n",
       "      <td>50.0</td>\n",
       "    </tr>\n",
       "    <tr>\n",
       "      <th>4</th>\n",
       "      <td>TREN</td>\n",
       "      <td>32188</td>\n",
       "      <td>N</td>\n",
       "      <td>27/4/2017</td>\n",
       "      <td>21</td>\n",
       "      <td>1</td>\n",
       "      <td>72.0</td>\n",
       "      <td>91.0</td>\n",
       "      <td>3.33</td>\n",
       "      <td>56.1</td>\n",
       "      <td>...</td>\n",
       "      <td>1</td>\n",
       "      <td>CARGA</td>\n",
       "      <td>S</td>\n",
       "      <td>0</td>\n",
       "      <td>28</td>\n",
       "      <td>GM</td>\n",
       "      <td>UTR</td>\n",
       "      <td>27692100.0</td>\n",
       "      <td>0.0</td>\n",
       "      <td>100.0</td>\n",
       "    </tr>\n",
       "  </tbody>\n",
       "</table>\n",
       "<p>5 rows × 33 columns</p>\n",
       "</div>"
      ],
      "text/plain": [
       "     IN  Train_Bulletin Sector  DateTime1  Id_Loc  Track_id  Id_Engineer  \\\n",
       "0  TREN           32175      N  26/4/2017    5409         1         67.0   \n",
       "1  TREN           32177      N  26/4/2017      11         1        104.0   \n",
       "2  TREN           32178      N  26/4/2017    5409         1         67.0   \n",
       "3  TREN           32187      N  27/4/2017    6931         1         18.0   \n",
       "4  TREN           32188      N  27/4/2017      21         1         72.0   \n",
       "\n",
       "   Id_fireman  Hours  Kilometers   ...     id_Type   Type  Traccion  \\\n",
       "0       252.0   4.63        56.1   ...           1  CARGA         S   \n",
       "1       285.0   2.25        35.1   ...           1  CARGA         S   \n",
       "2       252.0   3.08        56.1   ...           1  CARGA         S   \n",
       "3       286.0   1.75        35.1   ...           1  CARGA         S   \n",
       "4        91.0   3.33        56.1   ...           1  CARGA         S   \n",
       "\n",
       "   Direction  Id_Model_Loc Model_Loc  UTC       GTK_T  Net_Ton_Km Liters_r  \n",
       "0          0            38   GE U20C  UTR  35628557.1        56.1    100.0  \n",
       "1          1             9   GE U10B  UTR  21194784.0  14995773.0    100.0  \n",
       "2          1            38   GE U20C  UTR  83729250.0  58905000.0    200.0  \n",
       "3          1            43        HM  UTR  20671794.0  14546844.0     50.0  \n",
       "4          0            28        GM  UTR  27692100.0         0.0    100.0  \n",
       "\n",
       "[5 rows x 33 columns]"
      ]
     },
     "execution_count": 2,
     "metadata": {},
     "output_type": "execute_result"
    }
   ],
   "source": [
    "fuel = pd.read_csv('Fuel Efficiciency/Fuel_FO_2010-17_lr.csv', sep = ';',index_col=None,encoding='latin-1')\n",
    "fuel.head(5)"
   ]
  },
  {
   "cell_type": "code",
   "execution_count": 3,
   "metadata": {
    "collapsed": false
   },
   "outputs": [
    {
     "data": {
      "text/plain": [
       "UTC  Sub_Type               Model_Loc  Track_id\n",
       "UTR  CARGA GENERAL          GE C23EMP  2            797\n",
       "                                       3            757\n",
       "                                       4            890\n",
       "                            GE U10B    2            228\n",
       "                                       3            719\n",
       "                                       4            157\n",
       "                            GE U20C    2           3993\n",
       "                                       3           3757\n",
       "                                       4           3838\n",
       "                            GM         2            604\n",
       "                                       3            880\n",
       "                                       4            496\n",
       "     DERIVADOS DE PETROLEO  GE C23EMP  2            249\n",
       "                                       3            251\n",
       "                                       4            236\n",
       "                            GE U10B    2             67\n",
       "                                       3             83\n",
       "                                       4             80\n",
       "                            GE U20C    2           2172\n",
       "                                       3           2127\n",
       "                                       4           2098\n",
       "                            GM         2            337\n",
       "                                       3            329\n",
       "                                       4            323\n",
       "dtype: int64"
      ]
     },
     "execution_count": 3,
     "metadata": {},
     "output_type": "execute_result"
    }
   ],
   "source": [
    "f = fuel\n",
    "f['Lts_x_GTK'] = ((f['Liters'] * 1000)/ (f['Gross_Ton_km'] / 1000000)).astype(float)\n",
    "#f = f[(f.Sector == 'E') & (f.Sub_Type == 'CARGA GENERAL') & (f.Model_Loc == 'GE U20C') & (f.Liters >40) & (f.UTC == 'UTR') & (f.IN == 'TREN') & (f.Gross_Ton_km >0) & (f.Direction == 0.0) & (f.Traccion == 'S') & (f.Track_id <=6) & (f.Hours < 48) & (f.Lts_x_GTK < 13000)]\n",
    "\n",
    "f = f[(f.Sector == 'E') & (f.Liters >40) & (f.UTC == 'UTR') & (f.IN == 'TREN') & (f.Gross_Ton_km >0) & (f.Traccion == 'S') & (f.Track_id <=6) & (f.Hours < 48) & (f.Lts_x_GTK < 13000)]\n",
    "\n",
    "f.groupby(['UTC','Sub_Type','Model_Loc','Track_id']).size()"
   ]
  },
  {
   "cell_type": "code",
   "execution_count": 4,
   "metadata": {
    "collapsed": false
   },
   "outputs": [
    {
     "data": {
      "text/plain": [
       "<matplotlib.axes._subplots.AxesSubplot at 0x29a02c9ebe0>"
      ]
     },
     "execution_count": 4,
     "metadata": {},
     "output_type": "execute_result"
    },
    {
     "data": {
      "image/png": "[encoded data removed]",
      "text/plain": [
       "<matplotlib.figure.Figure at 0x29a02069550>"
      ]
     },
     "metadata": {},
     "output_type": "display_data"
    }
   ],
   "source": [
    "sns.regplot(y=\"Liters\", x=\"Gross_Ton_km\", data=f, fit_reg = True)"
   ]
  },
  {
   "cell_type": "code",
   "execution_count": 5,
   "metadata": {
    "collapsed": false
   },
   "outputs": [
    {
     "data": {
      "text/html": [
       "<div>\n",
       "<table border=\"1\" class=\"dataframe\">\n",
       "  <thead>\n",
       "    <tr style=\"text-align: right;\">\n",
       "      <th></th>\n",
       "      <th>IN</th>\n",
       "      <th>Train_Bulletin</th>\n",
       "      <th>Sector</th>\n",
       "      <th>DateTime1</th>\n",
       "      <th>Id_Loc</th>\n",
       "      <th>Track_id</th>\n",
       "      <th>Id_Engineer</th>\n",
       "      <th>Id_fireman</th>\n",
       "      <th>Hours</th>\n",
       "      <th>Kilometers</th>\n",
       "      <th>...</th>\n",
       "      <th>TRN_3</th>\n",
       "      <th>TRN_4</th>\n",
       "      <th>TRN_5</th>\n",
       "      <th>TRN_6</th>\n",
       "      <th>TRN_8</th>\n",
       "      <th>TRN_9</th>\n",
       "      <th>TRN_10</th>\n",
       "      <th>TRN_11</th>\n",
       "      <th>Tract</th>\n",
       "      <th>IsUnit</th>\n",
       "    </tr>\n",
       "  </thead>\n",
       "  <tbody>\n",
       "    <tr>\n",
       "      <th>0</th>\n",
       "      <td>TREN</td>\n",
       "      <td>32175</td>\n",
       "      <td>N</td>\n",
       "      <td>26/4/2017</td>\n",
       "      <td>5409</td>\n",
       "      <td>1</td>\n",
       "      <td>67.0</td>\n",
       "      <td>252.0</td>\n",
       "      <td>4.63</td>\n",
       "      <td>56.1</td>\n",
       "      <td>...</td>\n",
       "      <td>0</td>\n",
       "      <td>0</td>\n",
       "      <td>0</td>\n",
       "      <td>0</td>\n",
       "      <td>0</td>\n",
       "      <td>0</td>\n",
       "      <td>0</td>\n",
       "      <td>0</td>\n",
       "      <td>1</td>\n",
       "      <td>1</td>\n",
       "    </tr>\n",
       "    <tr>\n",
       "      <th>1</th>\n",
       "      <td>TREN</td>\n",
       "      <td>32177</td>\n",
       "      <td>N</td>\n",
       "      <td>26/4/2017</td>\n",
       "      <td>11</td>\n",
       "      <td>1</td>\n",
       "      <td>104.0</td>\n",
       "      <td>285.0</td>\n",
       "      <td>2.25</td>\n",
       "      <td>35.1</td>\n",
       "      <td>...</td>\n",
       "      <td>0</td>\n",
       "      <td>0</td>\n",
       "      <td>0</td>\n",
       "      <td>0</td>\n",
       "      <td>0</td>\n",
       "      <td>0</td>\n",
       "      <td>0</td>\n",
       "      <td>0</td>\n",
       "      <td>1</td>\n",
       "      <td>1</td>\n",
       "    </tr>\n",
       "    <tr>\n",
       "      <th>2</th>\n",
       "      <td>TREN</td>\n",
       "      <td>32178</td>\n",
       "      <td>N</td>\n",
       "      <td>26/4/2017</td>\n",
       "      <td>5409</td>\n",
       "      <td>1</td>\n",
       "      <td>67.0</td>\n",
       "      <td>252.0</td>\n",
       "      <td>3.08</td>\n",
       "      <td>56.1</td>\n",
       "      <td>...</td>\n",
       "      <td>0</td>\n",
       "      <td>0</td>\n",
       "      <td>0</td>\n",
       "      <td>0</td>\n",
       "      <td>0</td>\n",
       "      <td>0</td>\n",
       "      <td>0</td>\n",
       "      <td>0</td>\n",
       "      <td>1</td>\n",
       "      <td>1</td>\n",
       "    </tr>\n",
       "    <tr>\n",
       "      <th>3</th>\n",
       "      <td>TREN</td>\n",
       "      <td>32187</td>\n",
       "      <td>N</td>\n",
       "      <td>27/4/2017</td>\n",
       "      <td>6931</td>\n",
       "      <td>1</td>\n",
       "      <td>18.0</td>\n",
       "      <td>286.0</td>\n",
       "      <td>1.75</td>\n",
       "      <td>35.1</td>\n",
       "      <td>...</td>\n",
       "      <td>0</td>\n",
       "      <td>0</td>\n",
       "      <td>0</td>\n",
       "      <td>0</td>\n",
       "      <td>0</td>\n",
       "      <td>0</td>\n",
       "      <td>0</td>\n",
       "      <td>0</td>\n",
       "      <td>1</td>\n",
       "      <td>1</td>\n",
       "    </tr>\n",
       "    <tr>\n",
       "      <th>4</th>\n",
       "      <td>TREN</td>\n",
       "      <td>32188</td>\n",
       "      <td>N</td>\n",
       "      <td>27/4/2017</td>\n",
       "      <td>21</td>\n",
       "      <td>1</td>\n",
       "      <td>72.0</td>\n",
       "      <td>91.0</td>\n",
       "      <td>3.33</td>\n",
       "      <td>56.1</td>\n",
       "      <td>...</td>\n",
       "      <td>0</td>\n",
       "      <td>0</td>\n",
       "      <td>0</td>\n",
       "      <td>0</td>\n",
       "      <td>0</td>\n",
       "      <td>0</td>\n",
       "      <td>0</td>\n",
       "      <td>0</td>\n",
       "      <td>1</td>\n",
       "      <td>1</td>\n",
       "    </tr>\n",
       "  </tbody>\n",
       "</table>\n",
       "<p>5 rows × 59 columns</p>\n",
       "</div>"
      ],
      "text/plain": [
       "     IN  Train_Bulletin Sector  DateTime1  Id_Loc  Track_id  Id_Engineer  \\\n",
       "0  TREN           32175      N  26/4/2017    5409         1         67.0   \n",
       "1  TREN           32177      N  26/4/2017      11         1        104.0   \n",
       "2  TREN           32178      N  26/4/2017    5409         1         67.0   \n",
       "3  TREN           32187      N  27/4/2017    6931         1         18.0   \n",
       "4  TREN           32188      N  27/4/2017      21         1         72.0   \n",
       "\n",
       "   Id_fireman  Hours  Kilometers  ...    TRN_3  TRN_4  TRN_5  TRN_6  TRN_8  \\\n",
       "0       252.0   4.63        56.1  ...        0      0      0      0      0   \n",
       "1       285.0   2.25        35.1  ...        0      0      0      0      0   \n",
       "2       252.0   3.08        56.1  ...        0      0      0      0      0   \n",
       "3       286.0   1.75        35.1  ...        0      0      0      0      0   \n",
       "4        91.0   3.33        56.1  ...        0      0      0      0      0   \n",
       "\n",
       "  TRN_9  TRN_10 TRN_11 Tract IsUnit  \n",
       "0     0       0      0     1      1  \n",
       "1     0       0      0     1      1  \n",
       "2     0       0      0     1      1  \n",
       "3     0       0      0     1      1  \n",
       "4     0       0      0     1      1  \n",
       "\n",
       "[5 rows x 59 columns]"
      ]
     },
     "execution_count": 5,
     "metadata": {},
     "output_type": "execute_result"
    }
   ],
   "source": [
    "f= fuel\n",
    "# create six dummy variables for track_id using get_dummies, then exclude the first dummy column\n",
    "area_dummies = pd.get_dummies(f.Track_id, prefix='SD').iloc[:, 1:]\n",
    "\n",
    "# concatenate the dummy variable columns onto the original DataFrame (axis=0 means rows, axis=1 means columns)\n",
    "f = pd.concat([f, area_dummies], axis=1)\n",
    "\n",
    "# create six dummy variables for Locomotive Type using get_dummies, then exclude the first dummy column\n",
    "area_dummies = pd.get_dummies(f.Id_Model_Loc, prefix='MOD').iloc[:, 1:]\n",
    "\n",
    "# concatenate the dummy variable columns onto the original DataFrame (axis=0 means rows, axis=1 means columns)\n",
    "f = pd.concat([f, area_dummies], axis=1)\n",
    "\n",
    "\n",
    "# create six dummy variables for Train Type using get_dummies, then exclude the first dummy column\n",
    "area_dummies = pd.get_dummies(f.Id_Sub_Type, prefix='TRN').iloc[:, 1:]\n",
    "\n",
    "# concatenate the dummy variable columns onto the original DataFrame (axis=0 means rows, axis=1 means columns)\n",
    "f = pd.concat([f, area_dummies], axis=1)\n",
    "\n",
    "# create a new Series called Tract - Number of Locomotives\n",
    "f['Tract'] = f.Traccion.map({'S':1,'M':0})\n",
    "\n",
    "# create a new Series called IsUnit\n",
    "f['IsUnit'] = f.UTC.map({'UTR':1,'NUT':0,'PAS':-1})\n",
    "\n",
    "f.head()"
   ]
  },
  {
   "cell_type": "code",
   "execution_count": 6,
   "metadata": {
    "collapsed": false
   },
   "outputs": [
    {
     "data": {
      "text/plain": [
       "IN                 object\n",
       "Train_Bulletin      int64\n",
       "Sector             object\n",
       "DateTime1          object\n",
       "Id_Loc              int64\n",
       "Track_id            int64\n",
       "Id_Engineer       float64\n",
       "Id_fireman        float64\n",
       "Hours             float64\n",
       "Kilometers        float64\n",
       "Liters              int64\n",
       "Net_Ton_Km_r      float64\n",
       "Gross_Ton_km      float64\n",
       "Net_Tons            int64\n",
       "Gross_Tons          int64\n",
       "Date               object\n",
       "Locomotive          int64\n",
       "Track              object\n",
       "Maquinista         object\n",
       "Auxiliar           object\n",
       "Train_nbr          object\n",
       "Id_Sub_Type         int64\n",
       "Sub_Type           object\n",
       "id_Type             int64\n",
       "Type               object\n",
       "Traccion           object\n",
       "Direction           int64\n",
       "Id_Model_Loc        int64\n",
       "Model_Loc          object\n",
       "UTC                object\n",
       "GTK_T             float64\n",
       "Net_Ton_Km        float64\n",
       "Liters_r          float64\n",
       "Lts_x_GTK         float64\n",
       "SD_2                uint8\n",
       "SD_3                uint8\n",
       "SD_4                uint8\n",
       "SD_5                uint8\n",
       "SD_6                uint8\n",
       "SD_349              uint8\n",
       "SD_418              uint8\n",
       "SD_492              uint8\n",
       "MOD_10              uint8\n",
       "MOD_28              uint8\n",
       "MOD_38              uint8\n",
       "MOD_40              uint8\n",
       "MOD_42              uint8\n",
       "MOD_43              uint8\n",
       "TRN_2               uint8\n",
       "TRN_3               uint8\n",
       "TRN_4               uint8\n",
       "TRN_5               uint8\n",
       "TRN_6               uint8\n",
       "TRN_8               uint8\n",
       "TRN_9               uint8\n",
       "TRN_10              uint8\n",
       "TRN_11              uint8\n",
       "Tract               int64\n",
       "IsUnit              int64\n",
       "dtype: object"
      ]
     },
     "execution_count": 6,
     "metadata": {},
     "output_type": "execute_result"
    }
   ],
   "source": [
    "f.dtypes"
   ]
  },
  {
   "cell_type": "code",
   "execution_count": 7,
   "metadata": {
    "collapsed": true
   },
   "outputs": [],
   "source": [
    "#f = f[(f.Sector == 'E') & (f.Sub_Type == 'CARGA GENERAL') & (f.Model_Loc == 'GE U20C') & (f.Liters >40) & (f.UTC == 'UTR') & (f.IN == 'TREN') & (f.Gross_Ton_km >0) & (f.Direction == 0.0) & (f.Traccion == 'S') & (f.Track_id <=6) & (f.Hours < 48) & (f.Lts_x_GTK < 13000)]\n"
   ]
  },
  {
   "cell_type": "code",
   "execution_count": 8,
   "metadata": {
    "collapsed": false
   },
   "outputs": [
    {
     "name": "stdout",
     "output_type": "stream",
     "text": [
      "                            OLS Regression Results                            \n",
      "==============================================================================\n",
      "Dep. Variable:                 Liters   R-squared:                       0.646\n",
      "Model:                            OLS   Adj. R-squared:                  0.646\n",
      "Method:                 Least Squares   F-statistic:                     7152.\n",
      "Date:                Sun, 13 Aug 2017   Prob (F-statistic):               0.00\n",
      "Time:                        20:27:42   Log-Likelihood:            -6.3418e+05\n",
      "No. Observations:               89979   AIC:                         1.268e+06\n",
      "Df Residuals:                   89955   BIC:                         1.269e+06\n",
      "Df Model:                          23                                         \n",
      "Covariance Type:            nonrobust                                         \n",
      "================================================================================\n",
      "                   coef    std err          t      P>|t|      [95.0% Conf. Int.]\n",
      "--------------------------------------------------------------------------------\n",
      "Intercept      -65.8977     12.606     -5.227      0.000       -90.606   -41.190\n",
      "Gross_Ton_km  1.667e-06   1.04e-08    159.560      0.000      1.65e-06  1.69e-06\n",
      "Hours           10.7116      0.339     31.595      0.000        10.047    11.376\n",
      "Kilometers       0.6710      0.016     41.232      0.000         0.639     0.703\n",
      "IsUnit         116.4958     12.372      9.416      0.000        92.248   140.744\n",
      "SD_2            21.9472      5.669      3.871      0.000        10.836    33.059\n",
      "SD_3           298.6968      4.990     59.861      0.000       288.917   308.477\n",
      "SD_4           111.6297      5.542     20.143      0.000       100.768   122.491\n",
      "SD_5           -56.7312      9.027     -6.285      0.000       -74.424   -39.039\n",
      "SD_6            60.9036      8.506      7.160      0.000        44.232    77.575\n",
      "MOD_10         124.0583      5.617     22.085      0.000       113.049   135.068\n",
      "MOD_28          -4.4561      4.325     -1.030      0.303       -12.934     4.022\n",
      "MOD_38         195.9940      3.203     61.187      0.000       189.716   202.272\n",
      "MOD_40         -25.1590      3.624     -6.943      0.000       -32.261   -18.057\n",
      "MOD_42         -96.2768      7.603    -12.663      0.000      -111.178   -81.375\n",
      "MOD_43         -29.0693     49.445     -0.588      0.557      -125.981    67.842\n",
      "TRN_2          -18.9117     23.329     -0.811      0.418       -64.636    26.812\n",
      "TRN_3         -112.4618     23.401     -4.806      0.000      -158.328   -66.595\n",
      "TRN_4          233.6578      7.272     32.132      0.000       219.405   247.911\n",
      "TRN_5           60.5360    149.326      0.405      0.685      -232.141   353.213\n",
      "TRN_6           39.8845     14.626      2.727      0.006        11.217    68.552\n",
      "TRN_8           94.8060     13.000      7.293      0.000        69.327   120.285\n",
      "TRN_9          118.1187     22.179      5.326      0.000        74.649   161.589\n",
      "TRN_10          77.2623      9.642      8.013      0.000        58.364    96.160\n",
      "TRN_11         222.2736      7.512     29.591      0.000       207.551   236.996\n",
      "==============================================================================\n",
      "Omnibus:                    35259.919   Durbin-Watson:                   1.620\n",
      "Prob(Omnibus):                  0.000   Jarque-Bera (JB):           479783.181\n",
      "Skew:                           1.510   Prob(JB):                         0.00\n",
      "Kurtosis:                      13.902   Cond. No.                     1.28e+23\n",
      "==============================================================================\n",
      "\n",
      "Warnings:\n",
      "[1] Standard Errors assume that the covariance matrix of the errors is correctly specified.\n",
      "[2] The smallest eigenvalue is 1.76e-25. This might indicate that there are\n",
      "strong multicollinearity problems or that the design matrix is singular.\n"
     ]
    }
   ],
   "source": [
    "# Import regression modules\n",
    "# ols - stands for Ordinary least squares\n",
    "import statsmodels.api as sm\n",
    "from statsmodels.formula.api import ols\n",
    "# The thing inside the \"quotes\" is called a formula, a bit on that below\n",
    "m = ols('Liters ~ Gross_Ton_km + Hours + Kilometers + IsUnit + SD_2 + SD_3 + SD_4 + SD_5 + SD_6 + MOD_10 + MOD_28 + MOD_38 + MOD_40 + MOD_42 + MOD_43 + TRN_2 + TRN_3 + TRN_4 + TRN_5 + TRN_6 + TRN_8 + TRN_9 + TRN_10 + TRN_11 ',f).fit()\n",
    "print (m.summary())"
   ]
  },
  {
   "cell_type": "code",
   "execution_count": 9,
   "metadata": {
    "collapsed": true
   },
   "outputs": [],
   "source": [
    "%matplotlib inline\n",
    "import pandas as pd\n",
    "import numpy as np\n",
    "import itertools\n",
    "import time\n",
    "import statsmodels.api as sm\n",
    "import matplotlib.pyplot as plt"
   ]
  },
  {
   "cell_type": "code",
   "execution_count": 10,
   "metadata": {
    "collapsed": false
   },
   "outputs": [
    {
     "data": {
      "text/plain": [
       "[('Gross_Ton_km', 1.6666960174313205e-06),\n",
       " ('Hours', 10.71161874303988),\n",
       " ('Kilometers', 0.671037586274565),\n",
       " ('IsUnit', 111.42670678182139),\n",
       " ('SD_2', 21.947167835215453),\n",
       " ('SD_3', 298.69676210073408),\n",
       " ('SD_4', 111.62967274409147),\n",
       " ('SD_5', -56.731162542882345),\n",
       " ('SD_6', 60.90358027958866),\n",
       " ('MOD_10', 124.05825166812392),\n",
       " ('MOD_28', -4.4560783709637946),\n",
       " ('MOD_38', 195.9940360025295),\n",
       " ('MOD_40', -25.158963326414437),\n",
       " ('MOD_42', -96.276827720029019),\n",
       " ('MOD_43', -29.069339901770146),\n",
       " ('TRN_2', -8.7735920025344676),\n",
       " ('TRN_3', -102.32374642441184),\n",
       " ('TRN_4', 233.65777904119443),\n",
       " ('TRN_5', 65.605100917893452),\n",
       " ('TRN_6', 44.953525987645676),\n",
       " ('TRN_8', 99.875041058493991),\n",
       " ('TRN_9', 123.18771567168008),\n",
       " ('TRN_10', 77.262336862674701),\n",
       " ('TRN_11', 222.27361154766118)]"
      ]
     },
     "execution_count": 10,
     "metadata": {},
     "output_type": "execute_result"
    }
   ],
   "source": [
    "from sklearn.linear_model import LinearRegression\n",
    "feature_cols = ['Gross_Ton_km', 'Hours', 'Kilometers', 'IsUnit','SD_2', 'SD_3', 'SD_4', 'SD_5', 'SD_6', \n",
    "                'MOD_10', 'MOD_28', 'MOD_38', 'MOD_40', 'MOD_42', 'MOD_43', \n",
    "                'TRN_2', 'TRN_3', 'TRN_4', 'TRN_5', 'TRN_6', 'TRN_8', 'TRN_9', 'TRN_10', 'TRN_11']\n",
    "X = f[feature_cols]\n",
    "y = f.Liters\n",
    "# This creates a LinearRegression object\n",
    "lm = LinearRegression()\n",
    "lm.fit(X, y)\n",
    "\n",
    "# print coefficients\n",
    "list(zip(feature_cols, lm.coef_))"
   ]
  },
  {
   "cell_type": "code",
   "execution_count": 11,
   "metadata": {
    "collapsed": false
   },
   "outputs": [],
   "source": [
    "def processSubset(feature_set):\n",
    "    \n",
    "# Fit model on feature_set and calculate RSS\n",
    "    model = sm.OLS(y,X[list(feature_set)])\n",
    "    regr = model.fit()\n",
    "    RSS = ((regr.predict(X[list(feature_set)]) - y) ** 2).sum()\n",
    "    return {\"model\":regr, \"RSS\":RSS}"
   ]
  },
  {
   "cell_type": "code",
   "execution_count": 12,
   "metadata": {
    "collapsed": false
   },
   "outputs": [],
   "source": [
    "#def getBest(k):\n",
    "#    tic = time.time()\n",
    "#    results = []\n",
    "#    for combo in itertools.combinations(X.columns, k):\n",
    "#        results.append(processSubset(combo))\n",
    "    # Wrap everything up in a nice dataframe\n",
    "#    models = pd.DataFrame(results)\n",
    "    # Choose the model with the highest RSS\n",
    "#    best_model = models.loc[models['RSS'].argmin()]\n",
    "#    toc = time.time()\n",
    "#    print(\"Processed \", models.shape[0], \"models on\", k, \"predictors in\", (toc-tic), \"seconds.\")\n",
    "    # Return the best model, along with some other useful information about the model\n",
    "#    return best_model\n"
   ]
  },
  {
   "cell_type": "code",
   "execution_count": 13,
   "metadata": {
    "collapsed": false
   },
   "outputs": [],
   "source": [
    "# Could take quite awhile to complete...\n",
    "#models = pd.DataFrame(columns=[\"RSS\", \"model\"])\n",
    "#tic = time.time()\n",
    "#for i in range(1,8):\n",
    "#    models.loc[i] = getBest(i)\n",
    "#toc = time.time()\n",
    "#print(\"Total elapsed time:\", (toc-tic), \"seconds.\")"
   ]
  },
  {
   "cell_type": "code",
   "execution_count": 14,
   "metadata": {
    "collapsed": false
   },
   "outputs": [],
   "source": [
    "def forward(predictors):\n",
    "    # Pull out predictors we still need to process\n",
    "    remaining_predictors = [p for p in X.columns if p not in predictors]\n",
    "    tic = time.time()\n",
    "    results = []\n",
    "    for p in remaining_predictors:\n",
    "        results.append(processSubset(predictors+[p]))\n",
    "    # Wrap everything up in a nice dataframe\n",
    "    models = pd.DataFrame(results)\n",
    "    # Choose the model with the highest RSS\n",
    "    best_model = models.loc[models['RSS'].argmin()]\n",
    "    toc = time.time()\n",
    "    print(\"Processed \", models.shape[0], \"models on\", len(predictors)+1, \"predictors in\", (toc-tic), \"seconds.\")\n",
    "          # Return the best model, along with some other useful information about the model\n",
    "    return best_model"
   ]
  },
  {
   "cell_type": "code",
   "execution_count": 15,
   "metadata": {
    "collapsed": false
   },
   "outputs": [
    {
     "name": "stdout",
     "output_type": "stream",
     "text": [
      "Processed  24 models on 1 predictors in 0.24565362930297852 seconds.\n",
      "Processed  23 models on 2 predictors in 0.35895538330078125 seconds.\n",
      "Processed  22 models on 3 predictors in 0.4411740303039551 seconds.\n",
      "Processed  21 models on 4 predictors in 0.49131035804748535 seconds.\n",
      "Processed  20 models on 5 predictors in 0.5905702114105225 seconds.\n",
      "Processed  19 models on 6 predictors in 0.6798081398010254 seconds.\n",
      "Processed  18 models on 7 predictors in 0.7449829578399658 seconds.\n",
      "Processed  17 models on 8 predictors in 0.8382284641265869 seconds.\n",
      "Processed  16 models on 9 predictors in 0.9254639148712158 seconds.\n",
      "Processed  15 models on 10 predictors in 1.0096862316131592 seconds.\n",
      "Processed  14 models on 11 predictors in 1.1811425685882568 seconds.\n",
      "Processed  13 models on 12 predictors in 1.01670241355896 seconds.\n",
      "Processed  12 models on 13 predictors in 1.0457825660705566 seconds.\n",
      "Processed  11 models on 14 predictors in 1.0688447952270508 seconds.\n",
      "Processed  10 models on 15 predictors in 1.0428187847137451 seconds.\n",
      "Processed  9 models on 16 predictors in 1.0668742656707764 seconds.\n",
      "Processed  8 models on 17 predictors in 1.020723581314087 seconds.\n",
      "Processed  7 models on 18 predictors in 0.9675853252410889 seconds.\n",
      "Processed  6 models on 19 predictors in 0.8572797775268555 seconds.\n",
      "Processed  5 models on 20 predictors in 0.748044490814209 seconds.\n",
      "Processed  4 models on 21 predictors in 0.6918518543243408 seconds.\n",
      "Processed  3 models on 22 predictors in 0.506342887878418 seconds.\n",
      "Processed  2 models on 23 predictors in 0.3639640808105469 seconds.\n",
      "Processed  1 models on 24 predictors in 0.18446683883666992 seconds.\n",
      "Total elapsed time: 18.22948718070984 seconds.\n"
     ]
    }
   ],
   "source": [
    "models2 = pd.DataFrame(columns=[\"RSS\", \"model\"])\n",
    "tic = time.time()\n",
    "predictors = []\n",
    "for i in range(1,len(X.columns)+1):\n",
    "    models2.loc[i] = forward(predictors)\n",
    "    predictors = models2.loc[i][\"model\"].model.exog_names\n",
    "toc = time.time()\n",
    "print(\"Total elapsed time:\", (toc-tic), \"seconds.\")"
   ]
  },
  {
   "cell_type": "code",
   "execution_count": 16,
   "metadata": {
    "collapsed": false
   },
   "outputs": [
    {
     "name": "stdout",
     "output_type": "stream",
     "text": [
      "                            OLS Regression Results                            \n",
      "==============================================================================\n",
      "Dep. Variable:                 Liters   R-squared:                       0.713\n",
      "Model:                            OLS   Adj. R-squared:                  0.713\n",
      "Method:                 Least Squares   F-statistic:                 2.237e+05\n",
      "Date:                Sun, 13 Aug 2017   Prob (F-statistic):               0.00\n",
      "Time:                        20:28:02   Log-Likelihood:            -6.6983e+05\n",
      "No. Observations:               89979   AIC:                         1.340e+06\n",
      "Df Residuals:                   89978   BIC:                         1.340e+06\n",
      "Df Model:                           1                                         \n",
      "Covariance Type:            nonrobust                                         \n",
      "================================================================================\n",
      "                   coef    std err          t      P>|t|      [95.0% Conf. Int.]\n",
      "--------------------------------------------------------------------------------\n",
      "Gross_Ton_km  3.639e-06   7.69e-09    472.981      0.000      3.62e-06  3.65e-06\n",
      "==============================================================================\n",
      "Omnibus:                    12148.406   Durbin-Watson:                   1.132\n",
      "Prob(Omnibus):                  0.000   Jarque-Bera (JB):           166556.783\n",
      "Skew:                          -0.027   Prob(JB):                         0.00\n",
      "Kurtosis:                       9.665   Cond. No.                         1.00\n",
      "==============================================================================\n",
      "\n",
      "Warnings:\n",
      "[1] Standard Errors assume that the covariance matrix of the errors is correctly specified.\n",
      "                            OLS Regression Results                            \n",
      "==============================================================================\n",
      "Dep. Variable:                 Liters   R-squared:                       0.810\n",
      "Model:                            OLS   Adj. R-squared:                  0.810\n",
      "Method:                 Least Squares   F-statistic:                 1.917e+05\n",
      "Date:                Sun, 13 Aug 2017   Prob (F-statistic):               0.00\n",
      "Time:                        20:28:02   Log-Likelihood:            -6.5132e+05\n",
      "No. Observations:               89979   AIC:                         1.303e+06\n",
      "Df Residuals:                   89977   BIC:                         1.303e+06\n",
      "Df Model:                           2                                         \n",
      "Covariance Type:            nonrobust                                         \n",
      "================================================================================\n",
      "                   coef    std err          t      P>|t|      [95.0% Conf. Int.]\n",
      "--------------------------------------------------------------------------------\n",
      "Gross_Ton_km   2.18e-06   9.26e-09    235.496      0.000      2.16e-06   2.2e-06\n",
      "Hours           34.6723      0.162    213.959      0.000        34.355    34.990\n",
      "==============================================================================\n",
      "Omnibus:                    20784.473   Durbin-Watson:                   1.293\n",
      "Prob(Omnibus):                  0.000   Jarque-Bera (JB):           120782.207\n",
      "Skew:                           0.988   Prob(JB):                         0.00\n",
      "Kurtosis:                       8.321   Cond. No.                     2.59e+07\n",
      "==============================================================================\n",
      "\n",
      "Warnings:\n",
      "[1] Standard Errors assume that the covariance matrix of the errors is correctly specified.\n",
      "[2] The condition number is large, 2.59e+07. This might indicate that there are\n",
      "strong multicollinearity or other numerical problems.\n"
     ]
    }
   ],
   "source": [
    "print(models2.loc[1, \"model\"].summary())\n",
    "print(models2.loc[2, \"model\"].summary())\n"
   ]
  },
  {
   "cell_type": "code",
   "execution_count": 17,
   "metadata": {
    "collapsed": false
   },
   "outputs": [
    {
     "name": "stdout",
     "output_type": "stream",
     "text": [
      "                            OLS Regression Results                            \n",
      "==============================================================================\n",
      "Dep. Variable:                 Liters   R-squared:                       0.841\n",
      "Model:                            OLS   Adj. R-squared:                  0.841\n",
      "Method:                 Least Squares   F-statistic:                 1.589e+05\n",
      "Date:                Sun, 13 Aug 2017   Prob (F-statistic):               0.00\n",
      "Time:                        20:28:02   Log-Likelihood:            -6.4322e+05\n",
      "No. Observations:               89979   AIC:                         1.286e+06\n",
      "Df Residuals:                   89976   BIC:                         1.286e+06\n",
      "Df Model:                           3                                         \n",
      "Covariance Type:            nonrobust                                         \n",
      "================================================================================\n",
      "                   coef    std err          t      P>|t|      [95.0% Conf. Int.]\n",
      "--------------------------------------------------------------------------------\n",
      "Gross_Ton_km  2.134e-06   8.47e-09    251.933      0.000      2.12e-06  2.15e-06\n",
      "Hours           30.5205      0.151    201.662      0.000        30.224    30.817\n",
      "SD_3           294.3977      2.210    133.225      0.000       290.067   298.729\n",
      "==============================================================================\n",
      "Omnibus:                    28127.588   Durbin-Watson:                   1.473\n",
      "Prob(Omnibus):                  0.000   Jarque-Bera (JB):           276108.400\n",
      "Skew:                           1.221   Prob(JB):                         0.00\n",
      "Kurtosis:                      11.227   Cond. No.                     3.86e+08\n",
      "==============================================================================\n",
      "\n",
      "Warnings:\n",
      "[1] Standard Errors assume that the covariance matrix of the errors is correctly specified.\n",
      "[2] The condition number is large, 3.86e+08. This might indicate that there are\n",
      "strong multicollinearity or other numerical problems.\n",
      "                            OLS Regression Results                            \n",
      "==============================================================================\n",
      "Dep. Variable:                 Liters   R-squared:                       0.852\n",
      "Model:                            OLS   Adj. R-squared:                  0.852\n",
      "Method:                 Least Squares   F-statistic:                 1.297e+05\n",
      "Date:                Sun, 13 Aug 2017   Prob (F-statistic):               0.00\n",
      "Time:                        20:28:02   Log-Likelihood:            -6.3999e+05\n",
      "No. Observations:               89979   AIC:                         1.280e+06\n",
      "Df Residuals:                   89975   BIC:                         1.280e+06\n",
      "Df Model:                           4                                         \n",
      "Covariance Type:            nonrobust                                         \n",
      "================================================================================\n",
      "                   coef    std err          t      P>|t|      [95.0% Conf. Int.]\n",
      "--------------------------------------------------------------------------------\n",
      "Gross_Ton_km  1.864e-06   8.81e-09    211.634      0.000      1.85e-06  1.88e-06\n",
      "Hours           26.1383      0.155    168.102      0.000        25.834    26.443\n",
      "SD_3           256.5147      2.181    117.597      0.000       252.239   260.790\n",
      "MOD_38         192.3440      2.348     81.920      0.000       187.742   196.946\n",
      "==============================================================================\n",
      "Omnibus:                    29657.787   Durbin-Watson:                   1.505\n",
      "Prob(Omnibus):                  0.000   Jarque-Bera (JB):           303321.855\n",
      "Skew:                           1.291   Prob(JB):                         0.00\n",
      "Kurtosis:                      11.616   Cond. No.                     4.54e+08\n",
      "==============================================================================\n",
      "\n",
      "Warnings:\n",
      "[1] Standard Errors assume that the covariance matrix of the errors is correctly specified.\n",
      "[2] The condition number is large, 4.54e+08. This might indicate that there are\n",
      "strong multicollinearity or other numerical problems.\n"
     ]
    }
   ],
   "source": [
    "print(models2.loc[3, \"model\"].summary())\n",
    "print(models2.loc[4, \"model\"].summary())"
   ]
  },
  {
   "cell_type": "code",
   "execution_count": 18,
   "metadata": {
    "collapsed": false
   },
   "outputs": [
    {
     "name": "stdout",
     "output_type": "stream",
     "text": [
      "                            OLS Regression Results                            \n",
      "==============================================================================\n",
      "Dep. Variable:                 Liters   R-squared:                       0.856\n",
      "Model:                            OLS   Adj. R-squared:                  0.856\n",
      "Method:                 Least Squares   F-statistic:                 1.068e+05\n",
      "Date:                Sun, 13 Aug 2017   Prob (F-statistic):               0.00\n",
      "Time:                        20:28:02   Log-Likelihood:            -6.3887e+05\n",
      "No. Observations:               89979   AIC:                         1.278e+06\n",
      "Df Residuals:                   89974   BIC:                         1.278e+06\n",
      "Df Model:                           5                                         \n",
      "Covariance Type:            nonrobust                                         \n",
      "================================================================================\n",
      "                   coef    std err          t      P>|t|      [95.0% Conf. Int.]\n",
      "--------------------------------------------------------------------------------\n",
      "Gross_Ton_km  1.895e-06   8.72e-09    217.218      0.000      1.88e-06  1.91e-06\n",
      "Hours           24.2373      0.159    152.726      0.000        23.926    24.548\n",
      "SD_3           241.4155      2.178    110.856      0.000       237.147   245.684\n",
      "MOD_38         209.8670      2.348     89.375      0.000       205.265   214.469\n",
      "TRN_4          159.4470      3.355     47.527      0.000       152.872   166.022\n",
      "==============================================================================\n",
      "Omnibus:                    31490.532   Durbin-Watson:                   1.542\n",
      "Prob(Omnibus):                  0.000   Jarque-Bera (JB):           335105.613\n",
      "Skew:                           1.378   Prob(JB):                         0.00\n",
      "Kurtosis:                      12.044   Cond. No.                     6.28e+08\n",
      "==============================================================================\n",
      "\n",
      "Warnings:\n",
      "[1] Standard Errors assume that the covariance matrix of the errors is correctly specified.\n",
      "[2] The condition number is large, 6.28e+08. This might indicate that there are\n",
      "strong multicollinearity or other numerical problems.\n",
      "                            OLS Regression Results                            \n",
      "==============================================================================\n",
      "Dep. Variable:                 Liters   R-squared:                       0.858\n",
      "Model:                            OLS   Adj. R-squared:                  0.858\n",
      "Method:                 Least Squares   F-statistic:                 9.089e+04\n",
      "Date:                Sun, 13 Aug 2017   Prob (F-statistic):               0.00\n",
      "Time:                        20:28:02   Log-Likelihood:            -6.3808e+05\n",
      "No. Observations:               89979   AIC:                         1.276e+06\n",
      "Df Residuals:                   89973   BIC:                         1.276e+06\n",
      "Df Model:                           6                                         \n",
      "Covariance Type:            nonrobust                                         \n",
      "================================================================================\n",
      "                   coef    std err          t      P>|t|      [95.0% Conf. Int.]\n",
      "--------------------------------------------------------------------------------\n",
      "Gross_Ton_km  1.868e-06   8.67e-09    215.307      0.000      1.85e-06  1.88e-06\n",
      "Hours           25.4396      0.160    158.857      0.000        25.126    25.753\n",
      "SD_3           257.6145      2.196    117.303      0.000       253.310   261.919\n",
      "MOD_38         197.3703      2.348     84.047      0.000       192.768   201.973\n",
      "TRN_4          148.4533      3.337     44.492      0.000       141.914   154.993\n",
      "MOD_42        -150.7707      3.764    -40.052      0.000      -158.149  -143.393\n",
      "==============================================================================\n",
      "Omnibus:                    31086.462   Durbin-Watson:                   1.545\n",
      "Prob(Omnibus):                  0.000   Jarque-Bera (JB):           352902.323\n",
      "Skew:                           1.336   Prob(JB):                         0.00\n",
      "Kurtosis:                      12.327   Cond. No.                     7.20e+08\n",
      "==============================================================================\n",
      "\n",
      "Warnings:\n",
      "[1] Standard Errors assume that the covariance matrix of the errors is correctly specified.\n",
      "[2] The condition number is large, 7.2e+08. This might indicate that there are\n",
      "strong multicollinearity or other numerical problems.\n"
     ]
    }
   ],
   "source": [
    "print(models2.loc[5, \"model\"].summary())\n",
    "print(models2.loc[6, \"model\"].summary())"
   ]
  },
  {
   "cell_type": "code",
   "execution_count": 19,
   "metadata": {
    "collapsed": false
   },
   "outputs": [
    {
     "name": "stdout",
     "output_type": "stream",
     "text": [
      "                            OLS Regression Results                            \n",
      "==============================================================================\n",
      "Dep. Variable:                 Liters   R-squared:                       0.862\n",
      "Model:                            OLS   Adj. R-squared:                  0.862\n",
      "Method:                 Least Squares   F-statistic:                 8.037e+04\n",
      "Date:                Sun, 13 Aug 2017   Prob (F-statistic):               0.00\n",
      "Time:                        20:28:02   Log-Likelihood:            -6.3687e+05\n",
      "No. Observations:               89979   AIC:                         1.274e+06\n",
      "Df Residuals:                   89972   BIC:                         1.274e+06\n",
      "Df Model:                           7                                         \n",
      "Covariance Type:            nonrobust                                         \n",
      "================================================================================\n",
      "                   coef    std err          t      P>|t|      [95.0% Conf. Int.]\n",
      "--------------------------------------------------------------------------------\n",
      "Gross_Ton_km  1.781e-06   8.74e-09    203.863      0.000      1.76e-06   1.8e-06\n",
      "Hours           16.3552      0.242     67.481      0.000        15.880    16.830\n",
      "SD_3           268.7197      2.179    123.348      0.000       264.450   272.990\n",
      "MOD_38         189.5699      2.322     81.624      0.000       185.018   194.122\n",
      "TRN_4           77.6726      3.590     21.635      0.000        70.636    84.709\n",
      "MOD_42        -239.7644      4.128    -58.087      0.000      -247.855  -231.674\n",
      "Kilometers       0.6132      0.012     49.431      0.000         0.589     0.637\n",
      "==============================================================================\n",
      "Omnibus:                    33830.401   Durbin-Watson:                   1.562\n",
      "Prob(Omnibus):                  0.000   Jarque-Bera (JB):           403552.998\n",
      "Skew:                           1.471   Prob(JB):                         0.00\n",
      "Kurtosis:                      12.949   Cond. No.                     8.34e+08\n",
      "==============================================================================\n",
      "\n",
      "Warnings:\n",
      "[1] Standard Errors assume that the covariance matrix of the errors is correctly specified.\n",
      "[2] The condition number is large, 8.34e+08. This might indicate that there are\n",
      "strong multicollinearity or other numerical problems.\n",
      "                            OLS Regression Results                            \n",
      "==============================================================================\n",
      "Dep. Variable:                 Liters   R-squared:                       0.865\n",
      "Model:                            OLS   Adj. R-squared:                  0.865\n",
      "Method:                 Least Squares   F-statistic:                 7.218e+04\n",
      "Date:                Sun, 13 Aug 2017   Prob (F-statistic):               0.00\n",
      "Time:                        20:28:02   Log-Likelihood:            -6.3586e+05\n",
      "No. Observations:               89979   AIC:                         1.272e+06\n",
      "Df Residuals:                   89971   BIC:                         1.272e+06\n",
      "Df Model:                           8                                         \n",
      "Covariance Type:            nonrobust                                         \n",
      "================================================================================\n",
      "                   coef    std err          t      P>|t|      [95.0% Conf. Int.]\n",
      "--------------------------------------------------------------------------------\n",
      "Gross_Ton_km  1.823e-06   8.69e-09    209.850      0.000      1.81e-06  1.84e-06\n",
      "Hours           12.4670      0.255     48.980      0.000        11.968    12.966\n",
      "SD_3           302.1264      2.277    132.705      0.000       297.664   306.589\n",
      "MOD_38         176.3240      2.315     76.169      0.000       171.787   180.861\n",
      "TRN_4           55.6794      3.583     15.540      0.000        48.657    62.702\n",
      "MOD_42        -267.3091      4.126    -64.782      0.000      -275.397  -259.222\n",
      "Kilometers       0.6204      0.012     50.580      0.000         0.596     0.644\n",
      "SD_4            99.8241      2.202     45.332      0.000        95.508   104.140\n",
      "==============================================================================\n",
      "Omnibus:                    33646.021   Durbin-Watson:                   1.577\n",
      "Prob(Omnibus):                  0.000   Jarque-Bera (JB):           424701.760\n",
      "Skew:                           1.444   Prob(JB):                         0.00\n",
      "Kurtosis:                      13.244   Cond. No.                     8.59e+08\n",
      "==============================================================================\n",
      "\n",
      "Warnings:\n",
      "[1] Standard Errors assume that the covariance matrix of the errors is correctly specified.\n",
      "[2] The condition number is large, 8.59e+08. This might indicate that there are\n",
      "strong multicollinearity or other numerical problems.\n"
     ]
    }
   ],
   "source": [
    "print(models2.loc[7, \"model\"].summary())\n",
    "print(models2.loc[8, \"model\"].summary())"
   ]
  },
  {
   "cell_type": "code",
   "execution_count": 20,
   "metadata": {
    "collapsed": false
   },
   "outputs": [
    {
     "name": "stdout",
     "output_type": "stream",
     "text": [
      "                            OLS Regression Results                            \n",
      "==============================================================================\n",
      "Dep. Variable:                 Liters   R-squared:                       0.867\n",
      "Model:                            OLS   Adj. R-squared:                  0.867\n",
      "Method:                 Least Squares   F-statistic:                 6.509e+04\n",
      "Date:                Sun, 13 Aug 2017   Prob (F-statistic):               0.00\n",
      "Time:                        20:28:02   Log-Likelihood:            -6.3530e+05\n",
      "No. Observations:               89979   AIC:                         1.271e+06\n",
      "Df Residuals:                   89970   BIC:                         1.271e+06\n",
      "Df Model:                           9                                         \n",
      "Covariance Type:            nonrobust                                         \n",
      "================================================================================\n",
      "                   coef    std err          t      P>|t|      [95.0% Conf. Int.]\n",
      "--------------------------------------------------------------------------------\n",
      "Gross_Ton_km  1.811e-06   8.64e-09    209.534      0.000      1.79e-06  1.83e-06\n",
      "Hours            8.7992      0.276     31.933      0.000         8.259     9.339\n",
      "SD_3           287.1190      2.306    124.493      0.000       282.599   291.639\n",
      "MOD_38         168.0725      2.314     72.643      0.000       163.538   172.607\n",
      "TRN_4           81.6961      3.644     22.419      0.000        74.554    88.838\n",
      "MOD_42        -248.5070      4.139    -60.043      0.000      -256.619  -240.395\n",
      "Kilometers       0.6386      0.012     52.335      0.000         0.615     0.663\n",
      "SD_4            99.8728      2.188     45.637      0.000        95.584   104.162\n",
      "TRN_2           70.3375      2.095     33.568      0.000        66.231    74.444\n",
      "==============================================================================\n",
      "Omnibus:                    34314.496   Durbin-Watson:                   1.585\n",
      "Prob(Omnibus):                  0.000   Jarque-Bera (JB):           438844.091\n",
      "Skew:                           1.476   Prob(JB):                         0.00\n",
      "Kurtosis:                      13.408   Cond. No.                     8.80e+08\n",
      "==============================================================================\n",
      "\n",
      "Warnings:\n",
      "[1] Standard Errors assume that the covariance matrix of the errors is correctly specified.\n",
      "[2] The condition number is large, 8.8e+08. This might indicate that there are\n",
      "strong multicollinearity or other numerical problems.\n",
      "                            OLS Regression Results                            \n",
      "==============================================================================\n",
      "Dep. Variable:                 Liters   R-squared:                       0.868\n",
      "Model:                            OLS   Adj. R-squared:                  0.868\n",
      "Method:                 Least Squares   F-statistic:                 5.901e+04\n",
      "Date:                Sun, 13 Aug 2017   Prob (F-statistic):               0.00\n",
      "Time:                        20:28:02   Log-Likelihood:            -6.3501e+05\n",
      "No. Observations:               89979   AIC:                         1.270e+06\n",
      "Df Residuals:                   89969   BIC:                         1.270e+06\n",
      "Df Model:                          10                                         \n",
      "Covariance Type:            nonrobust                                         \n",
      "================================================================================\n",
      "                   coef    std err          t      P>|t|      [95.0% Conf. Int.]\n",
      "--------------------------------------------------------------------------------\n",
      "Gross_Ton_km  1.689e-06      1e-08    168.803      0.000      1.67e-06  1.71e-06\n",
      "Hours            8.8920      0.275     32.369      0.000         8.354     9.430\n",
      "SD_3           275.6906      2.348    117.395      0.000       271.088   280.293\n",
      "MOD_38         199.0883      2.647     75.203      0.000       193.900   204.277\n",
      "TRN_4           89.5008      3.647     24.539      0.000        82.352    96.649\n",
      "MOD_42        -241.7363      4.136    -58.453      0.000      -249.842  -233.631\n",
      "Kilometers       0.6362      0.012     52.296      0.000         0.612     0.660\n",
      "SD_4            94.2206      2.194     42.938      0.000        89.920    98.521\n",
      "TRN_2           66.3488      2.095     31.663      0.000        62.242    70.456\n",
      "MOD_10         125.4811      5.258     23.865      0.000       115.176   135.787\n",
      "==============================================================================\n",
      "Omnibus:                    33988.433   Durbin-Watson:                   1.592\n",
      "Prob(Omnibus):                  0.000   Jarque-Bera (JB):           428179.733\n",
      "Skew:                           1.463   Prob(JB):                         0.00\n",
      "Kurtosis:                      13.278   Cond. No.                     1.07e+09\n",
      "==============================================================================\n",
      "\n",
      "Warnings:\n",
      "[1] Standard Errors assume that the covariance matrix of the errors is correctly specified.\n",
      "[2] The condition number is large, 1.07e+09. This might indicate that there are\n",
      "strong multicollinearity or other numerical problems.\n"
     ]
    }
   ],
   "source": [
    "print(models2.loc[9, \"model\"].summary())\n",
    "print(models2.loc[10, \"model\"].summary())"
   ]
  },
  {
   "cell_type": "code",
   "execution_count": 21,
   "metadata": {
    "collapsed": false
   },
   "outputs": [
    {
     "name": "stdout",
     "output_type": "stream",
     "text": [
      "                            OLS Regression Results                            \n",
      "==============================================================================\n",
      "Dep. Variable:                 Liters   R-squared:                       0.869\n",
      "Model:                            OLS   Adj. R-squared:                  0.869\n",
      "Method:                 Least Squares   F-statistic:                 5.406e+04\n",
      "Date:                Sun, 13 Aug 2017   Prob (F-statistic):               0.00\n",
      "Time:                        20:28:02   Log-Likelihood:            -6.3471e+05\n",
      "No. Observations:               89979   AIC:                         1.269e+06\n",
      "Df Residuals:                   89968   BIC:                         1.270e+06\n",
      "Df Model:                          11                                         \n",
      "Covariance Type:            nonrobust                                         \n",
      "================================================================================\n",
      "                   coef    std err          t      P>|t|      [95.0% Conf. Int.]\n",
      "--------------------------------------------------------------------------------\n",
      "Gross_Ton_km  1.713e-06      1e-08    170.944      0.000      1.69e-06  1.73e-06\n",
      "Hours            9.3364      0.274     34.025      0.000         8.799     9.874\n",
      "SD_3           260.3054      2.423    107.418      0.000       255.556   265.055\n",
      "MOD_38         208.4541      2.666     78.187      0.000       203.229   213.680\n",
      "TRN_4          117.8766      3.815     30.898      0.000       110.399   125.354\n",
      "MOD_42        -211.4876      4.303    -49.154      0.000      -219.921  -203.055\n",
      "Kilometers       0.5172      0.013     39.601      0.000         0.492     0.543\n",
      "SD_4            86.9559      2.207     39.399      0.000        82.630    91.282\n",
      "TRN_2           79.2398      2.154     36.793      0.000        75.019    83.461\n",
      "MOD_10         134.5140      5.253     25.605      0.000       124.217   144.811\n",
      "TRN_11         105.2486      4.294     24.512      0.000        96.833   113.664\n",
      "==============================================================================\n",
      "Omnibus:                    34991.611   Durbin-Watson:                   1.599\n",
      "Prob(Omnibus):                  0.000   Jarque-Bera (JB):           449885.326\n",
      "Skew:                           1.512   Prob(JB):                         0.00\n",
      "Kurtosis:                      13.529   Cond. No.                     1.13e+09\n",
      "==============================================================================\n",
      "\n",
      "Warnings:\n",
      "[1] Standard Errors assume that the covariance matrix of the errors is correctly specified.\n",
      "[2] The condition number is large, 1.13e+09. This might indicate that there are\n",
      "strong multicollinearity or other numerical problems.\n",
      "                            OLS Regression Results                            \n",
      "==============================================================================\n",
      "Dep. Variable:                 Liters   R-squared:                       0.869\n",
      "Model:                            OLS   Adj. R-squared:                  0.869\n",
      "Method:                 Least Squares   F-statistic:                 4.966e+04\n",
      "Date:                Sun, 13 Aug 2017   Prob (F-statistic):               0.00\n",
      "Time:                        20:28:02   Log-Likelihood:            -6.3463e+05\n",
      "No. Observations:               89979   AIC:                         1.269e+06\n",
      "Df Residuals:                   89967   BIC:                         1.269e+06\n",
      "Df Model:                          12                                         \n",
      "Covariance Type:            nonrobust                                         \n",
      "================================================================================\n",
      "                   coef    std err          t      P>|t|      [95.0% Conf. Int.]\n",
      "--------------------------------------------------------------------------------\n",
      "Gross_Ton_km  1.708e-06      1e-08    170.497      0.000      1.69e-06  1.73e-06\n",
      "Hours            9.5980      0.275     34.921      0.000         9.059    10.137\n",
      "SD_3           259.4185      2.422    107.114      0.000       254.672   264.165\n",
      "MOD_38         205.8391      2.671     77.068      0.000       200.604   211.074\n",
      "TRN_4          113.4613      3.826     29.655      0.000       105.962   120.960\n",
      "MOD_42        -215.5269      4.309    -50.014      0.000      -223.973  -207.081\n",
      "Kilometers       0.5379      0.013     40.931      0.000         0.512     0.564\n",
      "SD_4            83.3969      2.221     37.544      0.000        79.043    87.751\n",
      "TRN_2           78.3514      2.153     36.397      0.000        74.132    82.571\n",
      "MOD_10         131.1397      5.255     24.957      0.000       120.841   141.439\n",
      "TRN_11         100.9988      4.302     23.479      0.000        92.567   109.430\n",
      "SD_5           -88.7142      6.716    -13.209      0.000      -101.877   -75.551\n",
      "==============================================================================\n",
      "Omnibus:                    34898.415   Durbin-Watson:                   1.596\n",
      "Prob(Omnibus):                  0.000   Jarque-Bera (JB):           450283.165\n",
      "Skew:                           1.506   Prob(JB):                         0.00\n",
      "Kurtosis:                      13.537   Cond. No.                     1.31e+09\n",
      "==============================================================================\n",
      "\n",
      "Warnings:\n",
      "[1] Standard Errors assume that the covariance matrix of the errors is correctly specified.\n",
      "[2] The condition number is large, 1.31e+09. This might indicate that there are\n",
      "strong multicollinearity or other numerical problems.\n"
     ]
    }
   ],
   "source": [
    "print(models2.loc[11, \"model\"].summary())\n",
    "print(models2.loc[12, \"model\"].summary())"
   ]
  },
  {
   "cell_type": "code",
   "execution_count": 22,
   "metadata": {
    "collapsed": false
   },
   "outputs": [],
   "source": [
    "def backward(predictors):\n",
    "    tic = time.time()\n",
    "    results = []\n",
    "    for combo in itertools.combinations(predictors, len(predictors)-1):\n",
    "        results.append(processSubset(combo))\n",
    "    # Wrap everything up in a nice dataframe\n",
    "    models = pd.DataFrame(results)\n",
    "    # Choose the model with the highest RSS\n",
    "    best_model = models.loc[models['RSS'].argmin()]\n",
    "    toc = time.time()\n",
    "    print(\"Processed \", models.shape[0], \"models on\", len(predictors)-1, \"predictors in\", (toc-tic), \"seconds.\") \n",
    "    # Return the best model, along with some other useful information about the model\n",
    "    return best_model"
   ]
  },
  {
   "cell_type": "code",
   "execution_count": 23,
   "metadata": {
    "collapsed": false
   },
   "outputs": [
    {
     "name": "stdout",
     "output_type": "stream",
     "text": [
      "Processed  24 models on 23 predictors in 4.235255718231201 seconds.\n",
      "Processed  23 models on 22 predictors in 3.813190460205078 seconds.\n",
      "Processed  22 models on 21 predictors in 3.4832370281219482 seconds.\n",
      "Processed  21 models on 20 predictors in 3.151431083679199 seconds.\n",
      "Processed  20 models on 19 predictors in 2.8766520023345947 seconds.\n",
      "Processed  19 models on 18 predictors in 2.5618343353271484 seconds.\n",
      "Processed  18 models on 17 predictors in 2.290070056915283 seconds.\n",
      "Processed  17 models on 16 predictors in 1.9752540588378906 seconds.\n",
      "Processed  16 models on 15 predictors in 1.7096002101898193 seconds.\n",
      "Processed  15 models on 14 predictors in 1.6082868576049805 seconds.\n",
      "Processed  14 models on 13 predictors in 1.2443442344665527 seconds.\n",
      "Processed  13 models on 12 predictors in 1.10493803024292 seconds.\n",
      "Processed  12 models on 11 predictors in 0.8984024524688721 seconds.\n",
      "Processed  11 models on 10 predictors in 0.7188990116119385 seconds.\n",
      "Processed  10 models on 9 predictors in 0.6306788921356201 seconds.\n",
      "Processed  9 models on 8 predictors in 0.45921993255615234 seconds.\n",
      "Processed  8 models on 7 predictors in 0.37500667572021484 seconds.\n",
      "Processed  7 models on 6 predictors in 0.2677121162414551 seconds.\n",
      "Processed  6 models on 5 predictors in 0.19952940940856934 seconds.\n",
      "Processed  5 models on 4 predictors in 0.1905059814453125 seconds.\n",
      "Processed  4 models on 3 predictors in 0.08422660827636719 seconds.\n",
      "Processed  3 models on 2 predictors in 0.04411435127258301 seconds.\n",
      "Processed  2 models on 1 predictors in 0.019051074981689453 seconds.\n",
      "Total elapsed time: 33.9603168964386 seconds.\n"
     ]
    }
   ],
   "source": [
    "models3 = pd.DataFrame(columns=[\"RSS\", \"model\"], index = range(1,len(X.columns)))\n",
    "tic = time.time()\n",
    "predictors = X.columns\n",
    "while(len(predictors) > 1):\n",
    "    models3.loc[len(predictors)-1] = backward(predictors)\n",
    "    predictors = models3.loc[len(predictors)-1][\"model\"].model.exog_names\n",
    "toc = time.time()\n",
    "print(\"Total elapsed time:\", (toc-tic), \"seconds.\")"
   ]
  },
  {
   "cell_type": "code",
   "execution_count": 24,
   "metadata": {
    "collapsed": false
   },
   "outputs": [
    {
     "name": "stdout",
     "output_type": "stream",
     "text": [
      "                            OLS Regression Results                            \n",
      "==============================================================================\n",
      "Dep. Variable:                 Liters   R-squared:                       0.869\n",
      "Model:                            OLS   Adj. R-squared:                  0.869\n",
      "Method:                 Least Squares   F-statistic:                 5.406e+04\n",
      "Date:                Sun, 13 Aug 2017   Prob (F-statistic):               0.00\n",
      "Time:                        20:28:36   Log-Likelihood:            -6.3471e+05\n",
      "No. Observations:               89979   AIC:                         1.269e+06\n",
      "Df Residuals:                   89968   BIC:                         1.270e+06\n",
      "Df Model:                          11                                         \n",
      "Covariance Type:            nonrobust                                         \n",
      "================================================================================\n",
      "                   coef    std err          t      P>|t|      [95.0% Conf. Int.]\n",
      "--------------------------------------------------------------------------------\n",
      "Gross_Ton_km  1.713e-06      1e-08    170.944      0.000      1.69e-06  1.73e-06\n",
      "Hours            9.3364      0.274     34.025      0.000         8.799     9.874\n",
      "SD_3           260.3054      2.423    107.418      0.000       255.556   265.055\n",
      "MOD_38         208.4541      2.666     78.187      0.000       203.229   213.680\n",
      "TRN_4          117.8766      3.815     30.898      0.000       110.399   125.354\n",
      "MOD_42        -211.4876      4.303    -49.154      0.000      -219.921  -203.055\n",
      "Kilometers       0.5172      0.013     39.601      0.000         0.492     0.543\n",
      "SD_4            86.9559      2.207     39.399      0.000        82.630    91.282\n",
      "TRN_2           79.2398      2.154     36.793      0.000        75.019    83.461\n",
      "MOD_10         134.5140      5.253     25.605      0.000       124.217   144.811\n",
      "TRN_11         105.2486      4.294     24.512      0.000        96.833   113.664\n",
      "==============================================================================\n",
      "Omnibus:                    34991.611   Durbin-Watson:                   1.599\n",
      "Prob(Omnibus):                  0.000   Jarque-Bera (JB):           449885.326\n",
      "Skew:                           1.512   Prob(JB):                         0.00\n",
      "Kurtosis:                      13.529   Cond. No.                     1.13e+09\n",
      "==============================================================================\n",
      "\n",
      "Warnings:\n",
      "[1] Standard Errors assume that the covariance matrix of the errors is correctly specified.\n",
      "[2] The condition number is large, 1.13e+09. This might indicate that there are\n",
      "strong multicollinearity or other numerical problems.\n",
      "                            OLS Regression Results                            \n",
      "==============================================================================\n",
      "Dep. Variable:                 Liters   R-squared:                       0.868\n",
      "Model:                            OLS   Adj. R-squared:                  0.868\n",
      "Method:                 Least Squares   F-statistic:                 5.394e+04\n",
      "Date:                Sun, 13 Aug 2017   Prob (F-statistic):               0.00\n",
      "Time:                        20:28:36   Log-Likelihood:            -6.3480e+05\n",
      "No. Observations:               89979   AIC:                         1.270e+06\n",
      "Df Residuals:                   89968   BIC:                         1.270e+06\n",
      "Df Model:                          11                                         \n",
      "Covariance Type:            nonrobust                                         \n",
      "================================================================================\n",
      "                   coef    std err          t      P>|t|      [95.0% Conf. Int.]\n",
      "--------------------------------------------------------------------------------\n",
      "Gross_Ton_km  1.815e-06   8.79e-09    206.406      0.000       1.8e-06  1.83e-06\n",
      "Hours            9.6880      0.271     35.704      0.000         9.156    10.220\n",
      "Kilometers       0.6069      0.013     45.837      0.000         0.581     0.633\n",
      "IsUnit          69.7430      2.065     33.774      0.000        65.696    73.790\n",
      "SD_3           280.9428      2.412    116.462      0.000       276.215   285.671\n",
      "SD_4            95.0907      2.201     43.201      0.000        90.777    99.405\n",
      "MOD_38         172.3889      2.332     73.916      0.000       167.818   176.960\n",
      "MOD_42        -172.8631      5.113    -33.806      0.000      -182.885  -162.841\n",
      "TRN_3          -95.6458      2.924    -32.711      0.000      -101.377   -89.915\n",
      "TRN_4          155.3543      4.795     32.399      0.000       145.956   164.752\n",
      "TRN_11         145.6701      5.214     27.941      0.000       135.452   155.889\n",
      "==============================================================================\n",
      "Omnibus:                    35345.581   Durbin-Watson:                   1.598\n",
      "Prob(Omnibus):                  0.000   Jarque-Bera (JB):           471570.534\n",
      "Skew:                           1.521   Prob(JB):                         0.00\n",
      "Kurtosis:                      13.795   Cond. No.                     1.44e+09\n",
      "==============================================================================\n",
      "\n",
      "Warnings:\n",
      "[1] Standard Errors assume that the covariance matrix of the errors is correctly specified.\n",
      "[2] The condition number is large, 1.44e+09. This might indicate that there are\n",
      "strong multicollinearity or other numerical problems.\n"
     ]
    }
   ],
   "source": [
    "print(models2.loc[11, \"model\"].summary())\n",
    "print(models3.loc[11, \"model\"].summary())"
   ]
  },
  {
   "cell_type": "code",
   "execution_count": 25,
   "metadata": {
    "collapsed": false
   },
   "outputs": [
    {
     "name": "stdout",
     "output_type": "stream",
     "text": [
      "                            OLS Regression Results                            \n",
      "==============================================================================\n",
      "Dep. Variable:                 Liters   R-squared:                       0.869\n",
      "Model:                            OLS   Adj. R-squared:                  0.869\n",
      "Method:                 Least Squares   F-statistic:                 4.593e+04\n",
      "Date:                Sun, 13 Aug 2017   Prob (F-statistic):               0.00\n",
      "Time:                        20:28:36   Log-Likelihood:            -6.3455e+05\n",
      "No. Observations:               89979   AIC:                         1.269e+06\n",
      "Df Residuals:                   89966   BIC:                         1.269e+06\n",
      "Df Model:                          13                                         \n",
      "Covariance Type:            nonrobust                                         \n",
      "================================================================================\n",
      "                   coef    std err          t      P>|t|      [95.0% Conf. Int.]\n",
      "--------------------------------------------------------------------------------\n",
      "Gross_Ton_km  1.714e-06      1e-08    171.049      0.000      1.69e-06  1.73e-06\n",
      "Hours            8.9942      0.279     32.253      0.000         8.448     9.541\n",
      "SD_3           256.8484      2.429    105.758      0.000       252.088   261.609\n",
      "MOD_38         206.0387      2.669     77.207      0.000       200.808   211.269\n",
      "TRN_4          117.0924      3.834     30.541      0.000       109.578   124.607\n",
      "MOD_42        -212.8755      4.311    -49.381      0.000      -221.325  -204.426\n",
      "Kilometers       0.5465      0.013     41.565      0.000         0.521     0.572\n",
      "SD_4            80.9465      2.228     36.329      0.000        76.579    85.314\n",
      "TRN_2           83.4940      2.190     38.122      0.000        79.201    87.787\n",
      "MOD_10         131.5325      5.250     25.053      0.000       121.242   141.823\n",
      "TRN_11         104.7512      4.309     24.312      0.000        96.306   113.196\n",
      "SD_5           -89.6648      6.711    -13.362      0.000      -102.818   -76.512\n",
      "TRN_8           73.0013      5.868     12.441      0.000        61.501    84.502\n",
      "==============================================================================\n",
      "Omnibus:                    35124.738   Durbin-Watson:                   1.598\n",
      "Prob(Omnibus):                  0.000   Jarque-Bera (JB):           455150.375\n",
      "Skew:                           1.517   Prob(JB):                         0.00\n",
      "Kurtosis:                      13.592   Cond. No.                     1.31e+09\n",
      "==============================================================================\n",
      "\n",
      "Warnings:\n",
      "[1] Standard Errors assume that the covariance matrix of the errors is correctly specified.\n",
      "[2] The condition number is large, 1.31e+09. This might indicate that there are\n",
      "strong multicollinearity or other numerical problems.\n",
      "                            OLS Regression Results                            \n",
      "==============================================================================\n",
      "Dep. Variable:                 Liters   R-squared:                       0.870\n",
      "Model:                            OLS   Adj. R-squared:                  0.870\n",
      "Method:                 Least Squares   F-statistic:                 4.615e+04\n",
      "Date:                Sun, 13 Aug 2017   Prob (F-statistic):               0.00\n",
      "Time:                        20:28:36   Log-Likelihood:            -6.3436e+05\n",
      "No. Observations:               89979   AIC:                         1.269e+06\n",
      "Df Residuals:                   89966   BIC:                         1.269e+06\n",
      "Df Model:                          13                                         \n",
      "Covariance Type:            nonrobust                                         \n",
      "================================================================================\n",
      "                   coef    std err          t      P>|t|      [95.0% Conf. Int.]\n",
      "--------------------------------------------------------------------------------\n",
      "Gross_Ton_km  1.661e-06   1.02e-08    162.452      0.000      1.64e-06  1.68e-06\n",
      "Hours           11.4369      0.291     39.304      0.000        10.867    12.007\n",
      "Kilometers       0.6989      0.015     46.905      0.000         0.670     0.728\n",
      "IsUnit         148.0195      5.646     26.215      0.000       136.953   159.086\n",
      "SD_3           283.3758      2.672    106.068      0.000       278.139   288.612\n",
      "SD_4            91.5689      2.215     41.348      0.000        87.228    95.909\n",
      "MOD_10         132.7691      5.233     25.370      0.000       122.512   143.027\n",
      "MOD_38         205.1182      2.668     76.887      0.000       199.889   210.347\n",
      "MOD_42        -120.8206      5.852    -20.645      0.000      -132.291  -109.350\n",
      "TRN_2         -119.7114      7.814    -15.319      0.000      -135.028  -104.395\n",
      "TRN_3         -212.9212      8.408    -25.323      0.000      -229.401  -196.441\n",
      "TRN_4          206.0958      5.506     37.434      0.000       195.305   216.887\n",
      "TRN_11         193.5987      5.860     33.038      0.000       182.113   205.084\n",
      "==============================================================================\n",
      "Omnibus:                    34877.977   Durbin-Watson:                   1.617\n",
      "Prob(Omnibus):                  0.000   Jarque-Bera (JB):           469552.452\n",
      "Skew:                           1.492   Prob(JB):                         0.00\n",
      "Kurtosis:                      13.786   Cond. No.                     2.66e+09\n",
      "==============================================================================\n",
      "\n",
      "Warnings:\n",
      "[1] Standard Errors assume that the covariance matrix of the errors is correctly specified.\n",
      "[2] The condition number is large, 2.66e+09. This might indicate that there are\n",
      "strong multicollinearity or other numerical problems.\n"
     ]
    }
   ],
   "source": [
    "print(models2.loc[13, \"model\"].summary())\n",
    "print(models3.loc[13, \"model\"].summary())"
   ]
  },
  {
   "cell_type": "code",
   "execution_count": 26,
   "metadata": {
    "collapsed": true
   },
   "outputs": [],
   "source": [
    "coef_cols = ['Gross_Ton_km', 'Hours', 'Kilometers', 'IsUnit','SD_2', 'SD_3', 'SD_4', 'SD_5', 'SD_6', \n",
    "                'MOD_10', 'MOD_28', 'MOD_38', 'MOD_40', 'MOD_42', 'MOD_43', \n",
    "                'TRN_2', 'TRN_3', 'TRN_4', 'TRN_5', 'TRN_6', 'TRN_8', 'TRN_9', 'TRN_10', 'TRN_11', 'Liters']\n",
    "coef= f[coef_cols]"
   ]
  },
  {
   "cell_type": "code",
   "execution_count": 27,
   "metadata": {
    "collapsed": false
   },
   "outputs": [
    {
     "data": {
      "text/plain": [
       "<matplotlib.axes._subplots.AxesSubplot at 0x29a0579b550>"
      ]
     },
     "execution_count": 27,
     "metadata": {},
     "output_type": "execute_result"
    },
    {
     "data": {
      "image/png": "[encoded data removed]",
      "text/plain": [
       "<matplotlib.figure.Figure at 0x29a0579bcf8>"
      ]
     },
     "metadata": {},
     "output_type": "display_data"
    }
   ],
   "source": [
    "# Compute the correlation matrix\n",
    "corr = coef.corr()\n",
    "\n",
    "# Generate a mask for the upper triangle\n",
    "mask = np.zeros_like(corr, dtype=np.bool)\n",
    "mask[np.triu_indices_from(mask)] = True\n",
    "\n",
    "# Set up the matplotlib figure\n",
    "f_, ax = plt.subplots(figsize=(11, 9))\n",
    "\n",
    "# Generate a custom diverging colormap\n",
    "cmap = sns.diverging_palette(220, 10, as_cmap=True)\n",
    "\n",
    "# Draw the heatmap with the mask and correct aspect ratio\n",
    "sns.heatmap(corr, mask=mask, cmap=cmap, vmax=.3, center=0,\n",
    "            square=True, linewidths=.5, cbar_kws={\"shrink\": .5})"
   ]
  },
  {
   "cell_type": "code",
   "execution_count": 38,
   "metadata": {
    "collapsed": true
   },
   "outputs": [],
   "source": [
    "f = fuel\n",
    "f['Lts_x_GTK'] = ((f['Liters'] * 1000)/ (f['Gross_Ton_km'] / 1000000)).astype(float)\n",
    "f['GTK_9'] = ((f['Gross_Ton_km'] / 1000000000)).astype(float)\n",
    "#f = f[(f.Sector == 'E') & (f.Liters >40) & (f.UTC == 'UTR') & (f.IN == 'TREN') & (f.Gross_Ton_km >0) & (f.Traccion == 'S') & (f.Track_id <=6) & (f.Hours < 48) & (f.Lts_x_GTK < 13000)]\n"
   ]
  },
  {
   "cell_type": "code",
   "execution_count": 39,
   "metadata": {
    "collapsed": true
   },
   "outputs": [],
   "source": [
    "# create six dummy variables for track_id using get_dummies, then exclude the first dummy column\n",
    "area_dummies = pd.get_dummies(f.Track_id, prefix='SD').iloc[:, 1:]\n",
    "\n",
    "# concatenate the dummy variable columns onto the original DataFrame (axis=0 means rows, axis=1 means columns)\n",
    "f = pd.concat([f, area_dummies], axis=1)\n",
    "\n",
    "# create six dummy variables for Locomotive Type using get_dummies, then exclude the first dummy column\n",
    "area_dummies = pd.get_dummies(f.Id_Model_Loc, prefix='MOD').iloc[:, 1:]\n",
    "\n",
    "# concatenate the dummy variable columns onto the original DataFrame (axis=0 means rows, axis=1 means columns)\n",
    "f = pd.concat([f, area_dummies], axis=1)\n",
    "\n",
    "\n",
    "# create six dummy variables for Train Type using get_dummies, then exclude the first dummy column\n",
    "area_dummies = pd.get_dummies(f.Id_Sub_Type, prefix='TRN').iloc[:, 1:]\n",
    "\n",
    "# concatenate the dummy variable columns onto the original DataFrame (axis=0 means rows, axis=1 means columns)\n",
    "f = pd.concat([f, area_dummies], axis=1)\n",
    "\n",
    "# create a new Series called Tract - Number of Locomotives\n",
    "f['Tract'] = f.Traccion.map({'S':1,'M':0})\n",
    "\n",
    "# create a new Series called IsUnit\n",
    "f['IsUnit'] = f.UTC.map({'UTR':1,'NUT':0,'PAS':-1})"
   ]
  },
  {
   "cell_type": "code",
   "execution_count": 40,
   "metadata": {
    "collapsed": false
   },
   "outputs": [
    {
     "name": "stdout",
     "output_type": "stream",
     "text": [
      "                            OLS Regression Results                            \n",
      "==============================================================================\n",
      "Dep. Variable:                 Liters   R-squared:                       0.645\n",
      "Model:                            OLS   Adj. R-squared:                  0.645\n",
      "Method:                 Least Squares   F-statistic:                 1.258e+04\n",
      "Date:                Sun, 13 Aug 2017   Prob (F-statistic):               0.00\n",
      "Time:                        22:59:50   Log-Likelihood:            -6.3435e+05\n",
      "No. Observations:               89979   AIC:                         1.269e+06\n",
      "Df Residuals:                   89965   BIC:                         1.269e+06\n",
      "Df Model:                          13                                         \n",
      "Covariance Type:            nonrobust                                         \n",
      "==============================================================================\n",
      "                 coef    std err          t      P>|t|      [95.0% Conf. Int.]\n",
      "------------------------------------------------------------------------------\n",
      "Intercept     22.5996      5.371      4.208      0.000        12.073    33.126\n",
      "GTK_9       1668.0591     10.365    160.937      0.000      1647.744  1688.374\n",
      "Hours         11.0011      0.309     35.619      0.000        10.396    11.606\n",
      "Kilometers     0.6882      0.015     45.548      0.000         0.659     0.718\n",
      "IsUnit       163.4172      6.728     24.290      0.000       150.231   176.604\n",
      "SD_3         280.3073      2.769    101.226      0.000       274.880   285.735\n",
      "SD_4          90.2737      2.236     40.379      0.000        85.892    94.656\n",
      "MOD_10       131.0208      5.249     24.959      0.000       120.732   141.309\n",
      "MOD_38       204.6886      2.669     76.677      0.000       199.456   209.921\n",
      "MOD_42      -122.3122      5.863    -20.863      0.000      -133.803  -110.822\n",
      "TRN_2       -150.8706     10.765    -14.015      0.000      -171.970  -129.771\n",
      "TRN_3       -243.6096     11.130    -21.888      0.000      -265.424  -221.795\n",
      "TRN_4        205.2607      5.509     37.262      0.000       194.464   216.058\n",
      "TRN_11       192.8729      5.862     32.903      0.000       181.384   204.362\n",
      "==============================================================================\n",
      "Omnibus:                    34975.210   Durbin-Watson:                   1.616\n",
      "Prob(Omnibus):                  0.000   Jarque-Bera (JB):           469296.417\n",
      "Skew:                           1.498   Prob(JB):                         0.00\n",
      "Kurtosis:                      13.779   Cond. No.                     3.88e+03\n",
      "==============================================================================\n",
      "\n",
      "Warnings:\n",
      "[1] Standard Errors assume that the covariance matrix of the errors is correctly specified.\n",
      "[2] The condition number is large, 3.88e+03. This might indicate that there are\n",
      "strong multicollinearity or other numerical problems.\n"
     ]
    }
   ],
   "source": [
    "# Import regression modules\n",
    "# ols - stands for Ordinary least squares\n",
    "import statsmodels.api as sm\n",
    "from statsmodels.formula.api import ols\n",
    "# The thing inside the \"quotes\" is called a formula, a bit on that below\n",
    "m = ols('Liters ~ GTK_9 + Hours + Kilometers + IsUnit + SD_3 + SD_4 + MOD_10 + MOD_38 + MOD_42 + TRN_2 + TRN_3 + TRN_4 + TRN_11 ',f).fit()\n",
    "print (m.summary())"
   ]
  },
  {
   "cell_type": "code",
   "execution_count": 41,
   "metadata": {
    "collapsed": false
   },
   "outputs": [
    {
     "data": {
      "text/plain": [
       "[('GTK_9', 1668.0591234527542),\n",
       " ('Hours', 11.001054156649866),\n",
       " ('Kilometers', 0.68824047342272365),\n",
       " ('IsUnit', 163.41717248792651),\n",
       " ('SD_3', 280.30728188126272),\n",
       " ('SD_4', 90.273690633215054),\n",
       " ('MOD_10', 131.02076667209738),\n",
       " ('MOD_38', 204.68863894876816),\n",
       " ('MOD_42', -122.31220453061205),\n",
       " ('TRN_2', -150.8706185153091),\n",
       " ('TRN_3', -243.6096092562301),\n",
       " ('TRN_4', 205.26073557957497),\n",
       " ('TRN_11', 192.8729071390855)]"
      ]
     },
     "execution_count": 41,
     "metadata": {},
     "output_type": "execute_result"
    }
   ],
   "source": [
    "import sklearn\n",
    "from sklearn.linear_model import LinearRegression\n",
    "feature_cols = ['GTK_9', 'Hours', 'Kilometers', 'IsUnit', 'SD_3', 'SD_4', \n",
    "                 'MOD_10', 'MOD_38', 'MOD_42', 'TRN_2', 'TRN_3', 'TRN_4', 'TRN_11']\n",
    "X = f[feature_cols]\n",
    "y = f.Liters\n",
    "# This creates a LinearRegression object\n",
    "lm = LinearRegression()\n",
    "lm.fit(X, y)\n",
    "\n",
    "# print coefficients\n",
    "list(zip(feature_cols, lm.coef_))"
   ]
  },
  {
   "cell_type": "code",
   "execution_count": 42,
   "metadata": {
    "collapsed": false
   },
   "outputs": [
    {
     "name": "stdout",
     "output_type": "stream",
     "text": [
      "(60285, 13)\n",
      "(29694, 13)\n",
      "(60285,)\n",
      "(29694,)\n"
     ]
    }
   ],
   "source": [
    "# Separate a Training Set and a Test Set\n",
    "X_train, X_test, Y_train, Y_test = sklearn.model_selection.train_test_split(\n",
    "    X, y, test_size=0.33, random_state = 5)\n",
    "print (X_train.shape)\n",
    "print (X_test.shape)\n",
    "print (Y_train.shape)\n",
    "print (Y_test.shape)"
   ]
  },
  {
   "cell_type": "code",
   "execution_count": 43,
   "metadata": {
    "collapsed": false
   },
   "outputs": [
    {
     "data": {
      "text/html": [
       "<div>\n",
       "<table border=\"1\" class=\"dataframe\">\n",
       "  <thead>\n",
       "    <tr style=\"text-align: right;\">\n",
       "      <th></th>\n",
       "      <th>features</th>\n",
       "      <th>estimatedCoefficients</th>\n",
       "    </tr>\n",
       "  </thead>\n",
       "  <tbody>\n",
       "    <tr>\n",
       "      <th>0</th>\n",
       "      <td>GTK_9</td>\n",
       "      <td>1650.904978</td>\n",
       "    </tr>\n",
       "    <tr>\n",
       "      <th>1</th>\n",
       "      <td>Hours</td>\n",
       "      <td>10.977079</td>\n",
       "    </tr>\n",
       "    <tr>\n",
       "      <th>2</th>\n",
       "      <td>Kilometers</td>\n",
       "      <td>0.692038</td>\n",
       "    </tr>\n",
       "    <tr>\n",
       "      <th>3</th>\n",
       "      <td>IsUnit</td>\n",
       "      <td>159.688922</td>\n",
       "    </tr>\n",
       "    <tr>\n",
       "      <th>4</th>\n",
       "      <td>SD_3</td>\n",
       "      <td>282.635204</td>\n",
       "    </tr>\n",
       "    <tr>\n",
       "      <th>5</th>\n",
       "      <td>SD_4</td>\n",
       "      <td>89.991665</td>\n",
       "    </tr>\n",
       "    <tr>\n",
       "      <th>6</th>\n",
       "      <td>MOD_10</td>\n",
       "      <td>140.372592</td>\n",
       "    </tr>\n",
       "    <tr>\n",
       "      <th>7</th>\n",
       "      <td>MOD_38</td>\n",
       "      <td>207.679065</td>\n",
       "    </tr>\n",
       "    <tr>\n",
       "      <th>8</th>\n",
       "      <td>MOD_42</td>\n",
       "      <td>-120.243837</td>\n",
       "    </tr>\n",
       "    <tr>\n",
       "      <th>9</th>\n",
       "      <td>TRN_2</td>\n",
       "      <td>-139.898349</td>\n",
       "    </tr>\n",
       "    <tr>\n",
       "      <th>10</th>\n",
       "      <td>TRN_3</td>\n",
       "      <td>-233.738635</td>\n",
       "    </tr>\n",
       "    <tr>\n",
       "      <th>11</th>\n",
       "      <td>TRN_4</td>\n",
       "      <td>210.154592</td>\n",
       "    </tr>\n",
       "    <tr>\n",
       "      <th>12</th>\n",
       "      <td>TRN_11</td>\n",
       "      <td>192.841026</td>\n",
       "    </tr>\n",
       "  </tbody>\n",
       "</table>\n",
       "</div>"
      ],
      "text/plain": [
       "      features  estimatedCoefficients\n",
       "0        GTK_9            1650.904978\n",
       "1        Hours              10.977079\n",
       "2   Kilometers               0.692038\n",
       "3       IsUnit             159.688922\n",
       "4         SD_3             282.635204\n",
       "5         SD_4              89.991665\n",
       "6       MOD_10             140.372592\n",
       "7       MOD_38             207.679065\n",
       "8       MOD_42            -120.243837\n",
       "9        TRN_2            -139.898349\n",
       "10       TRN_3            -233.738635\n",
       "11       TRN_4             210.154592\n",
       "12      TRN_11             192.841026"
      ]
     },
     "execution_count": 43,
     "metadata": {},
     "output_type": "execute_result"
    }
   ],
   "source": [
    "# Fit a linear regression model to the training set\n",
    "\n",
    "feature_cols = ['GTK_9', 'Hours', 'Kilometers', 'IsUnit', 'SD_3', 'SD_4', \n",
    "                 'MOD_10', 'MOD_38', 'MOD_42', 'TRN_2', 'TRN_3', 'TRN_4', 'TRN_11']\n",
    "\n",
    "X = X_train[feature_cols]\n",
    "y = Y_train\n",
    "# This creates a LinearRegression object\n",
    "lm = LinearRegression()\n",
    "lm.fit(X, y)\n",
    "\n",
    "# print coefficients\n",
    "pd.DataFrame(list(zip(feature_cols, lm.coef_)), columns = ['features', 'estimatedCoefficients'])"
   ]
  },
  {
   "cell_type": "code",
   "execution_count": 44,
   "metadata": {
    "collapsed": false
   },
   "outputs": [
    {
     "name": "stdout",
     "output_type": "stream",
     "text": [
      "[-75221.0854603  -78282.93910751 -76481.04725251 -76911.2743415\n",
      " -79146.02405282]\n",
      "Mean Squared: -77208.47 (+/- 2753.29)\n"
     ]
    }
   ],
   "source": [
    "from sklearn.model_selection import cross_val_score\n",
    "# Implement cross_validation with k-fold in the training data\n",
    "scores = cross_val_score(lm, X_train, Y_train, scoring='neg_mean_squared_error', cv=5)\n",
    "\n",
    "print(scores)\n",
    "\n",
    "# Show mean square estimates\n",
    "print(\"Mean Squared: %0.2f (+/- %0.2f)\" % (scores.mean(), scores.std() * 2))"
   ]
  },
  {
   "cell_type": "code",
   "execution_count": 45,
   "metadata": {
    "collapsed": false
   },
   "outputs": [
    {
     "name": "stdout",
     "output_type": "stream",
     "text": [
      "[-82688.20440222 -77426.06770329 -77712.78757213 -80463.7430693\n",
      " -77438.11235536]\n",
      "Mean Squared: -79145.78 (+/- 4215.48)\n"
     ]
    }
   ],
   "source": [
    "# Implement cross_validation with k-fold with the test data\n",
    "scores = cross_val_score(lm, X_test, Y_test, scoring='neg_mean_squared_error', cv=5)\n",
    "\n",
    "print(scores)\n",
    "\n",
    "# Show mean square estimates\n",
    "print(\"Mean Squared: %0.2f (+/- %0.2f)\" % (scores.mean(), scores.std() * 2))"
   ]
  },
  {
   "cell_type": "code",
   "execution_count": 48,
   "metadata": {
    "collapsed": false
   },
   "outputs": [],
   "source": [
    "# TRAIN\n",
    "mseCRIMRMPTRATIO_TRAIN = np.sum((Y_train - lm.predict(X_train[feature_cols])) ** 2)\n",
    "#print (\"Mean Squared Train: %0.2f \" % mseCRIMRMPTRATIO_TRAIN/len(Y_train))\n",
    "\n",
    "# TEST\n",
    "mseCRIMRMPTRATIO_TEST = np.sum((Y_test - lm.predict(X_test[feature_cols])) ** 2)\n",
    "#print (\"Mean Squared Test: %0.2f \" % mseCRIMRMPTRATIO_TEST/len(Y_test))"
   ]
  },
  {
   "cell_type": "code",
   "execution_count": 54,
   "metadata": {
    "collapsed": false
   },
   "outputs": [
    {
     "data": {
      "text/plain": [
       "<matplotlib.text.Text at 0x29a03bace10>"
      ]
     },
     "execution_count": 54,
     "metadata": {},
     "output_type": "execute_result"
    },
    {
     "data": {
      "image/png": "[encoded data removed]",
      "text/plain": [
       "<matplotlib.figure.Figure at 0x29a0582c5c0>"
      ]
     },
     "metadata": {},
     "output_type": "display_data"
    }
   ],
   "source": [
    "plt.scatter(lm.predict(X_train), lm.predict(X_train) - Y_train, c='b', s=5, alpha=0.5)\n",
    "plt.scatter(lm.predict(X_test), lm.predict(X_test) - Y_test, c='g', s=5)\n",
    "plt.hlines(y = 0, xmin=0, xmax = 50)\n",
    "plt.title('Residual Plot using training (blue) and test (green) data')\n",
    "plt.ylabel('Residuals')"
   ]
  },
  {
   "cell_type": "code",
   "execution_count": 59,
   "metadata": {
    "collapsed": false
   },
   "outputs": [
    {
     "name": "stdout",
     "output_type": "stream",
     "text": [
      "R Sqared: 0.6467\n"
     ]
    }
   ],
   "source": [
    "# How strong is the relationship\n",
    "# From the RSE \n",
    "#mse = np.mean((f.Liters - lm.predict(X_test[feature_cols])) ** 2)\n",
    "#RSE = ((mse/(len(f)-2)) ** 0.5)\n",
    "\n",
    "#print(\"Mean Squared: %0.2f\" % mse)\n",
    "\n",
    "#print(\"Residual Standard Eror: %0.2f\" % RSE)\n",
    "\n",
    "# show the R-squared\n",
    "print(\"R Sqared: %0.4f\" % lm.score(X_train, Y_train))"
   ]
  },
  {
   "cell_type": "code",
   "execution_count": 50,
   "metadata": {
    "collapsed": false
   },
   "outputs": [
    {
     "name": "stdout",
     "output_type": "stream",
     "text": [
      "[-82688.20440222 -77426.06770329 -77712.78757213 -80463.7430693\n",
      " -77438.11235536]\n",
      "Mean Squared Test: -79145.78 (+/- 4215.48)\n"
     ]
    }
   ],
   "source": [
    "# Implement cross_validation with k-fold with the test data\n",
    "scores = cross_val_score(lm, X_test, Y_test, scoring='neg_mean_squared_error', cv=5)\n",
    "\n",
    "print(scores)\n",
    "\n",
    "# Show mean square estimates\n",
    "print(\"Mean Squared Test: %0.2f (+/- %0.2f)\" % (scores.mean(), scores.std() * 2))"
   ]
  },
  {
   "cell_type": "code",
   "execution_count": 51,
   "metadata": {
    "collapsed": false
   },
   "outputs": [
    {
     "data": {
      "text/plain": [
       "<matplotlib.text.Text at 0x29a08d3c748>"
      ]
     },
     "execution_count": 51,
     "metadata": {},
     "output_type": "execute_result"
    },
    {
     "data": {
      "image/png": "[encoded data removed]",
      "text/plain": [
       "<matplotlib.figure.Figure at 0x29a03bc8128>"
      ]
     },
     "metadata": {},
     "output_type": "display_data"
    }
   ],
   "source": [
    "# Is the relationship linear\n",
    "plt.scatter(m.fittedvalues, f.Liters)\n",
    "plt.xlabel(\"Predicted LR Liters (LR)\")\n",
    "plt.ylabel(\"Actual\")\n",
    "plt.title(\"Relationship between LR and Liters\")"
   ]
  },
  {
   "cell_type": "code",
   "execution_count": 57,
   "metadata": {
    "collapsed": true
   },
   "outputs": [],
   "source": [
    "# https://stats.stackexchange.com/questions/155028/how-to-systematically-remove-collinear-variables-in-python\n",
    "from statsmodels.stats.outliers_influence import variance_inflation_factor    \n",
    "\n",
    "def calculate_vif_(X, thresh=5.0):\n",
    "    variables = range(X.shape[1])\n",
    "    dropped=True\n",
    "    while dropped:\n",
    "        dropped=False\n",
    "        vif = [variance_inflation_factor(X[variables].values, ix) for ix in range(X[variables].shape[1])]\n",
    "\n",
    "        maxloc = vif.index(max(vif))\n",
    "        if max(vif) > thresh:\n",
    "            print('dropping \\'' + X[variables].columns[maxloc] + '\\' at index: ' + str(maxloc))\n",
    "            del variables[maxloc]\n",
    "            dropped=True\n",
    "\n",
    "    print('Remaining variables:')\n",
    "    print(X.columns[variables])\n",
    "    return X[variables]"
   ]
  },
  {
   "cell_type": "code",
   "execution_count": 60,
   "metadata": {
    "collapsed": false
   },
   "outputs": [
    {
     "name": "stdout",
     "output_type": "stream",
     "text": [
      "Automatically created module for IPython interactive environment\n"
     ]
    },
    {
     "data": {
      "image/png": "[encoded data removed]",
      "text/plain": [
       "<matplotlib.figure.Figure at 0x29a08d21710>"
      ]
     },
     "metadata": {},
     "output_type": "display_data"
    },
    {
     "name": "stdout",
     "output_type": "stream",
     "text": [
      "Testset accuracy using standard scaler: 0.132\n",
      "Testset accuracy using robust scaler:   0.132\n"
     ]
    }
   ],
   "source": [
    "from __future__ import print_function\n",
    "print(__doc__)\n",
    "\n",
    "\n",
    "# Code source: Thomas Unterthiner\n",
    "# License: BSD 3 clause\n",
    "\n",
    "import matplotlib.pyplot as plt\n",
    "import numpy as np\n",
    "from sklearn.preprocessing import StandardScaler, RobustScaler\n",
    "\n",
    "# Scale data\n",
    "standard_scaler = StandardScaler()\n",
    "Xtr_s = standard_scaler.fit_transform(X_train)\n",
    "Xte_s = standard_scaler.transform(X_test)\n",
    "\n",
    "robust_scaler = RobustScaler()\n",
    "Xtr_r = robust_scaler.fit_transform(X_train)\n",
    "Xte_r = robust_scaler.transform(X_test)\n",
    "\n",
    "\n",
    "# Plot data\n",
    "fig, ax = plt.subplots(1, 3, figsize=(12, 4))\n",
    "ax[0].scatter(m.fittedvalues, f.Liters,\n",
    "              color=np.where(Y_train > 0, 'r', 'b'))\n",
    "ax[1].scatter(Xtr_s[:, 0], Xtr_s[:, 1], color=np.where(Y_train > 0, 'r', 'b'))\n",
    "ax[2].scatter(Xtr_r[:, 0], Xtr_r[:, 1], color=np.where(Y_train > 0, 'r', 'b'))\n",
    "ax[0].set_title(\"Unscaled data\")\n",
    "ax[1].set_title(\"After standard scaling (zoomed in)\")\n",
    "ax[2].set_title(\"After robust scaling (zoomed in)\")\n",
    "# for the scaled data, we zoom in to the data center (outlier can't be seen!)\n",
    "for a in ax[1:]:\n",
    "    a.set_xlim(-3, 3)\n",
    "    a.set_ylim(-3, 3)\n",
    "plt.tight_layout()\n",
    "plt.show()\n",
    "\n",
    "\n",
    "# Classify using k-NN\n",
    "from sklearn.neighbors import KNeighborsClassifier\n",
    "\n",
    "knn = KNeighborsClassifier()\n",
    "knn.fit(Xtr_s, Y_train)\n",
    "acc_s = knn.score(Xte_s, Y_test)\n",
    "print(\"Testset accuracy using standard scaler: %.3f\" % acc_s)\n",
    "knn.fit(Xtr_r, Y_train)\n",
    "acc_r = knn.score(Xte_r, Y_test)\n",
    "print(\"Testset accuracy using robust scaler:   %.3f\" % acc_r)"
   ]
  },
  {
   "cell_type": "code",
   "execution_count": null,
   "metadata": {
    "collapsed": true
   },
   "outputs": [],
   "source": []
  }
 ],
 "metadata": {
  "kernelspec": {
   "display_name": "Python 3",
   "language": "python",
   "name": "python3"
  },
  "language_info": {
   "codemirror_mode": {
    "name": "ipython",
    "version": 3
   },
   "file_extension": ".py",
   "mimetype": "text/x-python",
   "name": "python",
   "nbconvert_exporter": "python",
   "pygments_lexer": "ipython3",
   "version": "3.6.0"
  }
 },
 "nbformat": 4,
 "nbformat_minor": 2
}
